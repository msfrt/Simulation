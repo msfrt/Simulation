{
 "cells": [
  {
   "cell_type": "markdown",
   "metadata": {},
   "source": [
    "# Track width a wheelbase study\n",
    "### Dave Yonkers, June 2020"
   ]
  },
  {
   "cell_type": "markdown",
   "metadata": {},
   "source": [
    "## Aero:"
   ]
  },
  {
   "cell_type": "code",
   "execution_count": 7,
   "metadata": {},
   "outputs": [],
   "source": [
    "import numpy as np\n",
    "import pandas as pd\n",
    "\n",
    "# data from James' sims\n",
    "data = [[45, 208,   89,   48,  8.6,   78, 29.5,    89, 35.5, 0.33],\n",
    "        [46, 233, 93.6, 50.3,    9, 94.4, 30.5,    96,   35, 0.32],\n",
    "        [47, 229, 92.5, 49.8,  8.8,   93, 28.7,  95.5, 38.5, 0.30],\n",
    "        [48, 257, 95.5, 56.8,  9.9,  108,   30,  99.3, 40.3, 0.36],\n",
    "        [49, 268, 95.8, 59.5, 10.1,  114, 28.4,   102,   41, 0.37],\n",
    "        [50, 285,  100, 65.8, 10.9,  120,   30, 108.5, 43.5, 0.37]]\n",
    "aero_df = pd.DataFrame(data)\n",
    "aero_df.columns = [\"track_width\", \"downforce\", \"drag\", \"fw_downforce\", \"fw_drag\", \"tray_downforce\", \"tray_drag\", \"rw_downforce\", \"rw_drag\", \"abal\"]\n",
    "aero_df.set_index(\"track_width\", inplace=True)"
   ]
  },
  {
   "cell_type": "code",
   "execution_count": 8,
   "metadata": {},
   "outputs": [
    {
     "data": {
      "text/html": [
       "<div>\n",
       "<style scoped>\n",
       "    .dataframe tbody tr th:only-of-type {\n",
       "        vertical-align: middle;\n",
       "    }\n",
       "\n",
       "    .dataframe tbody tr th {\n",
       "        vertical-align: top;\n",
       "    }\n",
       "\n",
       "    .dataframe thead th {\n",
       "        text-align: right;\n",
       "    }\n",
       "</style>\n",
       "<table border=\"1\" class=\"dataframe\">\n",
       "  <thead>\n",
       "    <tr style=\"text-align: right;\">\n",
       "      <th></th>\n",
       "      <th>downforce</th>\n",
       "      <th>drag</th>\n",
       "      <th>fw_downforce</th>\n",
       "      <th>fw_drag</th>\n",
       "      <th>tray_downforce</th>\n",
       "      <th>tray_drag</th>\n",
       "      <th>rw_downforce</th>\n",
       "      <th>rw_drag</th>\n",
       "      <th>abal</th>\n",
       "    </tr>\n",
       "    <tr>\n",
       "      <th>track_width</th>\n",
       "      <th></th>\n",
       "      <th></th>\n",
       "      <th></th>\n",
       "      <th></th>\n",
       "      <th></th>\n",
       "      <th></th>\n",
       "      <th></th>\n",
       "      <th></th>\n",
       "      <th></th>\n",
       "    </tr>\n",
       "  </thead>\n",
       "  <tbody>\n",
       "    <tr>\n",
       "      <th>45</th>\n",
       "      <td>208</td>\n",
       "      <td>89.0</td>\n",
       "      <td>48.0</td>\n",
       "      <td>8.6</td>\n",
       "      <td>78.0</td>\n",
       "      <td>29.5</td>\n",
       "      <td>89.0</td>\n",
       "      <td>35.5</td>\n",
       "      <td>0.33</td>\n",
       "    </tr>\n",
       "    <tr>\n",
       "      <th>46</th>\n",
       "      <td>233</td>\n",
       "      <td>93.6</td>\n",
       "      <td>50.3</td>\n",
       "      <td>9.0</td>\n",
       "      <td>94.4</td>\n",
       "      <td>30.5</td>\n",
       "      <td>96.0</td>\n",
       "      <td>35.0</td>\n",
       "      <td>0.32</td>\n",
       "    </tr>\n",
       "    <tr>\n",
       "      <th>47</th>\n",
       "      <td>229</td>\n",
       "      <td>92.5</td>\n",
       "      <td>49.8</td>\n",
       "      <td>8.8</td>\n",
       "      <td>93.0</td>\n",
       "      <td>28.7</td>\n",
       "      <td>95.5</td>\n",
       "      <td>38.5</td>\n",
       "      <td>0.30</td>\n",
       "    </tr>\n",
       "    <tr>\n",
       "      <th>48</th>\n",
       "      <td>257</td>\n",
       "      <td>95.5</td>\n",
       "      <td>56.8</td>\n",
       "      <td>9.9</td>\n",
       "      <td>108.0</td>\n",
       "      <td>30.0</td>\n",
       "      <td>99.3</td>\n",
       "      <td>40.3</td>\n",
       "      <td>0.36</td>\n",
       "    </tr>\n",
       "    <tr>\n",
       "      <th>49</th>\n",
       "      <td>268</td>\n",
       "      <td>95.8</td>\n",
       "      <td>59.5</td>\n",
       "      <td>10.1</td>\n",
       "      <td>114.0</td>\n",
       "      <td>28.4</td>\n",
       "      <td>102.0</td>\n",
       "      <td>41.0</td>\n",
       "      <td>0.37</td>\n",
       "    </tr>\n",
       "    <tr>\n",
       "      <th>50</th>\n",
       "      <td>285</td>\n",
       "      <td>100.0</td>\n",
       "      <td>65.8</td>\n",
       "      <td>10.9</td>\n",
       "      <td>120.0</td>\n",
       "      <td>30.0</td>\n",
       "      <td>108.5</td>\n",
       "      <td>43.5</td>\n",
       "      <td>0.37</td>\n",
       "    </tr>\n",
       "  </tbody>\n",
       "</table>\n",
       "</div>"
      ],
      "text/plain": [
       "             downforce   drag  fw_downforce  fw_drag  tray_downforce  \\\n",
       "track_width                                                            \n",
       "45                 208   89.0          48.0      8.6            78.0   \n",
       "46                 233   93.6          50.3      9.0            94.4   \n",
       "47                 229   92.5          49.8      8.8            93.0   \n",
       "48                 257   95.5          56.8      9.9           108.0   \n",
       "49                 268   95.8          59.5     10.1           114.0   \n",
       "50                 285  100.0          65.8     10.9           120.0   \n",
       "\n",
       "             tray_drag  rw_downforce  rw_drag  abal  \n",
       "track_width                                          \n",
       "45                29.5          89.0     35.5  0.33  \n",
       "46                30.5          96.0     35.0  0.32  \n",
       "47                28.7          95.5     38.5  0.30  \n",
       "48                30.0          99.3     40.3  0.36  \n",
       "49                28.4         102.0     41.0  0.37  \n",
       "50                30.0         108.5     43.5  0.37  "
      ]
     },
     "execution_count": 8,
     "metadata": {},
     "output_type": "execute_result"
    }
   ],
   "source": [
    "aero_df"
   ]
  },
  {
   "cell_type": "markdown",
   "metadata": {},
   "source": [
    "### Create a regression\n",
    "only use 49 & 50 track width, since we know it should \"in theory\" scale linearly"
   ]
  },
  {
   "cell_type": "code",
   "execution_count": 26,
   "metadata": {},
   "outputs": [],
   "source": [
    "# generate a polynomial and a function to predict y-values\n",
    "coefs = np.polyfit(aero_df.index[aero_df.index >= 49], aero_df[\"downforce\"][aero_df.index >= 49], deg=1)\n",
    "downforce_function = np.poly1d(coefs)\n",
    "\n",
    "# now for drag\n",
    "coefs = np.polyfit(aero_df.index[aero_df.index >= 49], aero_df[\"drag\"][aero_df.index >= 49], deg=1)\n",
    "drag_function = np.poly1d(coefs)\n",
    "\n",
    "aero_df[\"pred_downforce\"] = downforce_function(aero_df.index)\n",
    "aero_df[\"pred_drag\"] = drag_function(aero_df.index)"
   ]
  },
  {
   "cell_type": "code",
   "execution_count": 33,
   "metadata": {},
   "outputs": [
    {
     "data": {
      "application/vnd.plotly.v1+json": {
       "config": {
        "plotlyServerURL": "https://plot.ly"
       },
       "data": [
        {
         "mode": "markers",
         "name": "CFD downforce",
         "type": "scattergl",
         "x": [
          45,
          46,
          47,
          48,
          49,
          50
         ],
         "xaxis": "x",
         "y": [
          208,
          233,
          229,
          257,
          268,
          285
         ],
         "yaxis": "y"
        },
        {
         "mode": "markers",
         "name": "CFD drag",
         "type": "scattergl",
         "x": [
          45,
          46,
          47,
          48,
          49,
          50
         ],
         "xaxis": "x2",
         "y": [
          89,
          93.6,
          92.5,
          95.5,
          95.8,
          100
         ],
         "yaxis": "y2"
        },
        {
         "mode": "lines",
         "name": "downforce regression",
         "type": "scattergl",
         "x": [
          45,
          46,
          47,
          48,
          49,
          50
         ],
         "xaxis": "x",
         "y": [
          200.00000000000057,
          217.00000000000045,
          234.00000000000034,
          251.00000000000023,
          268.0000000000002,
          285.0000000000001
         ],
         "yaxis": "y"
        },
        {
         "mode": "lines",
         "name": "drag regression",
         "type": "scattergl",
         "x": [
          45,
          46,
          47,
          48,
          49,
          50
         ],
         "xaxis": "x2",
         "y": [
          79.00000000000017,
          83.20000000000016,
          87.40000000000015,
          91.60000000000014,
          95.8000000000001,
          100.00000000000009
         ],
         "yaxis": "y2"
        }
       ],
       "layout": {
        "annotations": [
         {
          "font": {
           "size": 16
          },
          "showarrow": false,
          "text": "Downforce vs Track Width",
          "x": 0.225,
          "xanchor": "center",
          "xref": "paper",
          "y": 1,
          "yanchor": "bottom",
          "yref": "paper"
         },
         {
          "font": {
           "size": 16
          },
          "showarrow": false,
          "text": "Drag vs Track Width",
          "x": 0.775,
          "xanchor": "center",
          "xref": "paper",
          "y": 1,
          "yanchor": "bottom",
          "yref": "paper"
         }
        ],
        "template": {
         "data": {
          "bar": [
           {
            "error_x": {
             "color": "#2a3f5f"
            },
            "error_y": {
             "color": "#2a3f5f"
            },
            "marker": {
             "line": {
              "color": "#E5ECF6",
              "width": 0.5
             }
            },
            "type": "bar"
           }
          ],
          "barpolar": [
           {
            "marker": {
             "line": {
              "color": "#E5ECF6",
              "width": 0.5
             }
            },
            "type": "barpolar"
           }
          ],
          "carpet": [
           {
            "aaxis": {
             "endlinecolor": "#2a3f5f",
             "gridcolor": "white",
             "linecolor": "white",
             "minorgridcolor": "white",
             "startlinecolor": "#2a3f5f"
            },
            "baxis": {
             "endlinecolor": "#2a3f5f",
             "gridcolor": "white",
             "linecolor": "white",
             "minorgridcolor": "white",
             "startlinecolor": "#2a3f5f"
            },
            "type": "carpet"
           }
          ],
          "choropleth": [
           {
            "colorbar": {
             "outlinewidth": 0,
             "ticks": ""
            },
            "type": "choropleth"
           }
          ],
          "contour": [
           {
            "colorbar": {
             "outlinewidth": 0,
             "ticks": ""
            },
            "colorscale": [
             [
              0,
              "#0d0887"
             ],
             [
              0.1111111111111111,
              "#46039f"
             ],
             [
              0.2222222222222222,
              "#7201a8"
             ],
             [
              0.3333333333333333,
              "#9c179e"
             ],
             [
              0.4444444444444444,
              "#bd3786"
             ],
             [
              0.5555555555555556,
              "#d8576b"
             ],
             [
              0.6666666666666666,
              "#ed7953"
             ],
             [
              0.7777777777777778,
              "#fb9f3a"
             ],
             [
              0.8888888888888888,
              "#fdca26"
             ],
             [
              1,
              "#f0f921"
             ]
            ],
            "type": "contour"
           }
          ],
          "contourcarpet": [
           {
            "colorbar": {
             "outlinewidth": 0,
             "ticks": ""
            },
            "type": "contourcarpet"
           }
          ],
          "heatmap": [
           {
            "colorbar": {
             "outlinewidth": 0,
             "ticks": ""
            },
            "colorscale": [
             [
              0,
              "#0d0887"
             ],
             [
              0.1111111111111111,
              "#46039f"
             ],
             [
              0.2222222222222222,
              "#7201a8"
             ],
             [
              0.3333333333333333,
              "#9c179e"
             ],
             [
              0.4444444444444444,
              "#bd3786"
             ],
             [
              0.5555555555555556,
              "#d8576b"
             ],
             [
              0.6666666666666666,
              "#ed7953"
             ],
             [
              0.7777777777777778,
              "#fb9f3a"
             ],
             [
              0.8888888888888888,
              "#fdca26"
             ],
             [
              1,
              "#f0f921"
             ]
            ],
            "type": "heatmap"
           }
          ],
          "heatmapgl": [
           {
            "colorbar": {
             "outlinewidth": 0,
             "ticks": ""
            },
            "colorscale": [
             [
              0,
              "#0d0887"
             ],
             [
              0.1111111111111111,
              "#46039f"
             ],
             [
              0.2222222222222222,
              "#7201a8"
             ],
             [
              0.3333333333333333,
              "#9c179e"
             ],
             [
              0.4444444444444444,
              "#bd3786"
             ],
             [
              0.5555555555555556,
              "#d8576b"
             ],
             [
              0.6666666666666666,
              "#ed7953"
             ],
             [
              0.7777777777777778,
              "#fb9f3a"
             ],
             [
              0.8888888888888888,
              "#fdca26"
             ],
             [
              1,
              "#f0f921"
             ]
            ],
            "type": "heatmapgl"
           }
          ],
          "histogram": [
           {
            "marker": {
             "colorbar": {
              "outlinewidth": 0,
              "ticks": ""
             }
            },
            "type": "histogram"
           }
          ],
          "histogram2d": [
           {
            "colorbar": {
             "outlinewidth": 0,
             "ticks": ""
            },
            "colorscale": [
             [
              0,
              "#0d0887"
             ],
             [
              0.1111111111111111,
              "#46039f"
             ],
             [
              0.2222222222222222,
              "#7201a8"
             ],
             [
              0.3333333333333333,
              "#9c179e"
             ],
             [
              0.4444444444444444,
              "#bd3786"
             ],
             [
              0.5555555555555556,
              "#d8576b"
             ],
             [
              0.6666666666666666,
              "#ed7953"
             ],
             [
              0.7777777777777778,
              "#fb9f3a"
             ],
             [
              0.8888888888888888,
              "#fdca26"
             ],
             [
              1,
              "#f0f921"
             ]
            ],
            "type": "histogram2d"
           }
          ],
          "histogram2dcontour": [
           {
            "colorbar": {
             "outlinewidth": 0,
             "ticks": ""
            },
            "colorscale": [
             [
              0,
              "#0d0887"
             ],
             [
              0.1111111111111111,
              "#46039f"
             ],
             [
              0.2222222222222222,
              "#7201a8"
             ],
             [
              0.3333333333333333,
              "#9c179e"
             ],
             [
              0.4444444444444444,
              "#bd3786"
             ],
             [
              0.5555555555555556,
              "#d8576b"
             ],
             [
              0.6666666666666666,
              "#ed7953"
             ],
             [
              0.7777777777777778,
              "#fb9f3a"
             ],
             [
              0.8888888888888888,
              "#fdca26"
             ],
             [
              1,
              "#f0f921"
             ]
            ],
            "type": "histogram2dcontour"
           }
          ],
          "mesh3d": [
           {
            "colorbar": {
             "outlinewidth": 0,
             "ticks": ""
            },
            "type": "mesh3d"
           }
          ],
          "parcoords": [
           {
            "line": {
             "colorbar": {
              "outlinewidth": 0,
              "ticks": ""
             }
            },
            "type": "parcoords"
           }
          ],
          "pie": [
           {
            "automargin": true,
            "type": "pie"
           }
          ],
          "scatter": [
           {
            "marker": {
             "colorbar": {
              "outlinewidth": 0,
              "ticks": ""
             }
            },
            "type": "scatter"
           }
          ],
          "scatter3d": [
           {
            "line": {
             "colorbar": {
              "outlinewidth": 0,
              "ticks": ""
             }
            },
            "marker": {
             "colorbar": {
              "outlinewidth": 0,
              "ticks": ""
             }
            },
            "type": "scatter3d"
           }
          ],
          "scattercarpet": [
           {
            "marker": {
             "colorbar": {
              "outlinewidth": 0,
              "ticks": ""
             }
            },
            "type": "scattercarpet"
           }
          ],
          "scattergeo": [
           {
            "marker": {
             "colorbar": {
              "outlinewidth": 0,
              "ticks": ""
             }
            },
            "type": "scattergeo"
           }
          ],
          "scattergl": [
           {
            "marker": {
             "colorbar": {
              "outlinewidth": 0,
              "ticks": ""
             }
            },
            "type": "scattergl"
           }
          ],
          "scattermapbox": [
           {
            "marker": {
             "colorbar": {
              "outlinewidth": 0,
              "ticks": ""
             }
            },
            "type": "scattermapbox"
           }
          ],
          "scatterpolar": [
           {
            "marker": {
             "colorbar": {
              "outlinewidth": 0,
              "ticks": ""
             }
            },
            "type": "scatterpolar"
           }
          ],
          "scatterpolargl": [
           {
            "marker": {
             "colorbar": {
              "outlinewidth": 0,
              "ticks": ""
             }
            },
            "type": "scatterpolargl"
           }
          ],
          "scatterternary": [
           {
            "marker": {
             "colorbar": {
              "outlinewidth": 0,
              "ticks": ""
             }
            },
            "type": "scatterternary"
           }
          ],
          "surface": [
           {
            "colorbar": {
             "outlinewidth": 0,
             "ticks": ""
            },
            "colorscale": [
             [
              0,
              "#0d0887"
             ],
             [
              0.1111111111111111,
              "#46039f"
             ],
             [
              0.2222222222222222,
              "#7201a8"
             ],
             [
              0.3333333333333333,
              "#9c179e"
             ],
             [
              0.4444444444444444,
              "#bd3786"
             ],
             [
              0.5555555555555556,
              "#d8576b"
             ],
             [
              0.6666666666666666,
              "#ed7953"
             ],
             [
              0.7777777777777778,
              "#fb9f3a"
             ],
             [
              0.8888888888888888,
              "#fdca26"
             ],
             [
              1,
              "#f0f921"
             ]
            ],
            "type": "surface"
           }
          ],
          "table": [
           {
            "cells": {
             "fill": {
              "color": "#EBF0F8"
             },
             "line": {
              "color": "white"
             }
            },
            "header": {
             "fill": {
              "color": "#C8D4E3"
             },
             "line": {
              "color": "white"
             }
            },
            "type": "table"
           }
          ]
         },
         "layout": {
          "annotationdefaults": {
           "arrowcolor": "#2a3f5f",
           "arrowhead": 0,
           "arrowwidth": 1
          },
          "coloraxis": {
           "colorbar": {
            "outlinewidth": 0,
            "ticks": ""
           }
          },
          "colorscale": {
           "diverging": [
            [
             0,
             "#8e0152"
            ],
            [
             0.1,
             "#c51b7d"
            ],
            [
             0.2,
             "#de77ae"
            ],
            [
             0.3,
             "#f1b6da"
            ],
            [
             0.4,
             "#fde0ef"
            ],
            [
             0.5,
             "#f7f7f7"
            ],
            [
             0.6,
             "#e6f5d0"
            ],
            [
             0.7,
             "#b8e186"
            ],
            [
             0.8,
             "#7fbc41"
            ],
            [
             0.9,
             "#4d9221"
            ],
            [
             1,
             "#276419"
            ]
           ],
           "sequential": [
            [
             0,
             "#0d0887"
            ],
            [
             0.1111111111111111,
             "#46039f"
            ],
            [
             0.2222222222222222,
             "#7201a8"
            ],
            [
             0.3333333333333333,
             "#9c179e"
            ],
            [
             0.4444444444444444,
             "#bd3786"
            ],
            [
             0.5555555555555556,
             "#d8576b"
            ],
            [
             0.6666666666666666,
             "#ed7953"
            ],
            [
             0.7777777777777778,
             "#fb9f3a"
            ],
            [
             0.8888888888888888,
             "#fdca26"
            ],
            [
             1,
             "#f0f921"
            ]
           ],
           "sequentialminus": [
            [
             0,
             "#0d0887"
            ],
            [
             0.1111111111111111,
             "#46039f"
            ],
            [
             0.2222222222222222,
             "#7201a8"
            ],
            [
             0.3333333333333333,
             "#9c179e"
            ],
            [
             0.4444444444444444,
             "#bd3786"
            ],
            [
             0.5555555555555556,
             "#d8576b"
            ],
            [
             0.6666666666666666,
             "#ed7953"
            ],
            [
             0.7777777777777778,
             "#fb9f3a"
            ],
            [
             0.8888888888888888,
             "#fdca26"
            ],
            [
             1,
             "#f0f921"
            ]
           ]
          },
          "colorway": [
           "#636efa",
           "#EF553B",
           "#00cc96",
           "#ab63fa",
           "#FFA15A",
           "#19d3f3",
           "#FF6692",
           "#B6E880",
           "#FF97FF",
           "#FECB52"
          ],
          "font": {
           "color": "#2a3f5f"
          },
          "geo": {
           "bgcolor": "white",
           "lakecolor": "white",
           "landcolor": "#E5ECF6",
           "showlakes": true,
           "showland": true,
           "subunitcolor": "white"
          },
          "hoverlabel": {
           "align": "left"
          },
          "hovermode": "closest",
          "mapbox": {
           "style": "light"
          },
          "paper_bgcolor": "white",
          "plot_bgcolor": "#E5ECF6",
          "polar": {
           "angularaxis": {
            "gridcolor": "white",
            "linecolor": "white",
            "ticks": ""
           },
           "bgcolor": "#E5ECF6",
           "radialaxis": {
            "gridcolor": "white",
            "linecolor": "white",
            "ticks": ""
           }
          },
          "scene": {
           "xaxis": {
            "backgroundcolor": "#E5ECF6",
            "gridcolor": "white",
            "gridwidth": 2,
            "linecolor": "white",
            "showbackground": true,
            "ticks": "",
            "zerolinecolor": "white"
           },
           "yaxis": {
            "backgroundcolor": "#E5ECF6",
            "gridcolor": "white",
            "gridwidth": 2,
            "linecolor": "white",
            "showbackground": true,
            "ticks": "",
            "zerolinecolor": "white"
           },
           "zaxis": {
            "backgroundcolor": "#E5ECF6",
            "gridcolor": "white",
            "gridwidth": 2,
            "linecolor": "white",
            "showbackground": true,
            "ticks": "",
            "zerolinecolor": "white"
           }
          },
          "shapedefaults": {
           "line": {
            "color": "#2a3f5f"
           }
          },
          "ternary": {
           "aaxis": {
            "gridcolor": "white",
            "linecolor": "white",
            "ticks": ""
           },
           "baxis": {
            "gridcolor": "white",
            "linecolor": "white",
            "ticks": ""
           },
           "bgcolor": "#E5ECF6",
           "caxis": {
            "gridcolor": "white",
            "linecolor": "white",
            "ticks": ""
           }
          },
          "title": {
           "x": 0.05
          },
          "xaxis": {
           "automargin": true,
           "gridcolor": "white",
           "linecolor": "white",
           "ticks": "",
           "title": {
            "standoff": 15
           },
           "zerolinecolor": "white",
           "zerolinewidth": 2
          },
          "yaxis": {
           "automargin": true,
           "gridcolor": "white",
           "linecolor": "white",
           "ticks": "",
           "title": {
            "standoff": 15
           },
           "zerolinecolor": "white",
           "zerolinewidth": 2
          }
         }
        },
        "xaxis": {
         "anchor": "y",
         "domain": [
          0,
          0.45
         ],
         "title": {
          "text": "Track Width"
         }
        },
        "xaxis2": {
         "anchor": "y2",
         "domain": [
          0.55,
          1
         ],
         "title": {
          "text": "Track Width"
         }
        },
        "yaxis": {
         "anchor": "x",
         "domain": [
          0,
          1
         ],
         "title": {
          "text": "Downforce (lbs)"
         }
        },
        "yaxis2": {
         "anchor": "x2",
         "domain": [
          0,
          1
         ],
         "title": {
          "text": "Drag (lbs)"
         }
        }
       }
      },
      "text/html": [
       "<div>\n",
       "        \n",
       "        \n",
       "            <div id=\"bb9cb615-f050-4ebb-bc20-3952a6c5ad6c\" class=\"plotly-graph-div\" style=\"height:525px; width:100%;\"></div>\n",
       "            <script type=\"text/javascript\">\n",
       "                require([\"plotly\"], function(Plotly) {\n",
       "                    window.PLOTLYENV=window.PLOTLYENV || {};\n",
       "                    \n",
       "                if (document.getElementById(\"bb9cb615-f050-4ebb-bc20-3952a6c5ad6c\")) {\n",
       "                    Plotly.newPlot(\n",
       "                        'bb9cb615-f050-4ebb-bc20-3952a6c5ad6c',\n",
       "                        [{\"mode\": \"markers\", \"name\": \"CFD downforce\", \"type\": \"scattergl\", \"x\": [45, 46, 47, 48, 49, 50], \"xaxis\": \"x\", \"y\": [208, 233, 229, 257, 268, 285], \"yaxis\": \"y\"}, {\"mode\": \"markers\", \"name\": \"CFD drag\", \"type\": \"scattergl\", \"x\": [45, 46, 47, 48, 49, 50], \"xaxis\": \"x2\", \"y\": [89.0, 93.6, 92.5, 95.5, 95.8, 100.0], \"yaxis\": \"y2\"}, {\"mode\": \"lines\", \"name\": \"downforce regression\", \"type\": \"scattergl\", \"x\": [45, 46, 47, 48, 49, 50], \"xaxis\": \"x\", \"y\": [200.00000000000057, 217.00000000000045, 234.00000000000034, 251.00000000000023, 268.0000000000002, 285.0000000000001], \"yaxis\": \"y\"}, {\"mode\": \"lines\", \"name\": \"drag regression\", \"type\": \"scattergl\", \"x\": [45, 46, 47, 48, 49, 50], \"xaxis\": \"x2\", \"y\": [79.00000000000017, 83.20000000000016, 87.40000000000015, 91.60000000000014, 95.8000000000001, 100.00000000000009], \"yaxis\": \"y2\"}],\n",
       "                        {\"annotations\": [{\"font\": {\"size\": 16}, \"showarrow\": false, \"text\": \"Downforce vs Track Width\", \"x\": 0.225, \"xanchor\": \"center\", \"xref\": \"paper\", \"y\": 1.0, \"yanchor\": \"bottom\", \"yref\": \"paper\"}, {\"font\": {\"size\": 16}, \"showarrow\": false, \"text\": \"Drag vs Track Width\", \"x\": 0.775, \"xanchor\": \"center\", \"xref\": \"paper\", \"y\": 1.0, \"yanchor\": \"bottom\", \"yref\": \"paper\"}], \"template\": {\"data\": {\"bar\": [{\"error_x\": {\"color\": \"#2a3f5f\"}, \"error_y\": {\"color\": \"#2a3f5f\"}, \"marker\": {\"line\": {\"color\": \"#E5ECF6\", \"width\": 0.5}}, \"type\": \"bar\"}], \"barpolar\": [{\"marker\": {\"line\": {\"color\": \"#E5ECF6\", \"width\": 0.5}}, \"type\": \"barpolar\"}], \"carpet\": [{\"aaxis\": {\"endlinecolor\": \"#2a3f5f\", \"gridcolor\": \"white\", \"linecolor\": \"white\", \"minorgridcolor\": \"white\", \"startlinecolor\": \"#2a3f5f\"}, \"baxis\": {\"endlinecolor\": \"#2a3f5f\", \"gridcolor\": \"white\", \"linecolor\": \"white\", \"minorgridcolor\": \"white\", \"startlinecolor\": \"#2a3f5f\"}, \"type\": \"carpet\"}], \"choropleth\": [{\"colorbar\": {\"outlinewidth\": 0, \"ticks\": \"\"}, \"type\": \"choropleth\"}], \"contour\": [{\"colorbar\": {\"outlinewidth\": 0, \"ticks\": \"\"}, \"colorscale\": [[0.0, \"#0d0887\"], [0.1111111111111111, \"#46039f\"], [0.2222222222222222, \"#7201a8\"], [0.3333333333333333, \"#9c179e\"], [0.4444444444444444, \"#bd3786\"], [0.5555555555555556, \"#d8576b\"], [0.6666666666666666, \"#ed7953\"], [0.7777777777777778, \"#fb9f3a\"], [0.8888888888888888, \"#fdca26\"], [1.0, \"#f0f921\"]], \"type\": \"contour\"}], \"contourcarpet\": [{\"colorbar\": {\"outlinewidth\": 0, \"ticks\": \"\"}, \"type\": \"contourcarpet\"}], \"heatmap\": [{\"colorbar\": {\"outlinewidth\": 0, \"ticks\": \"\"}, \"colorscale\": [[0.0, \"#0d0887\"], [0.1111111111111111, \"#46039f\"], [0.2222222222222222, \"#7201a8\"], [0.3333333333333333, \"#9c179e\"], [0.4444444444444444, \"#bd3786\"], [0.5555555555555556, \"#d8576b\"], [0.6666666666666666, \"#ed7953\"], [0.7777777777777778, \"#fb9f3a\"], [0.8888888888888888, \"#fdca26\"], [1.0, \"#f0f921\"]], \"type\": \"heatmap\"}], \"heatmapgl\": [{\"colorbar\": {\"outlinewidth\": 0, \"ticks\": \"\"}, \"colorscale\": [[0.0, \"#0d0887\"], [0.1111111111111111, \"#46039f\"], [0.2222222222222222, \"#7201a8\"], [0.3333333333333333, \"#9c179e\"], [0.4444444444444444, \"#bd3786\"], [0.5555555555555556, \"#d8576b\"], [0.6666666666666666, \"#ed7953\"], [0.7777777777777778, \"#fb9f3a\"], [0.8888888888888888, \"#fdca26\"], [1.0, \"#f0f921\"]], \"type\": \"heatmapgl\"}], \"histogram\": [{\"marker\": {\"colorbar\": {\"outlinewidth\": 0, \"ticks\": \"\"}}, \"type\": \"histogram\"}], \"histogram2d\": [{\"colorbar\": {\"outlinewidth\": 0, \"ticks\": \"\"}, \"colorscale\": [[0.0, \"#0d0887\"], [0.1111111111111111, \"#46039f\"], [0.2222222222222222, \"#7201a8\"], [0.3333333333333333, \"#9c179e\"], [0.4444444444444444, \"#bd3786\"], [0.5555555555555556, \"#d8576b\"], [0.6666666666666666, \"#ed7953\"], [0.7777777777777778, \"#fb9f3a\"], [0.8888888888888888, \"#fdca26\"], [1.0, \"#f0f921\"]], \"type\": \"histogram2d\"}], \"histogram2dcontour\": [{\"colorbar\": {\"outlinewidth\": 0, \"ticks\": \"\"}, \"colorscale\": [[0.0, \"#0d0887\"], [0.1111111111111111, \"#46039f\"], [0.2222222222222222, \"#7201a8\"], [0.3333333333333333, \"#9c179e\"], [0.4444444444444444, \"#bd3786\"], [0.5555555555555556, \"#d8576b\"], [0.6666666666666666, \"#ed7953\"], [0.7777777777777778, \"#fb9f3a\"], [0.8888888888888888, \"#fdca26\"], [1.0, \"#f0f921\"]], \"type\": \"histogram2dcontour\"}], \"mesh3d\": [{\"colorbar\": {\"outlinewidth\": 0, \"ticks\": \"\"}, \"type\": \"mesh3d\"}], \"parcoords\": [{\"line\": {\"colorbar\": {\"outlinewidth\": 0, \"ticks\": \"\"}}, \"type\": \"parcoords\"}], \"pie\": [{\"automargin\": true, \"type\": \"pie\"}], \"scatter\": [{\"marker\": {\"colorbar\": {\"outlinewidth\": 0, \"ticks\": \"\"}}, \"type\": \"scatter\"}], \"scatter3d\": [{\"line\": {\"colorbar\": {\"outlinewidth\": 0, \"ticks\": \"\"}}, \"marker\": {\"colorbar\": {\"outlinewidth\": 0, \"ticks\": \"\"}}, \"type\": \"scatter3d\"}], \"scattercarpet\": [{\"marker\": {\"colorbar\": {\"outlinewidth\": 0, \"ticks\": \"\"}}, \"type\": \"scattercarpet\"}], \"scattergeo\": [{\"marker\": {\"colorbar\": {\"outlinewidth\": 0, \"ticks\": \"\"}}, \"type\": \"scattergeo\"}], \"scattergl\": [{\"marker\": {\"colorbar\": {\"outlinewidth\": 0, \"ticks\": \"\"}}, \"type\": \"scattergl\"}], \"scattermapbox\": [{\"marker\": {\"colorbar\": {\"outlinewidth\": 0, \"ticks\": \"\"}}, \"type\": \"scattermapbox\"}], \"scatterpolar\": [{\"marker\": {\"colorbar\": {\"outlinewidth\": 0, \"ticks\": \"\"}}, \"type\": \"scatterpolar\"}], \"scatterpolargl\": [{\"marker\": {\"colorbar\": {\"outlinewidth\": 0, \"ticks\": \"\"}}, \"type\": \"scatterpolargl\"}], \"scatterternary\": [{\"marker\": {\"colorbar\": {\"outlinewidth\": 0, \"ticks\": \"\"}}, \"type\": \"scatterternary\"}], \"surface\": [{\"colorbar\": {\"outlinewidth\": 0, \"ticks\": \"\"}, \"colorscale\": [[0.0, \"#0d0887\"], [0.1111111111111111, \"#46039f\"], [0.2222222222222222, \"#7201a8\"], [0.3333333333333333, \"#9c179e\"], [0.4444444444444444, \"#bd3786\"], [0.5555555555555556, \"#d8576b\"], [0.6666666666666666, \"#ed7953\"], [0.7777777777777778, \"#fb9f3a\"], [0.8888888888888888, \"#fdca26\"], [1.0, \"#f0f921\"]], \"type\": \"surface\"}], \"table\": [{\"cells\": {\"fill\": {\"color\": \"#EBF0F8\"}, \"line\": {\"color\": \"white\"}}, \"header\": {\"fill\": {\"color\": \"#C8D4E3\"}, \"line\": {\"color\": \"white\"}}, \"type\": \"table\"}]}, \"layout\": {\"annotationdefaults\": {\"arrowcolor\": \"#2a3f5f\", \"arrowhead\": 0, \"arrowwidth\": 1}, \"coloraxis\": {\"colorbar\": {\"outlinewidth\": 0, \"ticks\": \"\"}}, \"colorscale\": {\"diverging\": [[0, \"#8e0152\"], [0.1, \"#c51b7d\"], [0.2, \"#de77ae\"], [0.3, \"#f1b6da\"], [0.4, \"#fde0ef\"], [0.5, \"#f7f7f7\"], [0.6, \"#e6f5d0\"], [0.7, \"#b8e186\"], [0.8, \"#7fbc41\"], [0.9, \"#4d9221\"], [1, \"#276419\"]], \"sequential\": [[0.0, \"#0d0887\"], [0.1111111111111111, \"#46039f\"], [0.2222222222222222, \"#7201a8\"], [0.3333333333333333, \"#9c179e\"], [0.4444444444444444, \"#bd3786\"], [0.5555555555555556, \"#d8576b\"], [0.6666666666666666, \"#ed7953\"], [0.7777777777777778, \"#fb9f3a\"], [0.8888888888888888, \"#fdca26\"], [1.0, \"#f0f921\"]], \"sequentialminus\": [[0.0, \"#0d0887\"], [0.1111111111111111, \"#46039f\"], [0.2222222222222222, \"#7201a8\"], [0.3333333333333333, \"#9c179e\"], [0.4444444444444444, \"#bd3786\"], [0.5555555555555556, \"#d8576b\"], [0.6666666666666666, \"#ed7953\"], [0.7777777777777778, \"#fb9f3a\"], [0.8888888888888888, \"#fdca26\"], [1.0, \"#f0f921\"]]}, \"colorway\": [\"#636efa\", \"#EF553B\", \"#00cc96\", \"#ab63fa\", \"#FFA15A\", \"#19d3f3\", \"#FF6692\", \"#B6E880\", \"#FF97FF\", \"#FECB52\"], \"font\": {\"color\": \"#2a3f5f\"}, \"geo\": {\"bgcolor\": \"white\", \"lakecolor\": \"white\", \"landcolor\": \"#E5ECF6\", \"showlakes\": true, \"showland\": true, \"subunitcolor\": \"white\"}, \"hoverlabel\": {\"align\": \"left\"}, \"hovermode\": \"closest\", \"mapbox\": {\"style\": \"light\"}, \"paper_bgcolor\": \"white\", \"plot_bgcolor\": \"#E5ECF6\", \"polar\": {\"angularaxis\": {\"gridcolor\": \"white\", \"linecolor\": \"white\", \"ticks\": \"\"}, \"bgcolor\": \"#E5ECF6\", \"radialaxis\": {\"gridcolor\": \"white\", \"linecolor\": \"white\", \"ticks\": \"\"}}, \"scene\": {\"xaxis\": {\"backgroundcolor\": \"#E5ECF6\", \"gridcolor\": \"white\", \"gridwidth\": 2, \"linecolor\": \"white\", \"showbackground\": true, \"ticks\": \"\", \"zerolinecolor\": \"white\"}, \"yaxis\": {\"backgroundcolor\": \"#E5ECF6\", \"gridcolor\": \"white\", \"gridwidth\": 2, \"linecolor\": \"white\", \"showbackground\": true, \"ticks\": \"\", \"zerolinecolor\": \"white\"}, \"zaxis\": {\"backgroundcolor\": \"#E5ECF6\", \"gridcolor\": \"white\", \"gridwidth\": 2, \"linecolor\": \"white\", \"showbackground\": true, \"ticks\": \"\", \"zerolinecolor\": \"white\"}}, \"shapedefaults\": {\"line\": {\"color\": \"#2a3f5f\"}}, \"ternary\": {\"aaxis\": {\"gridcolor\": \"white\", \"linecolor\": \"white\", \"ticks\": \"\"}, \"baxis\": {\"gridcolor\": \"white\", \"linecolor\": \"white\", \"ticks\": \"\"}, \"bgcolor\": \"#E5ECF6\", \"caxis\": {\"gridcolor\": \"white\", \"linecolor\": \"white\", \"ticks\": \"\"}}, \"title\": {\"x\": 0.05}, \"xaxis\": {\"automargin\": true, \"gridcolor\": \"white\", \"linecolor\": \"white\", \"ticks\": \"\", \"title\": {\"standoff\": 15}, \"zerolinecolor\": \"white\", \"zerolinewidth\": 2}, \"yaxis\": {\"automargin\": true, \"gridcolor\": \"white\", \"linecolor\": \"white\", \"ticks\": \"\", \"title\": {\"standoff\": 15}, \"zerolinecolor\": \"white\", \"zerolinewidth\": 2}}}, \"xaxis\": {\"anchor\": \"y\", \"domain\": [0.0, 0.45], \"title\": {\"text\": \"Track Width\"}}, \"xaxis2\": {\"anchor\": \"y2\", \"domain\": [0.55, 1.0], \"title\": {\"text\": \"Track Width\"}}, \"yaxis\": {\"anchor\": \"x\", \"domain\": [0.0, 1.0], \"title\": {\"text\": \"Downforce (lbs)\"}}, \"yaxis2\": {\"anchor\": \"x2\", \"domain\": [0.0, 1.0], \"title\": {\"text\": \"Drag (lbs)\"}}},\n",
       "                        {\"responsive\": true}\n",
       "                    ).then(function(){\n",
       "                            \n",
       "var gd = document.getElementById('bb9cb615-f050-4ebb-bc20-3952a6c5ad6c');\n",
       "var x = new MutationObserver(function (mutations, observer) {{\n",
       "        var display = window.getComputedStyle(gd).display;\n",
       "        if (!display || display === 'none') {{\n",
       "            console.log([gd, 'removed!']);\n",
       "            Plotly.purge(gd);\n",
       "            observer.disconnect();\n",
       "        }}\n",
       "}});\n",
       "\n",
       "// Listen for the removal of the full notebook cells\n",
       "var notebookContainer = gd.closest('#notebook-container');\n",
       "if (notebookContainer) {{\n",
       "    x.observe(notebookContainer, {childList: true});\n",
       "}}\n",
       "\n",
       "// Listen for the clearing of the current output cell\n",
       "var outputEl = gd.closest('.output');\n",
       "if (outputEl) {{\n",
       "    x.observe(outputEl, {childList: true});\n",
       "}}\n",
       "\n",
       "                        })\n",
       "                };\n",
       "                });\n",
       "            </script>\n",
       "        </div>"
      ]
     },
     "metadata": {},
     "output_type": "display_data"
    }
   ],
   "source": [
    "import plotly.graph_objects as go\n",
    "from plotly.subplots import make_subplots\n",
    "\n",
    "# create subplots objects\n",
    "fig = make_subplots(rows=1, cols=2, subplot_titles=(\"Downforce vs Track Width\", \"Drag vs Track Width\"))\n",
    "\n",
    "# create the scatter traces to add\n",
    "downforce_trace = go.Scattergl(x=aero_df.index, y=aero_df[\"downforce\"], mode='markers', name=\"CFD downforce\")\n",
    "drag_trace = go.Scattergl(x=aero_df.index, y=aero_df[\"drag\"], mode='markers', name=\"CFD drag\")\n",
    "\n",
    "# create the line traces to add\n",
    "pred_downforce_trace = go.Scattergl(x=aero_df.index, y=aero_df[\"pred_downforce\"], mode='lines', name=\"downforce regression\")\n",
    "pred_drag_trace = go.Scattergl(x=aero_df.index, y=aero_df[\"pred_drag\"], mode='lines', name=\"drag regression\")\n",
    "\n",
    "# add the traces to the subplots\n",
    "fig.add_trace(downforce_trace, row=1, col=1)\n",
    "fig.add_trace(drag_trace, row=1, col=2)\n",
    "fig.add_trace(pred_downforce_trace, row=1, col=1)\n",
    "fig.add_trace(pred_drag_trace, row=1, col=2)\n",
    "\n",
    "# additional formatting\n",
    "fig.update_xaxes(title_text=\"Track Width\", row=1, col=1)\n",
    "fig.update_xaxes(title_text=\"Track Width\", row=1, col=2)\n",
    "fig.update_yaxes(title_text=\"Downforce (lbs)\", row=1, col=1)\n",
    "fig.update_yaxes(title_text=\"Drag (lbs)\", row=1, col=2)\n",
    "\n",
    "fig.show()"
   ]
  },
  {
   "cell_type": "code",
   "execution_count": 37,
   "metadata": {},
   "outputs": [
    {
     "data": {
      "text/html": [
       "<div>\n",
       "<style scoped>\n",
       "    .dataframe tbody tr th:only-of-type {\n",
       "        vertical-align: middle;\n",
       "    }\n",
       "\n",
       "    .dataframe tbody tr th {\n",
       "        vertical-align: top;\n",
       "    }\n",
       "\n",
       "    .dataframe thead th {\n",
       "        text-align: right;\n",
       "    }\n",
       "</style>\n",
       "<table border=\"1\" class=\"dataframe\">\n",
       "  <thead>\n",
       "    <tr style=\"text-align: right;\">\n",
       "      <th></th>\n",
       "      <th>downforce</th>\n",
       "      <th>drag</th>\n",
       "      <th>fw_downforce</th>\n",
       "      <th>fw_drag</th>\n",
       "      <th>tray_downforce</th>\n",
       "      <th>tray_drag</th>\n",
       "      <th>rw_downforce</th>\n",
       "      <th>rw_drag</th>\n",
       "      <th>abal</th>\n",
       "      <th>pred_downforce</th>\n",
       "      <th>pred_drag</th>\n",
       "      <th>downforce_scale</th>\n",
       "      <th>drag_scale</th>\n",
       "    </tr>\n",
       "    <tr>\n",
       "      <th>track_width</th>\n",
       "      <th></th>\n",
       "      <th></th>\n",
       "      <th></th>\n",
       "      <th></th>\n",
       "      <th></th>\n",
       "      <th></th>\n",
       "      <th></th>\n",
       "      <th></th>\n",
       "      <th></th>\n",
       "      <th></th>\n",
       "      <th></th>\n",
       "      <th></th>\n",
       "      <th></th>\n",
       "    </tr>\n",
       "  </thead>\n",
       "  <tbody>\n",
       "    <tr>\n",
       "      <th>45</th>\n",
       "      <td>208</td>\n",
       "      <td>89.0</td>\n",
       "      <td>48.0</td>\n",
       "      <td>8.6</td>\n",
       "      <td>78.0</td>\n",
       "      <td>29.5</td>\n",
       "      <td>89.0</td>\n",
       "      <td>35.5</td>\n",
       "      <td>0.33</td>\n",
       "      <td>200.0</td>\n",
       "      <td>79.0</td>\n",
       "      <td>0.729825</td>\n",
       "      <td>0.890</td>\n",
       "    </tr>\n",
       "    <tr>\n",
       "      <th>46</th>\n",
       "      <td>233</td>\n",
       "      <td>93.6</td>\n",
       "      <td>50.3</td>\n",
       "      <td>9.0</td>\n",
       "      <td>94.4</td>\n",
       "      <td>30.5</td>\n",
       "      <td>96.0</td>\n",
       "      <td>35.0</td>\n",
       "      <td>0.32</td>\n",
       "      <td>217.0</td>\n",
       "      <td>83.2</td>\n",
       "      <td>0.817544</td>\n",
       "      <td>0.936</td>\n",
       "    </tr>\n",
       "    <tr>\n",
       "      <th>47</th>\n",
       "      <td>229</td>\n",
       "      <td>92.5</td>\n",
       "      <td>49.8</td>\n",
       "      <td>8.8</td>\n",
       "      <td>93.0</td>\n",
       "      <td>28.7</td>\n",
       "      <td>95.5</td>\n",
       "      <td>38.5</td>\n",
       "      <td>0.30</td>\n",
       "      <td>234.0</td>\n",
       "      <td>87.4</td>\n",
       "      <td>0.803509</td>\n",
       "      <td>0.925</td>\n",
       "    </tr>\n",
       "    <tr>\n",
       "      <th>48</th>\n",
       "      <td>257</td>\n",
       "      <td>95.5</td>\n",
       "      <td>56.8</td>\n",
       "      <td>9.9</td>\n",
       "      <td>108.0</td>\n",
       "      <td>30.0</td>\n",
       "      <td>99.3</td>\n",
       "      <td>40.3</td>\n",
       "      <td>0.36</td>\n",
       "      <td>251.0</td>\n",
       "      <td>91.6</td>\n",
       "      <td>0.901754</td>\n",
       "      <td>0.955</td>\n",
       "    </tr>\n",
       "    <tr>\n",
       "      <th>49</th>\n",
       "      <td>268</td>\n",
       "      <td>95.8</td>\n",
       "      <td>59.5</td>\n",
       "      <td>10.1</td>\n",
       "      <td>114.0</td>\n",
       "      <td>28.4</td>\n",
       "      <td>102.0</td>\n",
       "      <td>41.0</td>\n",
       "      <td>0.37</td>\n",
       "      <td>268.0</td>\n",
       "      <td>95.8</td>\n",
       "      <td>0.940351</td>\n",
       "      <td>0.958</td>\n",
       "    </tr>\n",
       "    <tr>\n",
       "      <th>50</th>\n",
       "      <td>285</td>\n",
       "      <td>100.0</td>\n",
       "      <td>65.8</td>\n",
       "      <td>10.9</td>\n",
       "      <td>120.0</td>\n",
       "      <td>30.0</td>\n",
       "      <td>108.5</td>\n",
       "      <td>43.5</td>\n",
       "      <td>0.37</td>\n",
       "      <td>285.0</td>\n",
       "      <td>100.0</td>\n",
       "      <td>1.000000</td>\n",
       "      <td>1.000</td>\n",
       "    </tr>\n",
       "  </tbody>\n",
       "</table>\n",
       "</div>"
      ],
      "text/plain": [
       "             downforce   drag  fw_downforce  fw_drag  tray_downforce  \\\n",
       "track_width                                                            \n",
       "45                 208   89.0          48.0      8.6            78.0   \n",
       "46                 233   93.6          50.3      9.0            94.4   \n",
       "47                 229   92.5          49.8      8.8            93.0   \n",
       "48                 257   95.5          56.8      9.9           108.0   \n",
       "49                 268   95.8          59.5     10.1           114.0   \n",
       "50                 285  100.0          65.8     10.9           120.0   \n",
       "\n",
       "             tray_drag  rw_downforce  rw_drag  abal  pred_downforce  \\\n",
       "track_width                                                           \n",
       "45                29.5          89.0     35.5  0.33           200.0   \n",
       "46                30.5          96.0     35.0  0.32           217.0   \n",
       "47                28.7          95.5     38.5  0.30           234.0   \n",
       "48                30.0          99.3     40.3  0.36           251.0   \n",
       "49                28.4         102.0     41.0  0.37           268.0   \n",
       "50                30.0         108.5     43.5  0.37           285.0   \n",
       "\n",
       "             pred_drag  downforce_scale  drag_scale  \n",
       "track_width                                          \n",
       "45                79.0         0.729825       0.890  \n",
       "46                83.2         0.817544       0.936  \n",
       "47                87.4         0.803509       0.925  \n",
       "48                91.6         0.901754       0.955  \n",
       "49                95.8         0.940351       0.958  \n",
       "50               100.0         1.000000       1.000  "
      ]
     },
     "execution_count": 37,
     "metadata": {},
     "output_type": "execute_result"
    }
   ],
   "source": [
    "# create scale factors and a regression to generate them along the lines shown above\n",
    "aero_df[\"downforce_scale\"] = aero_df[\"downforce\"] / aero_df[\"downforce\"][50]\n",
    "aero_df[\"drag_scale\"]      = aero_df[\"drag\"]      / aero_df[\"drag\"][50]\n",
    "\n",
    "# generate regressions for the 49 & 50 inch TWs\n",
    "coefs = np.polyfit(aero_df.index[aero_df.index >= 49], aero_df[\"downforce_scale\"][aero_df.index >= 49], deg=1)\n",
    "downforce_scale_factor = np.poly1d(coefs)\n",
    "\n",
    "# now for drag\n",
    "coefs = np.polyfit(aero_df.index[aero_df.index >= 49], aero_df[\"drag_scale\"][aero_df.index >= 49], deg=1)\n",
    "drag_scale_factor = np.poly1d(coefs)\n",
    "\n",
    "aero_df"
   ]
  },
  {
   "cell_type": "markdown",
   "metadata": {},
   "source": [
    "## Creating the runs array"
   ]
  },
  {
   "cell_type": "code",
   "execution_count": 53,
   "metadata": {},
   "outputs": [
    {
     "data": {
      "text/html": [
       "<div>\n",
       "<style scoped>\n",
       "    .dataframe tbody tr th:only-of-type {\n",
       "        vertical-align: middle;\n",
       "    }\n",
       "\n",
       "    .dataframe tbody tr th {\n",
       "        vertical-align: top;\n",
       "    }\n",
       "\n",
       "    .dataframe thead th {\n",
       "        text-align: right;\n",
       "    }\n",
       "</style>\n",
       "<table border=\"1\" class=\"dataframe\">\n",
       "  <thead>\n",
       "    <tr style=\"text-align: right;\">\n",
       "      <th></th>\n",
       "      <th>track</th>\n",
       "      <th>tw</th>\n",
       "      <th>wb</th>\n",
       "      <th>df_scale</th>\n",
       "      <th>drag_scale</th>\n",
       "    </tr>\n",
       "  </thead>\n",
       "  <tbody>\n",
       "    <tr>\n",
       "      <th>0</th>\n",
       "      <td>0</td>\n",
       "      <td>40</td>\n",
       "      <td>60.5</td>\n",
       "      <td>0.403509</td>\n",
       "      <td>0.58</td>\n",
       "    </tr>\n",
       "    <tr>\n",
       "      <th>1</th>\n",
       "      <td>0</td>\n",
       "      <td>40</td>\n",
       "      <td>61.5</td>\n",
       "      <td>0.403509</td>\n",
       "      <td>0.58</td>\n",
       "    </tr>\n",
       "    <tr>\n",
       "      <th>2</th>\n",
       "      <td>0</td>\n",
       "      <td>40</td>\n",
       "      <td>62.5</td>\n",
       "      <td>0.403509</td>\n",
       "      <td>0.58</td>\n",
       "    </tr>\n",
       "    <tr>\n",
       "      <th>3</th>\n",
       "      <td>0</td>\n",
       "      <td>40</td>\n",
       "      <td>63.5</td>\n",
       "      <td>0.403509</td>\n",
       "      <td>0.58</td>\n",
       "    </tr>\n",
       "    <tr>\n",
       "      <th>4</th>\n",
       "      <td>0</td>\n",
       "      <td>40</td>\n",
       "      <td>64.5</td>\n",
       "      <td>0.403509</td>\n",
       "      <td>0.58</td>\n",
       "    </tr>\n",
       "    <tr>\n",
       "      <th>...</th>\n",
       "      <td>...</td>\n",
       "      <td>...</td>\n",
       "      <td>...</td>\n",
       "      <td>...</td>\n",
       "      <td>...</td>\n",
       "    </tr>\n",
       "    <tr>\n",
       "      <th>2011</th>\n",
       "      <td>5</td>\n",
       "      <td>55</td>\n",
       "      <td>76.5</td>\n",
       "      <td>1.298246</td>\n",
       "      <td>1.21</td>\n",
       "    </tr>\n",
       "    <tr>\n",
       "      <th>2012</th>\n",
       "      <td>5</td>\n",
       "      <td>55</td>\n",
       "      <td>77.5</td>\n",
       "      <td>1.298246</td>\n",
       "      <td>1.21</td>\n",
       "    </tr>\n",
       "    <tr>\n",
       "      <th>2013</th>\n",
       "      <td>5</td>\n",
       "      <td>55</td>\n",
       "      <td>78.5</td>\n",
       "      <td>1.298246</td>\n",
       "      <td>1.21</td>\n",
       "    </tr>\n",
       "    <tr>\n",
       "      <th>2014</th>\n",
       "      <td>5</td>\n",
       "      <td>55</td>\n",
       "      <td>79.5</td>\n",
       "      <td>1.298246</td>\n",
       "      <td>1.21</td>\n",
       "    </tr>\n",
       "    <tr>\n",
       "      <th>2015</th>\n",
       "      <td>5</td>\n",
       "      <td>55</td>\n",
       "      <td>80.5</td>\n",
       "      <td>1.298246</td>\n",
       "      <td>1.21</td>\n",
       "    </tr>\n",
       "  </tbody>\n",
       "</table>\n",
       "<p>2016 rows × 5 columns</p>\n",
       "</div>"
      ],
      "text/plain": [
       "      track  tw    wb  df_scale  drag_scale\n",
       "0         0  40  60.5  0.403509        0.58\n",
       "1         0  40  61.5  0.403509        0.58\n",
       "2         0  40  62.5  0.403509        0.58\n",
       "3         0  40  63.5  0.403509        0.58\n",
       "4         0  40  64.5  0.403509        0.58\n",
       "...     ...  ..   ...       ...         ...\n",
       "2011      5  55  76.5  1.298246        1.21\n",
       "2012      5  55  77.5  1.298246        1.21\n",
       "2013      5  55  78.5  1.298246        1.21\n",
       "2014      5  55  79.5  1.298246        1.21\n",
       "2015      5  55  80.5  1.298246        1.21\n",
       "\n",
       "[2016 rows x 5 columns]"
      ]
     },
     "execution_count": 53,
     "metadata": {},
     "output_type": "execute_result"
    }
   ],
   "source": [
    "min_tw = 40\n",
    "max_tw = 55\n",
    "step_tw = 1\n",
    "tws = np.arange(min_tw, max_tw + step_tw, step_tw)\n",
    "\n",
    "min_wb = 60.5\n",
    "max_wb = 80.5\n",
    "step_wb = 1\n",
    "wbs = np.arange(min_wb, max_wb + step_wb, step_wb)\n",
    "\n",
    "num_tracks = 6\n",
    "# 0 = accel\n",
    "# 1 = skidpad\n",
    "# 2 = autocross\n",
    "# 3 = slalom_min\n",
    "# 4 = slalom_med\n",
    "# 5 = slalom_max\n",
    "# 6 = endurance - not running at the moment\n",
    "\n",
    "runs = []\n",
    "\n",
    "for track in range(num_tracks):\n",
    "    for tw in tws:\n",
    "        for wb in wbs:\n",
    "            \n",
    "            # calculate the aero scale factors\n",
    "            downforce_scaler = downforce_scale_factor(tw)\n",
    "            drag_scaler = drag_scale_factor(tw)\n",
    "            \n",
    "            # create the run array\n",
    "            run_array = (track, tw, wb, downforce_scaler, drag_scaler)\n",
    "            runs.append(run_array)\n",
    "            \n",
    "# turn the runs list into a dataframe\n",
    "runs_df = pd.DataFrame(runs)\n",
    "runs_df.columns = (\"track\", \"tw\", \"wb\", \"df_scale\", \"drag_scale\")\n",
    "runs_df"
   ]
  },
  {
   "cell_type": "code",
   "execution_count": null,
   "metadata": {},
   "outputs": [],
   "source": [
    "# save the runs array as a csv!\n",
    "runs_df.to_csv(\"\")"
   ]
  }
 ],
 "metadata": {
  "kernelspec": {
   "display_name": "Python 3",
   "language": "python",
   "name": "python3"
  },
  "language_info": {
   "codemirror_mode": {
    "name": "ipython",
    "version": 3
   },
   "file_extension": ".py",
   "mimetype": "text/x-python",
   "name": "python",
   "nbconvert_exporter": "python",
   "pygments_lexer": "ipython3",
   "version": "3.7.5"
  }
 },
 "nbformat": 4,
 "nbformat_minor": 2
}
