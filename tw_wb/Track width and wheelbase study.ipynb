{
 "cells": [
  {
   "cell_type": "markdown",
   "metadata": {},
   "source": [
    "# Track width a wheelbase study\n",
    "### Dave Yonkers, June 2020"
   ]
  },
  {
   "cell_type": "markdown",
   "metadata": {},
   "source": [
    "## Aero:"
   ]
  },
  {
   "cell_type": "code",
   "execution_count": 55,
   "metadata": {},
   "outputs": [
    {
     "data": {
      "text/html": [
       "<div>\n",
       "<style scoped>\n",
       "    .dataframe tbody tr th:only-of-type {\n",
       "        vertical-align: middle;\n",
       "    }\n",
       "\n",
       "    .dataframe tbody tr th {\n",
       "        vertical-align: top;\n",
       "    }\n",
       "\n",
       "    .dataframe thead th {\n",
       "        text-align: right;\n",
       "    }\n",
       "</style>\n",
       "<table border=\"1\" class=\"dataframe\">\n",
       "  <thead>\n",
       "    <tr style=\"text-align: right;\">\n",
       "      <th></th>\n",
       "      <th>downforce</th>\n",
       "      <th>drag</th>\n",
       "      <th>fw_downforce</th>\n",
       "      <th>fw_drag</th>\n",
       "      <th>tray_downforce</th>\n",
       "      <th>tray_drag</th>\n",
       "      <th>rw_downforce</th>\n",
       "      <th>rw_drag</th>\n",
       "      <th>abal</th>\n",
       "    </tr>\n",
       "    <tr>\n",
       "      <th>track_width</th>\n",
       "      <th></th>\n",
       "      <th></th>\n",
       "      <th></th>\n",
       "      <th></th>\n",
       "      <th></th>\n",
       "      <th></th>\n",
       "      <th></th>\n",
       "      <th></th>\n",
       "      <th></th>\n",
       "    </tr>\n",
       "  </thead>\n",
       "  <tbody>\n",
       "    <tr>\n",
       "      <th>45</th>\n",
       "      <td>223</td>\n",
       "      <td>90.0</td>\n",
       "      <td>48.0</td>\n",
       "      <td>8.6</td>\n",
       "      <td>78.0</td>\n",
       "      <td>29.5</td>\n",
       "      <td>89.0</td>\n",
       "      <td>35.5</td>\n",
       "      <td>0.33</td>\n",
       "    </tr>\n",
       "    <tr>\n",
       "      <th>46</th>\n",
       "      <td>233</td>\n",
       "      <td>93.6</td>\n",
       "      <td>50.3</td>\n",
       "      <td>9.0</td>\n",
       "      <td>94.4</td>\n",
       "      <td>30.5</td>\n",
       "      <td>96.0</td>\n",
       "      <td>35.0</td>\n",
       "      <td>0.32</td>\n",
       "    </tr>\n",
       "    <tr>\n",
       "      <th>47</th>\n",
       "      <td>229</td>\n",
       "      <td>92.5</td>\n",
       "      <td>49.8</td>\n",
       "      <td>8.8</td>\n",
       "      <td>93.0</td>\n",
       "      <td>28.7</td>\n",
       "      <td>95.5</td>\n",
       "      <td>38.5</td>\n",
       "      <td>0.30</td>\n",
       "    </tr>\n",
       "    <tr>\n",
       "      <th>48</th>\n",
       "      <td>257</td>\n",
       "      <td>95.5</td>\n",
       "      <td>56.8</td>\n",
       "      <td>9.9</td>\n",
       "      <td>108.0</td>\n",
       "      <td>30.0</td>\n",
       "      <td>99.3</td>\n",
       "      <td>40.3</td>\n",
       "      <td>0.36</td>\n",
       "    </tr>\n",
       "    <tr>\n",
       "      <th>49</th>\n",
       "      <td>268</td>\n",
       "      <td>95.8</td>\n",
       "      <td>59.5</td>\n",
       "      <td>10.1</td>\n",
       "      <td>114.0</td>\n",
       "      <td>28.4</td>\n",
       "      <td>102.0</td>\n",
       "      <td>41.0</td>\n",
       "      <td>0.37</td>\n",
       "    </tr>\n",
       "    <tr>\n",
       "      <th>50</th>\n",
       "      <td>285</td>\n",
       "      <td>100.0</td>\n",
       "      <td>65.8</td>\n",
       "      <td>10.9</td>\n",
       "      <td>120.0</td>\n",
       "      <td>30.0</td>\n",
       "      <td>108.5</td>\n",
       "      <td>43.5</td>\n",
       "      <td>0.37</td>\n",
       "    </tr>\n",
       "  </tbody>\n",
       "</table>\n",
       "</div>"
      ],
      "text/plain": [
       "             downforce   drag  fw_downforce  fw_drag  tray_downforce  \\\n",
       "track_width                                                            \n",
       "45                 223   90.0          48.0      8.6            78.0   \n",
       "46                 233   93.6          50.3      9.0            94.4   \n",
       "47                 229   92.5          49.8      8.8            93.0   \n",
       "48                 257   95.5          56.8      9.9           108.0   \n",
       "49                 268   95.8          59.5     10.1           114.0   \n",
       "50                 285  100.0          65.8     10.9           120.0   \n",
       "\n",
       "             tray_drag  rw_downforce  rw_drag  abal  \n",
       "track_width                                          \n",
       "45                29.5          89.0     35.5  0.33  \n",
       "46                30.5          96.0     35.0  0.32  \n",
       "47                28.7          95.5     38.5  0.30  \n",
       "48                30.0          99.3     40.3  0.36  \n",
       "49                28.4         102.0     41.0  0.37  \n",
       "50                30.0         108.5     43.5  0.37  "
      ]
     },
     "execution_count": 55,
     "metadata": {},
     "output_type": "execute_result"
    }
   ],
   "source": [
    "import numpy as np\n",
    "import pandas as pd\n",
    "\n",
    "# data from James' sims\n",
    "data = [[45, 223,   90,   48,  8.6,   78, 29.5,    89, 35.5, 0.33],\n",
    "        [46, 233, 93.6, 50.3,    9, 94.4, 30.5,    96,   35, 0.32],\n",
    "        [47, 229, 92.5, 49.8,  8.8,   93, 28.7,  95.5, 38.5, 0.30],\n",
    "        [48, 257, 95.5, 56.8,  9.9,  108,   30,  99.3, 40.3, 0.36],\n",
    "        [49, 268, 95.8, 59.5, 10.1,  114, 28.4,   102,   41, 0.37],\n",
    "        [50, 285,  100, 65.8, 10.9,  120,   30, 108.5, 43.5, 0.37]]\n",
    "aero_df = pd.DataFrame(data)\n",
    "aero_df.columns = [\"track_width\", \"downforce\", \"drag\", \"fw_downforce\", \"fw_drag\", \"tray_downforce\", \"tray_drag\", \"rw_downforce\", \"rw_drag\", \"abal\"]\n",
    "aero_df.set_index(\"track_width\", inplace=True)\n",
    "\n",
    "# show the dataframe below\n",
    "aero_df"
   ]
  },
  {
   "cell_type": "markdown",
   "metadata": {},
   "source": [
    "### Create a regression\n",
    "only use 45 & 50 inch track widths, since we know it should \"in theory\" scale linearly and those are the most accurate sims."
   ]
  },
  {
   "cell_type": "code",
   "execution_count": 56,
   "metadata": {},
   "outputs": [],
   "source": [
    "# generate a polynomial and a function to predict y-values\n",
    "coefs = np.polyfit([45, 50], [aero_df[\"downforce\"][45], aero_df[\"downforce\"][50]], deg=1)\n",
    "downforce_function = np.poly1d(coefs)\n",
    "\n",
    "# now for drag\n",
    "coefs = np.polyfit([45, 50], [aero_df[\"drag\"][45], aero_df[\"drag\"][50]], deg=1)\n",
    "drag_function = np.poly1d(coefs)\n",
    "\n",
    "aero_df[\"pred_downforce\"] = downforce_function(aero_df.index)\n",
    "aero_df[\"pred_drag\"] = drag_function(aero_df.index)"
   ]
  },
  {
   "cell_type": "code",
   "execution_count": 57,
   "metadata": {},
   "outputs": [
    {
     "data": {
      "application/vnd.plotly.v1+json": {
       "config": {
        "plotlyServerURL": "https://plot.ly"
       },
       "data": [
        {
         "mode": "markers",
         "name": "CFD downforce",
         "type": "scattergl",
         "x": [
          45,
          46,
          47,
          48,
          49,
          50
         ],
         "xaxis": "x",
         "y": [
          223,
          233,
          229,
          257,
          268,
          285
         ],
         "yaxis": "y"
        },
        {
         "mode": "markers",
         "name": "CFD drag",
         "type": "scattergl",
         "x": [
          45,
          46,
          47,
          48,
          49,
          50
         ],
         "xaxis": "x2",
         "y": [
          90,
          93.6,
          92.5,
          95.5,
          95.8,
          100
         ],
         "yaxis": "y2"
        },
        {
         "mode": "lines",
         "name": "downforce regression",
         "type": "scattergl",
         "x": [
          45,
          46,
          47,
          48,
          49,
          50
         ],
         "xaxis": "x",
         "y": [
          222.99999999999994,
          235.39999999999992,
          247.7999999999999,
          260.1999999999999,
          272.59999999999985,
          284.99999999999994
         ],
         "yaxis": "y"
        },
        {
         "mode": "lines",
         "name": "drag regression",
         "type": "scattergl",
         "x": [
          45,
          46,
          47,
          48,
          49,
          50
         ],
         "xaxis": "x2",
         "y": [
          89.99999999999999,
          91.99999999999999,
          93.99999999999999,
          95.99999999999997,
          97.99999999999997,
          99.99999999999997
         ],
         "yaxis": "y2"
        }
       ],
       "layout": {
        "annotations": [
         {
          "font": {
           "size": 16
          },
          "showarrow": false,
          "text": "Downforce vs Track Width",
          "x": 0.225,
          "xanchor": "center",
          "xref": "paper",
          "y": 1,
          "yanchor": "bottom",
          "yref": "paper"
         },
         {
          "font": {
           "size": 16
          },
          "showarrow": false,
          "text": "Drag vs Track Width",
          "x": 0.775,
          "xanchor": "center",
          "xref": "paper",
          "y": 1,
          "yanchor": "bottom",
          "yref": "paper"
         }
        ],
        "template": {
         "data": {
          "bar": [
           {
            "error_x": {
             "color": "#2a3f5f"
            },
            "error_y": {
             "color": "#2a3f5f"
            },
            "marker": {
             "line": {
              "color": "#E5ECF6",
              "width": 0.5
             }
            },
            "type": "bar"
           }
          ],
          "barpolar": [
           {
            "marker": {
             "line": {
              "color": "#E5ECF6",
              "width": 0.5
             }
            },
            "type": "barpolar"
           }
          ],
          "carpet": [
           {
            "aaxis": {
             "endlinecolor": "#2a3f5f",
             "gridcolor": "white",
             "linecolor": "white",
             "minorgridcolor": "white",
             "startlinecolor": "#2a3f5f"
            },
            "baxis": {
             "endlinecolor": "#2a3f5f",
             "gridcolor": "white",
             "linecolor": "white",
             "minorgridcolor": "white",
             "startlinecolor": "#2a3f5f"
            },
            "type": "carpet"
           }
          ],
          "choropleth": [
           {
            "colorbar": {
             "outlinewidth": 0,
             "ticks": ""
            },
            "type": "choropleth"
           }
          ],
          "contour": [
           {
            "colorbar": {
             "outlinewidth": 0,
             "ticks": ""
            },
            "colorscale": [
             [
              0,
              "#0d0887"
             ],
             [
              0.1111111111111111,
              "#46039f"
             ],
             [
              0.2222222222222222,
              "#7201a8"
             ],
             [
              0.3333333333333333,
              "#9c179e"
             ],
             [
              0.4444444444444444,
              "#bd3786"
             ],
             [
              0.5555555555555556,
              "#d8576b"
             ],
             [
              0.6666666666666666,
              "#ed7953"
             ],
             [
              0.7777777777777778,
              "#fb9f3a"
             ],
             [
              0.8888888888888888,
              "#fdca26"
             ],
             [
              1,
              "#f0f921"
             ]
            ],
            "type": "contour"
           }
          ],
          "contourcarpet": [
           {
            "colorbar": {
             "outlinewidth": 0,
             "ticks": ""
            },
            "type": "contourcarpet"
           }
          ],
          "heatmap": [
           {
            "colorbar": {
             "outlinewidth": 0,
             "ticks": ""
            },
            "colorscale": [
             [
              0,
              "#0d0887"
             ],
             [
              0.1111111111111111,
              "#46039f"
             ],
             [
              0.2222222222222222,
              "#7201a8"
             ],
             [
              0.3333333333333333,
              "#9c179e"
             ],
             [
              0.4444444444444444,
              "#bd3786"
             ],
             [
              0.5555555555555556,
              "#d8576b"
             ],
             [
              0.6666666666666666,
              "#ed7953"
             ],
             [
              0.7777777777777778,
              "#fb9f3a"
             ],
             [
              0.8888888888888888,
              "#fdca26"
             ],
             [
              1,
              "#f0f921"
             ]
            ],
            "type": "heatmap"
           }
          ],
          "heatmapgl": [
           {
            "colorbar": {
             "outlinewidth": 0,
             "ticks": ""
            },
            "colorscale": [
             [
              0,
              "#0d0887"
             ],
             [
              0.1111111111111111,
              "#46039f"
             ],
             [
              0.2222222222222222,
              "#7201a8"
             ],
             [
              0.3333333333333333,
              "#9c179e"
             ],
             [
              0.4444444444444444,
              "#bd3786"
             ],
             [
              0.5555555555555556,
              "#d8576b"
             ],
             [
              0.6666666666666666,
              "#ed7953"
             ],
             [
              0.7777777777777778,
              "#fb9f3a"
             ],
             [
              0.8888888888888888,
              "#fdca26"
             ],
             [
              1,
              "#f0f921"
             ]
            ],
            "type": "heatmapgl"
           }
          ],
          "histogram": [
           {
            "marker": {
             "colorbar": {
              "outlinewidth": 0,
              "ticks": ""
             }
            },
            "type": "histogram"
           }
          ],
          "histogram2d": [
           {
            "colorbar": {
             "outlinewidth": 0,
             "ticks": ""
            },
            "colorscale": [
             [
              0,
              "#0d0887"
             ],
             [
              0.1111111111111111,
              "#46039f"
             ],
             [
              0.2222222222222222,
              "#7201a8"
             ],
             [
              0.3333333333333333,
              "#9c179e"
             ],
             [
              0.4444444444444444,
              "#bd3786"
             ],
             [
              0.5555555555555556,
              "#d8576b"
             ],
             [
              0.6666666666666666,
              "#ed7953"
             ],
             [
              0.7777777777777778,
              "#fb9f3a"
             ],
             [
              0.8888888888888888,
              "#fdca26"
             ],
             [
              1,
              "#f0f921"
             ]
            ],
            "type": "histogram2d"
           }
          ],
          "histogram2dcontour": [
           {
            "colorbar": {
             "outlinewidth": 0,
             "ticks": ""
            },
            "colorscale": [
             [
              0,
              "#0d0887"
             ],
             [
              0.1111111111111111,
              "#46039f"
             ],
             [
              0.2222222222222222,
              "#7201a8"
             ],
             [
              0.3333333333333333,
              "#9c179e"
             ],
             [
              0.4444444444444444,
              "#bd3786"
             ],
             [
              0.5555555555555556,
              "#d8576b"
             ],
             [
              0.6666666666666666,
              "#ed7953"
             ],
             [
              0.7777777777777778,
              "#fb9f3a"
             ],
             [
              0.8888888888888888,
              "#fdca26"
             ],
             [
              1,
              "#f0f921"
             ]
            ],
            "type": "histogram2dcontour"
           }
          ],
          "mesh3d": [
           {
            "colorbar": {
             "outlinewidth": 0,
             "ticks": ""
            },
            "type": "mesh3d"
           }
          ],
          "parcoords": [
           {
            "line": {
             "colorbar": {
              "outlinewidth": 0,
              "ticks": ""
             }
            },
            "type": "parcoords"
           }
          ],
          "pie": [
           {
            "automargin": true,
            "type": "pie"
           }
          ],
          "scatter": [
           {
            "marker": {
             "colorbar": {
              "outlinewidth": 0,
              "ticks": ""
             }
            },
            "type": "scatter"
           }
          ],
          "scatter3d": [
           {
            "line": {
             "colorbar": {
              "outlinewidth": 0,
              "ticks": ""
             }
            },
            "marker": {
             "colorbar": {
              "outlinewidth": 0,
              "ticks": ""
             }
            },
            "type": "scatter3d"
           }
          ],
          "scattercarpet": [
           {
            "marker": {
             "colorbar": {
              "outlinewidth": 0,
              "ticks": ""
             }
            },
            "type": "scattercarpet"
           }
          ],
          "scattergeo": [
           {
            "marker": {
             "colorbar": {
              "outlinewidth": 0,
              "ticks": ""
             }
            },
            "type": "scattergeo"
           }
          ],
          "scattergl": [
           {
            "marker": {
             "colorbar": {
              "outlinewidth": 0,
              "ticks": ""
             }
            },
            "type": "scattergl"
           }
          ],
          "scattermapbox": [
           {
            "marker": {
             "colorbar": {
              "outlinewidth": 0,
              "ticks": ""
             }
            },
            "type": "scattermapbox"
           }
          ],
          "scatterpolar": [
           {
            "marker": {
             "colorbar": {
              "outlinewidth": 0,
              "ticks": ""
             }
            },
            "type": "scatterpolar"
           }
          ],
          "scatterpolargl": [
           {
            "marker": {
             "colorbar": {
              "outlinewidth": 0,
              "ticks": ""
             }
            },
            "type": "scatterpolargl"
           }
          ],
          "scatterternary": [
           {
            "marker": {
             "colorbar": {
              "outlinewidth": 0,
              "ticks": ""
             }
            },
            "type": "scatterternary"
           }
          ],
          "surface": [
           {
            "colorbar": {
             "outlinewidth": 0,
             "ticks": ""
            },
            "colorscale": [
             [
              0,
              "#0d0887"
             ],
             [
              0.1111111111111111,
              "#46039f"
             ],
             [
              0.2222222222222222,
              "#7201a8"
             ],
             [
              0.3333333333333333,
              "#9c179e"
             ],
             [
              0.4444444444444444,
              "#bd3786"
             ],
             [
              0.5555555555555556,
              "#d8576b"
             ],
             [
              0.6666666666666666,
              "#ed7953"
             ],
             [
              0.7777777777777778,
              "#fb9f3a"
             ],
             [
              0.8888888888888888,
              "#fdca26"
             ],
             [
              1,
              "#f0f921"
             ]
            ],
            "type": "surface"
           }
          ],
          "table": [
           {
            "cells": {
             "fill": {
              "color": "#EBF0F8"
             },
             "line": {
              "color": "white"
             }
            },
            "header": {
             "fill": {
              "color": "#C8D4E3"
             },
             "line": {
              "color": "white"
             }
            },
            "type": "table"
           }
          ]
         },
         "layout": {
          "annotationdefaults": {
           "arrowcolor": "#2a3f5f",
           "arrowhead": 0,
           "arrowwidth": 1
          },
          "coloraxis": {
           "colorbar": {
            "outlinewidth": 0,
            "ticks": ""
           }
          },
          "colorscale": {
           "diverging": [
            [
             0,
             "#8e0152"
            ],
            [
             0.1,
             "#c51b7d"
            ],
            [
             0.2,
             "#de77ae"
            ],
            [
             0.3,
             "#f1b6da"
            ],
            [
             0.4,
             "#fde0ef"
            ],
            [
             0.5,
             "#f7f7f7"
            ],
            [
             0.6,
             "#e6f5d0"
            ],
            [
             0.7,
             "#b8e186"
            ],
            [
             0.8,
             "#7fbc41"
            ],
            [
             0.9,
             "#4d9221"
            ],
            [
             1,
             "#276419"
            ]
           ],
           "sequential": [
            [
             0,
             "#0d0887"
            ],
            [
             0.1111111111111111,
             "#46039f"
            ],
            [
             0.2222222222222222,
             "#7201a8"
            ],
            [
             0.3333333333333333,
             "#9c179e"
            ],
            [
             0.4444444444444444,
             "#bd3786"
            ],
            [
             0.5555555555555556,
             "#d8576b"
            ],
            [
             0.6666666666666666,
             "#ed7953"
            ],
            [
             0.7777777777777778,
             "#fb9f3a"
            ],
            [
             0.8888888888888888,
             "#fdca26"
            ],
            [
             1,
             "#f0f921"
            ]
           ],
           "sequentialminus": [
            [
             0,
             "#0d0887"
            ],
            [
             0.1111111111111111,
             "#46039f"
            ],
            [
             0.2222222222222222,
             "#7201a8"
            ],
            [
             0.3333333333333333,
             "#9c179e"
            ],
            [
             0.4444444444444444,
             "#bd3786"
            ],
            [
             0.5555555555555556,
             "#d8576b"
            ],
            [
             0.6666666666666666,
             "#ed7953"
            ],
            [
             0.7777777777777778,
             "#fb9f3a"
            ],
            [
             0.8888888888888888,
             "#fdca26"
            ],
            [
             1,
             "#f0f921"
            ]
           ]
          },
          "colorway": [
           "#636efa",
           "#EF553B",
           "#00cc96",
           "#ab63fa",
           "#FFA15A",
           "#19d3f3",
           "#FF6692",
           "#B6E880",
           "#FF97FF",
           "#FECB52"
          ],
          "font": {
           "color": "#2a3f5f"
          },
          "geo": {
           "bgcolor": "white",
           "lakecolor": "white",
           "landcolor": "#E5ECF6",
           "showlakes": true,
           "showland": true,
           "subunitcolor": "white"
          },
          "hoverlabel": {
           "align": "left"
          },
          "hovermode": "closest",
          "mapbox": {
           "style": "light"
          },
          "paper_bgcolor": "white",
          "plot_bgcolor": "#E5ECF6",
          "polar": {
           "angularaxis": {
            "gridcolor": "white",
            "linecolor": "white",
            "ticks": ""
           },
           "bgcolor": "#E5ECF6",
           "radialaxis": {
            "gridcolor": "white",
            "linecolor": "white",
            "ticks": ""
           }
          },
          "scene": {
           "xaxis": {
            "backgroundcolor": "#E5ECF6",
            "gridcolor": "white",
            "gridwidth": 2,
            "linecolor": "white",
            "showbackground": true,
            "ticks": "",
            "zerolinecolor": "white"
           },
           "yaxis": {
            "backgroundcolor": "#E5ECF6",
            "gridcolor": "white",
            "gridwidth": 2,
            "linecolor": "white",
            "showbackground": true,
            "ticks": "",
            "zerolinecolor": "white"
           },
           "zaxis": {
            "backgroundcolor": "#E5ECF6",
            "gridcolor": "white",
            "gridwidth": 2,
            "linecolor": "white",
            "showbackground": true,
            "ticks": "",
            "zerolinecolor": "white"
           }
          },
          "shapedefaults": {
           "line": {
            "color": "#2a3f5f"
           }
          },
          "ternary": {
           "aaxis": {
            "gridcolor": "white",
            "linecolor": "white",
            "ticks": ""
           },
           "baxis": {
            "gridcolor": "white",
            "linecolor": "white",
            "ticks": ""
           },
           "bgcolor": "#E5ECF6",
           "caxis": {
            "gridcolor": "white",
            "linecolor": "white",
            "ticks": ""
           }
          },
          "title": {
           "x": 0.05
          },
          "xaxis": {
           "automargin": true,
           "gridcolor": "white",
           "linecolor": "white",
           "ticks": "",
           "title": {
            "standoff": 15
           },
           "zerolinecolor": "white",
           "zerolinewidth": 2
          },
          "yaxis": {
           "automargin": true,
           "gridcolor": "white",
           "linecolor": "white",
           "ticks": "",
           "title": {
            "standoff": 15
           },
           "zerolinecolor": "white",
           "zerolinewidth": 2
          }
         }
        },
        "xaxis": {
         "anchor": "y",
         "domain": [
          0,
          0.45
         ],
         "title": {
          "text": "Track Width"
         }
        },
        "xaxis2": {
         "anchor": "y2",
         "domain": [
          0.55,
          1
         ],
         "title": {
          "text": "Track Width"
         }
        },
        "yaxis": {
         "anchor": "x",
         "domain": [
          0,
          1
         ],
         "title": {
          "text": "Downforce (lbs)"
         }
        },
        "yaxis2": {
         "anchor": "x2",
         "domain": [
          0,
          1
         ],
         "title": {
          "text": "Drag (lbs)"
         }
        }
       }
      },
      "text/html": [
       "<div>\n",
       "        \n",
       "        \n",
       "            <div id=\"f5e46d9b-b7c3-430f-82a7-9da1ffd1ac3f\" class=\"plotly-graph-div\" style=\"height:525px; width:100%;\"></div>\n",
       "            <script type=\"text/javascript\">\n",
       "                require([\"plotly\"], function(Plotly) {\n",
       "                    window.PLOTLYENV=window.PLOTLYENV || {};\n",
       "                    \n",
       "                if (document.getElementById(\"f5e46d9b-b7c3-430f-82a7-9da1ffd1ac3f\")) {\n",
       "                    Plotly.newPlot(\n",
       "                        'f5e46d9b-b7c3-430f-82a7-9da1ffd1ac3f',\n",
       "                        [{\"mode\": \"markers\", \"name\": \"CFD downforce\", \"type\": \"scattergl\", \"x\": [45, 46, 47, 48, 49, 50], \"xaxis\": \"x\", \"y\": [223, 233, 229, 257, 268, 285], \"yaxis\": \"y\"}, {\"mode\": \"markers\", \"name\": \"CFD drag\", \"type\": \"scattergl\", \"x\": [45, 46, 47, 48, 49, 50], \"xaxis\": \"x2\", \"y\": [90.0, 93.6, 92.5, 95.5, 95.8, 100.0], \"yaxis\": \"y2\"}, {\"mode\": \"lines\", \"name\": \"downforce regression\", \"type\": \"scattergl\", \"x\": [45, 46, 47, 48, 49, 50], \"xaxis\": \"x\", \"y\": [222.99999999999994, 235.39999999999992, 247.7999999999999, 260.1999999999999, 272.59999999999985, 284.99999999999994], \"yaxis\": \"y\"}, {\"mode\": \"lines\", \"name\": \"drag regression\", \"type\": \"scattergl\", \"x\": [45, 46, 47, 48, 49, 50], \"xaxis\": \"x2\", \"y\": [89.99999999999999, 91.99999999999999, 93.99999999999999, 95.99999999999997, 97.99999999999997, 99.99999999999997], \"yaxis\": \"y2\"}],\n",
       "                        {\"annotations\": [{\"font\": {\"size\": 16}, \"showarrow\": false, \"text\": \"Downforce vs Track Width\", \"x\": 0.225, \"xanchor\": \"center\", \"xref\": \"paper\", \"y\": 1.0, \"yanchor\": \"bottom\", \"yref\": \"paper\"}, {\"font\": {\"size\": 16}, \"showarrow\": false, \"text\": \"Drag vs Track Width\", \"x\": 0.775, \"xanchor\": \"center\", \"xref\": \"paper\", \"y\": 1.0, \"yanchor\": \"bottom\", \"yref\": \"paper\"}], \"template\": {\"data\": {\"bar\": [{\"error_x\": {\"color\": \"#2a3f5f\"}, \"error_y\": {\"color\": \"#2a3f5f\"}, \"marker\": {\"line\": {\"color\": \"#E5ECF6\", \"width\": 0.5}}, \"type\": \"bar\"}], \"barpolar\": [{\"marker\": {\"line\": {\"color\": \"#E5ECF6\", \"width\": 0.5}}, \"type\": \"barpolar\"}], \"carpet\": [{\"aaxis\": {\"endlinecolor\": \"#2a3f5f\", \"gridcolor\": \"white\", \"linecolor\": \"white\", \"minorgridcolor\": \"white\", \"startlinecolor\": \"#2a3f5f\"}, \"baxis\": {\"endlinecolor\": \"#2a3f5f\", \"gridcolor\": \"white\", \"linecolor\": \"white\", \"minorgridcolor\": \"white\", \"startlinecolor\": \"#2a3f5f\"}, \"type\": \"carpet\"}], \"choropleth\": [{\"colorbar\": {\"outlinewidth\": 0, \"ticks\": \"\"}, \"type\": \"choropleth\"}], \"contour\": [{\"colorbar\": {\"outlinewidth\": 0, \"ticks\": \"\"}, \"colorscale\": [[0.0, \"#0d0887\"], [0.1111111111111111, \"#46039f\"], [0.2222222222222222, \"#7201a8\"], [0.3333333333333333, \"#9c179e\"], [0.4444444444444444, \"#bd3786\"], [0.5555555555555556, \"#d8576b\"], [0.6666666666666666, \"#ed7953\"], [0.7777777777777778, \"#fb9f3a\"], [0.8888888888888888, \"#fdca26\"], [1.0, \"#f0f921\"]], \"type\": \"contour\"}], \"contourcarpet\": [{\"colorbar\": {\"outlinewidth\": 0, \"ticks\": \"\"}, \"type\": \"contourcarpet\"}], \"heatmap\": [{\"colorbar\": {\"outlinewidth\": 0, \"ticks\": \"\"}, \"colorscale\": [[0.0, \"#0d0887\"], [0.1111111111111111, \"#46039f\"], [0.2222222222222222, \"#7201a8\"], [0.3333333333333333, \"#9c179e\"], [0.4444444444444444, \"#bd3786\"], [0.5555555555555556, \"#d8576b\"], [0.6666666666666666, \"#ed7953\"], [0.7777777777777778, \"#fb9f3a\"], [0.8888888888888888, \"#fdca26\"], [1.0, \"#f0f921\"]], \"type\": \"heatmap\"}], \"heatmapgl\": [{\"colorbar\": {\"outlinewidth\": 0, \"ticks\": \"\"}, \"colorscale\": [[0.0, \"#0d0887\"], [0.1111111111111111, \"#46039f\"], [0.2222222222222222, \"#7201a8\"], [0.3333333333333333, \"#9c179e\"], [0.4444444444444444, \"#bd3786\"], [0.5555555555555556, \"#d8576b\"], [0.6666666666666666, \"#ed7953\"], [0.7777777777777778, \"#fb9f3a\"], [0.8888888888888888, \"#fdca26\"], [1.0, \"#f0f921\"]], \"type\": \"heatmapgl\"}], \"histogram\": [{\"marker\": {\"colorbar\": {\"outlinewidth\": 0, \"ticks\": \"\"}}, \"type\": \"histogram\"}], \"histogram2d\": [{\"colorbar\": {\"outlinewidth\": 0, \"ticks\": \"\"}, \"colorscale\": [[0.0, \"#0d0887\"], [0.1111111111111111, \"#46039f\"], [0.2222222222222222, \"#7201a8\"], [0.3333333333333333, \"#9c179e\"], [0.4444444444444444, \"#bd3786\"], [0.5555555555555556, \"#d8576b\"], [0.6666666666666666, \"#ed7953\"], [0.7777777777777778, \"#fb9f3a\"], [0.8888888888888888, \"#fdca26\"], [1.0, \"#f0f921\"]], \"type\": \"histogram2d\"}], \"histogram2dcontour\": [{\"colorbar\": {\"outlinewidth\": 0, \"ticks\": \"\"}, \"colorscale\": [[0.0, \"#0d0887\"], [0.1111111111111111, \"#46039f\"], [0.2222222222222222, \"#7201a8\"], [0.3333333333333333, \"#9c179e\"], [0.4444444444444444, \"#bd3786\"], [0.5555555555555556, \"#d8576b\"], [0.6666666666666666, \"#ed7953\"], [0.7777777777777778, \"#fb9f3a\"], [0.8888888888888888, \"#fdca26\"], [1.0, \"#f0f921\"]], \"type\": \"histogram2dcontour\"}], \"mesh3d\": [{\"colorbar\": {\"outlinewidth\": 0, \"ticks\": \"\"}, \"type\": \"mesh3d\"}], \"parcoords\": [{\"line\": {\"colorbar\": {\"outlinewidth\": 0, \"ticks\": \"\"}}, \"type\": \"parcoords\"}], \"pie\": [{\"automargin\": true, \"type\": \"pie\"}], \"scatter\": [{\"marker\": {\"colorbar\": {\"outlinewidth\": 0, \"ticks\": \"\"}}, \"type\": \"scatter\"}], \"scatter3d\": [{\"line\": {\"colorbar\": {\"outlinewidth\": 0, \"ticks\": \"\"}}, \"marker\": {\"colorbar\": {\"outlinewidth\": 0, \"ticks\": \"\"}}, \"type\": \"scatter3d\"}], \"scattercarpet\": [{\"marker\": {\"colorbar\": {\"outlinewidth\": 0, \"ticks\": \"\"}}, \"type\": \"scattercarpet\"}], \"scattergeo\": [{\"marker\": {\"colorbar\": {\"outlinewidth\": 0, \"ticks\": \"\"}}, \"type\": \"scattergeo\"}], \"scattergl\": [{\"marker\": {\"colorbar\": {\"outlinewidth\": 0, \"ticks\": \"\"}}, \"type\": \"scattergl\"}], \"scattermapbox\": [{\"marker\": {\"colorbar\": {\"outlinewidth\": 0, \"ticks\": \"\"}}, \"type\": \"scattermapbox\"}], \"scatterpolar\": [{\"marker\": {\"colorbar\": {\"outlinewidth\": 0, \"ticks\": \"\"}}, \"type\": \"scatterpolar\"}], \"scatterpolargl\": [{\"marker\": {\"colorbar\": {\"outlinewidth\": 0, \"ticks\": \"\"}}, \"type\": \"scatterpolargl\"}], \"scatterternary\": [{\"marker\": {\"colorbar\": {\"outlinewidth\": 0, \"ticks\": \"\"}}, \"type\": \"scatterternary\"}], \"surface\": [{\"colorbar\": {\"outlinewidth\": 0, \"ticks\": \"\"}, \"colorscale\": [[0.0, \"#0d0887\"], [0.1111111111111111, \"#46039f\"], [0.2222222222222222, \"#7201a8\"], [0.3333333333333333, \"#9c179e\"], [0.4444444444444444, \"#bd3786\"], [0.5555555555555556, \"#d8576b\"], [0.6666666666666666, \"#ed7953\"], [0.7777777777777778, \"#fb9f3a\"], [0.8888888888888888, \"#fdca26\"], [1.0, \"#f0f921\"]], \"type\": \"surface\"}], \"table\": [{\"cells\": {\"fill\": {\"color\": \"#EBF0F8\"}, \"line\": {\"color\": \"white\"}}, \"header\": {\"fill\": {\"color\": \"#C8D4E3\"}, \"line\": {\"color\": \"white\"}}, \"type\": \"table\"}]}, \"layout\": {\"annotationdefaults\": {\"arrowcolor\": \"#2a3f5f\", \"arrowhead\": 0, \"arrowwidth\": 1}, \"coloraxis\": {\"colorbar\": {\"outlinewidth\": 0, \"ticks\": \"\"}}, \"colorscale\": {\"diverging\": [[0, \"#8e0152\"], [0.1, \"#c51b7d\"], [0.2, \"#de77ae\"], [0.3, \"#f1b6da\"], [0.4, \"#fde0ef\"], [0.5, \"#f7f7f7\"], [0.6, \"#e6f5d0\"], [0.7, \"#b8e186\"], [0.8, \"#7fbc41\"], [0.9, \"#4d9221\"], [1, \"#276419\"]], \"sequential\": [[0.0, \"#0d0887\"], [0.1111111111111111, \"#46039f\"], [0.2222222222222222, \"#7201a8\"], [0.3333333333333333, \"#9c179e\"], [0.4444444444444444, \"#bd3786\"], [0.5555555555555556, \"#d8576b\"], [0.6666666666666666, \"#ed7953\"], [0.7777777777777778, \"#fb9f3a\"], [0.8888888888888888, \"#fdca26\"], [1.0, \"#f0f921\"]], \"sequentialminus\": [[0.0, \"#0d0887\"], [0.1111111111111111, \"#46039f\"], [0.2222222222222222, \"#7201a8\"], [0.3333333333333333, \"#9c179e\"], [0.4444444444444444, \"#bd3786\"], [0.5555555555555556, \"#d8576b\"], [0.6666666666666666, \"#ed7953\"], [0.7777777777777778, \"#fb9f3a\"], [0.8888888888888888, \"#fdca26\"], [1.0, \"#f0f921\"]]}, \"colorway\": [\"#636efa\", \"#EF553B\", \"#00cc96\", \"#ab63fa\", \"#FFA15A\", \"#19d3f3\", \"#FF6692\", \"#B6E880\", \"#FF97FF\", \"#FECB52\"], \"font\": {\"color\": \"#2a3f5f\"}, \"geo\": {\"bgcolor\": \"white\", \"lakecolor\": \"white\", \"landcolor\": \"#E5ECF6\", \"showlakes\": true, \"showland\": true, \"subunitcolor\": \"white\"}, \"hoverlabel\": {\"align\": \"left\"}, \"hovermode\": \"closest\", \"mapbox\": {\"style\": \"light\"}, \"paper_bgcolor\": \"white\", \"plot_bgcolor\": \"#E5ECF6\", \"polar\": {\"angularaxis\": {\"gridcolor\": \"white\", \"linecolor\": \"white\", \"ticks\": \"\"}, \"bgcolor\": \"#E5ECF6\", \"radialaxis\": {\"gridcolor\": \"white\", \"linecolor\": \"white\", \"ticks\": \"\"}}, \"scene\": {\"xaxis\": {\"backgroundcolor\": \"#E5ECF6\", \"gridcolor\": \"white\", \"gridwidth\": 2, \"linecolor\": \"white\", \"showbackground\": true, \"ticks\": \"\", \"zerolinecolor\": \"white\"}, \"yaxis\": {\"backgroundcolor\": \"#E5ECF6\", \"gridcolor\": \"white\", \"gridwidth\": 2, \"linecolor\": \"white\", \"showbackground\": true, \"ticks\": \"\", \"zerolinecolor\": \"white\"}, \"zaxis\": {\"backgroundcolor\": \"#E5ECF6\", \"gridcolor\": \"white\", \"gridwidth\": 2, \"linecolor\": \"white\", \"showbackground\": true, \"ticks\": \"\", \"zerolinecolor\": \"white\"}}, \"shapedefaults\": {\"line\": {\"color\": \"#2a3f5f\"}}, \"ternary\": {\"aaxis\": {\"gridcolor\": \"white\", \"linecolor\": \"white\", \"ticks\": \"\"}, \"baxis\": {\"gridcolor\": \"white\", \"linecolor\": \"white\", \"ticks\": \"\"}, \"bgcolor\": \"#E5ECF6\", \"caxis\": {\"gridcolor\": \"white\", \"linecolor\": \"white\", \"ticks\": \"\"}}, \"title\": {\"x\": 0.05}, \"xaxis\": {\"automargin\": true, \"gridcolor\": \"white\", \"linecolor\": \"white\", \"ticks\": \"\", \"title\": {\"standoff\": 15}, \"zerolinecolor\": \"white\", \"zerolinewidth\": 2}, \"yaxis\": {\"automargin\": true, \"gridcolor\": \"white\", \"linecolor\": \"white\", \"ticks\": \"\", \"title\": {\"standoff\": 15}, \"zerolinecolor\": \"white\", \"zerolinewidth\": 2}}}, \"xaxis\": {\"anchor\": \"y\", \"domain\": [0.0, 0.45], \"title\": {\"text\": \"Track Width\"}}, \"xaxis2\": {\"anchor\": \"y2\", \"domain\": [0.55, 1.0], \"title\": {\"text\": \"Track Width\"}}, \"yaxis\": {\"anchor\": \"x\", \"domain\": [0.0, 1.0], \"title\": {\"text\": \"Downforce (lbs)\"}}, \"yaxis2\": {\"anchor\": \"x2\", \"domain\": [0.0, 1.0], \"title\": {\"text\": \"Drag (lbs)\"}}},\n",
       "                        {\"responsive\": true}\n",
       "                    ).then(function(){\n",
       "                            \n",
       "var gd = document.getElementById('f5e46d9b-b7c3-430f-82a7-9da1ffd1ac3f');\n",
       "var x = new MutationObserver(function (mutations, observer) {{\n",
       "        var display = window.getComputedStyle(gd).display;\n",
       "        if (!display || display === 'none') {{\n",
       "            console.log([gd, 'removed!']);\n",
       "            Plotly.purge(gd);\n",
       "            observer.disconnect();\n",
       "        }}\n",
       "}});\n",
       "\n",
       "// Listen for the removal of the full notebook cells\n",
       "var notebookContainer = gd.closest('#notebook-container');\n",
       "if (notebookContainer) {{\n",
       "    x.observe(notebookContainer, {childList: true});\n",
       "}}\n",
       "\n",
       "// Listen for the clearing of the current output cell\n",
       "var outputEl = gd.closest('.output');\n",
       "if (outputEl) {{\n",
       "    x.observe(outputEl, {childList: true});\n",
       "}}\n",
       "\n",
       "                        })\n",
       "                };\n",
       "                });\n",
       "            </script>\n",
       "        </div>"
      ]
     },
     "metadata": {},
     "output_type": "display_data"
    }
   ],
   "source": [
    "import plotly.graph_objects as go\n",
    "from plotly.subplots import make_subplots\n",
    "\n",
    "# create subplots objects\n",
    "fig = make_subplots(rows=1, cols=2, subplot_titles=(\"Downforce vs Track Width\", \"Drag vs Track Width\"))\n",
    "\n",
    "# create the scatter traces to add\n",
    "downforce_trace = go.Scattergl(x=aero_df.index, y=aero_df[\"downforce\"], mode='markers', name=\"CFD downforce\")\n",
    "drag_trace = go.Scattergl(x=aero_df.index, y=aero_df[\"drag\"], mode='markers', name=\"CFD drag\")\n",
    "\n",
    "# create the line traces to add\n",
    "pred_downforce_trace = go.Scattergl(x=aero_df.index, y=aero_df[\"pred_downforce\"], mode='lines', name=\"downforce regression\")\n",
    "pred_drag_trace = go.Scattergl(x=aero_df.index, y=aero_df[\"pred_drag\"], mode='lines', name=\"drag regression\")\n",
    "\n",
    "# add the traces to the subplots\n",
    "fig.add_trace(downforce_trace, row=1, col=1)\n",
    "fig.add_trace(drag_trace, row=1, col=2)\n",
    "fig.add_trace(pred_downforce_trace, row=1, col=1)\n",
    "fig.add_trace(pred_drag_trace, row=1, col=2)\n",
    "\n",
    "# additional formatting\n",
    "fig.update_xaxes(title_text=\"Track Width\", row=1, col=1)\n",
    "fig.update_xaxes(title_text=\"Track Width\", row=1, col=2)\n",
    "fig.update_yaxes(title_text=\"Downforce (lbs)\", row=1, col=1)\n",
    "fig.update_yaxes(title_text=\"Drag (lbs)\", row=1, col=2)\n",
    "\n",
    "fig.show()"
   ]
  },
  {
   "cell_type": "code",
   "execution_count": 58,
   "metadata": {
    "scrolled": true
   },
   "outputs": [
    {
     "data": {
      "text/html": [
       "<div>\n",
       "<style scoped>\n",
       "    .dataframe tbody tr th:only-of-type {\n",
       "        vertical-align: middle;\n",
       "    }\n",
       "\n",
       "    .dataframe tbody tr th {\n",
       "        vertical-align: top;\n",
       "    }\n",
       "\n",
       "    .dataframe thead th {\n",
       "        text-align: right;\n",
       "    }\n",
       "</style>\n",
       "<table border=\"1\" class=\"dataframe\">\n",
       "  <thead>\n",
       "    <tr style=\"text-align: right;\">\n",
       "      <th></th>\n",
       "      <th>downforce</th>\n",
       "      <th>drag</th>\n",
       "      <th>fw_downforce</th>\n",
       "      <th>fw_drag</th>\n",
       "      <th>tray_downforce</th>\n",
       "      <th>tray_drag</th>\n",
       "      <th>rw_downforce</th>\n",
       "      <th>rw_drag</th>\n",
       "      <th>abal</th>\n",
       "      <th>pred_downforce</th>\n",
       "      <th>pred_drag</th>\n",
       "      <th>downforce_scale</th>\n",
       "      <th>drag_scale</th>\n",
       "    </tr>\n",
       "    <tr>\n",
       "      <th>track_width</th>\n",
       "      <th></th>\n",
       "      <th></th>\n",
       "      <th></th>\n",
       "      <th></th>\n",
       "      <th></th>\n",
       "      <th></th>\n",
       "      <th></th>\n",
       "      <th></th>\n",
       "      <th></th>\n",
       "      <th></th>\n",
       "      <th></th>\n",
       "      <th></th>\n",
       "      <th></th>\n",
       "    </tr>\n",
       "  </thead>\n",
       "  <tbody>\n",
       "    <tr>\n",
       "      <th>45</th>\n",
       "      <td>223</td>\n",
       "      <td>90.0</td>\n",
       "      <td>48.0</td>\n",
       "      <td>8.6</td>\n",
       "      <td>78.0</td>\n",
       "      <td>29.5</td>\n",
       "      <td>89.0</td>\n",
       "      <td>35.5</td>\n",
       "      <td>0.33</td>\n",
       "      <td>223.0</td>\n",
       "      <td>90.0</td>\n",
       "      <td>0.782456</td>\n",
       "      <td>0.900</td>\n",
       "    </tr>\n",
       "    <tr>\n",
       "      <th>46</th>\n",
       "      <td>233</td>\n",
       "      <td>93.6</td>\n",
       "      <td>50.3</td>\n",
       "      <td>9.0</td>\n",
       "      <td>94.4</td>\n",
       "      <td>30.5</td>\n",
       "      <td>96.0</td>\n",
       "      <td>35.0</td>\n",
       "      <td>0.32</td>\n",
       "      <td>235.4</td>\n",
       "      <td>92.0</td>\n",
       "      <td>0.817544</td>\n",
       "      <td>0.936</td>\n",
       "    </tr>\n",
       "    <tr>\n",
       "      <th>47</th>\n",
       "      <td>229</td>\n",
       "      <td>92.5</td>\n",
       "      <td>49.8</td>\n",
       "      <td>8.8</td>\n",
       "      <td>93.0</td>\n",
       "      <td>28.7</td>\n",
       "      <td>95.5</td>\n",
       "      <td>38.5</td>\n",
       "      <td>0.30</td>\n",
       "      <td>247.8</td>\n",
       "      <td>94.0</td>\n",
       "      <td>0.803509</td>\n",
       "      <td>0.925</td>\n",
       "    </tr>\n",
       "    <tr>\n",
       "      <th>48</th>\n",
       "      <td>257</td>\n",
       "      <td>95.5</td>\n",
       "      <td>56.8</td>\n",
       "      <td>9.9</td>\n",
       "      <td>108.0</td>\n",
       "      <td>30.0</td>\n",
       "      <td>99.3</td>\n",
       "      <td>40.3</td>\n",
       "      <td>0.36</td>\n",
       "      <td>260.2</td>\n",
       "      <td>96.0</td>\n",
       "      <td>0.901754</td>\n",
       "      <td>0.955</td>\n",
       "    </tr>\n",
       "    <tr>\n",
       "      <th>49</th>\n",
       "      <td>268</td>\n",
       "      <td>95.8</td>\n",
       "      <td>59.5</td>\n",
       "      <td>10.1</td>\n",
       "      <td>114.0</td>\n",
       "      <td>28.4</td>\n",
       "      <td>102.0</td>\n",
       "      <td>41.0</td>\n",
       "      <td>0.37</td>\n",
       "      <td>272.6</td>\n",
       "      <td>98.0</td>\n",
       "      <td>0.940351</td>\n",
       "      <td>0.958</td>\n",
       "    </tr>\n",
       "    <tr>\n",
       "      <th>50</th>\n",
       "      <td>285</td>\n",
       "      <td>100.0</td>\n",
       "      <td>65.8</td>\n",
       "      <td>10.9</td>\n",
       "      <td>120.0</td>\n",
       "      <td>30.0</td>\n",
       "      <td>108.5</td>\n",
       "      <td>43.5</td>\n",
       "      <td>0.37</td>\n",
       "      <td>285.0</td>\n",
       "      <td>100.0</td>\n",
       "      <td>1.000000</td>\n",
       "      <td>1.000</td>\n",
       "    </tr>\n",
       "  </tbody>\n",
       "</table>\n",
       "</div>"
      ],
      "text/plain": [
       "             downforce   drag  fw_downforce  fw_drag  tray_downforce  \\\n",
       "track_width                                                            \n",
       "45                 223   90.0          48.0      8.6            78.0   \n",
       "46                 233   93.6          50.3      9.0            94.4   \n",
       "47                 229   92.5          49.8      8.8            93.0   \n",
       "48                 257   95.5          56.8      9.9           108.0   \n",
       "49                 268   95.8          59.5     10.1           114.0   \n",
       "50                 285  100.0          65.8     10.9           120.0   \n",
       "\n",
       "             tray_drag  rw_downforce  rw_drag  abal  pred_downforce  \\\n",
       "track_width                                                           \n",
       "45                29.5          89.0     35.5  0.33           223.0   \n",
       "46                30.5          96.0     35.0  0.32           235.4   \n",
       "47                28.7          95.5     38.5  0.30           247.8   \n",
       "48                30.0          99.3     40.3  0.36           260.2   \n",
       "49                28.4         102.0     41.0  0.37           272.6   \n",
       "50                30.0         108.5     43.5  0.37           285.0   \n",
       "\n",
       "             pred_drag  downforce_scale  drag_scale  \n",
       "track_width                                          \n",
       "45                90.0         0.782456       0.900  \n",
       "46                92.0         0.817544       0.936  \n",
       "47                94.0         0.803509       0.925  \n",
       "48                96.0         0.901754       0.955  \n",
       "49                98.0         0.940351       0.958  \n",
       "50               100.0         1.000000       1.000  "
      ]
     },
     "execution_count": 58,
     "metadata": {},
     "output_type": "execute_result"
    }
   ],
   "source": [
    "# create scale factors and a regression to generate them along the lines shown above\n",
    "aero_df[\"downforce_scale\"] = aero_df[\"downforce\"] / aero_df[\"downforce\"][50]\n",
    "aero_df[\"drag_scale\"]      = aero_df[\"drag\"]      / aero_df[\"drag\"][50]\n",
    "\n",
    "# generate regressions for the 49 & 50 inch TWs\n",
    "coefs = np.polyfit([45, 50], [aero_df[\"downforce_scale\"][45], aero_df[\"downforce_scale\"][50]], deg=1)\n",
    "downforce_scale_factor = np.poly1d(coefs)\n",
    "\n",
    "# now for drag\n",
    "coefs = np.polyfit([45, 50], [aero_df[\"drag_scale\"][45], aero_df[\"drag_scale\"][50]], deg=1)\n",
    "drag_scale_factor = np.poly1d(coefs)\n",
    "\n",
    "aero_df"
   ]
  },
  {
   "cell_type": "markdown",
   "metadata": {},
   "source": [
    "## Aero weight"
   ]
  },
  {
   "cell_type": "code",
   "execution_count": 59,
   "metadata": {},
   "outputs": [],
   "source": [
    "# stuff that miko calculated for track width\n",
    "tw = [50, 49, 48, 47, 46, 45]\n",
    "weight = [39.087, 38.721, 38, 37.423, 36.985, 36.551]\n",
    "\n",
    "# calculate a linear regression and take the rate of change\n",
    "coefs = np.polyfit(tw, weight, deg=1)\n",
    "tw_aero_lbs_per_inch = coefs[0]"
   ]
  },
  {
   "cell_type": "markdown",
   "metadata": {},
   "source": [
    "## Suspension weight\n",
    "\n",
    "This number is the weight/lateral-inch of the suspension a-arms and tie-rods. If the track width increases/decreases, this is where the bulk of the extra weight will be in terms of suspension components"
   ]
  },
  {
   "cell_type": "code",
   "execution_count": 60,
   "metadata": {},
   "outputs": [],
   "source": [
    "tw_sus_lbs_per_inch = 2 * .08 + 2 * 0.076  # 2*front + 2*rear"
   ]
  },
  {
   "cell_type": "markdown",
   "metadata": {},
   "source": [
    "## Chassis weight\n",
    "The increased weight from wheelbase will come primarily from an increase of chassis length"
   ]
  },
  {
   "cell_type": "code",
   "execution_count": 61,
   "metadata": {},
   "outputs": [],
   "source": [
    "wb_chassis_lbs_per_inch = 45 / 80  # 45lbs straight out of the autoclave / 80in "
   ]
  },
  {
   "cell_type": "markdown",
   "metadata": {},
   "source": [
    "## Creating the runs array"
   ]
  },
  {
   "cell_type": "code",
   "execution_count": 62,
   "metadata": {},
   "outputs": [
    {
     "data": {
      "text/html": [
       "<div>\n",
       "<style scoped>\n",
       "    .dataframe tbody tr th:only-of-type {\n",
       "        vertical-align: middle;\n",
       "    }\n",
       "\n",
       "    .dataframe tbody tr th {\n",
       "        vertical-align: top;\n",
       "    }\n",
       "\n",
       "    .dataframe thead th {\n",
       "        text-align: right;\n",
       "    }\n",
       "</style>\n",
       "<table border=\"1\" class=\"dataframe\">\n",
       "  <thead>\n",
       "    <tr style=\"text-align: right;\">\n",
       "      <th></th>\n",
       "      <th>track_num</th>\n",
       "      <th>tw</th>\n",
       "      <th>wb</th>\n",
       "      <th>df_scale</th>\n",
       "      <th>drag_scale</th>\n",
       "      <th>fr_weight</th>\n",
       "      <th>fl_weight</th>\n",
       "      <th>rr_weight</th>\n",
       "      <th>rl_weight</th>\n",
       "    </tr>\n",
       "  </thead>\n",
       "  <tbody>\n",
       "    <tr>\n",
       "      <th>0</th>\n",
       "      <td>1</td>\n",
       "      <td>40</td>\n",
       "      <td>60.5</td>\n",
       "      <td>0.564912</td>\n",
       "      <td>0.8</td>\n",
       "      <td>88.590643</td>\n",
       "      <td>88.590643</td>\n",
       "      <td>206.711500</td>\n",
       "      <td>206.711500</td>\n",
       "    </tr>\n",
       "    <tr>\n",
       "      <th>1</th>\n",
       "      <td>1</td>\n",
       "      <td>40</td>\n",
       "      <td>60.5</td>\n",
       "      <td>0.564912</td>\n",
       "      <td>0.8</td>\n",
       "      <td>103.355750</td>\n",
       "      <td>103.355750</td>\n",
       "      <td>191.946393</td>\n",
       "      <td>191.946393</td>\n",
       "    </tr>\n",
       "    <tr>\n",
       "      <th>2</th>\n",
       "      <td>1</td>\n",
       "      <td>40</td>\n",
       "      <td>60.5</td>\n",
       "      <td>0.564912</td>\n",
       "      <td>0.8</td>\n",
       "      <td>118.120857</td>\n",
       "      <td>118.120857</td>\n",
       "      <td>177.181286</td>\n",
       "      <td>177.181286</td>\n",
       "    </tr>\n",
       "    <tr>\n",
       "      <th>3</th>\n",
       "      <td>1</td>\n",
       "      <td>40</td>\n",
       "      <td>60.5</td>\n",
       "      <td>0.564912</td>\n",
       "      <td>0.8</td>\n",
       "      <td>132.885964</td>\n",
       "      <td>132.885964</td>\n",
       "      <td>162.416179</td>\n",
       "      <td>162.416179</td>\n",
       "    </tr>\n",
       "    <tr>\n",
       "      <th>4</th>\n",
       "      <td>1</td>\n",
       "      <td>40</td>\n",
       "      <td>60.5</td>\n",
       "      <td>0.564912</td>\n",
       "      <td>0.8</td>\n",
       "      <td>147.651071</td>\n",
       "      <td>147.651071</td>\n",
       "      <td>147.651071</td>\n",
       "      <td>147.651071</td>\n",
       "    </tr>\n",
       "    <tr>\n",
       "      <th>...</th>\n",
       "      <td>...</td>\n",
       "      <td>...</td>\n",
       "      <td>...</td>\n",
       "      <td>...</td>\n",
       "      <td>...</td>\n",
       "      <td>...</td>\n",
       "      <td>...</td>\n",
       "      <td>...</td>\n",
       "      <td>...</td>\n",
       "    </tr>\n",
       "    <tr>\n",
       "      <th>21163</th>\n",
       "      <td>7</td>\n",
       "      <td>55</td>\n",
       "      <td>80.5</td>\n",
       "      <td>1.217544</td>\n",
       "      <td>1.1</td>\n",
       "      <td>153.611964</td>\n",
       "      <td>153.611964</td>\n",
       "      <td>153.611964</td>\n",
       "      <td>153.611964</td>\n",
       "    </tr>\n",
       "    <tr>\n",
       "      <th>21164</th>\n",
       "      <td>7</td>\n",
       "      <td>55</td>\n",
       "      <td>80.5</td>\n",
       "      <td>1.217544</td>\n",
       "      <td>1.1</td>\n",
       "      <td>168.973161</td>\n",
       "      <td>168.973161</td>\n",
       "      <td>138.250768</td>\n",
       "      <td>138.250768</td>\n",
       "    </tr>\n",
       "    <tr>\n",
       "      <th>21165</th>\n",
       "      <td>7</td>\n",
       "      <td>55</td>\n",
       "      <td>80.5</td>\n",
       "      <td>1.217544</td>\n",
       "      <td>1.1</td>\n",
       "      <td>184.334357</td>\n",
       "      <td>184.334357</td>\n",
       "      <td>122.889571</td>\n",
       "      <td>122.889571</td>\n",
       "    </tr>\n",
       "    <tr>\n",
       "      <th>21166</th>\n",
       "      <td>7</td>\n",
       "      <td>55</td>\n",
       "      <td>80.5</td>\n",
       "      <td>1.217544</td>\n",
       "      <td>1.1</td>\n",
       "      <td>199.695554</td>\n",
       "      <td>199.695554</td>\n",
       "      <td>107.528375</td>\n",
       "      <td>107.528375</td>\n",
       "    </tr>\n",
       "    <tr>\n",
       "      <th>21167</th>\n",
       "      <td>7</td>\n",
       "      <td>55</td>\n",
       "      <td>80.5</td>\n",
       "      <td>1.217544</td>\n",
       "      <td>1.1</td>\n",
       "      <td>215.056750</td>\n",
       "      <td>215.056750</td>\n",
       "      <td>92.167179</td>\n",
       "      <td>92.167179</td>\n",
       "    </tr>\n",
       "  </tbody>\n",
       "</table>\n",
       "<p>21168 rows × 9 columns</p>\n",
       "</div>"
      ],
      "text/plain": [
       "       track_num  tw    wb  df_scale  drag_scale   fr_weight   fl_weight  \\\n",
       "0              1  40  60.5  0.564912         0.8   88.590643   88.590643   \n",
       "1              1  40  60.5  0.564912         0.8  103.355750  103.355750   \n",
       "2              1  40  60.5  0.564912         0.8  118.120857  118.120857   \n",
       "3              1  40  60.5  0.564912         0.8  132.885964  132.885964   \n",
       "4              1  40  60.5  0.564912         0.8  147.651071  147.651071   \n",
       "...          ...  ..   ...       ...         ...         ...         ...   \n",
       "21163          7  55  80.5  1.217544         1.1  153.611964  153.611964   \n",
       "21164          7  55  80.5  1.217544         1.1  168.973161  168.973161   \n",
       "21165          7  55  80.5  1.217544         1.1  184.334357  184.334357   \n",
       "21166          7  55  80.5  1.217544         1.1  199.695554  199.695554   \n",
       "21167          7  55  80.5  1.217544         1.1  215.056750  215.056750   \n",
       "\n",
       "        rr_weight   rl_weight  \n",
       "0      206.711500  206.711500  \n",
       "1      191.946393  191.946393  \n",
       "2      177.181286  177.181286  \n",
       "3      162.416179  162.416179  \n",
       "4      147.651071  147.651071  \n",
       "...           ...         ...  \n",
       "21163  153.611964  153.611964  \n",
       "21164  138.250768  138.250768  \n",
       "21165  122.889571  122.889571  \n",
       "21166  107.528375  107.528375  \n",
       "21167   92.167179   92.167179  \n",
       "\n",
       "[21168 rows x 9 columns]"
      ]
     },
     "execution_count": 62,
     "metadata": {},
     "output_type": "execute_result"
    }
   ],
   "source": [
    "min_tw = 40\n",
    "max_tw = 55\n",
    "step_tw = 1\n",
    "tws = np.arange(min_tw, max_tw + step_tw, step_tw)\n",
    "\n",
    "min_wb = 60.5\n",
    "max_wb = 80.5\n",
    "step_wb = 1\n",
    "wbs = np.arange(min_wb, max_wb + step_wb, step_wb)\n",
    "\n",
    "num_tracks = 7  # indexed 1-7 b/c matlab...\n",
    "# 1 = accel\n",
    "# 2 = skidpad\n",
    "# 3 = autocross\n",
    "# 4 = slalom_min\n",
    "# 5 = slalom_med\n",
    "# 6 = slalom_max\n",
    "# 7 = all-in-one\n",
    "# 8 = endurance - not running at the moment\n",
    "\n",
    "baseline_vehicle_weight = 599  # lbs\n",
    "baseline_vehicle_tw = 50\n",
    "baseline_vehicle_wb = 60.5\n",
    "\n",
    "# weight distobution % front\n",
    "weight_dists = [0.30, 0.35, 0.40, 0.45, 0.5, 0.55, 0.60, 0.65, 0.70]\n",
    "\n",
    "# empty runs array\n",
    "runs = []\n",
    "\n",
    "for track in range(1, num_tracks + 1):\n",
    "    for tw in tws:\n",
    "        for wb in wbs:\n",
    "            for wd in weight_dists:\n",
    "            \n",
    "                # calculate the aero scale factors\n",
    "                downforce_scaler = downforce_scale_factor(tw)\n",
    "                drag_scaler = drag_scale_factor(tw)\n",
    "\n",
    "\n",
    "                # calcuate weight differences\n",
    "                tw_diff = tw - baseline_vehicle_tw\n",
    "                wb_diff = wb - baseline_vehicle_wb\n",
    "\n",
    "                weight_diff = 0\n",
    "                weight_diff += tw_diff * tw_sus_lbs_per_inch\n",
    "                weight_diff += tw_diff * tw_aero_lbs_per_inch\n",
    "                weight_diff += wb_diff * wb_chassis_lbs_per_inch\n",
    "                vehicle_weight = baseline_vehicle_weight + weight_diff\n",
    "                \n",
    "                # weight distrobution stuff\n",
    "                front_back_weight_split = vehicle_weight / 2\n",
    "                fr_weight = front_back_weight_split * wd\n",
    "                fl_weight = front_back_weight_split * wd\n",
    "                rr_weight = front_back_weight_split * (1.0 - wd)\n",
    "                rl_weight = front_back_weight_split * (1.0 - wd)\n",
    "\n",
    "                # create the run array\n",
    "                run_array = (track, tw, wb, downforce_scaler, drag_scaler, fr_weight, fl_weight, rr_weight, rl_weight)\n",
    "                runs.append(run_array)\n",
    "\n",
    "# turn the runs list into a dataframe\n",
    "runs_df = pd.DataFrame(runs)\n",
    "runs_df.columns = (\"track_num\", \"tw\", \"wb\", \"df_scale\", \"drag_scale\", \"fr_weight\", \"fl_weight\", \"rr_weight\", \"rl_weight\")\n",
    "runs_df"
   ]
  },
  {
   "cell_type": "code",
   "execution_count": 63,
   "metadata": {},
   "outputs": [],
   "source": [
    "# save the runs array as a csv!\n",
    "runs_df.to_csv(\"runs_insight.csv\")"
   ]
  },
  {
   "cell_type": "markdown",
   "metadata": {},
   "source": [
    "# Simulation Analysis"
   ]
  },
  {
   "cell_type": "code",
   "execution_count": 152,
   "metadata": {},
   "outputs": [
    {
     "data": {
      "text/html": [
       "<div>\n",
       "<style scoped>\n",
       "    .dataframe tbody tr th:only-of-type {\n",
       "        vertical-align: middle;\n",
       "    }\n",
       "\n",
       "    .dataframe tbody tr th {\n",
       "        vertical-align: top;\n",
       "    }\n",
       "\n",
       "    .dataframe thead th {\n",
       "        text-align: right;\n",
       "    }\n",
       "</style>\n",
       "<table border=\"1\" class=\"dataframe\">\n",
       "  <thead>\n",
       "    <tr style=\"text-align: right;\">\n",
       "      <th></th>\n",
       "      <th>track_num</th>\n",
       "      <th>tw</th>\n",
       "      <th>wb</th>\n",
       "      <th>df_scale</th>\n",
       "      <th>drag_scale</th>\n",
       "      <th>fr_weight</th>\n",
       "      <th>fl_weight</th>\n",
       "      <th>rr_weight</th>\n",
       "      <th>rl_weight</th>\n",
       "      <th>!laptime</th>\n",
       "      <th>...</th>\n",
       "      <th>slipaFR</th>\n",
       "      <th>slipaRL</th>\n",
       "      <th>slipaRR</th>\n",
       "      <th>sliprFL</th>\n",
       "      <th>sliprFR</th>\n",
       "      <th>sliprRL</th>\n",
       "      <th>sliprRR</th>\n",
       "      <th>speed</th>\n",
       "      <th>yawa</th>\n",
       "      <th>yawv</th>\n",
       "    </tr>\n",
       "  </thead>\n",
       "  <tbody>\n",
       "    <tr>\n",
       "      <th>0</th>\n",
       "      <td>1</td>\n",
       "      <td>40</td>\n",
       "      <td>60.5</td>\n",
       "      <td>0.564912</td>\n",
       "      <td>0.8</td>\n",
       "      <td>88.590643</td>\n",
       "      <td>88.590643</td>\n",
       "      <td>206.711500</td>\n",
       "      <td>206.711500</td>\n",
       "      <td>4.086</td>\n",
       "      <td>...</td>\n",
       "      <td>0.12721</td>\n",
       "      <td>0.13786</td>\n",
       "      <td>-0.009197</td>\n",
       "      <td>0.014902</td>\n",
       "      <td>0.014922</td>\n",
       "      <td>0.050309</td>\n",
       "      <td>0.050421</td>\n",
       "      <td>63.142</td>\n",
       "      <td>2.4664</td>\n",
       "      <td>0.000087</td>\n",
       "    </tr>\n",
       "    <tr>\n",
       "      <th>1</th>\n",
       "      <td>1</td>\n",
       "      <td>40</td>\n",
       "      <td>60.5</td>\n",
       "      <td>0.564912</td>\n",
       "      <td>0.8</td>\n",
       "      <td>103.355750</td>\n",
       "      <td>103.355750</td>\n",
       "      <td>191.946393</td>\n",
       "      <td>191.946393</td>\n",
       "      <td>4.086</td>\n",
       "      <td>...</td>\n",
       "      <td>0.12721</td>\n",
       "      <td>0.13786</td>\n",
       "      <td>-0.009197</td>\n",
       "      <td>0.014902</td>\n",
       "      <td>0.014922</td>\n",
       "      <td>0.050309</td>\n",
       "      <td>0.050421</td>\n",
       "      <td>63.142</td>\n",
       "      <td>2.4664</td>\n",
       "      <td>0.000087</td>\n",
       "    </tr>\n",
       "    <tr>\n",
       "      <th>2</th>\n",
       "      <td>1</td>\n",
       "      <td>40</td>\n",
       "      <td>60.5</td>\n",
       "      <td>0.564912</td>\n",
       "      <td>0.8</td>\n",
       "      <td>118.120857</td>\n",
       "      <td>118.120857</td>\n",
       "      <td>177.181286</td>\n",
       "      <td>177.181286</td>\n",
       "      <td>4.086</td>\n",
       "      <td>...</td>\n",
       "      <td>0.12721</td>\n",
       "      <td>0.13786</td>\n",
       "      <td>-0.009197</td>\n",
       "      <td>0.014902</td>\n",
       "      <td>0.014922</td>\n",
       "      <td>0.050309</td>\n",
       "      <td>0.050421</td>\n",
       "      <td>63.142</td>\n",
       "      <td>2.4664</td>\n",
       "      <td>0.000087</td>\n",
       "    </tr>\n",
       "    <tr>\n",
       "      <th>3</th>\n",
       "      <td>1</td>\n",
       "      <td>40</td>\n",
       "      <td>60.5</td>\n",
       "      <td>0.564912</td>\n",
       "      <td>0.8</td>\n",
       "      <td>132.885964</td>\n",
       "      <td>132.885964</td>\n",
       "      <td>162.416179</td>\n",
       "      <td>162.416179</td>\n",
       "      <td>4.086</td>\n",
       "      <td>...</td>\n",
       "      <td>0.12721</td>\n",
       "      <td>0.13786</td>\n",
       "      <td>-0.009197</td>\n",
       "      <td>0.014902</td>\n",
       "      <td>0.014922</td>\n",
       "      <td>0.050309</td>\n",
       "      <td>0.050421</td>\n",
       "      <td>63.142</td>\n",
       "      <td>2.4664</td>\n",
       "      <td>0.000087</td>\n",
       "    </tr>\n",
       "    <tr>\n",
       "      <th>4</th>\n",
       "      <td>1</td>\n",
       "      <td>40</td>\n",
       "      <td>60.5</td>\n",
       "      <td>0.564912</td>\n",
       "      <td>0.8</td>\n",
       "      <td>147.651071</td>\n",
       "      <td>147.651071</td>\n",
       "      <td>147.651071</td>\n",
       "      <td>147.651071</td>\n",
       "      <td>4.086</td>\n",
       "      <td>...</td>\n",
       "      <td>0.12721</td>\n",
       "      <td>0.13786</td>\n",
       "      <td>-0.009197</td>\n",
       "      <td>0.014902</td>\n",
       "      <td>0.014922</td>\n",
       "      <td>0.050309</td>\n",
       "      <td>0.050421</td>\n",
       "      <td>63.142</td>\n",
       "      <td>2.4664</td>\n",
       "      <td>0.000087</td>\n",
       "    </tr>\n",
       "  </tbody>\n",
       "</table>\n",
       "<p>5 rows × 39 columns</p>\n",
       "</div>"
      ],
      "text/plain": [
       "   track_num  tw    wb  df_scale  drag_scale   fr_weight   fl_weight  \\\n",
       "0          1  40  60.5  0.564912         0.8   88.590643   88.590643   \n",
       "1          1  40  60.5  0.564912         0.8  103.355750  103.355750   \n",
       "2          1  40  60.5  0.564912         0.8  118.120857  118.120857   \n",
       "3          1  40  60.5  0.564912         0.8  132.885964  132.885964   \n",
       "4          1  40  60.5  0.564912         0.8  147.651071  147.651071   \n",
       "\n",
       "    rr_weight   rl_weight  !laptime  ...  slipaFR  slipaRL   slipaRR  \\\n",
       "0  206.711500  206.711500     4.086  ...  0.12721  0.13786 -0.009197   \n",
       "1  191.946393  191.946393     4.086  ...  0.12721  0.13786 -0.009197   \n",
       "2  177.181286  177.181286     4.086  ...  0.12721  0.13786 -0.009197   \n",
       "3  162.416179  162.416179     4.086  ...  0.12721  0.13786 -0.009197   \n",
       "4  147.651071  147.651071     4.086  ...  0.12721  0.13786 -0.009197   \n",
       "\n",
       "    sliprFL   sliprFR   sliprRL   sliprRR   speed    yawa      yawv  \n",
       "0  0.014902  0.014922  0.050309  0.050421  63.142  2.4664  0.000087  \n",
       "1  0.014902  0.014922  0.050309  0.050421  63.142  2.4664  0.000087  \n",
       "2  0.014902  0.014922  0.050309  0.050421  63.142  2.4664  0.000087  \n",
       "3  0.014902  0.014922  0.050309  0.050421  63.142  2.4664  0.000087  \n",
       "4  0.014902  0.014922  0.050309  0.050421  63.142  2.4664  0.000087  \n",
       "\n",
       "[5 rows x 39 columns]"
      ]
     },
     "execution_count": 152,
     "metadata": {},
     "output_type": "execute_result"
    }
   ],
   "source": [
    "# the file path to the results csv file (may be different on your system)\n",
    "results_file_path = \"/Users/daveyonkers/Michigan State University/RSO-MSU Formula Racing Team - General/SR22 - Car XX/Systems/Simulation/working_dir/DOE/track_width_wheel_base/tw_wb_RESULTS.csv\"\n",
    "\n",
    "# load the results into a dataframe\n",
    "results_df= pd.read_csv(results_file_path)\n",
    "\n",
    "results_df.head()"
   ]
  },
  {
   "cell_type": "code",
   "execution_count": 153,
   "metadata": {},
   "outputs": [
    {
     "data": {
      "text/html": [
       "<div>\n",
       "<style scoped>\n",
       "    .dataframe tbody tr th:only-of-type {\n",
       "        vertical-align: middle;\n",
       "    }\n",
       "\n",
       "    .dataframe tbody tr th {\n",
       "        vertical-align: top;\n",
       "    }\n",
       "\n",
       "    .dataframe thead th {\n",
       "        text-align: right;\n",
       "    }\n",
       "</style>\n",
       "<table border=\"1\" class=\"dataframe\">\n",
       "  <thead>\n",
       "    <tr style=\"text-align: right;\">\n",
       "      <th></th>\n",
       "      <th>track_num</th>\n",
       "      <th>tw</th>\n",
       "      <th>wb</th>\n",
       "      <th>df_scale</th>\n",
       "      <th>drag_scale</th>\n",
       "      <th>weight_dst</th>\n",
       "      <th>fr_weight</th>\n",
       "      <th>fl_weight</th>\n",
       "      <th>rr_weight</th>\n",
       "      <th>rl_weight</th>\n",
       "      <th>...</th>\n",
       "      <th>slipaFR</th>\n",
       "      <th>slipaRL</th>\n",
       "      <th>slipaRR</th>\n",
       "      <th>sliprFL</th>\n",
       "      <th>sliprFR</th>\n",
       "      <th>sliprRL</th>\n",
       "      <th>sliprRR</th>\n",
       "      <th>speed</th>\n",
       "      <th>yawa</th>\n",
       "      <th>yawv</th>\n",
       "    </tr>\n",
       "  </thead>\n",
       "  <tbody>\n",
       "    <tr>\n",
       "      <th>0</th>\n",
       "      <td>1</td>\n",
       "      <td>40</td>\n",
       "      <td>60.5</td>\n",
       "      <td>0.564912</td>\n",
       "      <td>0.8</td>\n",
       "      <td>30</td>\n",
       "      <td>88.590643</td>\n",
       "      <td>88.590643</td>\n",
       "      <td>206.711500</td>\n",
       "      <td>206.711500</td>\n",
       "      <td>...</td>\n",
       "      <td>0.12721</td>\n",
       "      <td>0.13786</td>\n",
       "      <td>-0.009197</td>\n",
       "      <td>0.014902</td>\n",
       "      <td>0.014922</td>\n",
       "      <td>0.050309</td>\n",
       "      <td>0.050421</td>\n",
       "      <td>63.142</td>\n",
       "      <td>2.4664</td>\n",
       "      <td>0.000087</td>\n",
       "    </tr>\n",
       "    <tr>\n",
       "      <th>1</th>\n",
       "      <td>1</td>\n",
       "      <td>40</td>\n",
       "      <td>60.5</td>\n",
       "      <td>0.564912</td>\n",
       "      <td>0.8</td>\n",
       "      <td>35</td>\n",
       "      <td>103.355750</td>\n",
       "      <td>103.355750</td>\n",
       "      <td>191.946393</td>\n",
       "      <td>191.946393</td>\n",
       "      <td>...</td>\n",
       "      <td>0.12721</td>\n",
       "      <td>0.13786</td>\n",
       "      <td>-0.009197</td>\n",
       "      <td>0.014902</td>\n",
       "      <td>0.014922</td>\n",
       "      <td>0.050309</td>\n",
       "      <td>0.050421</td>\n",
       "      <td>63.142</td>\n",
       "      <td>2.4664</td>\n",
       "      <td>0.000087</td>\n",
       "    </tr>\n",
       "    <tr>\n",
       "      <th>2</th>\n",
       "      <td>1</td>\n",
       "      <td>40</td>\n",
       "      <td>60.5</td>\n",
       "      <td>0.564912</td>\n",
       "      <td>0.8</td>\n",
       "      <td>40</td>\n",
       "      <td>118.120857</td>\n",
       "      <td>118.120857</td>\n",
       "      <td>177.181286</td>\n",
       "      <td>177.181286</td>\n",
       "      <td>...</td>\n",
       "      <td>0.12721</td>\n",
       "      <td>0.13786</td>\n",
       "      <td>-0.009197</td>\n",
       "      <td>0.014902</td>\n",
       "      <td>0.014922</td>\n",
       "      <td>0.050309</td>\n",
       "      <td>0.050421</td>\n",
       "      <td>63.142</td>\n",
       "      <td>2.4664</td>\n",
       "      <td>0.000087</td>\n",
       "    </tr>\n",
       "    <tr>\n",
       "      <th>3</th>\n",
       "      <td>1</td>\n",
       "      <td>40</td>\n",
       "      <td>60.5</td>\n",
       "      <td>0.564912</td>\n",
       "      <td>0.8</td>\n",
       "      <td>45</td>\n",
       "      <td>132.885964</td>\n",
       "      <td>132.885964</td>\n",
       "      <td>162.416179</td>\n",
       "      <td>162.416179</td>\n",
       "      <td>...</td>\n",
       "      <td>0.12721</td>\n",
       "      <td>0.13786</td>\n",
       "      <td>-0.009197</td>\n",
       "      <td>0.014902</td>\n",
       "      <td>0.014922</td>\n",
       "      <td>0.050309</td>\n",
       "      <td>0.050421</td>\n",
       "      <td>63.142</td>\n",
       "      <td>2.4664</td>\n",
       "      <td>0.000087</td>\n",
       "    </tr>\n",
       "    <tr>\n",
       "      <th>4</th>\n",
       "      <td>1</td>\n",
       "      <td>40</td>\n",
       "      <td>60.5</td>\n",
       "      <td>0.564912</td>\n",
       "      <td>0.8</td>\n",
       "      <td>50</td>\n",
       "      <td>147.651071</td>\n",
       "      <td>147.651071</td>\n",
       "      <td>147.651071</td>\n",
       "      <td>147.651071</td>\n",
       "      <td>...</td>\n",
       "      <td>0.12721</td>\n",
       "      <td>0.13786</td>\n",
       "      <td>-0.009197</td>\n",
       "      <td>0.014902</td>\n",
       "      <td>0.014922</td>\n",
       "      <td>0.050309</td>\n",
       "      <td>0.050421</td>\n",
       "      <td>63.142</td>\n",
       "      <td>2.4664</td>\n",
       "      <td>0.000087</td>\n",
       "    </tr>\n",
       "    <tr>\n",
       "      <th>...</th>\n",
       "      <td>...</td>\n",
       "      <td>...</td>\n",
       "      <td>...</td>\n",
       "      <td>...</td>\n",
       "      <td>...</td>\n",
       "      <td>...</td>\n",
       "      <td>...</td>\n",
       "      <td>...</td>\n",
       "      <td>...</td>\n",
       "      <td>...</td>\n",
       "      <td>...</td>\n",
       "      <td>...</td>\n",
       "      <td>...</td>\n",
       "      <td>...</td>\n",
       "      <td>...</td>\n",
       "      <td>...</td>\n",
       "      <td>...</td>\n",
       "      <td>...</td>\n",
       "      <td>...</td>\n",
       "      <td>...</td>\n",
       "      <td>...</td>\n",
       "    </tr>\n",
       "    <tr>\n",
       "      <th>21163</th>\n",
       "      <td>7</td>\n",
       "      <td>55</td>\n",
       "      <td>80.5</td>\n",
       "      <td>1.217544</td>\n",
       "      <td>1.1</td>\n",
       "      <td>50</td>\n",
       "      <td>153.611964</td>\n",
       "      <td>153.611964</td>\n",
       "      <td>153.611964</td>\n",
       "      <td>153.611964</td>\n",
       "      <td>...</td>\n",
       "      <td>6.59930</td>\n",
       "      <td>3.65360</td>\n",
       "      <td>2.994700</td>\n",
       "      <td>0.021668</td>\n",
       "      <td>0.025350</td>\n",
       "      <td>0.064476</td>\n",
       "      <td>0.096046</td>\n",
       "      <td>72.734</td>\n",
       "      <td>363.3500</td>\n",
       "      <td>73.357000</td>\n",
       "    </tr>\n",
       "    <tr>\n",
       "      <th>21164</th>\n",
       "      <td>7</td>\n",
       "      <td>55</td>\n",
       "      <td>80.5</td>\n",
       "      <td>1.217544</td>\n",
       "      <td>1.1</td>\n",
       "      <td>55</td>\n",
       "      <td>168.973161</td>\n",
       "      <td>168.973161</td>\n",
       "      <td>138.250768</td>\n",
       "      <td>138.250768</td>\n",
       "      <td>...</td>\n",
       "      <td>6.59930</td>\n",
       "      <td>3.65360</td>\n",
       "      <td>2.994700</td>\n",
       "      <td>0.021668</td>\n",
       "      <td>0.025350</td>\n",
       "      <td>0.064476</td>\n",
       "      <td>0.096046</td>\n",
       "      <td>72.734</td>\n",
       "      <td>363.3500</td>\n",
       "      <td>73.357000</td>\n",
       "    </tr>\n",
       "    <tr>\n",
       "      <th>21165</th>\n",
       "      <td>7</td>\n",
       "      <td>55</td>\n",
       "      <td>80.5</td>\n",
       "      <td>1.217544</td>\n",
       "      <td>1.1</td>\n",
       "      <td>60</td>\n",
       "      <td>184.334357</td>\n",
       "      <td>184.334357</td>\n",
       "      <td>122.889571</td>\n",
       "      <td>122.889571</td>\n",
       "      <td>...</td>\n",
       "      <td>6.59930</td>\n",
       "      <td>3.65360</td>\n",
       "      <td>2.994700</td>\n",
       "      <td>0.021668</td>\n",
       "      <td>0.025350</td>\n",
       "      <td>0.064476</td>\n",
       "      <td>0.096046</td>\n",
       "      <td>72.734</td>\n",
       "      <td>363.3500</td>\n",
       "      <td>73.357000</td>\n",
       "    </tr>\n",
       "    <tr>\n",
       "      <th>21166</th>\n",
       "      <td>7</td>\n",
       "      <td>55</td>\n",
       "      <td>80.5</td>\n",
       "      <td>1.217544</td>\n",
       "      <td>1.1</td>\n",
       "      <td>65</td>\n",
       "      <td>199.695554</td>\n",
       "      <td>199.695554</td>\n",
       "      <td>107.528375</td>\n",
       "      <td>107.528375</td>\n",
       "      <td>...</td>\n",
       "      <td>6.59930</td>\n",
       "      <td>3.65360</td>\n",
       "      <td>2.994700</td>\n",
       "      <td>0.021668</td>\n",
       "      <td>0.025350</td>\n",
       "      <td>0.064476</td>\n",
       "      <td>0.096046</td>\n",
       "      <td>72.734</td>\n",
       "      <td>363.3500</td>\n",
       "      <td>73.357000</td>\n",
       "    </tr>\n",
       "    <tr>\n",
       "      <th>21167</th>\n",
       "      <td>7</td>\n",
       "      <td>55</td>\n",
       "      <td>80.5</td>\n",
       "      <td>1.217544</td>\n",
       "      <td>1.1</td>\n",
       "      <td>70</td>\n",
       "      <td>215.056750</td>\n",
       "      <td>215.056750</td>\n",
       "      <td>92.167179</td>\n",
       "      <td>92.167179</td>\n",
       "      <td>...</td>\n",
       "      <td>6.59930</td>\n",
       "      <td>3.65360</td>\n",
       "      <td>2.994700</td>\n",
       "      <td>0.021668</td>\n",
       "      <td>0.025350</td>\n",
       "      <td>0.064476</td>\n",
       "      <td>0.096046</td>\n",
       "      <td>72.734</td>\n",
       "      <td>363.3500</td>\n",
       "      <td>73.357000</td>\n",
       "    </tr>\n",
       "  </tbody>\n",
       "</table>\n",
       "<p>21168 rows × 40 columns</p>\n",
       "</div>"
      ],
      "text/plain": [
       "       track_num  tw    wb  df_scale  drag_scale  weight_dst   fr_weight  \\\n",
       "0              1  40  60.5  0.564912         0.8          30   88.590643   \n",
       "1              1  40  60.5  0.564912         0.8          35  103.355750   \n",
       "2              1  40  60.5  0.564912         0.8          40  118.120857   \n",
       "3              1  40  60.5  0.564912         0.8          45  132.885964   \n",
       "4              1  40  60.5  0.564912         0.8          50  147.651071   \n",
       "...          ...  ..   ...       ...         ...         ...         ...   \n",
       "21163          7  55  80.5  1.217544         1.1          50  153.611964   \n",
       "21164          7  55  80.5  1.217544         1.1          55  168.973161   \n",
       "21165          7  55  80.5  1.217544         1.1          60  184.334357   \n",
       "21166          7  55  80.5  1.217544         1.1          65  199.695554   \n",
       "21167          7  55  80.5  1.217544         1.1          70  215.056750   \n",
       "\n",
       "        fl_weight   rr_weight   rl_weight  ...  slipaFR  slipaRL   slipaRR  \\\n",
       "0       88.590643  206.711500  206.711500  ...  0.12721  0.13786 -0.009197   \n",
       "1      103.355750  191.946393  191.946393  ...  0.12721  0.13786 -0.009197   \n",
       "2      118.120857  177.181286  177.181286  ...  0.12721  0.13786 -0.009197   \n",
       "3      132.885964  162.416179  162.416179  ...  0.12721  0.13786 -0.009197   \n",
       "4      147.651071  147.651071  147.651071  ...  0.12721  0.13786 -0.009197   \n",
       "...           ...         ...         ...  ...      ...      ...       ...   \n",
       "21163  153.611964  153.611964  153.611964  ...  6.59930  3.65360  2.994700   \n",
       "21164  168.973161  138.250768  138.250768  ...  6.59930  3.65360  2.994700   \n",
       "21165  184.334357  122.889571  122.889571  ...  6.59930  3.65360  2.994700   \n",
       "21166  199.695554  107.528375  107.528375  ...  6.59930  3.65360  2.994700   \n",
       "21167  215.056750   92.167179   92.167179  ...  6.59930  3.65360  2.994700   \n",
       "\n",
       "        sliprFL   sliprFR   sliprRL   sliprRR   speed      yawa       yawv  \n",
       "0      0.014902  0.014922  0.050309  0.050421  63.142    2.4664   0.000087  \n",
       "1      0.014902  0.014922  0.050309  0.050421  63.142    2.4664   0.000087  \n",
       "2      0.014902  0.014922  0.050309  0.050421  63.142    2.4664   0.000087  \n",
       "3      0.014902  0.014922  0.050309  0.050421  63.142    2.4664   0.000087  \n",
       "4      0.014902  0.014922  0.050309  0.050421  63.142    2.4664   0.000087  \n",
       "...         ...       ...       ...       ...     ...       ...        ...  \n",
       "21163  0.021668  0.025350  0.064476  0.096046  72.734  363.3500  73.357000  \n",
       "21164  0.021668  0.025350  0.064476  0.096046  72.734  363.3500  73.357000  \n",
       "21165  0.021668  0.025350  0.064476  0.096046  72.734  363.3500  73.357000  \n",
       "21166  0.021668  0.025350  0.064476  0.096046  72.734  363.3500  73.357000  \n",
       "21167  0.021668  0.025350  0.064476  0.096046  72.734  363.3500  73.357000  \n",
       "\n",
       "[21168 rows x 40 columns]"
      ]
     },
     "execution_count": 153,
     "metadata": {},
     "output_type": "execute_result"
    }
   ],
   "source": [
    "# Back-calculate the weight distrobution (%F)\n",
    "weight_dists = round((results_df_no_wd[\"fr_weight\"] / (results_df_no_wd[\"fr_weight\"] + results_df_no_wd[\"rr_weight\"])) * 100)\n",
    "# add as a column to the results df\n",
    "results_df.insert(5, \"weight_dst\", weight_dists)\n",
    "results_df = results_df.astype({\"weight_dst\":\"int\"})\n",
    "results_df"
   ]
  },
  {
   "cell_type": "markdown",
   "metadata": {},
   "source": [
    "### How many simulations did not solve properly?"
   ]
  },
  {
   "cell_type": "code",
   "execution_count": 140,
   "metadata": {
    "scrolled": true
   },
   "outputs": [
    {
     "data": {
      "text/html": [
       "<div>\n",
       "<style scoped>\n",
       "    .dataframe tbody tr th:only-of-type {\n",
       "        vertical-align: middle;\n",
       "    }\n",
       "\n",
       "    .dataframe tbody tr th {\n",
       "        vertical-align: top;\n",
       "    }\n",
       "\n",
       "    .dataframe thead th {\n",
       "        text-align: right;\n",
       "    }\n",
       "</style>\n",
       "<table border=\"1\" class=\"dataframe\">\n",
       "  <thead>\n",
       "    <tr style=\"text-align: right;\">\n",
       "      <th></th>\n",
       "      <th>track_num</th>\n",
       "      <th>tw</th>\n",
       "      <th>wb</th>\n",
       "      <th>df_scale</th>\n",
       "      <th>drag_scale</th>\n",
       "      <th>weight_dst</th>\n",
       "      <th>fr_weight</th>\n",
       "      <th>fl_weight</th>\n",
       "      <th>rr_weight</th>\n",
       "      <th>rl_weight</th>\n",
       "      <th>...</th>\n",
       "      <th>slipaFR</th>\n",
       "      <th>slipaRL</th>\n",
       "      <th>slipaRR</th>\n",
       "      <th>sliprFL</th>\n",
       "      <th>sliprFR</th>\n",
       "      <th>sliprRL</th>\n",
       "      <th>sliprRR</th>\n",
       "      <th>speed</th>\n",
       "      <th>yawa</th>\n",
       "      <th>yawv</th>\n",
       "    </tr>\n",
       "  </thead>\n",
       "  <tbody>\n",
       "    <tr>\n",
       "      <th>6048</th>\n",
       "      <td>3</td>\n",
       "      <td>40</td>\n",
       "      <td>60.5</td>\n",
       "      <td>0.564912</td>\n",
       "      <td>0.80</td>\n",
       "      <td>30</td>\n",
       "      <td>88.590643</td>\n",
       "      <td>88.590643</td>\n",
       "      <td>206.711500</td>\n",
       "      <td>206.711500</td>\n",
       "      <td>...</td>\n",
       "      <td>-999.9</td>\n",
       "      <td>-999.9</td>\n",
       "      <td>-999.9</td>\n",
       "      <td>-999.9</td>\n",
       "      <td>-999.9</td>\n",
       "      <td>-999.9</td>\n",
       "      <td>-999.9</td>\n",
       "      <td>-999.9</td>\n",
       "      <td>-999.9</td>\n",
       "      <td>-999.9</td>\n",
       "    </tr>\n",
       "    <tr>\n",
       "      <th>6049</th>\n",
       "      <td>3</td>\n",
       "      <td>40</td>\n",
       "      <td>60.5</td>\n",
       "      <td>0.564912</td>\n",
       "      <td>0.80</td>\n",
       "      <td>34</td>\n",
       "      <td>103.355750</td>\n",
       "      <td>103.355750</td>\n",
       "      <td>191.946393</td>\n",
       "      <td>191.946393</td>\n",
       "      <td>...</td>\n",
       "      <td>-999.9</td>\n",
       "      <td>-999.9</td>\n",
       "      <td>-999.9</td>\n",
       "      <td>-999.9</td>\n",
       "      <td>-999.9</td>\n",
       "      <td>-999.9</td>\n",
       "      <td>-999.9</td>\n",
       "      <td>-999.9</td>\n",
       "      <td>-999.9</td>\n",
       "      <td>-999.9</td>\n",
       "    </tr>\n",
       "    <tr>\n",
       "      <th>6050</th>\n",
       "      <td>3</td>\n",
       "      <td>40</td>\n",
       "      <td>60.5</td>\n",
       "      <td>0.564912</td>\n",
       "      <td>0.80</td>\n",
       "      <td>39</td>\n",
       "      <td>118.120857</td>\n",
       "      <td>118.120857</td>\n",
       "      <td>177.181286</td>\n",
       "      <td>177.181286</td>\n",
       "      <td>...</td>\n",
       "      <td>-999.9</td>\n",
       "      <td>-999.9</td>\n",
       "      <td>-999.9</td>\n",
       "      <td>-999.9</td>\n",
       "      <td>-999.9</td>\n",
       "      <td>-999.9</td>\n",
       "      <td>-999.9</td>\n",
       "      <td>-999.9</td>\n",
       "      <td>-999.9</td>\n",
       "      <td>-999.9</td>\n",
       "    </tr>\n",
       "    <tr>\n",
       "      <th>6051</th>\n",
       "      <td>3</td>\n",
       "      <td>40</td>\n",
       "      <td>60.5</td>\n",
       "      <td>0.564912</td>\n",
       "      <td>0.80</td>\n",
       "      <td>44</td>\n",
       "      <td>132.885964</td>\n",
       "      <td>132.885964</td>\n",
       "      <td>162.416179</td>\n",
       "      <td>162.416179</td>\n",
       "      <td>...</td>\n",
       "      <td>-999.9</td>\n",
       "      <td>-999.9</td>\n",
       "      <td>-999.9</td>\n",
       "      <td>-999.9</td>\n",
       "      <td>-999.9</td>\n",
       "      <td>-999.9</td>\n",
       "      <td>-999.9</td>\n",
       "      <td>-999.9</td>\n",
       "      <td>-999.9</td>\n",
       "      <td>-999.9</td>\n",
       "    </tr>\n",
       "    <tr>\n",
       "      <th>6052</th>\n",
       "      <td>3</td>\n",
       "      <td>40</td>\n",
       "      <td>60.5</td>\n",
       "      <td>0.564912</td>\n",
       "      <td>0.80</td>\n",
       "      <td>50</td>\n",
       "      <td>147.651071</td>\n",
       "      <td>147.651071</td>\n",
       "      <td>147.651071</td>\n",
       "      <td>147.651071</td>\n",
       "      <td>...</td>\n",
       "      <td>-999.9</td>\n",
       "      <td>-999.9</td>\n",
       "      <td>-999.9</td>\n",
       "      <td>-999.9</td>\n",
       "      <td>-999.9</td>\n",
       "      <td>-999.9</td>\n",
       "      <td>-999.9</td>\n",
       "      <td>-999.9</td>\n",
       "      <td>-999.9</td>\n",
       "      <td>-999.9</td>\n",
       "    </tr>\n",
       "    <tr>\n",
       "      <th>...</th>\n",
       "      <td>...</td>\n",
       "      <td>...</td>\n",
       "      <td>...</td>\n",
       "      <td>...</td>\n",
       "      <td>...</td>\n",
       "      <td>...</td>\n",
       "      <td>...</td>\n",
       "      <td>...</td>\n",
       "      <td>...</td>\n",
       "      <td>...</td>\n",
       "      <td>...</td>\n",
       "      <td>...</td>\n",
       "      <td>...</td>\n",
       "      <td>...</td>\n",
       "      <td>...</td>\n",
       "      <td>...</td>\n",
       "      <td>...</td>\n",
       "      <td>...</td>\n",
       "      <td>...</td>\n",
       "      <td>...</td>\n",
       "      <td>...</td>\n",
       "    </tr>\n",
       "    <tr>\n",
       "      <th>20767</th>\n",
       "      <td>7</td>\n",
       "      <td>53</td>\n",
       "      <td>78.5</td>\n",
       "      <td>1.130526</td>\n",
       "      <td>1.06</td>\n",
       "      <td>50</td>\n",
       "      <td>152.910929</td>\n",
       "      <td>152.910929</td>\n",
       "      <td>152.910929</td>\n",
       "      <td>152.910929</td>\n",
       "      <td>...</td>\n",
       "      <td>-999.9</td>\n",
       "      <td>-999.9</td>\n",
       "      <td>-999.9</td>\n",
       "      <td>-999.9</td>\n",
       "      <td>-999.9</td>\n",
       "      <td>-999.9</td>\n",
       "      <td>-999.9</td>\n",
       "      <td>-999.9</td>\n",
       "      <td>-999.9</td>\n",
       "      <td>-999.9</td>\n",
       "    </tr>\n",
       "    <tr>\n",
       "      <th>20768</th>\n",
       "      <td>7</td>\n",
       "      <td>53</td>\n",
       "      <td>78.5</td>\n",
       "      <td>1.130526</td>\n",
       "      <td>1.06</td>\n",
       "      <td>54</td>\n",
       "      <td>168.202021</td>\n",
       "      <td>168.202021</td>\n",
       "      <td>137.619836</td>\n",
       "      <td>137.619836</td>\n",
       "      <td>...</td>\n",
       "      <td>-999.9</td>\n",
       "      <td>-999.9</td>\n",
       "      <td>-999.9</td>\n",
       "      <td>-999.9</td>\n",
       "      <td>-999.9</td>\n",
       "      <td>-999.9</td>\n",
       "      <td>-999.9</td>\n",
       "      <td>-999.9</td>\n",
       "      <td>-999.9</td>\n",
       "      <td>-999.9</td>\n",
       "    </tr>\n",
       "    <tr>\n",
       "      <th>20769</th>\n",
       "      <td>7</td>\n",
       "      <td>53</td>\n",
       "      <td>78.5</td>\n",
       "      <td>1.130526</td>\n",
       "      <td>1.06</td>\n",
       "      <td>59</td>\n",
       "      <td>183.493114</td>\n",
       "      <td>183.493114</td>\n",
       "      <td>122.328743</td>\n",
       "      <td>122.328743</td>\n",
       "      <td>...</td>\n",
       "      <td>-999.9</td>\n",
       "      <td>-999.9</td>\n",
       "      <td>-999.9</td>\n",
       "      <td>-999.9</td>\n",
       "      <td>-999.9</td>\n",
       "      <td>-999.9</td>\n",
       "      <td>-999.9</td>\n",
       "      <td>-999.9</td>\n",
       "      <td>-999.9</td>\n",
       "      <td>-999.9</td>\n",
       "    </tr>\n",
       "    <tr>\n",
       "      <th>20770</th>\n",
       "      <td>7</td>\n",
       "      <td>53</td>\n",
       "      <td>78.5</td>\n",
       "      <td>1.130526</td>\n",
       "      <td>1.06</td>\n",
       "      <td>64</td>\n",
       "      <td>198.784207</td>\n",
       "      <td>198.784207</td>\n",
       "      <td>107.037650</td>\n",
       "      <td>107.037650</td>\n",
       "      <td>...</td>\n",
       "      <td>-999.9</td>\n",
       "      <td>-999.9</td>\n",
       "      <td>-999.9</td>\n",
       "      <td>-999.9</td>\n",
       "      <td>-999.9</td>\n",
       "      <td>-999.9</td>\n",
       "      <td>-999.9</td>\n",
       "      <td>-999.9</td>\n",
       "      <td>-999.9</td>\n",
       "      <td>-999.9</td>\n",
       "    </tr>\n",
       "    <tr>\n",
       "      <th>20771</th>\n",
       "      <td>7</td>\n",
       "      <td>53</td>\n",
       "      <td>78.5</td>\n",
       "      <td>1.130526</td>\n",
       "      <td>1.06</td>\n",
       "      <td>70</td>\n",
       "      <td>214.075300</td>\n",
       "      <td>214.075300</td>\n",
       "      <td>91.746557</td>\n",
       "      <td>91.746557</td>\n",
       "      <td>...</td>\n",
       "      <td>-999.9</td>\n",
       "      <td>-999.9</td>\n",
       "      <td>-999.9</td>\n",
       "      <td>-999.9</td>\n",
       "      <td>-999.9</td>\n",
       "      <td>-999.9</td>\n",
       "      <td>-999.9</td>\n",
       "      <td>-999.9</td>\n",
       "      <td>-999.9</td>\n",
       "      <td>-999.9</td>\n",
       "    </tr>\n",
       "  </tbody>\n",
       "</table>\n",
       "<p>2835 rows × 40 columns</p>\n",
       "</div>"
      ],
      "text/plain": [
       "       track_num  tw    wb  df_scale  drag_scale  weight_dst   fr_weight  \\\n",
       "6048           3  40  60.5  0.564912        0.80          30   88.590643   \n",
       "6049           3  40  60.5  0.564912        0.80          34  103.355750   \n",
       "6050           3  40  60.5  0.564912        0.80          39  118.120857   \n",
       "6051           3  40  60.5  0.564912        0.80          44  132.885964   \n",
       "6052           3  40  60.5  0.564912        0.80          50  147.651071   \n",
       "...          ...  ..   ...       ...         ...         ...         ...   \n",
       "20767          7  53  78.5  1.130526        1.06          50  152.910929   \n",
       "20768          7  53  78.5  1.130526        1.06          54  168.202021   \n",
       "20769          7  53  78.5  1.130526        1.06          59  183.493114   \n",
       "20770          7  53  78.5  1.130526        1.06          64  198.784207   \n",
       "20771          7  53  78.5  1.130526        1.06          70  214.075300   \n",
       "\n",
       "        fl_weight   rr_weight   rl_weight  ...  slipaFR  slipaRL  slipaRR  \\\n",
       "6048    88.590643  206.711500  206.711500  ...   -999.9   -999.9   -999.9   \n",
       "6049   103.355750  191.946393  191.946393  ...   -999.9   -999.9   -999.9   \n",
       "6050   118.120857  177.181286  177.181286  ...   -999.9   -999.9   -999.9   \n",
       "6051   132.885964  162.416179  162.416179  ...   -999.9   -999.9   -999.9   \n",
       "6052   147.651071  147.651071  147.651071  ...   -999.9   -999.9   -999.9   \n",
       "...           ...         ...         ...  ...      ...      ...      ...   \n",
       "20767  152.910929  152.910929  152.910929  ...   -999.9   -999.9   -999.9   \n",
       "20768  168.202021  137.619836  137.619836  ...   -999.9   -999.9   -999.9   \n",
       "20769  183.493114  122.328743  122.328743  ...   -999.9   -999.9   -999.9   \n",
       "20770  198.784207  107.037650  107.037650  ...   -999.9   -999.9   -999.9   \n",
       "20771  214.075300   91.746557   91.746557  ...   -999.9   -999.9   -999.9   \n",
       "\n",
       "       sliprFL  sliprFR  sliprRL  sliprRR  speed   yawa   yawv  \n",
       "6048    -999.9   -999.9   -999.9   -999.9 -999.9 -999.9 -999.9  \n",
       "6049    -999.9   -999.9   -999.9   -999.9 -999.9 -999.9 -999.9  \n",
       "6050    -999.9   -999.9   -999.9   -999.9 -999.9 -999.9 -999.9  \n",
       "6051    -999.9   -999.9   -999.9   -999.9 -999.9 -999.9 -999.9  \n",
       "6052    -999.9   -999.9   -999.9   -999.9 -999.9 -999.9 -999.9  \n",
       "...        ...      ...      ...      ...    ...    ...    ...  \n",
       "20767   -999.9   -999.9   -999.9   -999.9 -999.9 -999.9 -999.9  \n",
       "20768   -999.9   -999.9   -999.9   -999.9 -999.9 -999.9 -999.9  \n",
       "20769   -999.9   -999.9   -999.9   -999.9 -999.9 -999.9 -999.9  \n",
       "20770   -999.9   -999.9   -999.9   -999.9 -999.9 -999.9 -999.9  \n",
       "20771   -999.9   -999.9   -999.9   -999.9 -999.9 -999.9 -999.9  \n",
       "\n",
       "[2835 rows x 40 columns]"
      ]
     },
     "execution_count": 140,
     "metadata": {},
     "output_type": "execute_result"
    }
   ],
   "source": [
    "# the sim reports results of -999 for simulation errors\n",
    "results_df[results_df[\"!laptime\"] < 0]"
   ]
  },
  {
   "cell_type": "markdown",
   "metadata": {},
   "source": [
    "### Replace the simulations that did not solve properly with np.nan"
   ]
  },
  {
   "cell_type": "code",
   "execution_count": 154,
   "metadata": {},
   "outputs": [
    {
     "data": {
      "text/html": [
       "<div>\n",
       "<style scoped>\n",
       "    .dataframe tbody tr th:only-of-type {\n",
       "        vertical-align: middle;\n",
       "    }\n",
       "\n",
       "    .dataframe tbody tr th {\n",
       "        vertical-align: top;\n",
       "    }\n",
       "\n",
       "    .dataframe thead th {\n",
       "        text-align: right;\n",
       "    }\n",
       "</style>\n",
       "<table border=\"1\" class=\"dataframe\">\n",
       "  <thead>\n",
       "    <tr style=\"text-align: right;\">\n",
       "      <th></th>\n",
       "      <th>track_num</th>\n",
       "      <th>tw</th>\n",
       "      <th>wb</th>\n",
       "      <th>df_scale</th>\n",
       "      <th>drag_scale</th>\n",
       "      <th>weight_dst</th>\n",
       "      <th>fr_weight</th>\n",
       "      <th>fl_weight</th>\n",
       "      <th>rr_weight</th>\n",
       "      <th>rl_weight</th>\n",
       "      <th>...</th>\n",
       "      <th>slipaFR</th>\n",
       "      <th>slipaRL</th>\n",
       "      <th>slipaRR</th>\n",
       "      <th>sliprFL</th>\n",
       "      <th>sliprFR</th>\n",
       "      <th>sliprRL</th>\n",
       "      <th>sliprRR</th>\n",
       "      <th>speed</th>\n",
       "      <th>yawa</th>\n",
       "      <th>yawv</th>\n",
       "    </tr>\n",
       "  </thead>\n",
       "  <tbody>\n",
       "    <tr>\n",
       "      <th>0</th>\n",
       "      <td>1</td>\n",
       "      <td>40</td>\n",
       "      <td>60.5</td>\n",
       "      <td>0.564912</td>\n",
       "      <td>0.8</td>\n",
       "      <td>30</td>\n",
       "      <td>88.590643</td>\n",
       "      <td>88.590643</td>\n",
       "      <td>206.711500</td>\n",
       "      <td>206.711500</td>\n",
       "      <td>...</td>\n",
       "      <td>0.12721</td>\n",
       "      <td>0.13786</td>\n",
       "      <td>-0.009197</td>\n",
       "      <td>0.014902</td>\n",
       "      <td>0.014922</td>\n",
       "      <td>0.050309</td>\n",
       "      <td>0.050421</td>\n",
       "      <td>63.142</td>\n",
       "      <td>2.4664</td>\n",
       "      <td>0.000087</td>\n",
       "    </tr>\n",
       "    <tr>\n",
       "      <th>1</th>\n",
       "      <td>1</td>\n",
       "      <td>40</td>\n",
       "      <td>60.5</td>\n",
       "      <td>0.564912</td>\n",
       "      <td>0.8</td>\n",
       "      <td>35</td>\n",
       "      <td>103.355750</td>\n",
       "      <td>103.355750</td>\n",
       "      <td>191.946393</td>\n",
       "      <td>191.946393</td>\n",
       "      <td>...</td>\n",
       "      <td>0.12721</td>\n",
       "      <td>0.13786</td>\n",
       "      <td>-0.009197</td>\n",
       "      <td>0.014902</td>\n",
       "      <td>0.014922</td>\n",
       "      <td>0.050309</td>\n",
       "      <td>0.050421</td>\n",
       "      <td>63.142</td>\n",
       "      <td>2.4664</td>\n",
       "      <td>0.000087</td>\n",
       "    </tr>\n",
       "    <tr>\n",
       "      <th>2</th>\n",
       "      <td>1</td>\n",
       "      <td>40</td>\n",
       "      <td>60.5</td>\n",
       "      <td>0.564912</td>\n",
       "      <td>0.8</td>\n",
       "      <td>40</td>\n",
       "      <td>118.120857</td>\n",
       "      <td>118.120857</td>\n",
       "      <td>177.181286</td>\n",
       "      <td>177.181286</td>\n",
       "      <td>...</td>\n",
       "      <td>0.12721</td>\n",
       "      <td>0.13786</td>\n",
       "      <td>-0.009197</td>\n",
       "      <td>0.014902</td>\n",
       "      <td>0.014922</td>\n",
       "      <td>0.050309</td>\n",
       "      <td>0.050421</td>\n",
       "      <td>63.142</td>\n",
       "      <td>2.4664</td>\n",
       "      <td>0.000087</td>\n",
       "    </tr>\n",
       "    <tr>\n",
       "      <th>3</th>\n",
       "      <td>1</td>\n",
       "      <td>40</td>\n",
       "      <td>60.5</td>\n",
       "      <td>0.564912</td>\n",
       "      <td>0.8</td>\n",
       "      <td>45</td>\n",
       "      <td>132.885964</td>\n",
       "      <td>132.885964</td>\n",
       "      <td>162.416179</td>\n",
       "      <td>162.416179</td>\n",
       "      <td>...</td>\n",
       "      <td>0.12721</td>\n",
       "      <td>0.13786</td>\n",
       "      <td>-0.009197</td>\n",
       "      <td>0.014902</td>\n",
       "      <td>0.014922</td>\n",
       "      <td>0.050309</td>\n",
       "      <td>0.050421</td>\n",
       "      <td>63.142</td>\n",
       "      <td>2.4664</td>\n",
       "      <td>0.000087</td>\n",
       "    </tr>\n",
       "    <tr>\n",
       "      <th>4</th>\n",
       "      <td>1</td>\n",
       "      <td>40</td>\n",
       "      <td>60.5</td>\n",
       "      <td>0.564912</td>\n",
       "      <td>0.8</td>\n",
       "      <td>50</td>\n",
       "      <td>147.651071</td>\n",
       "      <td>147.651071</td>\n",
       "      <td>147.651071</td>\n",
       "      <td>147.651071</td>\n",
       "      <td>...</td>\n",
       "      <td>0.12721</td>\n",
       "      <td>0.13786</td>\n",
       "      <td>-0.009197</td>\n",
       "      <td>0.014902</td>\n",
       "      <td>0.014922</td>\n",
       "      <td>0.050309</td>\n",
       "      <td>0.050421</td>\n",
       "      <td>63.142</td>\n",
       "      <td>2.4664</td>\n",
       "      <td>0.000087</td>\n",
       "    </tr>\n",
       "    <tr>\n",
       "      <th>...</th>\n",
       "      <td>...</td>\n",
       "      <td>...</td>\n",
       "      <td>...</td>\n",
       "      <td>...</td>\n",
       "      <td>...</td>\n",
       "      <td>...</td>\n",
       "      <td>...</td>\n",
       "      <td>...</td>\n",
       "      <td>...</td>\n",
       "      <td>...</td>\n",
       "      <td>...</td>\n",
       "      <td>...</td>\n",
       "      <td>...</td>\n",
       "      <td>...</td>\n",
       "      <td>...</td>\n",
       "      <td>...</td>\n",
       "      <td>...</td>\n",
       "      <td>...</td>\n",
       "      <td>...</td>\n",
       "      <td>...</td>\n",
       "      <td>...</td>\n",
       "    </tr>\n",
       "    <tr>\n",
       "      <th>21163</th>\n",
       "      <td>7</td>\n",
       "      <td>55</td>\n",
       "      <td>80.5</td>\n",
       "      <td>1.217544</td>\n",
       "      <td>1.1</td>\n",
       "      <td>50</td>\n",
       "      <td>153.611964</td>\n",
       "      <td>153.611964</td>\n",
       "      <td>153.611964</td>\n",
       "      <td>153.611964</td>\n",
       "      <td>...</td>\n",
       "      <td>6.59930</td>\n",
       "      <td>3.65360</td>\n",
       "      <td>2.994700</td>\n",
       "      <td>0.021668</td>\n",
       "      <td>0.025350</td>\n",
       "      <td>0.064476</td>\n",
       "      <td>0.096046</td>\n",
       "      <td>72.734</td>\n",
       "      <td>363.3500</td>\n",
       "      <td>73.357000</td>\n",
       "    </tr>\n",
       "    <tr>\n",
       "      <th>21164</th>\n",
       "      <td>7</td>\n",
       "      <td>55</td>\n",
       "      <td>80.5</td>\n",
       "      <td>1.217544</td>\n",
       "      <td>1.1</td>\n",
       "      <td>55</td>\n",
       "      <td>168.973161</td>\n",
       "      <td>168.973161</td>\n",
       "      <td>138.250768</td>\n",
       "      <td>138.250768</td>\n",
       "      <td>...</td>\n",
       "      <td>6.59930</td>\n",
       "      <td>3.65360</td>\n",
       "      <td>2.994700</td>\n",
       "      <td>0.021668</td>\n",
       "      <td>0.025350</td>\n",
       "      <td>0.064476</td>\n",
       "      <td>0.096046</td>\n",
       "      <td>72.734</td>\n",
       "      <td>363.3500</td>\n",
       "      <td>73.357000</td>\n",
       "    </tr>\n",
       "    <tr>\n",
       "      <th>21165</th>\n",
       "      <td>7</td>\n",
       "      <td>55</td>\n",
       "      <td>80.5</td>\n",
       "      <td>1.217544</td>\n",
       "      <td>1.1</td>\n",
       "      <td>60</td>\n",
       "      <td>184.334357</td>\n",
       "      <td>184.334357</td>\n",
       "      <td>122.889571</td>\n",
       "      <td>122.889571</td>\n",
       "      <td>...</td>\n",
       "      <td>6.59930</td>\n",
       "      <td>3.65360</td>\n",
       "      <td>2.994700</td>\n",
       "      <td>0.021668</td>\n",
       "      <td>0.025350</td>\n",
       "      <td>0.064476</td>\n",
       "      <td>0.096046</td>\n",
       "      <td>72.734</td>\n",
       "      <td>363.3500</td>\n",
       "      <td>73.357000</td>\n",
       "    </tr>\n",
       "    <tr>\n",
       "      <th>21166</th>\n",
       "      <td>7</td>\n",
       "      <td>55</td>\n",
       "      <td>80.5</td>\n",
       "      <td>1.217544</td>\n",
       "      <td>1.1</td>\n",
       "      <td>65</td>\n",
       "      <td>199.695554</td>\n",
       "      <td>199.695554</td>\n",
       "      <td>107.528375</td>\n",
       "      <td>107.528375</td>\n",
       "      <td>...</td>\n",
       "      <td>6.59930</td>\n",
       "      <td>3.65360</td>\n",
       "      <td>2.994700</td>\n",
       "      <td>0.021668</td>\n",
       "      <td>0.025350</td>\n",
       "      <td>0.064476</td>\n",
       "      <td>0.096046</td>\n",
       "      <td>72.734</td>\n",
       "      <td>363.3500</td>\n",
       "      <td>73.357000</td>\n",
       "    </tr>\n",
       "    <tr>\n",
       "      <th>21167</th>\n",
       "      <td>7</td>\n",
       "      <td>55</td>\n",
       "      <td>80.5</td>\n",
       "      <td>1.217544</td>\n",
       "      <td>1.1</td>\n",
       "      <td>70</td>\n",
       "      <td>215.056750</td>\n",
       "      <td>215.056750</td>\n",
       "      <td>92.167179</td>\n",
       "      <td>92.167179</td>\n",
       "      <td>...</td>\n",
       "      <td>6.59930</td>\n",
       "      <td>3.65360</td>\n",
       "      <td>2.994700</td>\n",
       "      <td>0.021668</td>\n",
       "      <td>0.025350</td>\n",
       "      <td>0.064476</td>\n",
       "      <td>0.096046</td>\n",
       "      <td>72.734</td>\n",
       "      <td>363.3500</td>\n",
       "      <td>73.357000</td>\n",
       "    </tr>\n",
       "  </tbody>\n",
       "</table>\n",
       "<p>21168 rows × 40 columns</p>\n",
       "</div>"
      ],
      "text/plain": [
       "       track_num  tw    wb  df_scale  drag_scale  weight_dst   fr_weight  \\\n",
       "0              1  40  60.5  0.564912         0.8          30   88.590643   \n",
       "1              1  40  60.5  0.564912         0.8          35  103.355750   \n",
       "2              1  40  60.5  0.564912         0.8          40  118.120857   \n",
       "3              1  40  60.5  0.564912         0.8          45  132.885964   \n",
       "4              1  40  60.5  0.564912         0.8          50  147.651071   \n",
       "...          ...  ..   ...       ...         ...         ...         ...   \n",
       "21163          7  55  80.5  1.217544         1.1          50  153.611964   \n",
       "21164          7  55  80.5  1.217544         1.1          55  168.973161   \n",
       "21165          7  55  80.5  1.217544         1.1          60  184.334357   \n",
       "21166          7  55  80.5  1.217544         1.1          65  199.695554   \n",
       "21167          7  55  80.5  1.217544         1.1          70  215.056750   \n",
       "\n",
       "        fl_weight   rr_weight   rl_weight  ...  slipaFR  slipaRL   slipaRR  \\\n",
       "0       88.590643  206.711500  206.711500  ...  0.12721  0.13786 -0.009197   \n",
       "1      103.355750  191.946393  191.946393  ...  0.12721  0.13786 -0.009197   \n",
       "2      118.120857  177.181286  177.181286  ...  0.12721  0.13786 -0.009197   \n",
       "3      132.885964  162.416179  162.416179  ...  0.12721  0.13786 -0.009197   \n",
       "4      147.651071  147.651071  147.651071  ...  0.12721  0.13786 -0.009197   \n",
       "...           ...         ...         ...  ...      ...      ...       ...   \n",
       "21163  153.611964  153.611964  153.611964  ...  6.59930  3.65360  2.994700   \n",
       "21164  168.973161  138.250768  138.250768  ...  6.59930  3.65360  2.994700   \n",
       "21165  184.334357  122.889571  122.889571  ...  6.59930  3.65360  2.994700   \n",
       "21166  199.695554  107.528375  107.528375  ...  6.59930  3.65360  2.994700   \n",
       "21167  215.056750   92.167179   92.167179  ...  6.59930  3.65360  2.994700   \n",
       "\n",
       "        sliprFL   sliprFR   sliprRL   sliprRR   speed      yawa       yawv  \n",
       "0      0.014902  0.014922  0.050309  0.050421  63.142    2.4664   0.000087  \n",
       "1      0.014902  0.014922  0.050309  0.050421  63.142    2.4664   0.000087  \n",
       "2      0.014902  0.014922  0.050309  0.050421  63.142    2.4664   0.000087  \n",
       "3      0.014902  0.014922  0.050309  0.050421  63.142    2.4664   0.000087  \n",
       "4      0.014902  0.014922  0.050309  0.050421  63.142    2.4664   0.000087  \n",
       "...         ...       ...       ...       ...     ...       ...        ...  \n",
       "21163  0.021668  0.025350  0.064476  0.096046  72.734  363.3500  73.357000  \n",
       "21164  0.021668  0.025350  0.064476  0.096046  72.734  363.3500  73.357000  \n",
       "21165  0.021668  0.025350  0.064476  0.096046  72.734  363.3500  73.357000  \n",
       "21166  0.021668  0.025350  0.064476  0.096046  72.734  363.3500  73.357000  \n",
       "21167  0.021668  0.025350  0.064476  0.096046  72.734  363.3500  73.357000  \n",
       "\n",
       "[21168 rows x 40 columns]"
      ]
     },
     "execution_count": 154,
     "metadata": {},
     "output_type": "execute_result"
    }
   ],
   "source": [
    "for index in results_df.index:\n",
    "    for column in results_df.columns:\n",
    "        # if the value at the current location is < -995, then there was almost certainly an error\n",
    "        if results_df.at[index, column] <= -995:\n",
    "            results_df.at[index, column] = np.nan\n",
    "            \n",
    "results_df"
   ]
  },
  {
   "cell_type": "markdown",
   "metadata": {},
   "source": [
    "### Create a utility function that will allow us to easily extract TW vs WB results into 3-dimensions"
   ]
  },
  {
   "cell_type": "code",
   "execution_count": 219,
   "metadata": {},
   "outputs": [],
   "source": [
    "# beware, this function uses globals! Specifically speaking, min_tw, tws, step_tw... etc. as well as the DF!\n",
    "def create_tw_wb_results_grid(track_num, weight_dist, results_col_str):\n",
    "    \"\"\"\n",
    "    pulls out data into a TWxWB grid so that heatmaps may be plotted. Essentially, this pulls out whatever\n",
    "    results data you input in results_col_str and turns it into \"z\" data with x and y being tw and wb\n",
    "    :param track_num: int - track number\n",
    "    :param weight_dist: the weight distribution X/100 F\n",
    "    :param results_col_str: string - the title of the specific column to pul data from\n",
    "    :returns: the \"z\" data 2d array\n",
    "    \"\"\"\n",
    "\n",
    "    # create a mesh grid to place results\n",
    "    tw_wb_ary = np.zeros(shape=(len(wbs), len(tws)))\n",
    "\n",
    "    for tw in tws:\n",
    "        for wb in wbs:\n",
    "\n",
    "            # create track width and wheelbase masks that we can combine to \"index\" the data we want\n",
    "            tw_msk = results_df[\"tw\"] == tw\n",
    "            wb_msk = results_df[\"wb\"] == wb\n",
    "            track_msk = results_df[\"track_num\"] == track_num\n",
    "            wd_msk = results_df[\"weight_dst\"] == weight_dist\n",
    "            \n",
    "            # generate the tw index and wb index to place in the mesh grid\n",
    "            tw_i = int((tw - min_tw) / step_tw)\n",
    "            wb_i = int((wb - min_wb) / step_wb)\n",
    "            \n",
    "            # combine all of the masks and pull out the desired result\n",
    "            tw_wb_ary[wb_i][tw_i] = results_df[tw_msk & wb_msk & track_msk & wd_msk][results_col_str]\n",
    "            \n",
    "    return tw_wb_ary\n",
    "\n",
    "# again, this function uses globals. Act accordingly!\n",
    "def show_laptimes_per_wd(track_num, track_name_str):\n",
    "    \"\"\"\n",
    "    track_num: the number in the dataframe\n",
    "    track_name_str: the string to show in the plot as the track name\n",
    "    \"\"\"\n",
    "    \n",
    "    fig = make_subplots(rows=3, cols=3, horizontal_spacing=0.1, vertical_spacing=0.3,\n",
    "                        subplot_titles=(\"30% Front\", \"35% Front\", \"40% Front\", \"45% Front\", \"50% Front\", \"55% Front\", \"60% Front\", \"65% Front\", \"70% Front\"))\n",
    "    \n",
    "    weight_dists = [30, 35, 40, 45, 50, 55, 60, 65, 70]\n",
    "    for i in range(len(weight_dists)):\n",
    "        \n",
    "        laptimes = create_tw_wb_results_grid(track_num, weight_dists[i], \"!laptime\")\n",
    "        heatmap = go.Heatmap(z=laptimes, x=tws, y=wbs, hoverongaps = False, colorscale = 'Viridis_r')\n",
    "\n",
    "        row = (i // 3) + 1\n",
    "        col = (i % 3) + 1\n",
    "        \n",
    "        fig.update_xaxes(title_text=\"Track Width [in]\", row=row, col=col)\n",
    "        fig.update_yaxes(title_text=\"Wheelbase [in]\", row=row, col=col)\n",
    "        fig.append_trace(heatmap, row=row, col=col)\n",
    "        \n",
    "    fig.update_layout(title_text=\"{} Varied by Weight Distribution\".format(track_name_str))\n",
    "    \n",
    "    return fig\n",
    "\n",
    "def show_laptimes(track_num, track_name_str):\n",
    "    \"\"\"\n",
    "    track_num: the number in the dataframe\n",
    "    track_name_str: the string to show in the plot as the track name\n",
    "    \"\"\"\n",
    "        \n",
    "    laptimes = create_tw_wb_results_grid(track_num, weight_dists[i], \"!laptime\")\n",
    "    heatmap = go.Heatmap(z=laptimes, x=tws, y=wbs, hoverongaps = False, colorscale = 'Viridis_r')\n",
    "    fig = go.Figure(heatmap)\n",
    "    \n",
    "    fig.update_layout(title=\"Wheelbase vs. Track Width vs. Laptime — {} (w.d. = 50%F)\".format(track_name_str),\n",
    "                      xaxis_title=\"Track Width [in]\",\n",
    "                      yaxis_title=\"Wheelbase [in]\")\n",
    "            \n",
    "    return fig\n",
    "        "
   ]
  },
  {
   "cell_type": "markdown",
   "metadata": {},
   "source": [
    "# Acceleration"
   ]
  },
  {
   "cell_type": "code",
   "execution_count": 236,
   "metadata": {
    "scrolled": true
   },
   "outputs": [
    {
     "data": {
      "application/vnd.plotly.v1+json": {
       "config": {
        "plotlyServerURL": "https://plot.ly"
       },
       "data": [
        {
         "colorscale": [
          [
           0,
           "#fde725"
          ],
          [
           0.1111111111111111,
           "#b5de2b"
          ],
          [
           0.2222222222222222,
           "#6ece58"
          ],
          [
           0.3333333333333333,
           "#35b779"
          ],
          [
           0.4444444444444444,
           "#1f9e89"
          ],
          [
           0.5555555555555556,
           "#26828e"
          ],
          [
           0.6666666666666666,
           "#31688e"
          ],
          [
           0.7777777777777778,
           "#3e4989"
          ],
          [
           0.8888888888888888,
           "#482878"
          ],
          [
           1,
           "#440154"
          ]
         ],
         "hoverongaps": false,
         "type": "heatmap",
         "x": [
          40,
          41,
          42,
          43,
          44,
          45,
          46,
          47,
          48,
          49,
          50,
          51,
          52,
          53,
          54,
          55
         ],
         "y": [
          60.5,
          61.5,
          62.5,
          63.5,
          64.5,
          65.5,
          66.5,
          67.5,
          68.5,
          69.5,
          70.5,
          71.5,
          72.5,
          73.5,
          74.5,
          75.5,
          76.5,
          77.5,
          78.5,
          79.5,
          80.5
         ],
         "z": [
          [
           4.086,
           4.086,
           4.086,
           4.083,
           4.083,
           4.083,
           4.086,
           4.0889999999999995,
           4.092,
           4.098,
           4.11,
           4.11,
           4.11,
           4.11,
           4.104,
           4.107
          ],
          [
           4.071000000000001,
           4.086,
           4.086,
           4.086,
           4.083,
           4.083,
           4.086,
           4.0889999999999995,
           4.092,
           4.095,
           4.11,
           4.11,
           4.11,
           4.113,
           4.107,
           4.107
          ],
          [
           4.086,
           4.074,
           4.0889999999999995,
           4.0889999999999995,
           4.086,
           4.086,
           4.086,
           4.0889999999999995,
           4.092,
           4.095,
           4.101,
           4.11,
           4.11,
           4.113,
           4.11,
           4.11
          ],
          [
           4.074,
           4.086,
           4.077,
           4.0889999999999995,
           4.0889999999999995,
           4.086,
           4.0889999999999995,
           4.0889999999999995,
           4.092,
           4.095,
           4.095,
           4.113,
           4.113,
           4.113,
           4.113,
           4.11
          ],
          [
           4.074,
           4.077,
           4.086,
           4.08,
           4.0889999999999995,
           4.0889999999999995,
           4.0889999999999995,
           4.0889999999999995,
           4.092,
           4.095,
           4.098,
           4.098,
           4.113,
           4.113,
           4.113,
           4.113
          ],
          [
           4.074,
           4.077,
           4.077,
           4.0889999999999995,
           4.083,
           4.0889999999999995,
           4.0889999999999995,
           4.092,
           4.092,
           4.095,
           4.098,
           4.098,
           4.101,
           4.113,
           4.1160000000000005,
           4.113
          ],
          [
           4.074,
           4.077,
           4.077,
           4.08,
           4.0889999999999995,
           4.092,
           4.092,
           4.092,
           4.092,
           4.095,
           4.098,
           4.098,
           4.113,
           4.1160000000000005,
           4.1160000000000005,
           4.1160000000000005
          ],
          [
           4.074,
           4.077,
           4.08,
           4.08,
           4.083,
           4.0889999999999995,
           4.092,
           4.092,
           4.092,
           4.095,
           4.098,
           4.098,
           4.101,
           4.104,
           4.1160000000000005,
           4.1160000000000005
          ],
          [
           4.074,
           4.077,
           4.08,
           4.08,
           4.083,
           4.092,
           4.092,
           4.092,
           4.095,
           4.095,
           4.098,
           4.101,
           4.101,
           4.104,
           4.107,
           4.119
          ],
          [
           4.074,
           4.077,
           4.08,
           4.08,
           4.083,
           4.086,
           4.092,
           4.0889999999999995,
           4.095,
           4.095,
           4.098,
           4.101,
           4.101,
           4.104,
           4.1160000000000005,
           4.11
          ],
          [
           4.077,
           4.077,
           4.08,
           4.083,
           4.092,
           4.086,
           4.0889999999999995,
           4.095,
           4.092,
           4.098,
           4.098,
           4.101,
           4.104,
           4.104,
           4.107,
           4.1160000000000005
          ],
          [
           4.077,
           4.077,
           4.08,
           4.083,
           4.083,
           4.092,
           4.0889999999999995,
           4.095,
           4.095,
           4.095,
           4.098,
           4.101,
           4.104,
           4.104,
           4.107,
           4.11
          ],
          [
           4.077,
           4.077,
           4.08,
           4.083,
           4.083,
           4.086,
           4.0889999999999995,
           4.092,
           4.095,
           4.098,
           4.098,
           4.101,
           4.104,
           4.104,
           4.107,
           4.11
          ],
          [
           4.074,
           4.08,
           4.08,
           4.083,
           4.083,
           4.086,
           4.095,
           4.092,
           4.092,
           4.098,
           4.101,
           4.101,
           4.104,
           4.104,
           4.107,
           4.11
          ],
          [
           4.074,
           4.077,
           4.08,
           4.083,
           4.083,
           4.086,
           4.0889999999999995,
           4.095,
           4.092,
           4.098,
           4.101,
           4.101,
           4.104,
           4.104,
           4.107,
           4.11
          ],
          [
           4.077,
           4.077,
           4.083,
           4.083,
           4.086,
           4.086,
           4.0889999999999995,
           4.095,
           4.092,
           4.095,
           4.101,
           4.104,
           4.104,
           4.107,
           4.107,
           4.11
          ],
          [
           4.08,
           4.077,
           4.08,
           4.083,
           4.086,
           4.086,
           4.0889999999999995,
           4.092,
           4.098,
           4.095,
           4.098,
           4.104,
           4.104,
           4.104,
           4.11,
           4.11
          ],
          [
           4.074,
           4.08,
           4.08,
           4.083,
           4.086,
           4.0889999999999995,
           4.0889999999999995,
           4.092,
           4.098,
           4.098,
           4.098,
           4.104,
           4.104,
           4.107,
           4.11,
           4.11
          ],
          [
           4.08,
           4.08,
           4.083,
           4.083,
           4.086,
           4.0889999999999995,
           4.095,
           4.092,
           4.095,
           4.098,
           4.098,
           4.101,
           4.104,
           4.107,
           4.107,
           4.113
          ],
          [
           4.077,
           4.08,
           4.083,
           4.083,
           4.086,
           4.0889999999999995,
           4.0889999999999995,
           4.092,
           4.095,
           4.101,
           4.101,
           4.101,
           4.104,
           4.107,
           4.11,
           4.11
          ],
          [
           4.077,
           4.083,
           4.08,
           4.086,
           4.086,
           4.0889999999999995,
           4.092,
           4.098,
           4.095,
           4.098,
           4.101,
           4.101,
           4.104,
           4.107,
           4.11,
           4.113
          ]
         ]
        }
       ],
       "layout": {
        "template": {
         "data": {
          "bar": [
           {
            "error_x": {
             "color": "#2a3f5f"
            },
            "error_y": {
             "color": "#2a3f5f"
            },
            "marker": {
             "line": {
              "color": "#E5ECF6",
              "width": 0.5
             }
            },
            "type": "bar"
           }
          ],
          "barpolar": [
           {
            "marker": {
             "line": {
              "color": "#E5ECF6",
              "width": 0.5
             }
            },
            "type": "barpolar"
           }
          ],
          "carpet": [
           {
            "aaxis": {
             "endlinecolor": "#2a3f5f",
             "gridcolor": "white",
             "linecolor": "white",
             "minorgridcolor": "white",
             "startlinecolor": "#2a3f5f"
            },
            "baxis": {
             "endlinecolor": "#2a3f5f",
             "gridcolor": "white",
             "linecolor": "white",
             "minorgridcolor": "white",
             "startlinecolor": "#2a3f5f"
            },
            "type": "carpet"
           }
          ],
          "choropleth": [
           {
            "colorbar": {
             "outlinewidth": 0,
             "ticks": ""
            },
            "type": "choropleth"
           }
          ],
          "contour": [
           {
            "colorbar": {
             "outlinewidth": 0,
             "ticks": ""
            },
            "colorscale": [
             [
              0,
              "#0d0887"
             ],
             [
              0.1111111111111111,
              "#46039f"
             ],
             [
              0.2222222222222222,
              "#7201a8"
             ],
             [
              0.3333333333333333,
              "#9c179e"
             ],
             [
              0.4444444444444444,
              "#bd3786"
             ],
             [
              0.5555555555555556,
              "#d8576b"
             ],
             [
              0.6666666666666666,
              "#ed7953"
             ],
             [
              0.7777777777777778,
              "#fb9f3a"
             ],
             [
              0.8888888888888888,
              "#fdca26"
             ],
             [
              1,
              "#f0f921"
             ]
            ],
            "type": "contour"
           }
          ],
          "contourcarpet": [
           {
            "colorbar": {
             "outlinewidth": 0,
             "ticks": ""
            },
            "type": "contourcarpet"
           }
          ],
          "heatmap": [
           {
            "colorbar": {
             "outlinewidth": 0,
             "ticks": ""
            },
            "colorscale": [
             [
              0,
              "#0d0887"
             ],
             [
              0.1111111111111111,
              "#46039f"
             ],
             [
              0.2222222222222222,
              "#7201a8"
             ],
             [
              0.3333333333333333,
              "#9c179e"
             ],
             [
              0.4444444444444444,
              "#bd3786"
             ],
             [
              0.5555555555555556,
              "#d8576b"
             ],
             [
              0.6666666666666666,
              "#ed7953"
             ],
             [
              0.7777777777777778,
              "#fb9f3a"
             ],
             [
              0.8888888888888888,
              "#fdca26"
             ],
             [
              1,
              "#f0f921"
             ]
            ],
            "type": "heatmap"
           }
          ],
          "heatmapgl": [
           {
            "colorbar": {
             "outlinewidth": 0,
             "ticks": ""
            },
            "colorscale": [
             [
              0,
              "#0d0887"
             ],
             [
              0.1111111111111111,
              "#46039f"
             ],
             [
              0.2222222222222222,
              "#7201a8"
             ],
             [
              0.3333333333333333,
              "#9c179e"
             ],
             [
              0.4444444444444444,
              "#bd3786"
             ],
             [
              0.5555555555555556,
              "#d8576b"
             ],
             [
              0.6666666666666666,
              "#ed7953"
             ],
             [
              0.7777777777777778,
              "#fb9f3a"
             ],
             [
              0.8888888888888888,
              "#fdca26"
             ],
             [
              1,
              "#f0f921"
             ]
            ],
            "type": "heatmapgl"
           }
          ],
          "histogram": [
           {
            "marker": {
             "colorbar": {
              "outlinewidth": 0,
              "ticks": ""
             }
            },
            "type": "histogram"
           }
          ],
          "histogram2d": [
           {
            "colorbar": {
             "outlinewidth": 0,
             "ticks": ""
            },
            "colorscale": [
             [
              0,
              "#0d0887"
             ],
             [
              0.1111111111111111,
              "#46039f"
             ],
             [
              0.2222222222222222,
              "#7201a8"
             ],
             [
              0.3333333333333333,
              "#9c179e"
             ],
             [
              0.4444444444444444,
              "#bd3786"
             ],
             [
              0.5555555555555556,
              "#d8576b"
             ],
             [
              0.6666666666666666,
              "#ed7953"
             ],
             [
              0.7777777777777778,
              "#fb9f3a"
             ],
             [
              0.8888888888888888,
              "#fdca26"
             ],
             [
              1,
              "#f0f921"
             ]
            ],
            "type": "histogram2d"
           }
          ],
          "histogram2dcontour": [
           {
            "colorbar": {
             "outlinewidth": 0,
             "ticks": ""
            },
            "colorscale": [
             [
              0,
              "#0d0887"
             ],
             [
              0.1111111111111111,
              "#46039f"
             ],
             [
              0.2222222222222222,
              "#7201a8"
             ],
             [
              0.3333333333333333,
              "#9c179e"
             ],
             [
              0.4444444444444444,
              "#bd3786"
             ],
             [
              0.5555555555555556,
              "#d8576b"
             ],
             [
              0.6666666666666666,
              "#ed7953"
             ],
             [
              0.7777777777777778,
              "#fb9f3a"
             ],
             [
              0.8888888888888888,
              "#fdca26"
             ],
             [
              1,
              "#f0f921"
             ]
            ],
            "type": "histogram2dcontour"
           }
          ],
          "mesh3d": [
           {
            "colorbar": {
             "outlinewidth": 0,
             "ticks": ""
            },
            "type": "mesh3d"
           }
          ],
          "parcoords": [
           {
            "line": {
             "colorbar": {
              "outlinewidth": 0,
              "ticks": ""
             }
            },
            "type": "parcoords"
           }
          ],
          "pie": [
           {
            "automargin": true,
            "type": "pie"
           }
          ],
          "scatter": [
           {
            "marker": {
             "colorbar": {
              "outlinewidth": 0,
              "ticks": ""
             }
            },
            "type": "scatter"
           }
          ],
          "scatter3d": [
           {
            "line": {
             "colorbar": {
              "outlinewidth": 0,
              "ticks": ""
             }
            },
            "marker": {
             "colorbar": {
              "outlinewidth": 0,
              "ticks": ""
             }
            },
            "type": "scatter3d"
           }
          ],
          "scattercarpet": [
           {
            "marker": {
             "colorbar": {
              "outlinewidth": 0,
              "ticks": ""
             }
            },
            "type": "scattercarpet"
           }
          ],
          "scattergeo": [
           {
            "marker": {
             "colorbar": {
              "outlinewidth": 0,
              "ticks": ""
             }
            },
            "type": "scattergeo"
           }
          ],
          "scattergl": [
           {
            "marker": {
             "colorbar": {
              "outlinewidth": 0,
              "ticks": ""
             }
            },
            "type": "scattergl"
           }
          ],
          "scattermapbox": [
           {
            "marker": {
             "colorbar": {
              "outlinewidth": 0,
              "ticks": ""
             }
            },
            "type": "scattermapbox"
           }
          ],
          "scatterpolar": [
           {
            "marker": {
             "colorbar": {
              "outlinewidth": 0,
              "ticks": ""
             }
            },
            "type": "scatterpolar"
           }
          ],
          "scatterpolargl": [
           {
            "marker": {
             "colorbar": {
              "outlinewidth": 0,
              "ticks": ""
             }
            },
            "type": "scatterpolargl"
           }
          ],
          "scatterternary": [
           {
            "marker": {
             "colorbar": {
              "outlinewidth": 0,
              "ticks": ""
             }
            },
            "type": "scatterternary"
           }
          ],
          "surface": [
           {
            "colorbar": {
             "outlinewidth": 0,
             "ticks": ""
            },
            "colorscale": [
             [
              0,
              "#0d0887"
             ],
             [
              0.1111111111111111,
              "#46039f"
             ],
             [
              0.2222222222222222,
              "#7201a8"
             ],
             [
              0.3333333333333333,
              "#9c179e"
             ],
             [
              0.4444444444444444,
              "#bd3786"
             ],
             [
              0.5555555555555556,
              "#d8576b"
             ],
             [
              0.6666666666666666,
              "#ed7953"
             ],
             [
              0.7777777777777778,
              "#fb9f3a"
             ],
             [
              0.8888888888888888,
              "#fdca26"
             ],
             [
              1,
              "#f0f921"
             ]
            ],
            "type": "surface"
           }
          ],
          "table": [
           {
            "cells": {
             "fill": {
              "color": "#EBF0F8"
             },
             "line": {
              "color": "white"
             }
            },
            "header": {
             "fill": {
              "color": "#C8D4E3"
             },
             "line": {
              "color": "white"
             }
            },
            "type": "table"
           }
          ]
         },
         "layout": {
          "annotationdefaults": {
           "arrowcolor": "#2a3f5f",
           "arrowhead": 0,
           "arrowwidth": 1
          },
          "coloraxis": {
           "colorbar": {
            "outlinewidth": 0,
            "ticks": ""
           }
          },
          "colorscale": {
           "diverging": [
            [
             0,
             "#8e0152"
            ],
            [
             0.1,
             "#c51b7d"
            ],
            [
             0.2,
             "#de77ae"
            ],
            [
             0.3,
             "#f1b6da"
            ],
            [
             0.4,
             "#fde0ef"
            ],
            [
             0.5,
             "#f7f7f7"
            ],
            [
             0.6,
             "#e6f5d0"
            ],
            [
             0.7,
             "#b8e186"
            ],
            [
             0.8,
             "#7fbc41"
            ],
            [
             0.9,
             "#4d9221"
            ],
            [
             1,
             "#276419"
            ]
           ],
           "sequential": [
            [
             0,
             "#0d0887"
            ],
            [
             0.1111111111111111,
             "#46039f"
            ],
            [
             0.2222222222222222,
             "#7201a8"
            ],
            [
             0.3333333333333333,
             "#9c179e"
            ],
            [
             0.4444444444444444,
             "#bd3786"
            ],
            [
             0.5555555555555556,
             "#d8576b"
            ],
            [
             0.6666666666666666,
             "#ed7953"
            ],
            [
             0.7777777777777778,
             "#fb9f3a"
            ],
            [
             0.8888888888888888,
             "#fdca26"
            ],
            [
             1,
             "#f0f921"
            ]
           ],
           "sequentialminus": [
            [
             0,
             "#0d0887"
            ],
            [
             0.1111111111111111,
             "#46039f"
            ],
            [
             0.2222222222222222,
             "#7201a8"
            ],
            [
             0.3333333333333333,
             "#9c179e"
            ],
            [
             0.4444444444444444,
             "#bd3786"
            ],
            [
             0.5555555555555556,
             "#d8576b"
            ],
            [
             0.6666666666666666,
             "#ed7953"
            ],
            [
             0.7777777777777778,
             "#fb9f3a"
            ],
            [
             0.8888888888888888,
             "#fdca26"
            ],
            [
             1,
             "#f0f921"
            ]
           ]
          },
          "colorway": [
           "#636efa",
           "#EF553B",
           "#00cc96",
           "#ab63fa",
           "#FFA15A",
           "#19d3f3",
           "#FF6692",
           "#B6E880",
           "#FF97FF",
           "#FECB52"
          ],
          "font": {
           "color": "#2a3f5f"
          },
          "geo": {
           "bgcolor": "white",
           "lakecolor": "white",
           "landcolor": "#E5ECF6",
           "showlakes": true,
           "showland": true,
           "subunitcolor": "white"
          },
          "hoverlabel": {
           "align": "left"
          },
          "hovermode": "closest",
          "mapbox": {
           "style": "light"
          },
          "paper_bgcolor": "white",
          "plot_bgcolor": "#E5ECF6",
          "polar": {
           "angularaxis": {
            "gridcolor": "white",
            "linecolor": "white",
            "ticks": ""
           },
           "bgcolor": "#E5ECF6",
           "radialaxis": {
            "gridcolor": "white",
            "linecolor": "white",
            "ticks": ""
           }
          },
          "scene": {
           "xaxis": {
            "backgroundcolor": "#E5ECF6",
            "gridcolor": "white",
            "gridwidth": 2,
            "linecolor": "white",
            "showbackground": true,
            "ticks": "",
            "zerolinecolor": "white"
           },
           "yaxis": {
            "backgroundcolor": "#E5ECF6",
            "gridcolor": "white",
            "gridwidth": 2,
            "linecolor": "white",
            "showbackground": true,
            "ticks": "",
            "zerolinecolor": "white"
           },
           "zaxis": {
            "backgroundcolor": "#E5ECF6",
            "gridcolor": "white",
            "gridwidth": 2,
            "linecolor": "white",
            "showbackground": true,
            "ticks": "",
            "zerolinecolor": "white"
           }
          },
          "shapedefaults": {
           "line": {
            "color": "#2a3f5f"
           }
          },
          "ternary": {
           "aaxis": {
            "gridcolor": "white",
            "linecolor": "white",
            "ticks": ""
           },
           "baxis": {
            "gridcolor": "white",
            "linecolor": "white",
            "ticks": ""
           },
           "bgcolor": "#E5ECF6",
           "caxis": {
            "gridcolor": "white",
            "linecolor": "white",
            "ticks": ""
           }
          },
          "title": {
           "x": 0.05
          },
          "xaxis": {
           "automargin": true,
           "gridcolor": "white",
           "linecolor": "white",
           "ticks": "",
           "title": {
            "standoff": 15
           },
           "zerolinecolor": "white",
           "zerolinewidth": 2
          },
          "yaxis": {
           "automargin": true,
           "gridcolor": "white",
           "linecolor": "white",
           "ticks": "",
           "title": {
            "standoff": 15
           },
           "zerolinecolor": "white",
           "zerolinewidth": 2
          }
         }
        },
        "title": {
         "text": "Wheelbase vs. Track Width vs. Laptime — Acceleration (w.d. = 50%F)"
        },
        "xaxis": {
         "title": {
          "text": "Track Width [in]"
         }
        },
        "yaxis": {
         "title": {
          "text": "Wheelbase [in]"
         }
        }
       }
      },
      "text/html": [
       "<div>\n",
       "        \n",
       "        \n",
       "            <div id=\"7f118d43-46fa-4a92-8042-9a358c54112c\" class=\"plotly-graph-div\" style=\"height:525px; width:100%;\"></div>\n",
       "            <script type=\"text/javascript\">\n",
       "                require([\"plotly\"], function(Plotly) {\n",
       "                    window.PLOTLYENV=window.PLOTLYENV || {};\n",
       "                    \n",
       "                if (document.getElementById(\"7f118d43-46fa-4a92-8042-9a358c54112c\")) {\n",
       "                    Plotly.newPlot(\n",
       "                        '7f118d43-46fa-4a92-8042-9a358c54112c',\n",
       "                        [{\"colorscale\": [[0.0, \"#fde725\"], [0.1111111111111111, \"#b5de2b\"], [0.2222222222222222, \"#6ece58\"], [0.3333333333333333, \"#35b779\"], [0.4444444444444444, \"#1f9e89\"], [0.5555555555555556, \"#26828e\"], [0.6666666666666666, \"#31688e\"], [0.7777777777777778, \"#3e4989\"], [0.8888888888888888, \"#482878\"], [1.0, \"#440154\"]], \"hoverongaps\": false, \"type\": \"heatmap\", \"x\": [40, 41, 42, 43, 44, 45, 46, 47, 48, 49, 50, 51, 52, 53, 54, 55], \"y\": [60.5, 61.5, 62.5, 63.5, 64.5, 65.5, 66.5, 67.5, 68.5, 69.5, 70.5, 71.5, 72.5, 73.5, 74.5, 75.5, 76.5, 77.5, 78.5, 79.5, 80.5], \"z\": [[4.086, 4.086, 4.086, 4.083, 4.083, 4.083, 4.086, 4.0889999999999995, 4.092, 4.098, 4.11, 4.11, 4.11, 4.11, 4.104, 4.107], [4.071000000000001, 4.086, 4.086, 4.086, 4.083, 4.083, 4.086, 4.0889999999999995, 4.092, 4.095, 4.11, 4.11, 4.11, 4.113, 4.107, 4.107], [4.086, 4.074, 4.0889999999999995, 4.0889999999999995, 4.086, 4.086, 4.086, 4.0889999999999995, 4.092, 4.095, 4.101, 4.11, 4.11, 4.113, 4.11, 4.11], [4.074, 4.086, 4.077, 4.0889999999999995, 4.0889999999999995, 4.086, 4.0889999999999995, 4.0889999999999995, 4.092, 4.095, 4.095, 4.113, 4.113, 4.113, 4.113, 4.11], [4.074, 4.077, 4.086, 4.08, 4.0889999999999995, 4.0889999999999995, 4.0889999999999995, 4.0889999999999995, 4.092, 4.095, 4.098, 4.098, 4.113, 4.113, 4.113, 4.113], [4.074, 4.077, 4.077, 4.0889999999999995, 4.083, 4.0889999999999995, 4.0889999999999995, 4.092, 4.092, 4.095, 4.098, 4.098, 4.101, 4.113, 4.1160000000000005, 4.113], [4.074, 4.077, 4.077, 4.08, 4.0889999999999995, 4.092, 4.092, 4.092, 4.092, 4.095, 4.098, 4.098, 4.113, 4.1160000000000005, 4.1160000000000005, 4.1160000000000005], [4.074, 4.077, 4.08, 4.08, 4.083, 4.0889999999999995, 4.092, 4.092, 4.092, 4.095, 4.098, 4.098, 4.101, 4.104, 4.1160000000000005, 4.1160000000000005], [4.074, 4.077, 4.08, 4.08, 4.083, 4.092, 4.092, 4.092, 4.095, 4.095, 4.098, 4.101, 4.101, 4.104, 4.107, 4.119], [4.074, 4.077, 4.08, 4.08, 4.083, 4.086, 4.092, 4.0889999999999995, 4.095, 4.095, 4.098, 4.101, 4.101, 4.104, 4.1160000000000005, 4.11], [4.077, 4.077, 4.08, 4.083, 4.092, 4.086, 4.0889999999999995, 4.095, 4.092, 4.098, 4.098, 4.101, 4.104, 4.104, 4.107, 4.1160000000000005], [4.077, 4.077, 4.08, 4.083, 4.083, 4.092, 4.0889999999999995, 4.095, 4.095, 4.095, 4.098, 4.101, 4.104, 4.104, 4.107, 4.11], [4.077, 4.077, 4.08, 4.083, 4.083, 4.086, 4.0889999999999995, 4.092, 4.095, 4.098, 4.098, 4.101, 4.104, 4.104, 4.107, 4.11], [4.074, 4.08, 4.08, 4.083, 4.083, 4.086, 4.095, 4.092, 4.092, 4.098, 4.101, 4.101, 4.104, 4.104, 4.107, 4.11], [4.074, 4.077, 4.08, 4.083, 4.083, 4.086, 4.0889999999999995, 4.095, 4.092, 4.098, 4.101, 4.101, 4.104, 4.104, 4.107, 4.11], [4.077, 4.077, 4.083, 4.083, 4.086, 4.086, 4.0889999999999995, 4.095, 4.092, 4.095, 4.101, 4.104, 4.104, 4.107, 4.107, 4.11], [4.08, 4.077, 4.08, 4.083, 4.086, 4.086, 4.0889999999999995, 4.092, 4.098, 4.095, 4.098, 4.104, 4.104, 4.104, 4.11, 4.11], [4.074, 4.08, 4.08, 4.083, 4.086, 4.0889999999999995, 4.0889999999999995, 4.092, 4.098, 4.098, 4.098, 4.104, 4.104, 4.107, 4.11, 4.11], [4.08, 4.08, 4.083, 4.083, 4.086, 4.0889999999999995, 4.095, 4.092, 4.095, 4.098, 4.098, 4.101, 4.104, 4.107, 4.107, 4.113], [4.077, 4.08, 4.083, 4.083, 4.086, 4.0889999999999995, 4.0889999999999995, 4.092, 4.095, 4.101, 4.101, 4.101, 4.104, 4.107, 4.11, 4.11], [4.077, 4.083, 4.08, 4.086, 4.086, 4.0889999999999995, 4.092, 4.098, 4.095, 4.098, 4.101, 4.101, 4.104, 4.107, 4.11, 4.113]]}],\n",
       "                        {\"template\": {\"data\": {\"bar\": [{\"error_x\": {\"color\": \"#2a3f5f\"}, \"error_y\": {\"color\": \"#2a3f5f\"}, \"marker\": {\"line\": {\"color\": \"#E5ECF6\", \"width\": 0.5}}, \"type\": \"bar\"}], \"barpolar\": [{\"marker\": {\"line\": {\"color\": \"#E5ECF6\", \"width\": 0.5}}, \"type\": \"barpolar\"}], \"carpet\": [{\"aaxis\": {\"endlinecolor\": \"#2a3f5f\", \"gridcolor\": \"white\", \"linecolor\": \"white\", \"minorgridcolor\": \"white\", \"startlinecolor\": \"#2a3f5f\"}, \"baxis\": {\"endlinecolor\": \"#2a3f5f\", \"gridcolor\": \"white\", \"linecolor\": \"white\", \"minorgridcolor\": \"white\", \"startlinecolor\": \"#2a3f5f\"}, \"type\": \"carpet\"}], \"choropleth\": [{\"colorbar\": {\"outlinewidth\": 0, \"ticks\": \"\"}, \"type\": \"choropleth\"}], \"contour\": [{\"colorbar\": {\"outlinewidth\": 0, \"ticks\": \"\"}, \"colorscale\": [[0.0, \"#0d0887\"], [0.1111111111111111, \"#46039f\"], [0.2222222222222222, \"#7201a8\"], [0.3333333333333333, \"#9c179e\"], [0.4444444444444444, \"#bd3786\"], [0.5555555555555556, \"#d8576b\"], [0.6666666666666666, \"#ed7953\"], [0.7777777777777778, \"#fb9f3a\"], [0.8888888888888888, \"#fdca26\"], [1.0, \"#f0f921\"]], \"type\": \"contour\"}], \"contourcarpet\": [{\"colorbar\": {\"outlinewidth\": 0, \"ticks\": \"\"}, \"type\": \"contourcarpet\"}], \"heatmap\": [{\"colorbar\": {\"outlinewidth\": 0, \"ticks\": \"\"}, \"colorscale\": [[0.0, \"#0d0887\"], [0.1111111111111111, \"#46039f\"], [0.2222222222222222, \"#7201a8\"], [0.3333333333333333, \"#9c179e\"], [0.4444444444444444, \"#bd3786\"], [0.5555555555555556, \"#d8576b\"], [0.6666666666666666, \"#ed7953\"], [0.7777777777777778, \"#fb9f3a\"], [0.8888888888888888, \"#fdca26\"], [1.0, \"#f0f921\"]], \"type\": \"heatmap\"}], \"heatmapgl\": [{\"colorbar\": {\"outlinewidth\": 0, \"ticks\": \"\"}, \"colorscale\": [[0.0, \"#0d0887\"], [0.1111111111111111, \"#46039f\"], [0.2222222222222222, \"#7201a8\"], [0.3333333333333333, \"#9c179e\"], [0.4444444444444444, \"#bd3786\"], [0.5555555555555556, \"#d8576b\"], [0.6666666666666666, \"#ed7953\"], [0.7777777777777778, \"#fb9f3a\"], [0.8888888888888888, \"#fdca26\"], [1.0, \"#f0f921\"]], \"type\": \"heatmapgl\"}], \"histogram\": [{\"marker\": {\"colorbar\": {\"outlinewidth\": 0, \"ticks\": \"\"}}, \"type\": \"histogram\"}], \"histogram2d\": [{\"colorbar\": {\"outlinewidth\": 0, \"ticks\": \"\"}, \"colorscale\": [[0.0, \"#0d0887\"], [0.1111111111111111, \"#46039f\"], [0.2222222222222222, \"#7201a8\"], [0.3333333333333333, \"#9c179e\"], [0.4444444444444444, \"#bd3786\"], [0.5555555555555556, \"#d8576b\"], [0.6666666666666666, \"#ed7953\"], [0.7777777777777778, \"#fb9f3a\"], [0.8888888888888888, \"#fdca26\"], [1.0, \"#f0f921\"]], \"type\": \"histogram2d\"}], \"histogram2dcontour\": [{\"colorbar\": {\"outlinewidth\": 0, \"ticks\": \"\"}, \"colorscale\": [[0.0, \"#0d0887\"], [0.1111111111111111, \"#46039f\"], [0.2222222222222222, \"#7201a8\"], [0.3333333333333333, \"#9c179e\"], [0.4444444444444444, \"#bd3786\"], [0.5555555555555556, \"#d8576b\"], [0.6666666666666666, \"#ed7953\"], [0.7777777777777778, \"#fb9f3a\"], [0.8888888888888888, \"#fdca26\"], [1.0, \"#f0f921\"]], \"type\": \"histogram2dcontour\"}], \"mesh3d\": [{\"colorbar\": {\"outlinewidth\": 0, \"ticks\": \"\"}, \"type\": \"mesh3d\"}], \"parcoords\": [{\"line\": {\"colorbar\": {\"outlinewidth\": 0, \"ticks\": \"\"}}, \"type\": \"parcoords\"}], \"pie\": [{\"automargin\": true, \"type\": \"pie\"}], \"scatter\": [{\"marker\": {\"colorbar\": {\"outlinewidth\": 0, \"ticks\": \"\"}}, \"type\": \"scatter\"}], \"scatter3d\": [{\"line\": {\"colorbar\": {\"outlinewidth\": 0, \"ticks\": \"\"}}, \"marker\": {\"colorbar\": {\"outlinewidth\": 0, \"ticks\": \"\"}}, \"type\": \"scatter3d\"}], \"scattercarpet\": [{\"marker\": {\"colorbar\": {\"outlinewidth\": 0, \"ticks\": \"\"}}, \"type\": \"scattercarpet\"}], \"scattergeo\": [{\"marker\": {\"colorbar\": {\"outlinewidth\": 0, \"ticks\": \"\"}}, \"type\": \"scattergeo\"}], \"scattergl\": [{\"marker\": {\"colorbar\": {\"outlinewidth\": 0, \"ticks\": \"\"}}, \"type\": \"scattergl\"}], \"scattermapbox\": [{\"marker\": {\"colorbar\": {\"outlinewidth\": 0, \"ticks\": \"\"}}, \"type\": \"scattermapbox\"}], \"scatterpolar\": [{\"marker\": {\"colorbar\": {\"outlinewidth\": 0, \"ticks\": \"\"}}, \"type\": \"scatterpolar\"}], \"scatterpolargl\": [{\"marker\": {\"colorbar\": {\"outlinewidth\": 0, \"ticks\": \"\"}}, \"type\": \"scatterpolargl\"}], \"scatterternary\": [{\"marker\": {\"colorbar\": {\"outlinewidth\": 0, \"ticks\": \"\"}}, \"type\": \"scatterternary\"}], \"surface\": [{\"colorbar\": {\"outlinewidth\": 0, \"ticks\": \"\"}, \"colorscale\": [[0.0, \"#0d0887\"], [0.1111111111111111, \"#46039f\"], [0.2222222222222222, \"#7201a8\"], [0.3333333333333333, \"#9c179e\"], [0.4444444444444444, \"#bd3786\"], [0.5555555555555556, \"#d8576b\"], [0.6666666666666666, \"#ed7953\"], [0.7777777777777778, \"#fb9f3a\"], [0.8888888888888888, \"#fdca26\"], [1.0, \"#f0f921\"]], \"type\": \"surface\"}], \"table\": [{\"cells\": {\"fill\": {\"color\": \"#EBF0F8\"}, \"line\": {\"color\": \"white\"}}, \"header\": {\"fill\": {\"color\": \"#C8D4E3\"}, \"line\": {\"color\": \"white\"}}, \"type\": \"table\"}]}, \"layout\": {\"annotationdefaults\": {\"arrowcolor\": \"#2a3f5f\", \"arrowhead\": 0, \"arrowwidth\": 1}, \"coloraxis\": {\"colorbar\": {\"outlinewidth\": 0, \"ticks\": \"\"}}, \"colorscale\": {\"diverging\": [[0, \"#8e0152\"], [0.1, \"#c51b7d\"], [0.2, \"#de77ae\"], [0.3, \"#f1b6da\"], [0.4, \"#fde0ef\"], [0.5, \"#f7f7f7\"], [0.6, \"#e6f5d0\"], [0.7, \"#b8e186\"], [0.8, \"#7fbc41\"], [0.9, \"#4d9221\"], [1, \"#276419\"]], \"sequential\": [[0.0, \"#0d0887\"], [0.1111111111111111, \"#46039f\"], [0.2222222222222222, \"#7201a8\"], [0.3333333333333333, \"#9c179e\"], [0.4444444444444444, \"#bd3786\"], [0.5555555555555556, \"#d8576b\"], [0.6666666666666666, \"#ed7953\"], [0.7777777777777778, \"#fb9f3a\"], [0.8888888888888888, \"#fdca26\"], [1.0, \"#f0f921\"]], \"sequentialminus\": [[0.0, \"#0d0887\"], [0.1111111111111111, \"#46039f\"], [0.2222222222222222, \"#7201a8\"], [0.3333333333333333, \"#9c179e\"], [0.4444444444444444, \"#bd3786\"], [0.5555555555555556, \"#d8576b\"], [0.6666666666666666, \"#ed7953\"], [0.7777777777777778, \"#fb9f3a\"], [0.8888888888888888, \"#fdca26\"], [1.0, \"#f0f921\"]]}, \"colorway\": [\"#636efa\", \"#EF553B\", \"#00cc96\", \"#ab63fa\", \"#FFA15A\", \"#19d3f3\", \"#FF6692\", \"#B6E880\", \"#FF97FF\", \"#FECB52\"], \"font\": {\"color\": \"#2a3f5f\"}, \"geo\": {\"bgcolor\": \"white\", \"lakecolor\": \"white\", \"landcolor\": \"#E5ECF6\", \"showlakes\": true, \"showland\": true, \"subunitcolor\": \"white\"}, \"hoverlabel\": {\"align\": \"left\"}, \"hovermode\": \"closest\", \"mapbox\": {\"style\": \"light\"}, \"paper_bgcolor\": \"white\", \"plot_bgcolor\": \"#E5ECF6\", \"polar\": {\"angularaxis\": {\"gridcolor\": \"white\", \"linecolor\": \"white\", \"ticks\": \"\"}, \"bgcolor\": \"#E5ECF6\", \"radialaxis\": {\"gridcolor\": \"white\", \"linecolor\": \"white\", \"ticks\": \"\"}}, \"scene\": {\"xaxis\": {\"backgroundcolor\": \"#E5ECF6\", \"gridcolor\": \"white\", \"gridwidth\": 2, \"linecolor\": \"white\", \"showbackground\": true, \"ticks\": \"\", \"zerolinecolor\": \"white\"}, \"yaxis\": {\"backgroundcolor\": \"#E5ECF6\", \"gridcolor\": \"white\", \"gridwidth\": 2, \"linecolor\": \"white\", \"showbackground\": true, \"ticks\": \"\", \"zerolinecolor\": \"white\"}, \"zaxis\": {\"backgroundcolor\": \"#E5ECF6\", \"gridcolor\": \"white\", \"gridwidth\": 2, \"linecolor\": \"white\", \"showbackground\": true, \"ticks\": \"\", \"zerolinecolor\": \"white\"}}, \"shapedefaults\": {\"line\": {\"color\": \"#2a3f5f\"}}, \"ternary\": {\"aaxis\": {\"gridcolor\": \"white\", \"linecolor\": \"white\", \"ticks\": \"\"}, \"baxis\": {\"gridcolor\": \"white\", \"linecolor\": \"white\", \"ticks\": \"\"}, \"bgcolor\": \"#E5ECF6\", \"caxis\": {\"gridcolor\": \"white\", \"linecolor\": \"white\", \"ticks\": \"\"}}, \"title\": {\"x\": 0.05}, \"xaxis\": {\"automargin\": true, \"gridcolor\": \"white\", \"linecolor\": \"white\", \"ticks\": \"\", \"title\": {\"standoff\": 15}, \"zerolinecolor\": \"white\", \"zerolinewidth\": 2}, \"yaxis\": {\"automargin\": true, \"gridcolor\": \"white\", \"linecolor\": \"white\", \"ticks\": \"\", \"title\": {\"standoff\": 15}, \"zerolinecolor\": \"white\", \"zerolinewidth\": 2}}}, \"title\": {\"text\": \"Wheelbase vs. Track Width vs. Laptime \\u2014 Acceleration (w.d. = 50%F)\"}, \"xaxis\": {\"title\": {\"text\": \"Track Width [in]\"}}, \"yaxis\": {\"title\": {\"text\": \"Wheelbase [in]\"}}},\n",
       "                        {\"responsive\": true}\n",
       "                    ).then(function(){\n",
       "                            \n",
       "var gd = document.getElementById('7f118d43-46fa-4a92-8042-9a358c54112c');\n",
       "var x = new MutationObserver(function (mutations, observer) {{\n",
       "        var display = window.getComputedStyle(gd).display;\n",
       "        if (!display || display === 'none') {{\n",
       "            console.log([gd, 'removed!']);\n",
       "            Plotly.purge(gd);\n",
       "            observer.disconnect();\n",
       "        }}\n",
       "}});\n",
       "\n",
       "// Listen for the removal of the full notebook cells\n",
       "var notebookContainer = gd.closest('#notebook-container');\n",
       "if (notebookContainer) {{\n",
       "    x.observe(notebookContainer, {childList: true});\n",
       "}}\n",
       "\n",
       "// Listen for the clearing of the current output cell\n",
       "var outputEl = gd.closest('.output');\n",
       "if (outputEl) {{\n",
       "    x.observe(outputEl, {childList: true});\n",
       "}}\n",
       "\n",
       "                        })\n",
       "                };\n",
       "                });\n",
       "            </script>\n",
       "        </div>"
      ]
     },
     "metadata": {},
     "output_type": "display_data"
    }
   ],
   "source": [
    "# create subplots objects\n",
    "name = \"Acceleration\"\n",
    "fig = show_laptimes(1, name)\n",
    "fig.write_image(\"{}.png\".format(name), width=1000, height=500)\n",
    "fig.show()"
   ]
  },
  {
   "cell_type": "markdown",
   "metadata": {},
   "source": [
    "# Skidpad"
   ]
  },
  {
   "cell_type": "code",
   "execution_count": 237,
   "metadata": {},
   "outputs": [
    {
     "data": {
      "application/vnd.plotly.v1+json": {
       "config": {
        "plotlyServerURL": "https://plot.ly"
       },
       "data": [
        {
         "colorscale": [
          [
           0,
           "#fde725"
          ],
          [
           0.1111111111111111,
           "#b5de2b"
          ],
          [
           0.2222222222222222,
           "#6ece58"
          ],
          [
           0.3333333333333333,
           "#35b779"
          ],
          [
           0.4444444444444444,
           "#1f9e89"
          ],
          [
           0.5555555555555556,
           "#26828e"
          ],
          [
           0.6666666666666666,
           "#31688e"
          ],
          [
           0.7777777777777778,
           "#3e4989"
          ],
          [
           0.8888888888888888,
           "#482878"
          ],
          [
           1,
           "#440154"
          ]
         ],
         "hoverongaps": false,
         "type": "heatmap",
         "x": [
          40,
          41,
          42,
          43,
          44,
          45,
          46,
          47,
          48,
          49,
          50,
          51,
          52,
          53,
          54,
          55
         ],
         "y": [
          60.5,
          61.5,
          62.5,
          63.5,
          64.5,
          65.5,
          66.5,
          67.5,
          68.5,
          69.5,
          70.5,
          71.5,
          72.5,
          73.5,
          74.5,
          75.5,
          76.5,
          77.5,
          78.5,
          79.5,
          80.5
         ],
         "z": [
          [
           6.126,
           6.024,
           5.9670000000000005,
           5.877000000000001,
           5.8229999999999995,
           5.76,
           5.724,
           5.702999999999999,
           5.688,
           5.676,
           5.664,
           5.646,
           5.643,
           5.622000000000001,
           5.598,
           5.582999999999999
          ],
          [
           6.126,
           6.024,
           5.97,
           5.865,
           5.8229999999999995,
           5.757000000000001,
           5.718,
           5.706,
           5.682,
           5.667000000000001,
           5.646,
           5.64,
           5.6370000000000005,
           5.6160000000000005,
           5.5920000000000005,
           5.577000000000001
          ],
          [
           6.126,
           6.024,
           5.973,
           5.867999999999999,
           5.82,
           5.745,
           5.715,
           5.706,
           5.672999999999999,
           5.6610000000000005,
           5.649,
           5.6370000000000005,
           5.627999999999999,
           5.61,
           5.586,
           5.571000000000001
          ],
          [
           6.126,
           6.0329999999999995,
           5.97,
           5.877000000000001,
           5.82,
           5.757000000000001,
           5.709,
           5.694,
           5.67,
           5.655,
           5.64,
           5.631,
           5.619,
           5.604,
           5.58,
           5.565
          ],
          [
           6.126,
           6.0329999999999995,
           5.976,
           5.867999999999999,
           5.82,
           5.757000000000001,
           5.706,
           5.706,
           5.664,
           5.649,
           5.6339999999999995,
           5.622000000000001,
           5.6129999999999995,
           5.598,
           5.574,
           5.559
          ],
          [
           6.126,
           6.0360000000000005,
           5.976,
           5.867999999999999,
           5.82,
           5.754,
           5.702999999999999,
           5.685,
           5.664,
           5.643,
           5.627999999999999,
           5.6160000000000005,
           5.607,
           5.5920000000000005,
           5.568,
           5.553
          ],
          [
           6.126,
           6.0360000000000005,
           5.976,
           5.886,
           5.8229999999999995,
           5.745,
           5.702999999999999,
           5.685,
           5.664,
           5.64,
           5.622000000000001,
           5.607,
           5.598,
           5.586,
           5.568,
           5.547000000000001
          ],
          [
           6.126,
           6.027,
           5.979,
           5.886,
           5.8260000000000005,
           5.742000000000001,
           5.706,
           5.682,
           5.6579999999999995,
           5.6339999999999995,
           5.619,
           5.601,
           5.5920000000000005,
           5.58,
           5.556,
           5.541
          ],
          [
           6.126,
           6.027,
           5.979,
           5.886,
           5.8260000000000005,
           5.754,
           5.7,
           5.676,
           5.652,
           5.627999999999999,
           5.6129999999999995,
           5.595,
           5.5889999999999995,
           5.577000000000001,
           5.553,
           5.535
          ],
          [
           6.126,
           6.03,
           5.979,
           5.888999999999999,
           5.805,
           5.754,
           5.7,
           5.676,
           5.643,
           5.625,
           5.61,
           5.5889999999999995,
           5.58,
           5.571000000000001,
           5.553,
           5.529
          ],
          [
           6.126,
           6.042000000000001,
           5.982,
           5.892,
           5.805,
           5.754,
           5.694,
           5.667000000000001,
           5.652,
           5.619,
           5.604,
           5.586,
           5.577000000000001,
           5.565,
           5.55,
           5.526
          ],
          [
           6.126,
           6.0329999999999995,
           5.979,
           5.877000000000001,
           5.805,
           5.742000000000001,
           5.702999999999999,
           5.667000000000001,
           5.649,
           5.619,
           5.601,
           5.582999999999999,
           5.571000000000001,
           5.559,
           5.544,
           5.523
          ],
          [
           6.126,
           6.0329999999999995,
           5.982,
           5.877000000000001,
           5.817,
           5.757000000000001,
           5.691,
           5.664,
           5.643,
           5.6160000000000005,
           5.595,
           5.577000000000001,
           5.565,
           5.556,
           5.541,
           5.523
          ],
          [
           6.126,
           6.0360000000000005,
           5.985,
           5.877000000000001,
           5.808,
           5.745,
           5.691,
           5.6610000000000005,
           5.6339999999999995,
           5.6129999999999995,
           5.595,
           5.574,
           5.559,
           5.55,
           5.537999999999999,
           5.52
          ],
          [
           6.126,
           6.047999999999999,
           5.985,
           5.892,
           5.808,
           5.745,
           5.691,
           5.6610000000000005,
           5.6339999999999995,
           5.6129999999999995,
           5.5889999999999995,
           5.571000000000001,
           5.556,
           5.544,
           5.535,
           5.517
          ],
          [
           6.126,
           6.039,
           5.9879999999999995,
           5.88,
           5.808,
           5.754,
           5.691,
           5.6610000000000005,
           5.631,
           5.607,
           5.586,
           5.565,
           5.553,
           5.541,
           5.532,
           5.513999999999999
          ],
          [
           6.126,
           6.039,
           5.9879999999999995,
           5.88,
           5.8229999999999995,
           5.745,
           5.691,
           5.6579999999999995,
           5.631,
           5.61,
           5.586,
           5.565,
           5.55,
           5.537999999999999,
           5.526,
           5.507999999999999
          ],
          [
           6.129,
           6.039,
           5.9910000000000005,
           5.895,
           5.811,
           5.757000000000001,
           5.702999999999999,
           5.6579999999999995,
           5.627999999999999,
           5.607,
           5.58,
           5.562,
           5.547000000000001,
           5.532,
           5.523,
           5.507999999999999
          ],
          [
           6.129,
           6.053999999999999,
           5.9910000000000005,
           5.882999999999999,
           5.811,
           5.745,
           5.688,
           5.655,
           5.622000000000001,
           5.604,
           5.58,
           5.559,
           5.541,
           5.529,
           5.52,
           5.505
          ],
          [
           6.129,
           6.042000000000001,
           5.9910000000000005,
           5.886,
           5.811,
           5.747999999999999,
           5.688,
           5.6579999999999995,
           5.625,
           5.601,
           5.577000000000001,
           5.559,
           5.544,
           5.526,
           5.511,
           5.499
          ],
          [
           6.132000000000001,
           6.045,
           5.9910000000000005,
           5.886,
           5.814,
           5.747999999999999,
           5.7,
           5.6579999999999995,
           5.625,
           5.601,
           5.586,
           5.556,
           5.537999999999999,
           5.52,
           5.511,
           5.496
          ]
         ]
        }
       ],
       "layout": {
        "template": {
         "data": {
          "bar": [
           {
            "error_x": {
             "color": "#2a3f5f"
            },
            "error_y": {
             "color": "#2a3f5f"
            },
            "marker": {
             "line": {
              "color": "#E5ECF6",
              "width": 0.5
             }
            },
            "type": "bar"
           }
          ],
          "barpolar": [
           {
            "marker": {
             "line": {
              "color": "#E5ECF6",
              "width": 0.5
             }
            },
            "type": "barpolar"
           }
          ],
          "carpet": [
           {
            "aaxis": {
             "endlinecolor": "#2a3f5f",
             "gridcolor": "white",
             "linecolor": "white",
             "minorgridcolor": "white",
             "startlinecolor": "#2a3f5f"
            },
            "baxis": {
             "endlinecolor": "#2a3f5f",
             "gridcolor": "white",
             "linecolor": "white",
             "minorgridcolor": "white",
             "startlinecolor": "#2a3f5f"
            },
            "type": "carpet"
           }
          ],
          "choropleth": [
           {
            "colorbar": {
             "outlinewidth": 0,
             "ticks": ""
            },
            "type": "choropleth"
           }
          ],
          "contour": [
           {
            "colorbar": {
             "outlinewidth": 0,
             "ticks": ""
            },
            "colorscale": [
             [
              0,
              "#0d0887"
             ],
             [
              0.1111111111111111,
              "#46039f"
             ],
             [
              0.2222222222222222,
              "#7201a8"
             ],
             [
              0.3333333333333333,
              "#9c179e"
             ],
             [
              0.4444444444444444,
              "#bd3786"
             ],
             [
              0.5555555555555556,
              "#d8576b"
             ],
             [
              0.6666666666666666,
              "#ed7953"
             ],
             [
              0.7777777777777778,
              "#fb9f3a"
             ],
             [
              0.8888888888888888,
              "#fdca26"
             ],
             [
              1,
              "#f0f921"
             ]
            ],
            "type": "contour"
           }
          ],
          "contourcarpet": [
           {
            "colorbar": {
             "outlinewidth": 0,
             "ticks": ""
            },
            "type": "contourcarpet"
           }
          ],
          "heatmap": [
           {
            "colorbar": {
             "outlinewidth": 0,
             "ticks": ""
            },
            "colorscale": [
             [
              0,
              "#0d0887"
             ],
             [
              0.1111111111111111,
              "#46039f"
             ],
             [
              0.2222222222222222,
              "#7201a8"
             ],
             [
              0.3333333333333333,
              "#9c179e"
             ],
             [
              0.4444444444444444,
              "#bd3786"
             ],
             [
              0.5555555555555556,
              "#d8576b"
             ],
             [
              0.6666666666666666,
              "#ed7953"
             ],
             [
              0.7777777777777778,
              "#fb9f3a"
             ],
             [
              0.8888888888888888,
              "#fdca26"
             ],
             [
              1,
              "#f0f921"
             ]
            ],
            "type": "heatmap"
           }
          ],
          "heatmapgl": [
           {
            "colorbar": {
             "outlinewidth": 0,
             "ticks": ""
            },
            "colorscale": [
             [
              0,
              "#0d0887"
             ],
             [
              0.1111111111111111,
              "#46039f"
             ],
             [
              0.2222222222222222,
              "#7201a8"
             ],
             [
              0.3333333333333333,
              "#9c179e"
             ],
             [
              0.4444444444444444,
              "#bd3786"
             ],
             [
              0.5555555555555556,
              "#d8576b"
             ],
             [
              0.6666666666666666,
              "#ed7953"
             ],
             [
              0.7777777777777778,
              "#fb9f3a"
             ],
             [
              0.8888888888888888,
              "#fdca26"
             ],
             [
              1,
              "#f0f921"
             ]
            ],
            "type": "heatmapgl"
           }
          ],
          "histogram": [
           {
            "marker": {
             "colorbar": {
              "outlinewidth": 0,
              "ticks": ""
             }
            },
            "type": "histogram"
           }
          ],
          "histogram2d": [
           {
            "colorbar": {
             "outlinewidth": 0,
             "ticks": ""
            },
            "colorscale": [
             [
              0,
              "#0d0887"
             ],
             [
              0.1111111111111111,
              "#46039f"
             ],
             [
              0.2222222222222222,
              "#7201a8"
             ],
             [
              0.3333333333333333,
              "#9c179e"
             ],
             [
              0.4444444444444444,
              "#bd3786"
             ],
             [
              0.5555555555555556,
              "#d8576b"
             ],
             [
              0.6666666666666666,
              "#ed7953"
             ],
             [
              0.7777777777777778,
              "#fb9f3a"
             ],
             [
              0.8888888888888888,
              "#fdca26"
             ],
             [
              1,
              "#f0f921"
             ]
            ],
            "type": "histogram2d"
           }
          ],
          "histogram2dcontour": [
           {
            "colorbar": {
             "outlinewidth": 0,
             "ticks": ""
            },
            "colorscale": [
             [
              0,
              "#0d0887"
             ],
             [
              0.1111111111111111,
              "#46039f"
             ],
             [
              0.2222222222222222,
              "#7201a8"
             ],
             [
              0.3333333333333333,
              "#9c179e"
             ],
             [
              0.4444444444444444,
              "#bd3786"
             ],
             [
              0.5555555555555556,
              "#d8576b"
             ],
             [
              0.6666666666666666,
              "#ed7953"
             ],
             [
              0.7777777777777778,
              "#fb9f3a"
             ],
             [
              0.8888888888888888,
              "#fdca26"
             ],
             [
              1,
              "#f0f921"
             ]
            ],
            "type": "histogram2dcontour"
           }
          ],
          "mesh3d": [
           {
            "colorbar": {
             "outlinewidth": 0,
             "ticks": ""
            },
            "type": "mesh3d"
           }
          ],
          "parcoords": [
           {
            "line": {
             "colorbar": {
              "outlinewidth": 0,
              "ticks": ""
             }
            },
            "type": "parcoords"
           }
          ],
          "pie": [
           {
            "automargin": true,
            "type": "pie"
           }
          ],
          "scatter": [
           {
            "marker": {
             "colorbar": {
              "outlinewidth": 0,
              "ticks": ""
             }
            },
            "type": "scatter"
           }
          ],
          "scatter3d": [
           {
            "line": {
             "colorbar": {
              "outlinewidth": 0,
              "ticks": ""
             }
            },
            "marker": {
             "colorbar": {
              "outlinewidth": 0,
              "ticks": ""
             }
            },
            "type": "scatter3d"
           }
          ],
          "scattercarpet": [
           {
            "marker": {
             "colorbar": {
              "outlinewidth": 0,
              "ticks": ""
             }
            },
            "type": "scattercarpet"
           }
          ],
          "scattergeo": [
           {
            "marker": {
             "colorbar": {
              "outlinewidth": 0,
              "ticks": ""
             }
            },
            "type": "scattergeo"
           }
          ],
          "scattergl": [
           {
            "marker": {
             "colorbar": {
              "outlinewidth": 0,
              "ticks": ""
             }
            },
            "type": "scattergl"
           }
          ],
          "scattermapbox": [
           {
            "marker": {
             "colorbar": {
              "outlinewidth": 0,
              "ticks": ""
             }
            },
            "type": "scattermapbox"
           }
          ],
          "scatterpolar": [
           {
            "marker": {
             "colorbar": {
              "outlinewidth": 0,
              "ticks": ""
             }
            },
            "type": "scatterpolar"
           }
          ],
          "scatterpolargl": [
           {
            "marker": {
             "colorbar": {
              "outlinewidth": 0,
              "ticks": ""
             }
            },
            "type": "scatterpolargl"
           }
          ],
          "scatterternary": [
           {
            "marker": {
             "colorbar": {
              "outlinewidth": 0,
              "ticks": ""
             }
            },
            "type": "scatterternary"
           }
          ],
          "surface": [
           {
            "colorbar": {
             "outlinewidth": 0,
             "ticks": ""
            },
            "colorscale": [
             [
              0,
              "#0d0887"
             ],
             [
              0.1111111111111111,
              "#46039f"
             ],
             [
              0.2222222222222222,
              "#7201a8"
             ],
             [
              0.3333333333333333,
              "#9c179e"
             ],
             [
              0.4444444444444444,
              "#bd3786"
             ],
             [
              0.5555555555555556,
              "#d8576b"
             ],
             [
              0.6666666666666666,
              "#ed7953"
             ],
             [
              0.7777777777777778,
              "#fb9f3a"
             ],
             [
              0.8888888888888888,
              "#fdca26"
             ],
             [
              1,
              "#f0f921"
             ]
            ],
            "type": "surface"
           }
          ],
          "table": [
           {
            "cells": {
             "fill": {
              "color": "#EBF0F8"
             },
             "line": {
              "color": "white"
             }
            },
            "header": {
             "fill": {
              "color": "#C8D4E3"
             },
             "line": {
              "color": "white"
             }
            },
            "type": "table"
           }
          ]
         },
         "layout": {
          "annotationdefaults": {
           "arrowcolor": "#2a3f5f",
           "arrowhead": 0,
           "arrowwidth": 1
          },
          "coloraxis": {
           "colorbar": {
            "outlinewidth": 0,
            "ticks": ""
           }
          },
          "colorscale": {
           "diverging": [
            [
             0,
             "#8e0152"
            ],
            [
             0.1,
             "#c51b7d"
            ],
            [
             0.2,
             "#de77ae"
            ],
            [
             0.3,
             "#f1b6da"
            ],
            [
             0.4,
             "#fde0ef"
            ],
            [
             0.5,
             "#f7f7f7"
            ],
            [
             0.6,
             "#e6f5d0"
            ],
            [
             0.7,
             "#b8e186"
            ],
            [
             0.8,
             "#7fbc41"
            ],
            [
             0.9,
             "#4d9221"
            ],
            [
             1,
             "#276419"
            ]
           ],
           "sequential": [
            [
             0,
             "#0d0887"
            ],
            [
             0.1111111111111111,
             "#46039f"
            ],
            [
             0.2222222222222222,
             "#7201a8"
            ],
            [
             0.3333333333333333,
             "#9c179e"
            ],
            [
             0.4444444444444444,
             "#bd3786"
            ],
            [
             0.5555555555555556,
             "#d8576b"
            ],
            [
             0.6666666666666666,
             "#ed7953"
            ],
            [
             0.7777777777777778,
             "#fb9f3a"
            ],
            [
             0.8888888888888888,
             "#fdca26"
            ],
            [
             1,
             "#f0f921"
            ]
           ],
           "sequentialminus": [
            [
             0,
             "#0d0887"
            ],
            [
             0.1111111111111111,
             "#46039f"
            ],
            [
             0.2222222222222222,
             "#7201a8"
            ],
            [
             0.3333333333333333,
             "#9c179e"
            ],
            [
             0.4444444444444444,
             "#bd3786"
            ],
            [
             0.5555555555555556,
             "#d8576b"
            ],
            [
             0.6666666666666666,
             "#ed7953"
            ],
            [
             0.7777777777777778,
             "#fb9f3a"
            ],
            [
             0.8888888888888888,
             "#fdca26"
            ],
            [
             1,
             "#f0f921"
            ]
           ]
          },
          "colorway": [
           "#636efa",
           "#EF553B",
           "#00cc96",
           "#ab63fa",
           "#FFA15A",
           "#19d3f3",
           "#FF6692",
           "#B6E880",
           "#FF97FF",
           "#FECB52"
          ],
          "font": {
           "color": "#2a3f5f"
          },
          "geo": {
           "bgcolor": "white",
           "lakecolor": "white",
           "landcolor": "#E5ECF6",
           "showlakes": true,
           "showland": true,
           "subunitcolor": "white"
          },
          "hoverlabel": {
           "align": "left"
          },
          "hovermode": "closest",
          "mapbox": {
           "style": "light"
          },
          "paper_bgcolor": "white",
          "plot_bgcolor": "#E5ECF6",
          "polar": {
           "angularaxis": {
            "gridcolor": "white",
            "linecolor": "white",
            "ticks": ""
           },
           "bgcolor": "#E5ECF6",
           "radialaxis": {
            "gridcolor": "white",
            "linecolor": "white",
            "ticks": ""
           }
          },
          "scene": {
           "xaxis": {
            "backgroundcolor": "#E5ECF6",
            "gridcolor": "white",
            "gridwidth": 2,
            "linecolor": "white",
            "showbackground": true,
            "ticks": "",
            "zerolinecolor": "white"
           },
           "yaxis": {
            "backgroundcolor": "#E5ECF6",
            "gridcolor": "white",
            "gridwidth": 2,
            "linecolor": "white",
            "showbackground": true,
            "ticks": "",
            "zerolinecolor": "white"
           },
           "zaxis": {
            "backgroundcolor": "#E5ECF6",
            "gridcolor": "white",
            "gridwidth": 2,
            "linecolor": "white",
            "showbackground": true,
            "ticks": "",
            "zerolinecolor": "white"
           }
          },
          "shapedefaults": {
           "line": {
            "color": "#2a3f5f"
           }
          },
          "ternary": {
           "aaxis": {
            "gridcolor": "white",
            "linecolor": "white",
            "ticks": ""
           },
           "baxis": {
            "gridcolor": "white",
            "linecolor": "white",
            "ticks": ""
           },
           "bgcolor": "#E5ECF6",
           "caxis": {
            "gridcolor": "white",
            "linecolor": "white",
            "ticks": ""
           }
          },
          "title": {
           "x": 0.05
          },
          "xaxis": {
           "automargin": true,
           "gridcolor": "white",
           "linecolor": "white",
           "ticks": "",
           "title": {
            "standoff": 15
           },
           "zerolinecolor": "white",
           "zerolinewidth": 2
          },
          "yaxis": {
           "automargin": true,
           "gridcolor": "white",
           "linecolor": "white",
           "ticks": "",
           "title": {
            "standoff": 15
           },
           "zerolinecolor": "white",
           "zerolinewidth": 2
          }
         }
        },
        "title": {
         "text": "Wheelbase vs. Track Width vs. Laptime — Skidpad (w.d. = 50%F)"
        },
        "xaxis": {
         "title": {
          "text": "Track Width [in]"
         }
        },
        "yaxis": {
         "title": {
          "text": "Wheelbase [in]"
         }
        }
       }
      },
      "text/html": [
       "<div>\n",
       "        \n",
       "        \n",
       "            <div id=\"6ac8fb34-2d88-42b5-97b4-6addcfacc69b\" class=\"plotly-graph-div\" style=\"height:525px; width:100%;\"></div>\n",
       "            <script type=\"text/javascript\">\n",
       "                require([\"plotly\"], function(Plotly) {\n",
       "                    window.PLOTLYENV=window.PLOTLYENV || {};\n",
       "                    \n",
       "                if (document.getElementById(\"6ac8fb34-2d88-42b5-97b4-6addcfacc69b\")) {\n",
       "                    Plotly.newPlot(\n",
       "                        '6ac8fb34-2d88-42b5-97b4-6addcfacc69b',\n",
       "                        [{\"colorscale\": [[0.0, \"#fde725\"], [0.1111111111111111, \"#b5de2b\"], [0.2222222222222222, \"#6ece58\"], [0.3333333333333333, \"#35b779\"], [0.4444444444444444, \"#1f9e89\"], [0.5555555555555556, \"#26828e\"], [0.6666666666666666, \"#31688e\"], [0.7777777777777778, \"#3e4989\"], [0.8888888888888888, \"#482878\"], [1.0, \"#440154\"]], \"hoverongaps\": false, \"type\": \"heatmap\", \"x\": [40, 41, 42, 43, 44, 45, 46, 47, 48, 49, 50, 51, 52, 53, 54, 55], \"y\": [60.5, 61.5, 62.5, 63.5, 64.5, 65.5, 66.5, 67.5, 68.5, 69.5, 70.5, 71.5, 72.5, 73.5, 74.5, 75.5, 76.5, 77.5, 78.5, 79.5, 80.5], \"z\": [[6.126, 6.024, 5.9670000000000005, 5.877000000000001, 5.8229999999999995, 5.76, 5.724, 5.702999999999999, 5.688, 5.676, 5.664, 5.646, 5.643, 5.622000000000001, 5.598, 5.582999999999999], [6.126, 6.024, 5.97, 5.865, 5.8229999999999995, 5.757000000000001, 5.718, 5.706, 5.682, 5.667000000000001, 5.646, 5.64, 5.6370000000000005, 5.6160000000000005, 5.5920000000000005, 5.577000000000001], [6.126, 6.024, 5.973, 5.867999999999999, 5.82, 5.745, 5.715, 5.706, 5.672999999999999, 5.6610000000000005, 5.649, 5.6370000000000005, 5.627999999999999, 5.61, 5.586, 5.571000000000001], [6.126, 6.0329999999999995, 5.97, 5.877000000000001, 5.82, 5.757000000000001, 5.709, 5.694, 5.67, 5.655, 5.64, 5.631, 5.619, 5.604, 5.58, 5.565], [6.126, 6.0329999999999995, 5.976, 5.867999999999999, 5.82, 5.757000000000001, 5.706, 5.706, 5.664, 5.649, 5.6339999999999995, 5.622000000000001, 5.6129999999999995, 5.598, 5.574, 5.559], [6.126, 6.0360000000000005, 5.976, 5.867999999999999, 5.82, 5.754, 5.702999999999999, 5.685, 5.664, 5.643, 5.627999999999999, 5.6160000000000005, 5.607, 5.5920000000000005, 5.568, 5.553], [6.126, 6.0360000000000005, 5.976, 5.886, 5.8229999999999995, 5.745, 5.702999999999999, 5.685, 5.664, 5.64, 5.622000000000001, 5.607, 5.598, 5.586, 5.568, 5.547000000000001], [6.126, 6.027, 5.979, 5.886, 5.8260000000000005, 5.742000000000001, 5.706, 5.682, 5.6579999999999995, 5.6339999999999995, 5.619, 5.601, 5.5920000000000005, 5.58, 5.556, 5.541], [6.126, 6.027, 5.979, 5.886, 5.8260000000000005, 5.754, 5.7, 5.676, 5.652, 5.627999999999999, 5.6129999999999995, 5.595, 5.5889999999999995, 5.577000000000001, 5.553, 5.535], [6.126, 6.03, 5.979, 5.888999999999999, 5.805, 5.754, 5.7, 5.676, 5.643, 5.625, 5.61, 5.5889999999999995, 5.58, 5.571000000000001, 5.553, 5.529], [6.126, 6.042000000000001, 5.982, 5.892, 5.805, 5.754, 5.694, 5.667000000000001, 5.652, 5.619, 5.604, 5.586, 5.577000000000001, 5.565, 5.55, 5.526], [6.126, 6.0329999999999995, 5.979, 5.877000000000001, 5.805, 5.742000000000001, 5.702999999999999, 5.667000000000001, 5.649, 5.619, 5.601, 5.582999999999999, 5.571000000000001, 5.559, 5.544, 5.523], [6.126, 6.0329999999999995, 5.982, 5.877000000000001, 5.817, 5.757000000000001, 5.691, 5.664, 5.643, 5.6160000000000005, 5.595, 5.577000000000001, 5.565, 5.556, 5.541, 5.523], [6.126, 6.0360000000000005, 5.985, 5.877000000000001, 5.808, 5.745, 5.691, 5.6610000000000005, 5.6339999999999995, 5.6129999999999995, 5.595, 5.574, 5.559, 5.55, 5.537999999999999, 5.52], [6.126, 6.047999999999999, 5.985, 5.892, 5.808, 5.745, 5.691, 5.6610000000000005, 5.6339999999999995, 5.6129999999999995, 5.5889999999999995, 5.571000000000001, 5.556, 5.544, 5.535, 5.517], [6.126, 6.039, 5.9879999999999995, 5.88, 5.808, 5.754, 5.691, 5.6610000000000005, 5.631, 5.607, 5.586, 5.565, 5.553, 5.541, 5.532, 5.513999999999999], [6.126, 6.039, 5.9879999999999995, 5.88, 5.8229999999999995, 5.745, 5.691, 5.6579999999999995, 5.631, 5.61, 5.586, 5.565, 5.55, 5.537999999999999, 5.526, 5.507999999999999], [6.129, 6.039, 5.9910000000000005, 5.895, 5.811, 5.757000000000001, 5.702999999999999, 5.6579999999999995, 5.627999999999999, 5.607, 5.58, 5.562, 5.547000000000001, 5.532, 5.523, 5.507999999999999], [6.129, 6.053999999999999, 5.9910000000000005, 5.882999999999999, 5.811, 5.745, 5.688, 5.655, 5.622000000000001, 5.604, 5.58, 5.559, 5.541, 5.529, 5.52, 5.505], [6.129, 6.042000000000001, 5.9910000000000005, 5.886, 5.811, 5.747999999999999, 5.688, 5.6579999999999995, 5.625, 5.601, 5.577000000000001, 5.559, 5.544, 5.526, 5.511, 5.499], [6.132000000000001, 6.045, 5.9910000000000005, 5.886, 5.814, 5.747999999999999, 5.7, 5.6579999999999995, 5.625, 5.601, 5.586, 5.556, 5.537999999999999, 5.52, 5.511, 5.496]]}],\n",
       "                        {\"template\": {\"data\": {\"bar\": [{\"error_x\": {\"color\": \"#2a3f5f\"}, \"error_y\": {\"color\": \"#2a3f5f\"}, \"marker\": {\"line\": {\"color\": \"#E5ECF6\", \"width\": 0.5}}, \"type\": \"bar\"}], \"barpolar\": [{\"marker\": {\"line\": {\"color\": \"#E5ECF6\", \"width\": 0.5}}, \"type\": \"barpolar\"}], \"carpet\": [{\"aaxis\": {\"endlinecolor\": \"#2a3f5f\", \"gridcolor\": \"white\", \"linecolor\": \"white\", \"minorgridcolor\": \"white\", \"startlinecolor\": \"#2a3f5f\"}, \"baxis\": {\"endlinecolor\": \"#2a3f5f\", \"gridcolor\": \"white\", \"linecolor\": \"white\", \"minorgridcolor\": \"white\", \"startlinecolor\": \"#2a3f5f\"}, \"type\": \"carpet\"}], \"choropleth\": [{\"colorbar\": {\"outlinewidth\": 0, \"ticks\": \"\"}, \"type\": \"choropleth\"}], \"contour\": [{\"colorbar\": {\"outlinewidth\": 0, \"ticks\": \"\"}, \"colorscale\": [[0.0, \"#0d0887\"], [0.1111111111111111, \"#46039f\"], [0.2222222222222222, \"#7201a8\"], [0.3333333333333333, \"#9c179e\"], [0.4444444444444444, \"#bd3786\"], [0.5555555555555556, \"#d8576b\"], [0.6666666666666666, \"#ed7953\"], [0.7777777777777778, \"#fb9f3a\"], [0.8888888888888888, \"#fdca26\"], [1.0, \"#f0f921\"]], \"type\": \"contour\"}], \"contourcarpet\": [{\"colorbar\": {\"outlinewidth\": 0, \"ticks\": \"\"}, \"type\": \"contourcarpet\"}], \"heatmap\": [{\"colorbar\": {\"outlinewidth\": 0, \"ticks\": \"\"}, \"colorscale\": [[0.0, \"#0d0887\"], [0.1111111111111111, \"#46039f\"], [0.2222222222222222, \"#7201a8\"], [0.3333333333333333, \"#9c179e\"], [0.4444444444444444, \"#bd3786\"], [0.5555555555555556, \"#d8576b\"], [0.6666666666666666, \"#ed7953\"], [0.7777777777777778, \"#fb9f3a\"], [0.8888888888888888, \"#fdca26\"], [1.0, \"#f0f921\"]], \"type\": \"heatmap\"}], \"heatmapgl\": [{\"colorbar\": {\"outlinewidth\": 0, \"ticks\": \"\"}, \"colorscale\": [[0.0, \"#0d0887\"], [0.1111111111111111, \"#46039f\"], [0.2222222222222222, \"#7201a8\"], [0.3333333333333333, \"#9c179e\"], [0.4444444444444444, \"#bd3786\"], [0.5555555555555556, \"#d8576b\"], [0.6666666666666666, \"#ed7953\"], [0.7777777777777778, \"#fb9f3a\"], [0.8888888888888888, \"#fdca26\"], [1.0, \"#f0f921\"]], \"type\": \"heatmapgl\"}], \"histogram\": [{\"marker\": {\"colorbar\": {\"outlinewidth\": 0, \"ticks\": \"\"}}, \"type\": \"histogram\"}], \"histogram2d\": [{\"colorbar\": {\"outlinewidth\": 0, \"ticks\": \"\"}, \"colorscale\": [[0.0, \"#0d0887\"], [0.1111111111111111, \"#46039f\"], [0.2222222222222222, \"#7201a8\"], [0.3333333333333333, \"#9c179e\"], [0.4444444444444444, \"#bd3786\"], [0.5555555555555556, \"#d8576b\"], [0.6666666666666666, \"#ed7953\"], [0.7777777777777778, \"#fb9f3a\"], [0.8888888888888888, \"#fdca26\"], [1.0, \"#f0f921\"]], \"type\": \"histogram2d\"}], \"histogram2dcontour\": [{\"colorbar\": {\"outlinewidth\": 0, \"ticks\": \"\"}, \"colorscale\": [[0.0, \"#0d0887\"], [0.1111111111111111, \"#46039f\"], [0.2222222222222222, \"#7201a8\"], [0.3333333333333333, \"#9c179e\"], [0.4444444444444444, \"#bd3786\"], [0.5555555555555556, \"#d8576b\"], [0.6666666666666666, \"#ed7953\"], [0.7777777777777778, \"#fb9f3a\"], [0.8888888888888888, \"#fdca26\"], [1.0, \"#f0f921\"]], \"type\": \"histogram2dcontour\"}], \"mesh3d\": [{\"colorbar\": {\"outlinewidth\": 0, \"ticks\": \"\"}, \"type\": \"mesh3d\"}], \"parcoords\": [{\"line\": {\"colorbar\": {\"outlinewidth\": 0, \"ticks\": \"\"}}, \"type\": \"parcoords\"}], \"pie\": [{\"automargin\": true, \"type\": \"pie\"}], \"scatter\": [{\"marker\": {\"colorbar\": {\"outlinewidth\": 0, \"ticks\": \"\"}}, \"type\": \"scatter\"}], \"scatter3d\": [{\"line\": {\"colorbar\": {\"outlinewidth\": 0, \"ticks\": \"\"}}, \"marker\": {\"colorbar\": {\"outlinewidth\": 0, \"ticks\": \"\"}}, \"type\": \"scatter3d\"}], \"scattercarpet\": [{\"marker\": {\"colorbar\": {\"outlinewidth\": 0, \"ticks\": \"\"}}, \"type\": \"scattercarpet\"}], \"scattergeo\": [{\"marker\": {\"colorbar\": {\"outlinewidth\": 0, \"ticks\": \"\"}}, \"type\": \"scattergeo\"}], \"scattergl\": [{\"marker\": {\"colorbar\": {\"outlinewidth\": 0, \"ticks\": \"\"}}, \"type\": \"scattergl\"}], \"scattermapbox\": [{\"marker\": {\"colorbar\": {\"outlinewidth\": 0, \"ticks\": \"\"}}, \"type\": \"scattermapbox\"}], \"scatterpolar\": [{\"marker\": {\"colorbar\": {\"outlinewidth\": 0, \"ticks\": \"\"}}, \"type\": \"scatterpolar\"}], \"scatterpolargl\": [{\"marker\": {\"colorbar\": {\"outlinewidth\": 0, \"ticks\": \"\"}}, \"type\": \"scatterpolargl\"}], \"scatterternary\": [{\"marker\": {\"colorbar\": {\"outlinewidth\": 0, \"ticks\": \"\"}}, \"type\": \"scatterternary\"}], \"surface\": [{\"colorbar\": {\"outlinewidth\": 0, \"ticks\": \"\"}, \"colorscale\": [[0.0, \"#0d0887\"], [0.1111111111111111, \"#46039f\"], [0.2222222222222222, \"#7201a8\"], [0.3333333333333333, \"#9c179e\"], [0.4444444444444444, \"#bd3786\"], [0.5555555555555556, \"#d8576b\"], [0.6666666666666666, \"#ed7953\"], [0.7777777777777778, \"#fb9f3a\"], [0.8888888888888888, \"#fdca26\"], [1.0, \"#f0f921\"]], \"type\": \"surface\"}], \"table\": [{\"cells\": {\"fill\": {\"color\": \"#EBF0F8\"}, \"line\": {\"color\": \"white\"}}, \"header\": {\"fill\": {\"color\": \"#C8D4E3\"}, \"line\": {\"color\": \"white\"}}, \"type\": \"table\"}]}, \"layout\": {\"annotationdefaults\": {\"arrowcolor\": \"#2a3f5f\", \"arrowhead\": 0, \"arrowwidth\": 1}, \"coloraxis\": {\"colorbar\": {\"outlinewidth\": 0, \"ticks\": \"\"}}, \"colorscale\": {\"diverging\": [[0, \"#8e0152\"], [0.1, \"#c51b7d\"], [0.2, \"#de77ae\"], [0.3, \"#f1b6da\"], [0.4, \"#fde0ef\"], [0.5, \"#f7f7f7\"], [0.6, \"#e6f5d0\"], [0.7, \"#b8e186\"], [0.8, \"#7fbc41\"], [0.9, \"#4d9221\"], [1, \"#276419\"]], \"sequential\": [[0.0, \"#0d0887\"], [0.1111111111111111, \"#46039f\"], [0.2222222222222222, \"#7201a8\"], [0.3333333333333333, \"#9c179e\"], [0.4444444444444444, \"#bd3786\"], [0.5555555555555556, \"#d8576b\"], [0.6666666666666666, \"#ed7953\"], [0.7777777777777778, \"#fb9f3a\"], [0.8888888888888888, \"#fdca26\"], [1.0, \"#f0f921\"]], \"sequentialminus\": [[0.0, \"#0d0887\"], [0.1111111111111111, \"#46039f\"], [0.2222222222222222, \"#7201a8\"], [0.3333333333333333, \"#9c179e\"], [0.4444444444444444, \"#bd3786\"], [0.5555555555555556, \"#d8576b\"], [0.6666666666666666, \"#ed7953\"], [0.7777777777777778, \"#fb9f3a\"], [0.8888888888888888, \"#fdca26\"], [1.0, \"#f0f921\"]]}, \"colorway\": [\"#636efa\", \"#EF553B\", \"#00cc96\", \"#ab63fa\", \"#FFA15A\", \"#19d3f3\", \"#FF6692\", \"#B6E880\", \"#FF97FF\", \"#FECB52\"], \"font\": {\"color\": \"#2a3f5f\"}, \"geo\": {\"bgcolor\": \"white\", \"lakecolor\": \"white\", \"landcolor\": \"#E5ECF6\", \"showlakes\": true, \"showland\": true, \"subunitcolor\": \"white\"}, \"hoverlabel\": {\"align\": \"left\"}, \"hovermode\": \"closest\", \"mapbox\": {\"style\": \"light\"}, \"paper_bgcolor\": \"white\", \"plot_bgcolor\": \"#E5ECF6\", \"polar\": {\"angularaxis\": {\"gridcolor\": \"white\", \"linecolor\": \"white\", \"ticks\": \"\"}, \"bgcolor\": \"#E5ECF6\", \"radialaxis\": {\"gridcolor\": \"white\", \"linecolor\": \"white\", \"ticks\": \"\"}}, \"scene\": {\"xaxis\": {\"backgroundcolor\": \"#E5ECF6\", \"gridcolor\": \"white\", \"gridwidth\": 2, \"linecolor\": \"white\", \"showbackground\": true, \"ticks\": \"\", \"zerolinecolor\": \"white\"}, \"yaxis\": {\"backgroundcolor\": \"#E5ECF6\", \"gridcolor\": \"white\", \"gridwidth\": 2, \"linecolor\": \"white\", \"showbackground\": true, \"ticks\": \"\", \"zerolinecolor\": \"white\"}, \"zaxis\": {\"backgroundcolor\": \"#E5ECF6\", \"gridcolor\": \"white\", \"gridwidth\": 2, \"linecolor\": \"white\", \"showbackground\": true, \"ticks\": \"\", \"zerolinecolor\": \"white\"}}, \"shapedefaults\": {\"line\": {\"color\": \"#2a3f5f\"}}, \"ternary\": {\"aaxis\": {\"gridcolor\": \"white\", \"linecolor\": \"white\", \"ticks\": \"\"}, \"baxis\": {\"gridcolor\": \"white\", \"linecolor\": \"white\", \"ticks\": \"\"}, \"bgcolor\": \"#E5ECF6\", \"caxis\": {\"gridcolor\": \"white\", \"linecolor\": \"white\", \"ticks\": \"\"}}, \"title\": {\"x\": 0.05}, \"xaxis\": {\"automargin\": true, \"gridcolor\": \"white\", \"linecolor\": \"white\", \"ticks\": \"\", \"title\": {\"standoff\": 15}, \"zerolinecolor\": \"white\", \"zerolinewidth\": 2}, \"yaxis\": {\"automargin\": true, \"gridcolor\": \"white\", \"linecolor\": \"white\", \"ticks\": \"\", \"title\": {\"standoff\": 15}, \"zerolinecolor\": \"white\", \"zerolinewidth\": 2}}}, \"title\": {\"text\": \"Wheelbase vs. Track Width vs. Laptime \\u2014 Skidpad (w.d. = 50%F)\"}, \"xaxis\": {\"title\": {\"text\": \"Track Width [in]\"}}, \"yaxis\": {\"title\": {\"text\": \"Wheelbase [in]\"}}},\n",
       "                        {\"responsive\": true}\n",
       "                    ).then(function(){\n",
       "                            \n",
       "var gd = document.getElementById('6ac8fb34-2d88-42b5-97b4-6addcfacc69b');\n",
       "var x = new MutationObserver(function (mutations, observer) {{\n",
       "        var display = window.getComputedStyle(gd).display;\n",
       "        if (!display || display === 'none') {{\n",
       "            console.log([gd, 'removed!']);\n",
       "            Plotly.purge(gd);\n",
       "            observer.disconnect();\n",
       "        }}\n",
       "}});\n",
       "\n",
       "// Listen for the removal of the full notebook cells\n",
       "var notebookContainer = gd.closest('#notebook-container');\n",
       "if (notebookContainer) {{\n",
       "    x.observe(notebookContainer, {childList: true});\n",
       "}}\n",
       "\n",
       "// Listen for the clearing of the current output cell\n",
       "var outputEl = gd.closest('.output');\n",
       "if (outputEl) {{\n",
       "    x.observe(outputEl, {childList: true});\n",
       "}}\n",
       "\n",
       "                        })\n",
       "                };\n",
       "                });\n",
       "            </script>\n",
       "        </div>"
      ]
     },
     "metadata": {},
     "output_type": "display_data"
    }
   ],
   "source": [
    "name = \"Skidpad\"\n",
    "fig = show_laptimes(2, name)\n",
    "fig.write_image(\"{}.png\".format(name), width=1000, height=500)\n",
    "fig.show()"
   ]
  },
  {
   "cell_type": "markdown",
   "metadata": {},
   "source": [
    "# Autocross"
   ]
  },
  {
   "cell_type": "code",
   "execution_count": 238,
   "metadata": {},
   "outputs": [
    {
     "data": {
      "application/vnd.plotly.v1+json": {
       "config": {
        "plotlyServerURL": "https://plot.ly"
       },
       "data": [
        {
         "colorscale": [
          [
           0,
           "#fde725"
          ],
          [
           0.1111111111111111,
           "#b5de2b"
          ],
          [
           0.2222222222222222,
           "#6ece58"
          ],
          [
           0.3333333333333333,
           "#35b779"
          ],
          [
           0.4444444444444444,
           "#1f9e89"
          ],
          [
           0.5555555555555556,
           "#26828e"
          ],
          [
           0.6666666666666666,
           "#31688e"
          ],
          [
           0.7777777777777778,
           "#3e4989"
          ],
          [
           0.8888888888888888,
           "#482878"
          ],
          [
           1,
           "#440154"
          ]
         ],
         "hoverongaps": false,
         "type": "heatmap",
         "x": [
          40,
          41,
          42,
          43,
          44,
          45,
          46,
          47,
          48,
          49,
          50,
          51,
          52,
          53,
          54,
          55
         ],
         "y": [
          60.5,
          61.5,
          62.5,
          63.5,
          64.5,
          65.5,
          66.5,
          67.5,
          68.5,
          69.5,
          70.5,
          71.5,
          72.5,
          73.5,
          74.5,
          75.5,
          76.5,
          77.5,
          78.5,
          79.5,
          80.5
         ],
         "z": [
          [
           null,
           null,
           57.792,
           57.324,
           56.751000000000005,
           56.388000000000005,
           55.869,
           55.575,
           55.284,
           55.011,
           54.756,
           54.543,
           54.36,
           54.156000000000006,
           53.982,
           53.826
          ],
          [
           null,
           58.208999999999996,
           57.771,
           57.339,
           56.754,
           56.388000000000005,
           55.887,
           55.59,
           55.308,
           55.038000000000004,
           54.708,
           54.483000000000004,
           54.315,
           54.15,
           53.961000000000006,
           53.781000000000006
          ],
          [
           null,
           58.224,
           57.744,
           57.327,
           56.73,
           56.415,
           55.896,
           55.662,
           55.347,
           54.972,
           54.717,
           54.507,
           54.297,
           54.111000000000004,
           53.952,
           53.76
          ],
          [
           null,
           null,
           null,
           57.339,
           56.742,
           56.295,
           55.872,
           55.638000000000005,
           55.31399999999999,
           54.96,
           54.699,
           54.498000000000005,
           54.333,
           54.114,
           53.91,
           53.742
          ],
          [
           58.869,
           58.305,
           null,
           57.345,
           56.73,
           56.364,
           55.812,
           55.65,
           55.278,
           54.93899999999999,
           54.693000000000005,
           54.489,
           54.315,
           54.083999999999996,
           53.898,
           53.7
          ],
          [
           null,
           58.233000000000004,
           57.798,
           57.354,
           56.742,
           56.37,
           55.905,
           55.62,
           55.335,
           54.99,
           54.699,
           54.461999999999996,
           54.285,
           54.071999999999996,
           53.888999999999996,
           53.703
          ],
          [
           58.872,
           58.29600000000001,
           57.795,
           57.354,
           56.754,
           56.361000000000004,
           55.887,
           55.566,
           55.293,
           54.972,
           54.693000000000005,
           54.45,
           54.276,
           54.048,
           53.883,
           53.693999999999996
          ],
          [
           58.854,
           58.326,
           57.81,
           57.375,
           56.766000000000005,
           56.406000000000006,
           55.878,
           55.556999999999995,
           55.26,
           54.981,
           54.675,
           54.443999999999996,
           54.261,
           54.03,
           53.858999999999995,
           53.67
          ],
          [
           58.86600000000001,
           58.251000000000005,
           57.806999999999995,
           57.381,
           56.781000000000006,
           56.376000000000005,
           55.953,
           55.635,
           55.29,
           54.99,
           54.687,
           54.446999999999996,
           54.266999999999996,
           54.09,
           53.85,
           53.648999999999994
          ],
          [
           null,
           58.347,
           57.816,
           57.393,
           56.778,
           56.388000000000005,
           55.92,
           55.596000000000004,
           55.287,
           55.013999999999996,
           54.684,
           54.441,
           54.225,
           54,
           53.82,
           53.648999999999994
          ],
          [
           58.902,
           null,
           57.81,
           57.42,
           56.787,
           56.403,
           55.992,
           55.629,
           55.305,
           55.02,
           54.705,
           54.431999999999995,
           54.231,
           54.006,
           53.823,
           53.655
          ],
          [
           58.88399999999999,
           58.251000000000005,
           null,
           57.417,
           56.802,
           56.391000000000005,
           56.04,
           55.614,
           55.317,
           55.008,
           54.69,
           54.443999999999996,
           54.233999999999995,
           54.048,
           53.832,
           53.655
          ],
          [
           58.931999999999995,
           58.269,
           57.843,
           57.443999999999996,
           56.826,
           56.43,
           55.992,
           55.632,
           55.32899999999999,
           55.016999999999996,
           54.699,
           54.45,
           54.233999999999995,
           54.048,
           53.81399999999999,
           53.637
          ],
          [
           58.953,
           null,
           57.861000000000004,
           57.446999999999996,
           56.808,
           56.43,
           56.04600000000001,
           55.614,
           55.343999999999994,
           55.011,
           54.696000000000005,
           54.438,
           54.225,
           54.03,
           53.808,
           53.631
          ],
          [
           null,
           58.403999999999996,
           57.888000000000005,
           57.453,
           56.838,
           56.46,
           55.992,
           55.683,
           55.358999999999995,
           55.044,
           54.723,
           54.458999999999996,
           54.231,
           54.038999999999994,
           53.817,
           53.637
          ],
          [
           null,
           58.383,
           57.888000000000005,
           57.492,
           56.843999999999994,
           56.528999999999996,
           56.049,
           55.725,
           55.365,
           55.038000000000004,
           54.732,
           54.489,
           54.255,
           54.036,
           53.799,
           53.625
          ],
          [
           59.022,
           58.41,
           57.957,
           57.489,
           56.876999999999995,
           56.532,
           56.055,
           55.743,
           55.373999999999995,
           55.083,
           54.747,
           54.461999999999996,
           54.225,
           54.036,
           53.81100000000001,
           53.628
          ],
          [
           null,
           58.358999999999995,
           58.011,
           57.504,
           56.888999999999996,
           56.547,
           56.013000000000005,
           55.722,
           55.388999999999996,
           55.071000000000005,
           54.773999999999994,
           54.48,
           54.24,
           54.042,
           53.81399999999999,
           53.625
          ],
          [
           null,
           58.343999999999994,
           58.028999999999996,
           57.543,
           56.898,
           56.556000000000004,
           56.049,
           55.736999999999995,
           55.443000000000005,
           55.086000000000006,
           54.806999999999995,
           54.495,
           54.248999999999995,
           54.045,
           53.805,
           53.625
          ],
          [
           null,
           58.35,
           58.038000000000004,
           57.531000000000006,
           56.907,
           56.58,
           56.141999999999996,
           55.746,
           55.416000000000004,
           55.131,
           54.806999999999995,
           54.501000000000005,
           54.27,
           54.042,
           53.817,
           53.631
          ],
          [
           59.07899999999999,
           58.376999999999995,
           58.056000000000004,
           57.57899999999999,
           56.925,
           56.592,
           56.106,
           55.763999999999996,
           55.464,
           55.176,
           54.84,
           54.525,
           54.261,
           54.053999999999995,
           53.841,
           53.646
          ]
         ]
        }
       ],
       "layout": {
        "template": {
         "data": {
          "bar": [
           {
            "error_x": {
             "color": "#2a3f5f"
            },
            "error_y": {
             "color": "#2a3f5f"
            },
            "marker": {
             "line": {
              "color": "#E5ECF6",
              "width": 0.5
             }
            },
            "type": "bar"
           }
          ],
          "barpolar": [
           {
            "marker": {
             "line": {
              "color": "#E5ECF6",
              "width": 0.5
             }
            },
            "type": "barpolar"
           }
          ],
          "carpet": [
           {
            "aaxis": {
             "endlinecolor": "#2a3f5f",
             "gridcolor": "white",
             "linecolor": "white",
             "minorgridcolor": "white",
             "startlinecolor": "#2a3f5f"
            },
            "baxis": {
             "endlinecolor": "#2a3f5f",
             "gridcolor": "white",
             "linecolor": "white",
             "minorgridcolor": "white",
             "startlinecolor": "#2a3f5f"
            },
            "type": "carpet"
           }
          ],
          "choropleth": [
           {
            "colorbar": {
             "outlinewidth": 0,
             "ticks": ""
            },
            "type": "choropleth"
           }
          ],
          "contour": [
           {
            "colorbar": {
             "outlinewidth": 0,
             "ticks": ""
            },
            "colorscale": [
             [
              0,
              "#0d0887"
             ],
             [
              0.1111111111111111,
              "#46039f"
             ],
             [
              0.2222222222222222,
              "#7201a8"
             ],
             [
              0.3333333333333333,
              "#9c179e"
             ],
             [
              0.4444444444444444,
              "#bd3786"
             ],
             [
              0.5555555555555556,
              "#d8576b"
             ],
             [
              0.6666666666666666,
              "#ed7953"
             ],
             [
              0.7777777777777778,
              "#fb9f3a"
             ],
             [
              0.8888888888888888,
              "#fdca26"
             ],
             [
              1,
              "#f0f921"
             ]
            ],
            "type": "contour"
           }
          ],
          "contourcarpet": [
           {
            "colorbar": {
             "outlinewidth": 0,
             "ticks": ""
            },
            "type": "contourcarpet"
           }
          ],
          "heatmap": [
           {
            "colorbar": {
             "outlinewidth": 0,
             "ticks": ""
            },
            "colorscale": [
             [
              0,
              "#0d0887"
             ],
             [
              0.1111111111111111,
              "#46039f"
             ],
             [
              0.2222222222222222,
              "#7201a8"
             ],
             [
              0.3333333333333333,
              "#9c179e"
             ],
             [
              0.4444444444444444,
              "#bd3786"
             ],
             [
              0.5555555555555556,
              "#d8576b"
             ],
             [
              0.6666666666666666,
              "#ed7953"
             ],
             [
              0.7777777777777778,
              "#fb9f3a"
             ],
             [
              0.8888888888888888,
              "#fdca26"
             ],
             [
              1,
              "#f0f921"
             ]
            ],
            "type": "heatmap"
           }
          ],
          "heatmapgl": [
           {
            "colorbar": {
             "outlinewidth": 0,
             "ticks": ""
            },
            "colorscale": [
             [
              0,
              "#0d0887"
             ],
             [
              0.1111111111111111,
              "#46039f"
             ],
             [
              0.2222222222222222,
              "#7201a8"
             ],
             [
              0.3333333333333333,
              "#9c179e"
             ],
             [
              0.4444444444444444,
              "#bd3786"
             ],
             [
              0.5555555555555556,
              "#d8576b"
             ],
             [
              0.6666666666666666,
              "#ed7953"
             ],
             [
              0.7777777777777778,
              "#fb9f3a"
             ],
             [
              0.8888888888888888,
              "#fdca26"
             ],
             [
              1,
              "#f0f921"
             ]
            ],
            "type": "heatmapgl"
           }
          ],
          "histogram": [
           {
            "marker": {
             "colorbar": {
              "outlinewidth": 0,
              "ticks": ""
             }
            },
            "type": "histogram"
           }
          ],
          "histogram2d": [
           {
            "colorbar": {
             "outlinewidth": 0,
             "ticks": ""
            },
            "colorscale": [
             [
              0,
              "#0d0887"
             ],
             [
              0.1111111111111111,
              "#46039f"
             ],
             [
              0.2222222222222222,
              "#7201a8"
             ],
             [
              0.3333333333333333,
              "#9c179e"
             ],
             [
              0.4444444444444444,
              "#bd3786"
             ],
             [
              0.5555555555555556,
              "#d8576b"
             ],
             [
              0.6666666666666666,
              "#ed7953"
             ],
             [
              0.7777777777777778,
              "#fb9f3a"
             ],
             [
              0.8888888888888888,
              "#fdca26"
             ],
             [
              1,
              "#f0f921"
             ]
            ],
            "type": "histogram2d"
           }
          ],
          "histogram2dcontour": [
           {
            "colorbar": {
             "outlinewidth": 0,
             "ticks": ""
            },
            "colorscale": [
             [
              0,
              "#0d0887"
             ],
             [
              0.1111111111111111,
              "#46039f"
             ],
             [
              0.2222222222222222,
              "#7201a8"
             ],
             [
              0.3333333333333333,
              "#9c179e"
             ],
             [
              0.4444444444444444,
              "#bd3786"
             ],
             [
              0.5555555555555556,
              "#d8576b"
             ],
             [
              0.6666666666666666,
              "#ed7953"
             ],
             [
              0.7777777777777778,
              "#fb9f3a"
             ],
             [
              0.8888888888888888,
              "#fdca26"
             ],
             [
              1,
              "#f0f921"
             ]
            ],
            "type": "histogram2dcontour"
           }
          ],
          "mesh3d": [
           {
            "colorbar": {
             "outlinewidth": 0,
             "ticks": ""
            },
            "type": "mesh3d"
           }
          ],
          "parcoords": [
           {
            "line": {
             "colorbar": {
              "outlinewidth": 0,
              "ticks": ""
             }
            },
            "type": "parcoords"
           }
          ],
          "pie": [
           {
            "automargin": true,
            "type": "pie"
           }
          ],
          "scatter": [
           {
            "marker": {
             "colorbar": {
              "outlinewidth": 0,
              "ticks": ""
             }
            },
            "type": "scatter"
           }
          ],
          "scatter3d": [
           {
            "line": {
             "colorbar": {
              "outlinewidth": 0,
              "ticks": ""
             }
            },
            "marker": {
             "colorbar": {
              "outlinewidth": 0,
              "ticks": ""
             }
            },
            "type": "scatter3d"
           }
          ],
          "scattercarpet": [
           {
            "marker": {
             "colorbar": {
              "outlinewidth": 0,
              "ticks": ""
             }
            },
            "type": "scattercarpet"
           }
          ],
          "scattergeo": [
           {
            "marker": {
             "colorbar": {
              "outlinewidth": 0,
              "ticks": ""
             }
            },
            "type": "scattergeo"
           }
          ],
          "scattergl": [
           {
            "marker": {
             "colorbar": {
              "outlinewidth": 0,
              "ticks": ""
             }
            },
            "type": "scattergl"
           }
          ],
          "scattermapbox": [
           {
            "marker": {
             "colorbar": {
              "outlinewidth": 0,
              "ticks": ""
             }
            },
            "type": "scattermapbox"
           }
          ],
          "scatterpolar": [
           {
            "marker": {
             "colorbar": {
              "outlinewidth": 0,
              "ticks": ""
             }
            },
            "type": "scatterpolar"
           }
          ],
          "scatterpolargl": [
           {
            "marker": {
             "colorbar": {
              "outlinewidth": 0,
              "ticks": ""
             }
            },
            "type": "scatterpolargl"
           }
          ],
          "scatterternary": [
           {
            "marker": {
             "colorbar": {
              "outlinewidth": 0,
              "ticks": ""
             }
            },
            "type": "scatterternary"
           }
          ],
          "surface": [
           {
            "colorbar": {
             "outlinewidth": 0,
             "ticks": ""
            },
            "colorscale": [
             [
              0,
              "#0d0887"
             ],
             [
              0.1111111111111111,
              "#46039f"
             ],
             [
              0.2222222222222222,
              "#7201a8"
             ],
             [
              0.3333333333333333,
              "#9c179e"
             ],
             [
              0.4444444444444444,
              "#bd3786"
             ],
             [
              0.5555555555555556,
              "#d8576b"
             ],
             [
              0.6666666666666666,
              "#ed7953"
             ],
             [
              0.7777777777777778,
              "#fb9f3a"
             ],
             [
              0.8888888888888888,
              "#fdca26"
             ],
             [
              1,
              "#f0f921"
             ]
            ],
            "type": "surface"
           }
          ],
          "table": [
           {
            "cells": {
             "fill": {
              "color": "#EBF0F8"
             },
             "line": {
              "color": "white"
             }
            },
            "header": {
             "fill": {
              "color": "#C8D4E3"
             },
             "line": {
              "color": "white"
             }
            },
            "type": "table"
           }
          ]
         },
         "layout": {
          "annotationdefaults": {
           "arrowcolor": "#2a3f5f",
           "arrowhead": 0,
           "arrowwidth": 1
          },
          "coloraxis": {
           "colorbar": {
            "outlinewidth": 0,
            "ticks": ""
           }
          },
          "colorscale": {
           "diverging": [
            [
             0,
             "#8e0152"
            ],
            [
             0.1,
             "#c51b7d"
            ],
            [
             0.2,
             "#de77ae"
            ],
            [
             0.3,
             "#f1b6da"
            ],
            [
             0.4,
             "#fde0ef"
            ],
            [
             0.5,
             "#f7f7f7"
            ],
            [
             0.6,
             "#e6f5d0"
            ],
            [
             0.7,
             "#b8e186"
            ],
            [
             0.8,
             "#7fbc41"
            ],
            [
             0.9,
             "#4d9221"
            ],
            [
             1,
             "#276419"
            ]
           ],
           "sequential": [
            [
             0,
             "#0d0887"
            ],
            [
             0.1111111111111111,
             "#46039f"
            ],
            [
             0.2222222222222222,
             "#7201a8"
            ],
            [
             0.3333333333333333,
             "#9c179e"
            ],
            [
             0.4444444444444444,
             "#bd3786"
            ],
            [
             0.5555555555555556,
             "#d8576b"
            ],
            [
             0.6666666666666666,
             "#ed7953"
            ],
            [
             0.7777777777777778,
             "#fb9f3a"
            ],
            [
             0.8888888888888888,
             "#fdca26"
            ],
            [
             1,
             "#f0f921"
            ]
           ],
           "sequentialminus": [
            [
             0,
             "#0d0887"
            ],
            [
             0.1111111111111111,
             "#46039f"
            ],
            [
             0.2222222222222222,
             "#7201a8"
            ],
            [
             0.3333333333333333,
             "#9c179e"
            ],
            [
             0.4444444444444444,
             "#bd3786"
            ],
            [
             0.5555555555555556,
             "#d8576b"
            ],
            [
             0.6666666666666666,
             "#ed7953"
            ],
            [
             0.7777777777777778,
             "#fb9f3a"
            ],
            [
             0.8888888888888888,
             "#fdca26"
            ],
            [
             1,
             "#f0f921"
            ]
           ]
          },
          "colorway": [
           "#636efa",
           "#EF553B",
           "#00cc96",
           "#ab63fa",
           "#FFA15A",
           "#19d3f3",
           "#FF6692",
           "#B6E880",
           "#FF97FF",
           "#FECB52"
          ],
          "font": {
           "color": "#2a3f5f"
          },
          "geo": {
           "bgcolor": "white",
           "lakecolor": "white",
           "landcolor": "#E5ECF6",
           "showlakes": true,
           "showland": true,
           "subunitcolor": "white"
          },
          "hoverlabel": {
           "align": "left"
          },
          "hovermode": "closest",
          "mapbox": {
           "style": "light"
          },
          "paper_bgcolor": "white",
          "plot_bgcolor": "#E5ECF6",
          "polar": {
           "angularaxis": {
            "gridcolor": "white",
            "linecolor": "white",
            "ticks": ""
           },
           "bgcolor": "#E5ECF6",
           "radialaxis": {
            "gridcolor": "white",
            "linecolor": "white",
            "ticks": ""
           }
          },
          "scene": {
           "xaxis": {
            "backgroundcolor": "#E5ECF6",
            "gridcolor": "white",
            "gridwidth": 2,
            "linecolor": "white",
            "showbackground": true,
            "ticks": "",
            "zerolinecolor": "white"
           },
           "yaxis": {
            "backgroundcolor": "#E5ECF6",
            "gridcolor": "white",
            "gridwidth": 2,
            "linecolor": "white",
            "showbackground": true,
            "ticks": "",
            "zerolinecolor": "white"
           },
           "zaxis": {
            "backgroundcolor": "#E5ECF6",
            "gridcolor": "white",
            "gridwidth": 2,
            "linecolor": "white",
            "showbackground": true,
            "ticks": "",
            "zerolinecolor": "white"
           }
          },
          "shapedefaults": {
           "line": {
            "color": "#2a3f5f"
           }
          },
          "ternary": {
           "aaxis": {
            "gridcolor": "white",
            "linecolor": "white",
            "ticks": ""
           },
           "baxis": {
            "gridcolor": "white",
            "linecolor": "white",
            "ticks": ""
           },
           "bgcolor": "#E5ECF6",
           "caxis": {
            "gridcolor": "white",
            "linecolor": "white",
            "ticks": ""
           }
          },
          "title": {
           "x": 0.05
          },
          "xaxis": {
           "automargin": true,
           "gridcolor": "white",
           "linecolor": "white",
           "ticks": "",
           "title": {
            "standoff": 15
           },
           "zerolinecolor": "white",
           "zerolinewidth": 2
          },
          "yaxis": {
           "automargin": true,
           "gridcolor": "white",
           "linecolor": "white",
           "ticks": "",
           "title": {
            "standoff": 15
           },
           "zerolinecolor": "white",
           "zerolinewidth": 2
          }
         }
        },
        "title": {
         "text": "Wheelbase vs. Track Width vs. Laptime — Autocross_MIS_2019 (w.d. = 50%F)"
        },
        "xaxis": {
         "title": {
          "text": "Track Width [in]"
         }
        },
        "yaxis": {
         "title": {
          "text": "Wheelbase [in]"
         }
        }
       }
      },
      "text/html": [
       "<div>\n",
       "        \n",
       "        \n",
       "            <div id=\"5f21259f-7059-4e98-84a6-44e145177634\" class=\"plotly-graph-div\" style=\"height:525px; width:100%;\"></div>\n",
       "            <script type=\"text/javascript\">\n",
       "                require([\"plotly\"], function(Plotly) {\n",
       "                    window.PLOTLYENV=window.PLOTLYENV || {};\n",
       "                    \n",
       "                if (document.getElementById(\"5f21259f-7059-4e98-84a6-44e145177634\")) {\n",
       "                    Plotly.newPlot(\n",
       "                        '5f21259f-7059-4e98-84a6-44e145177634',\n",
       "                        [{\"colorscale\": [[0.0, \"#fde725\"], [0.1111111111111111, \"#b5de2b\"], [0.2222222222222222, \"#6ece58\"], [0.3333333333333333, \"#35b779\"], [0.4444444444444444, \"#1f9e89\"], [0.5555555555555556, \"#26828e\"], [0.6666666666666666, \"#31688e\"], [0.7777777777777778, \"#3e4989\"], [0.8888888888888888, \"#482878\"], [1.0, \"#440154\"]], \"hoverongaps\": false, \"type\": \"heatmap\", \"x\": [40, 41, 42, 43, 44, 45, 46, 47, 48, 49, 50, 51, 52, 53, 54, 55], \"y\": [60.5, 61.5, 62.5, 63.5, 64.5, 65.5, 66.5, 67.5, 68.5, 69.5, 70.5, 71.5, 72.5, 73.5, 74.5, 75.5, 76.5, 77.5, 78.5, 79.5, 80.5], \"z\": [[null, null, 57.792, 57.324, 56.751000000000005, 56.388000000000005, 55.869, 55.575, 55.284, 55.011, 54.756, 54.543, 54.36, 54.156000000000006, 53.982, 53.826], [null, 58.208999999999996, 57.771, 57.339, 56.754, 56.388000000000005, 55.887, 55.59, 55.308, 55.038000000000004, 54.708, 54.483000000000004, 54.315, 54.15, 53.961000000000006, 53.781000000000006], [null, 58.224, 57.744, 57.327, 56.73, 56.415, 55.896, 55.662, 55.347, 54.972, 54.717, 54.507, 54.297, 54.111000000000004, 53.952, 53.76], [null, null, null, 57.339, 56.742, 56.295, 55.872, 55.638000000000005, 55.31399999999999, 54.96, 54.699, 54.498000000000005, 54.333, 54.114, 53.91, 53.742], [58.869, 58.305, null, 57.345, 56.73, 56.364, 55.812, 55.65, 55.278, 54.93899999999999, 54.693000000000005, 54.489, 54.315, 54.083999999999996, 53.898, 53.7], [null, 58.233000000000004, 57.798, 57.354, 56.742, 56.37, 55.905, 55.62, 55.335, 54.99, 54.699, 54.461999999999996, 54.285, 54.071999999999996, 53.888999999999996, 53.703], [58.872, 58.29600000000001, 57.795, 57.354, 56.754, 56.361000000000004, 55.887, 55.566, 55.293, 54.972, 54.693000000000005, 54.45, 54.276, 54.048, 53.883, 53.693999999999996], [58.854, 58.326, 57.81, 57.375, 56.766000000000005, 56.406000000000006, 55.878, 55.556999999999995, 55.26, 54.981, 54.675, 54.443999999999996, 54.261, 54.03, 53.858999999999995, 53.67], [58.86600000000001, 58.251000000000005, 57.806999999999995, 57.381, 56.781000000000006, 56.376000000000005, 55.953, 55.635, 55.29, 54.99, 54.687, 54.446999999999996, 54.266999999999996, 54.09, 53.85, 53.648999999999994], [null, 58.347, 57.816, 57.393, 56.778, 56.388000000000005, 55.92, 55.596000000000004, 55.287, 55.013999999999996, 54.684, 54.441, 54.225, 54.0, 53.82, 53.648999999999994], [58.902, null, 57.81, 57.42, 56.787, 56.403, 55.992, 55.629, 55.305, 55.02, 54.705, 54.431999999999995, 54.231, 54.006, 53.823, 53.655], [58.88399999999999, 58.251000000000005, null, 57.417, 56.802, 56.391000000000005, 56.04, 55.614, 55.317, 55.008, 54.69, 54.443999999999996, 54.233999999999995, 54.048, 53.832, 53.655], [58.931999999999995, 58.269, 57.843, 57.443999999999996, 56.826, 56.43, 55.992, 55.632, 55.32899999999999, 55.016999999999996, 54.699, 54.45, 54.233999999999995, 54.048, 53.81399999999999, 53.637], [58.953, null, 57.861000000000004, 57.446999999999996, 56.808, 56.43, 56.04600000000001, 55.614, 55.343999999999994, 55.011, 54.696000000000005, 54.438, 54.225, 54.03, 53.808, 53.631], [null, 58.403999999999996, 57.888000000000005, 57.453, 56.838, 56.46, 55.992, 55.683, 55.358999999999995, 55.044, 54.723, 54.458999999999996, 54.231, 54.038999999999994, 53.817, 53.637], [null, 58.383, 57.888000000000005, 57.492, 56.843999999999994, 56.528999999999996, 56.049, 55.725, 55.365, 55.038000000000004, 54.732, 54.489, 54.255, 54.036, 53.799, 53.625], [59.022, 58.41, 57.957, 57.489, 56.876999999999995, 56.532, 56.055, 55.743, 55.373999999999995, 55.083, 54.747, 54.461999999999996, 54.225, 54.036, 53.81100000000001, 53.628], [null, 58.358999999999995, 58.011, 57.504, 56.888999999999996, 56.547, 56.013000000000005, 55.722, 55.388999999999996, 55.071000000000005, 54.773999999999994, 54.48, 54.24, 54.042, 53.81399999999999, 53.625], [null, 58.343999999999994, 58.028999999999996, 57.543, 56.898, 56.556000000000004, 56.049, 55.736999999999995, 55.443000000000005, 55.086000000000006, 54.806999999999995, 54.495, 54.248999999999995, 54.045, 53.805, 53.625], [null, 58.35, 58.038000000000004, 57.531000000000006, 56.907, 56.58, 56.141999999999996, 55.746, 55.416000000000004, 55.131, 54.806999999999995, 54.501000000000005, 54.27, 54.042, 53.817, 53.631], [59.07899999999999, 58.376999999999995, 58.056000000000004, 57.57899999999999, 56.925, 56.592, 56.106, 55.763999999999996, 55.464, 55.176, 54.84, 54.525, 54.261, 54.053999999999995, 53.841, 53.646]]}],\n",
       "                        {\"template\": {\"data\": {\"bar\": [{\"error_x\": {\"color\": \"#2a3f5f\"}, \"error_y\": {\"color\": \"#2a3f5f\"}, \"marker\": {\"line\": {\"color\": \"#E5ECF6\", \"width\": 0.5}}, \"type\": \"bar\"}], \"barpolar\": [{\"marker\": {\"line\": {\"color\": \"#E5ECF6\", \"width\": 0.5}}, \"type\": \"barpolar\"}], \"carpet\": [{\"aaxis\": {\"endlinecolor\": \"#2a3f5f\", \"gridcolor\": \"white\", \"linecolor\": \"white\", \"minorgridcolor\": \"white\", \"startlinecolor\": \"#2a3f5f\"}, \"baxis\": {\"endlinecolor\": \"#2a3f5f\", \"gridcolor\": \"white\", \"linecolor\": \"white\", \"minorgridcolor\": \"white\", \"startlinecolor\": \"#2a3f5f\"}, \"type\": \"carpet\"}], \"choropleth\": [{\"colorbar\": {\"outlinewidth\": 0, \"ticks\": \"\"}, \"type\": \"choropleth\"}], \"contour\": [{\"colorbar\": {\"outlinewidth\": 0, \"ticks\": \"\"}, \"colorscale\": [[0.0, \"#0d0887\"], [0.1111111111111111, \"#46039f\"], [0.2222222222222222, \"#7201a8\"], [0.3333333333333333, \"#9c179e\"], [0.4444444444444444, \"#bd3786\"], [0.5555555555555556, \"#d8576b\"], [0.6666666666666666, \"#ed7953\"], [0.7777777777777778, \"#fb9f3a\"], [0.8888888888888888, \"#fdca26\"], [1.0, \"#f0f921\"]], \"type\": \"contour\"}], \"contourcarpet\": [{\"colorbar\": {\"outlinewidth\": 0, \"ticks\": \"\"}, \"type\": \"contourcarpet\"}], \"heatmap\": [{\"colorbar\": {\"outlinewidth\": 0, \"ticks\": \"\"}, \"colorscale\": [[0.0, \"#0d0887\"], [0.1111111111111111, \"#46039f\"], [0.2222222222222222, \"#7201a8\"], [0.3333333333333333, \"#9c179e\"], [0.4444444444444444, \"#bd3786\"], [0.5555555555555556, \"#d8576b\"], [0.6666666666666666, \"#ed7953\"], [0.7777777777777778, \"#fb9f3a\"], [0.8888888888888888, \"#fdca26\"], [1.0, \"#f0f921\"]], \"type\": \"heatmap\"}], \"heatmapgl\": [{\"colorbar\": {\"outlinewidth\": 0, \"ticks\": \"\"}, \"colorscale\": [[0.0, \"#0d0887\"], [0.1111111111111111, \"#46039f\"], [0.2222222222222222, \"#7201a8\"], [0.3333333333333333, \"#9c179e\"], [0.4444444444444444, \"#bd3786\"], [0.5555555555555556, \"#d8576b\"], [0.6666666666666666, \"#ed7953\"], [0.7777777777777778, \"#fb9f3a\"], [0.8888888888888888, \"#fdca26\"], [1.0, \"#f0f921\"]], \"type\": \"heatmapgl\"}], \"histogram\": [{\"marker\": {\"colorbar\": {\"outlinewidth\": 0, \"ticks\": \"\"}}, \"type\": \"histogram\"}], \"histogram2d\": [{\"colorbar\": {\"outlinewidth\": 0, \"ticks\": \"\"}, \"colorscale\": [[0.0, \"#0d0887\"], [0.1111111111111111, \"#46039f\"], [0.2222222222222222, \"#7201a8\"], [0.3333333333333333, \"#9c179e\"], [0.4444444444444444, \"#bd3786\"], [0.5555555555555556, \"#d8576b\"], [0.6666666666666666, \"#ed7953\"], [0.7777777777777778, \"#fb9f3a\"], [0.8888888888888888, \"#fdca26\"], [1.0, \"#f0f921\"]], \"type\": \"histogram2d\"}], \"histogram2dcontour\": [{\"colorbar\": {\"outlinewidth\": 0, \"ticks\": \"\"}, \"colorscale\": [[0.0, \"#0d0887\"], [0.1111111111111111, \"#46039f\"], [0.2222222222222222, \"#7201a8\"], [0.3333333333333333, \"#9c179e\"], [0.4444444444444444, \"#bd3786\"], [0.5555555555555556, \"#d8576b\"], [0.6666666666666666, \"#ed7953\"], [0.7777777777777778, \"#fb9f3a\"], [0.8888888888888888, \"#fdca26\"], [1.0, \"#f0f921\"]], \"type\": \"histogram2dcontour\"}], \"mesh3d\": [{\"colorbar\": {\"outlinewidth\": 0, \"ticks\": \"\"}, \"type\": \"mesh3d\"}], \"parcoords\": [{\"line\": {\"colorbar\": {\"outlinewidth\": 0, \"ticks\": \"\"}}, \"type\": \"parcoords\"}], \"pie\": [{\"automargin\": true, \"type\": \"pie\"}], \"scatter\": [{\"marker\": {\"colorbar\": {\"outlinewidth\": 0, \"ticks\": \"\"}}, \"type\": \"scatter\"}], \"scatter3d\": [{\"line\": {\"colorbar\": {\"outlinewidth\": 0, \"ticks\": \"\"}}, \"marker\": {\"colorbar\": {\"outlinewidth\": 0, \"ticks\": \"\"}}, \"type\": \"scatter3d\"}], \"scattercarpet\": [{\"marker\": {\"colorbar\": {\"outlinewidth\": 0, \"ticks\": \"\"}}, \"type\": \"scattercarpet\"}], \"scattergeo\": [{\"marker\": {\"colorbar\": {\"outlinewidth\": 0, \"ticks\": \"\"}}, \"type\": \"scattergeo\"}], \"scattergl\": [{\"marker\": {\"colorbar\": {\"outlinewidth\": 0, \"ticks\": \"\"}}, \"type\": \"scattergl\"}], \"scattermapbox\": [{\"marker\": {\"colorbar\": {\"outlinewidth\": 0, \"ticks\": \"\"}}, \"type\": \"scattermapbox\"}], \"scatterpolar\": [{\"marker\": {\"colorbar\": {\"outlinewidth\": 0, \"ticks\": \"\"}}, \"type\": \"scatterpolar\"}], \"scatterpolargl\": [{\"marker\": {\"colorbar\": {\"outlinewidth\": 0, \"ticks\": \"\"}}, \"type\": \"scatterpolargl\"}], \"scatterternary\": [{\"marker\": {\"colorbar\": {\"outlinewidth\": 0, \"ticks\": \"\"}}, \"type\": \"scatterternary\"}], \"surface\": [{\"colorbar\": {\"outlinewidth\": 0, \"ticks\": \"\"}, \"colorscale\": [[0.0, \"#0d0887\"], [0.1111111111111111, \"#46039f\"], [0.2222222222222222, \"#7201a8\"], [0.3333333333333333, \"#9c179e\"], [0.4444444444444444, \"#bd3786\"], [0.5555555555555556, \"#d8576b\"], [0.6666666666666666, \"#ed7953\"], [0.7777777777777778, \"#fb9f3a\"], [0.8888888888888888, \"#fdca26\"], [1.0, \"#f0f921\"]], \"type\": \"surface\"}], \"table\": [{\"cells\": {\"fill\": {\"color\": \"#EBF0F8\"}, \"line\": {\"color\": \"white\"}}, \"header\": {\"fill\": {\"color\": \"#C8D4E3\"}, \"line\": {\"color\": \"white\"}}, \"type\": \"table\"}]}, \"layout\": {\"annotationdefaults\": {\"arrowcolor\": \"#2a3f5f\", \"arrowhead\": 0, \"arrowwidth\": 1}, \"coloraxis\": {\"colorbar\": {\"outlinewidth\": 0, \"ticks\": \"\"}}, \"colorscale\": {\"diverging\": [[0, \"#8e0152\"], [0.1, \"#c51b7d\"], [0.2, \"#de77ae\"], [0.3, \"#f1b6da\"], [0.4, \"#fde0ef\"], [0.5, \"#f7f7f7\"], [0.6, \"#e6f5d0\"], [0.7, \"#b8e186\"], [0.8, \"#7fbc41\"], [0.9, \"#4d9221\"], [1, \"#276419\"]], \"sequential\": [[0.0, \"#0d0887\"], [0.1111111111111111, \"#46039f\"], [0.2222222222222222, \"#7201a8\"], [0.3333333333333333, \"#9c179e\"], [0.4444444444444444, \"#bd3786\"], [0.5555555555555556, \"#d8576b\"], [0.6666666666666666, \"#ed7953\"], [0.7777777777777778, \"#fb9f3a\"], [0.8888888888888888, \"#fdca26\"], [1.0, \"#f0f921\"]], \"sequentialminus\": [[0.0, \"#0d0887\"], [0.1111111111111111, \"#46039f\"], [0.2222222222222222, \"#7201a8\"], [0.3333333333333333, \"#9c179e\"], [0.4444444444444444, \"#bd3786\"], [0.5555555555555556, \"#d8576b\"], [0.6666666666666666, \"#ed7953\"], [0.7777777777777778, \"#fb9f3a\"], [0.8888888888888888, \"#fdca26\"], [1.0, \"#f0f921\"]]}, \"colorway\": [\"#636efa\", \"#EF553B\", \"#00cc96\", \"#ab63fa\", \"#FFA15A\", \"#19d3f3\", \"#FF6692\", \"#B6E880\", \"#FF97FF\", \"#FECB52\"], \"font\": {\"color\": \"#2a3f5f\"}, \"geo\": {\"bgcolor\": \"white\", \"lakecolor\": \"white\", \"landcolor\": \"#E5ECF6\", \"showlakes\": true, \"showland\": true, \"subunitcolor\": \"white\"}, \"hoverlabel\": {\"align\": \"left\"}, \"hovermode\": \"closest\", \"mapbox\": {\"style\": \"light\"}, \"paper_bgcolor\": \"white\", \"plot_bgcolor\": \"#E5ECF6\", \"polar\": {\"angularaxis\": {\"gridcolor\": \"white\", \"linecolor\": \"white\", \"ticks\": \"\"}, \"bgcolor\": \"#E5ECF6\", \"radialaxis\": {\"gridcolor\": \"white\", \"linecolor\": \"white\", \"ticks\": \"\"}}, \"scene\": {\"xaxis\": {\"backgroundcolor\": \"#E5ECF6\", \"gridcolor\": \"white\", \"gridwidth\": 2, \"linecolor\": \"white\", \"showbackground\": true, \"ticks\": \"\", \"zerolinecolor\": \"white\"}, \"yaxis\": {\"backgroundcolor\": \"#E5ECF6\", \"gridcolor\": \"white\", \"gridwidth\": 2, \"linecolor\": \"white\", \"showbackground\": true, \"ticks\": \"\", \"zerolinecolor\": \"white\"}, \"zaxis\": {\"backgroundcolor\": \"#E5ECF6\", \"gridcolor\": \"white\", \"gridwidth\": 2, \"linecolor\": \"white\", \"showbackground\": true, \"ticks\": \"\", \"zerolinecolor\": \"white\"}}, \"shapedefaults\": {\"line\": {\"color\": \"#2a3f5f\"}}, \"ternary\": {\"aaxis\": {\"gridcolor\": \"white\", \"linecolor\": \"white\", \"ticks\": \"\"}, \"baxis\": {\"gridcolor\": \"white\", \"linecolor\": \"white\", \"ticks\": \"\"}, \"bgcolor\": \"#E5ECF6\", \"caxis\": {\"gridcolor\": \"white\", \"linecolor\": \"white\", \"ticks\": \"\"}}, \"title\": {\"x\": 0.05}, \"xaxis\": {\"automargin\": true, \"gridcolor\": \"white\", \"linecolor\": \"white\", \"ticks\": \"\", \"title\": {\"standoff\": 15}, \"zerolinecolor\": \"white\", \"zerolinewidth\": 2}, \"yaxis\": {\"automargin\": true, \"gridcolor\": \"white\", \"linecolor\": \"white\", \"ticks\": \"\", \"title\": {\"standoff\": 15}, \"zerolinecolor\": \"white\", \"zerolinewidth\": 2}}}, \"title\": {\"text\": \"Wheelbase vs. Track Width vs. Laptime \\u2014 Autocross_MIS_2019 (w.d. = 50%F)\"}, \"xaxis\": {\"title\": {\"text\": \"Track Width [in]\"}}, \"yaxis\": {\"title\": {\"text\": \"Wheelbase [in]\"}}},\n",
       "                        {\"responsive\": true}\n",
       "                    ).then(function(){\n",
       "                            \n",
       "var gd = document.getElementById('5f21259f-7059-4e98-84a6-44e145177634');\n",
       "var x = new MutationObserver(function (mutations, observer) {{\n",
       "        var display = window.getComputedStyle(gd).display;\n",
       "        if (!display || display === 'none') {{\n",
       "            console.log([gd, 'removed!']);\n",
       "            Plotly.purge(gd);\n",
       "            observer.disconnect();\n",
       "        }}\n",
       "}});\n",
       "\n",
       "// Listen for the removal of the full notebook cells\n",
       "var notebookContainer = gd.closest('#notebook-container');\n",
       "if (notebookContainer) {{\n",
       "    x.observe(notebookContainer, {childList: true});\n",
       "}}\n",
       "\n",
       "// Listen for the clearing of the current output cell\n",
       "var outputEl = gd.closest('.output');\n",
       "if (outputEl) {{\n",
       "    x.observe(outputEl, {childList: true});\n",
       "}}\n",
       "\n",
       "                        })\n",
       "                };\n",
       "                });\n",
       "            </script>\n",
       "        </div>"
      ]
     },
     "metadata": {},
     "output_type": "display_data"
    }
   ],
   "source": [
    "name = \"Autocross_MIS_2019\"\n",
    "fig = show_laptimes(3, name)\n",
    "fig.write_image(\"{}.png\".format(name), width=1000, height=500)\n",
    "fig.show()"
   ]
  },
  {
   "cell_type": "markdown",
   "metadata": {},
   "source": [
    "# Slaloms"
   ]
  },
  {
   "cell_type": "code",
   "execution_count": 239,
   "metadata": {},
   "outputs": [
    {
     "data": {
      "application/vnd.plotly.v1+json": {
       "config": {
        "plotlyServerURL": "https://plot.ly"
       },
       "data": [
        {
         "colorscale": [
          [
           0,
           "#fde725"
          ],
          [
           0.1111111111111111,
           "#b5de2b"
          ],
          [
           0.2222222222222222,
           "#6ece58"
          ],
          [
           0.3333333333333333,
           "#35b779"
          ],
          [
           0.4444444444444444,
           "#1f9e89"
          ],
          [
           0.5555555555555556,
           "#26828e"
          ],
          [
           0.6666666666666666,
           "#31688e"
          ],
          [
           0.7777777777777778,
           "#3e4989"
          ],
          [
           0.8888888888888888,
           "#482878"
          ],
          [
           1,
           "#440154"
          ]
         ],
         "hoverongaps": false,
         "type": "heatmap",
         "x": [
          40,
          41,
          42,
          43,
          44,
          45,
          46,
          47,
          48,
          49,
          50,
          51,
          52,
          53,
          54,
          55
         ],
         "y": [
          60.5,
          61.5,
          62.5,
          63.5,
          64.5,
          65.5,
          66.5,
          67.5,
          68.5,
          69.5,
          70.5,
          71.5,
          72.5,
          73.5,
          74.5,
          75.5,
          76.5,
          77.5,
          78.5,
          79.5,
          80.5
         ],
         "z": [
          [
           6.855,
           null,
           null,
           6.846,
           6.834,
           6.831,
           6.825,
           6.827999999999999,
           null,
           6.822,
           6.825,
           6.819,
           6.819,
           6.827999999999999,
           6.816,
           6.816
          ],
          [
           null,
           6.858,
           6.849,
           6.834,
           6.834,
           6.827999999999999,
           6.825,
           6.827999999999999,
           6.827999999999999,
           6.822,
           6.827999999999999,
           6.822,
           6.819,
           6.825,
           6.825,
           6.819
          ],
          [
           6.858,
           6.849,
           6.843,
           6.846,
           6.834,
           6.834,
           6.825,
           6.834,
           6.825,
           6.822,
           6.831,
           6.825,
           6.822,
           6.825,
           6.825,
           6.819
          ],
          [
           null,
           null,
           6.849,
           6.843,
           6.831,
           null,
           6.825,
           6.827999999999999,
           6.827999999999999,
           6.827999999999999,
           6.831,
           6.822,
           6.825,
           6.822,
           6.827999999999999,
           6.822
          ],
          [
           null,
           6.861000000000001,
           null,
           6.846,
           6.837000000000001,
           6.834,
           6.827999999999999,
           6.84,
           6.831,
           6.827999999999999,
           6.827999999999999,
           6.822,
           6.825,
           6.825,
           6.827999999999999,
           6.827999999999999
          ],
          [
           null,
           6.858,
           6.852,
           6.849,
           6.84,
           6.834,
           6.831,
           6.843,
           6.837000000000001,
           null,
           6.831,
           6.825,
           6.825,
           6.825,
           6.825,
           6.827999999999999
          ],
          [
           6.867000000000001,
           6.864,
           null,
           null,
           6.84,
           6.834,
           6.827999999999999,
           null,
           null,
           null,
           6.834,
           6.827999999999999,
           6.827999999999999,
           6.825,
           6.834,
           6.837000000000001
          ],
          [
           null,
           6.87,
           6.858,
           6.843,
           null,
           6.837000000000001,
           6.834,
           6.846,
           6.849,
           6.831,
           6.834,
           6.827999999999999,
           6.827999999999999,
           6.827999999999999,
           6.834,
           6.827999999999999
          ],
          [
           null,
           6.855,
           null,
           6.846,
           6.846,
           6.84,
           6.84,
           6.849,
           6.849,
           6.834,
           6.84,
           6.834,
           6.827999999999999,
           6.831,
           6.831,
           6.834
          ],
          [
           6.867000000000001,
           6.861000000000001,
           6.864,
           6.849,
           6.849,
           6.843,
           6.843,
           6.855,
           6.846,
           6.837000000000001,
           6.843,
           6.837000000000001,
           6.834,
           6.834,
           6.831,
           6.834
          ],
          [
           null,
           6.864,
           6.867000000000001,
           6.849,
           6.849,
           6.84,
           6.852,
           6.858,
           null,
           6.846,
           6.843,
           6.837000000000001,
           6.831,
           6.837000000000001,
           6.831,
           6.837000000000001
          ],
          [
           null,
           6.872999999999999,
           6.867000000000001,
           6.849,
           null,
           6.843,
           6.849,
           6.855,
           null,
           6.843,
           6.84,
           6.846,
           6.834,
           6.834,
           6.831,
           6.837000000000001
          ],
          [
           null,
           6.872999999999999,
           6.867000000000001,
           6.855,
           null,
           6.846,
           6.846,
           6.858,
           6.852,
           6.846,
           6.843,
           6.846,
           6.837000000000001,
           6.831,
           6.834,
           6.834
          ],
          [
           null,
           null,
           6.872999999999999,
           6.858,
           6.855,
           6.849,
           6.852,
           6.864,
           6.855,
           6.846,
           6.846,
           6.843,
           6.84,
           6.834,
           6.837000000000001,
           6.84
          ],
          [
           6.882000000000001,
           6.87,
           null,
           6.864,
           6.852,
           6.855,
           6.858,
           null,
           6.852,
           6.846,
           6.846,
           6.846,
           6.843,
           6.834,
           6.84,
           6.846
          ],
          [
           null,
           null,
           null,
           6.861000000000001,
           null,
           6.855,
           6.858,
           null,
           6.855,
           6.852,
           6.846,
           6.846,
           6.846,
           6.843,
           6.84,
           6.852
          ],
          [
           null,
           null,
           6.872999999999999,
           6.879,
           6.855,
           6.864,
           6.861000000000001,
           null,
           null,
           null,
           6.846,
           6.852,
           6.843,
           6.843,
           6.843,
           6.852
          ],
          [
           null,
           6.872999999999999,
           null,
           6.872999999999999,
           6.858,
           6.867000000000001,
           6.867000000000001,
           6.861000000000001,
           null,
           6.852,
           6.849,
           6.846,
           6.843,
           6.843,
           6.843,
           6.852
          ],
          [
           null,
           null,
           null,
           6.872999999999999,
           null,
           null,
           6.864,
           6.861000000000001,
           6.864,
           6.858,
           6.852,
           6.849,
           6.846,
           6.849,
           6.846,
           6.852
          ],
          [
           6.882000000000001,
           6.876,
           null,
           null,
           6.867000000000001,
           null,
           6.864,
           6.861000000000001,
           null,
           6.861000000000001,
           6.852,
           6.849,
           6.846,
           6.849,
           6.849,
           6.858
          ],
          [
           null,
           null,
           6.879,
           6.87,
           6.864,
           null,
           6.867000000000001,
           6.867000000000001,
           null,
           6.861000000000001,
           6.858,
           6.852,
           6.849,
           6.852,
           6.855,
           6.861000000000001
          ]
         ]
        }
       ],
       "layout": {
        "template": {
         "data": {
          "bar": [
           {
            "error_x": {
             "color": "#2a3f5f"
            },
            "error_y": {
             "color": "#2a3f5f"
            },
            "marker": {
             "line": {
              "color": "#E5ECF6",
              "width": 0.5
             }
            },
            "type": "bar"
           }
          ],
          "barpolar": [
           {
            "marker": {
             "line": {
              "color": "#E5ECF6",
              "width": 0.5
             }
            },
            "type": "barpolar"
           }
          ],
          "carpet": [
           {
            "aaxis": {
             "endlinecolor": "#2a3f5f",
             "gridcolor": "white",
             "linecolor": "white",
             "minorgridcolor": "white",
             "startlinecolor": "#2a3f5f"
            },
            "baxis": {
             "endlinecolor": "#2a3f5f",
             "gridcolor": "white",
             "linecolor": "white",
             "minorgridcolor": "white",
             "startlinecolor": "#2a3f5f"
            },
            "type": "carpet"
           }
          ],
          "choropleth": [
           {
            "colorbar": {
             "outlinewidth": 0,
             "ticks": ""
            },
            "type": "choropleth"
           }
          ],
          "contour": [
           {
            "colorbar": {
             "outlinewidth": 0,
             "ticks": ""
            },
            "colorscale": [
             [
              0,
              "#0d0887"
             ],
             [
              0.1111111111111111,
              "#46039f"
             ],
             [
              0.2222222222222222,
              "#7201a8"
             ],
             [
              0.3333333333333333,
              "#9c179e"
             ],
             [
              0.4444444444444444,
              "#bd3786"
             ],
             [
              0.5555555555555556,
              "#d8576b"
             ],
             [
              0.6666666666666666,
              "#ed7953"
             ],
             [
              0.7777777777777778,
              "#fb9f3a"
             ],
             [
              0.8888888888888888,
              "#fdca26"
             ],
             [
              1,
              "#f0f921"
             ]
            ],
            "type": "contour"
           }
          ],
          "contourcarpet": [
           {
            "colorbar": {
             "outlinewidth": 0,
             "ticks": ""
            },
            "type": "contourcarpet"
           }
          ],
          "heatmap": [
           {
            "colorbar": {
             "outlinewidth": 0,
             "ticks": ""
            },
            "colorscale": [
             [
              0,
              "#0d0887"
             ],
             [
              0.1111111111111111,
              "#46039f"
             ],
             [
              0.2222222222222222,
              "#7201a8"
             ],
             [
              0.3333333333333333,
              "#9c179e"
             ],
             [
              0.4444444444444444,
              "#bd3786"
             ],
             [
              0.5555555555555556,
              "#d8576b"
             ],
             [
              0.6666666666666666,
              "#ed7953"
             ],
             [
              0.7777777777777778,
              "#fb9f3a"
             ],
             [
              0.8888888888888888,
              "#fdca26"
             ],
             [
              1,
              "#f0f921"
             ]
            ],
            "type": "heatmap"
           }
          ],
          "heatmapgl": [
           {
            "colorbar": {
             "outlinewidth": 0,
             "ticks": ""
            },
            "colorscale": [
             [
              0,
              "#0d0887"
             ],
             [
              0.1111111111111111,
              "#46039f"
             ],
             [
              0.2222222222222222,
              "#7201a8"
             ],
             [
              0.3333333333333333,
              "#9c179e"
             ],
             [
              0.4444444444444444,
              "#bd3786"
             ],
             [
              0.5555555555555556,
              "#d8576b"
             ],
             [
              0.6666666666666666,
              "#ed7953"
             ],
             [
              0.7777777777777778,
              "#fb9f3a"
             ],
             [
              0.8888888888888888,
              "#fdca26"
             ],
             [
              1,
              "#f0f921"
             ]
            ],
            "type": "heatmapgl"
           }
          ],
          "histogram": [
           {
            "marker": {
             "colorbar": {
              "outlinewidth": 0,
              "ticks": ""
             }
            },
            "type": "histogram"
           }
          ],
          "histogram2d": [
           {
            "colorbar": {
             "outlinewidth": 0,
             "ticks": ""
            },
            "colorscale": [
             [
              0,
              "#0d0887"
             ],
             [
              0.1111111111111111,
              "#46039f"
             ],
             [
              0.2222222222222222,
              "#7201a8"
             ],
             [
              0.3333333333333333,
              "#9c179e"
             ],
             [
              0.4444444444444444,
              "#bd3786"
             ],
             [
              0.5555555555555556,
              "#d8576b"
             ],
             [
              0.6666666666666666,
              "#ed7953"
             ],
             [
              0.7777777777777778,
              "#fb9f3a"
             ],
             [
              0.8888888888888888,
              "#fdca26"
             ],
             [
              1,
              "#f0f921"
             ]
            ],
            "type": "histogram2d"
           }
          ],
          "histogram2dcontour": [
           {
            "colorbar": {
             "outlinewidth": 0,
             "ticks": ""
            },
            "colorscale": [
             [
              0,
              "#0d0887"
             ],
             [
              0.1111111111111111,
              "#46039f"
             ],
             [
              0.2222222222222222,
              "#7201a8"
             ],
             [
              0.3333333333333333,
              "#9c179e"
             ],
             [
              0.4444444444444444,
              "#bd3786"
             ],
             [
              0.5555555555555556,
              "#d8576b"
             ],
             [
              0.6666666666666666,
              "#ed7953"
             ],
             [
              0.7777777777777778,
              "#fb9f3a"
             ],
             [
              0.8888888888888888,
              "#fdca26"
             ],
             [
              1,
              "#f0f921"
             ]
            ],
            "type": "histogram2dcontour"
           }
          ],
          "mesh3d": [
           {
            "colorbar": {
             "outlinewidth": 0,
             "ticks": ""
            },
            "type": "mesh3d"
           }
          ],
          "parcoords": [
           {
            "line": {
             "colorbar": {
              "outlinewidth": 0,
              "ticks": ""
             }
            },
            "type": "parcoords"
           }
          ],
          "pie": [
           {
            "automargin": true,
            "type": "pie"
           }
          ],
          "scatter": [
           {
            "marker": {
             "colorbar": {
              "outlinewidth": 0,
              "ticks": ""
             }
            },
            "type": "scatter"
           }
          ],
          "scatter3d": [
           {
            "line": {
             "colorbar": {
              "outlinewidth": 0,
              "ticks": ""
             }
            },
            "marker": {
             "colorbar": {
              "outlinewidth": 0,
              "ticks": ""
             }
            },
            "type": "scatter3d"
           }
          ],
          "scattercarpet": [
           {
            "marker": {
             "colorbar": {
              "outlinewidth": 0,
              "ticks": ""
             }
            },
            "type": "scattercarpet"
           }
          ],
          "scattergeo": [
           {
            "marker": {
             "colorbar": {
              "outlinewidth": 0,
              "ticks": ""
             }
            },
            "type": "scattergeo"
           }
          ],
          "scattergl": [
           {
            "marker": {
             "colorbar": {
              "outlinewidth": 0,
              "ticks": ""
             }
            },
            "type": "scattergl"
           }
          ],
          "scattermapbox": [
           {
            "marker": {
             "colorbar": {
              "outlinewidth": 0,
              "ticks": ""
             }
            },
            "type": "scattermapbox"
           }
          ],
          "scatterpolar": [
           {
            "marker": {
             "colorbar": {
              "outlinewidth": 0,
              "ticks": ""
             }
            },
            "type": "scatterpolar"
           }
          ],
          "scatterpolargl": [
           {
            "marker": {
             "colorbar": {
              "outlinewidth": 0,
              "ticks": ""
             }
            },
            "type": "scatterpolargl"
           }
          ],
          "scatterternary": [
           {
            "marker": {
             "colorbar": {
              "outlinewidth": 0,
              "ticks": ""
             }
            },
            "type": "scatterternary"
           }
          ],
          "surface": [
           {
            "colorbar": {
             "outlinewidth": 0,
             "ticks": ""
            },
            "colorscale": [
             [
              0,
              "#0d0887"
             ],
             [
              0.1111111111111111,
              "#46039f"
             ],
             [
              0.2222222222222222,
              "#7201a8"
             ],
             [
              0.3333333333333333,
              "#9c179e"
             ],
             [
              0.4444444444444444,
              "#bd3786"
             ],
             [
              0.5555555555555556,
              "#d8576b"
             ],
             [
              0.6666666666666666,
              "#ed7953"
             ],
             [
              0.7777777777777778,
              "#fb9f3a"
             ],
             [
              0.8888888888888888,
              "#fdca26"
             ],
             [
              1,
              "#f0f921"
             ]
            ],
            "type": "surface"
           }
          ],
          "table": [
           {
            "cells": {
             "fill": {
              "color": "#EBF0F8"
             },
             "line": {
              "color": "white"
             }
            },
            "header": {
             "fill": {
              "color": "#C8D4E3"
             },
             "line": {
              "color": "white"
             }
            },
            "type": "table"
           }
          ]
         },
         "layout": {
          "annotationdefaults": {
           "arrowcolor": "#2a3f5f",
           "arrowhead": 0,
           "arrowwidth": 1
          },
          "coloraxis": {
           "colorbar": {
            "outlinewidth": 0,
            "ticks": ""
           }
          },
          "colorscale": {
           "diverging": [
            [
             0,
             "#8e0152"
            ],
            [
             0.1,
             "#c51b7d"
            ],
            [
             0.2,
             "#de77ae"
            ],
            [
             0.3,
             "#f1b6da"
            ],
            [
             0.4,
             "#fde0ef"
            ],
            [
             0.5,
             "#f7f7f7"
            ],
            [
             0.6,
             "#e6f5d0"
            ],
            [
             0.7,
             "#b8e186"
            ],
            [
             0.8,
             "#7fbc41"
            ],
            [
             0.9,
             "#4d9221"
            ],
            [
             1,
             "#276419"
            ]
           ],
           "sequential": [
            [
             0,
             "#0d0887"
            ],
            [
             0.1111111111111111,
             "#46039f"
            ],
            [
             0.2222222222222222,
             "#7201a8"
            ],
            [
             0.3333333333333333,
             "#9c179e"
            ],
            [
             0.4444444444444444,
             "#bd3786"
            ],
            [
             0.5555555555555556,
             "#d8576b"
            ],
            [
             0.6666666666666666,
             "#ed7953"
            ],
            [
             0.7777777777777778,
             "#fb9f3a"
            ],
            [
             0.8888888888888888,
             "#fdca26"
            ],
            [
             1,
             "#f0f921"
            ]
           ],
           "sequentialminus": [
            [
             0,
             "#0d0887"
            ],
            [
             0.1111111111111111,
             "#46039f"
            ],
            [
             0.2222222222222222,
             "#7201a8"
            ],
            [
             0.3333333333333333,
             "#9c179e"
            ],
            [
             0.4444444444444444,
             "#bd3786"
            ],
            [
             0.5555555555555556,
             "#d8576b"
            ],
            [
             0.6666666666666666,
             "#ed7953"
            ],
            [
             0.7777777777777778,
             "#fb9f3a"
            ],
            [
             0.8888888888888888,
             "#fdca26"
            ],
            [
             1,
             "#f0f921"
            ]
           ]
          },
          "colorway": [
           "#636efa",
           "#EF553B",
           "#00cc96",
           "#ab63fa",
           "#FFA15A",
           "#19d3f3",
           "#FF6692",
           "#B6E880",
           "#FF97FF",
           "#FECB52"
          ],
          "font": {
           "color": "#2a3f5f"
          },
          "geo": {
           "bgcolor": "white",
           "lakecolor": "white",
           "landcolor": "#E5ECF6",
           "showlakes": true,
           "showland": true,
           "subunitcolor": "white"
          },
          "hoverlabel": {
           "align": "left"
          },
          "hovermode": "closest",
          "mapbox": {
           "style": "light"
          },
          "paper_bgcolor": "white",
          "plot_bgcolor": "#E5ECF6",
          "polar": {
           "angularaxis": {
            "gridcolor": "white",
            "linecolor": "white",
            "ticks": ""
           },
           "bgcolor": "#E5ECF6",
           "radialaxis": {
            "gridcolor": "white",
            "linecolor": "white",
            "ticks": ""
           }
          },
          "scene": {
           "xaxis": {
            "backgroundcolor": "#E5ECF6",
            "gridcolor": "white",
            "gridwidth": 2,
            "linecolor": "white",
            "showbackground": true,
            "ticks": "",
            "zerolinecolor": "white"
           },
           "yaxis": {
            "backgroundcolor": "#E5ECF6",
            "gridcolor": "white",
            "gridwidth": 2,
            "linecolor": "white",
            "showbackground": true,
            "ticks": "",
            "zerolinecolor": "white"
           },
           "zaxis": {
            "backgroundcolor": "#E5ECF6",
            "gridcolor": "white",
            "gridwidth": 2,
            "linecolor": "white",
            "showbackground": true,
            "ticks": "",
            "zerolinecolor": "white"
           }
          },
          "shapedefaults": {
           "line": {
            "color": "#2a3f5f"
           }
          },
          "ternary": {
           "aaxis": {
            "gridcolor": "white",
            "linecolor": "white",
            "ticks": ""
           },
           "baxis": {
            "gridcolor": "white",
            "linecolor": "white",
            "ticks": ""
           },
           "bgcolor": "#E5ECF6",
           "caxis": {
            "gridcolor": "white",
            "linecolor": "white",
            "ticks": ""
           }
          },
          "title": {
           "x": 0.05
          },
          "xaxis": {
           "automargin": true,
           "gridcolor": "white",
           "linecolor": "white",
           "ticks": "",
           "title": {
            "standoff": 15
           },
           "zerolinecolor": "white",
           "zerolinewidth": 2
          },
          "yaxis": {
           "automargin": true,
           "gridcolor": "white",
           "linecolor": "white",
           "ticks": "",
           "title": {
            "standoff": 15
           },
           "zerolinecolor": "white",
           "zerolinewidth": 2
          }
         }
        },
        "title": {
         "text": "Wheelbase vs. Track Width vs. Laptime — Slaloms_25ft_Spacing (w.d. = 50%F)"
        },
        "xaxis": {
         "title": {
          "text": "Track Width [in]"
         }
        },
        "yaxis": {
         "title": {
          "text": "Wheelbase [in]"
         }
        }
       }
      },
      "text/html": [
       "<div>\n",
       "        \n",
       "        \n",
       "            <div id=\"4a886c22-8491-4a92-9399-dcc50aa6b72c\" class=\"plotly-graph-div\" style=\"height:525px; width:100%;\"></div>\n",
       "            <script type=\"text/javascript\">\n",
       "                require([\"plotly\"], function(Plotly) {\n",
       "                    window.PLOTLYENV=window.PLOTLYENV || {};\n",
       "                    \n",
       "                if (document.getElementById(\"4a886c22-8491-4a92-9399-dcc50aa6b72c\")) {\n",
       "                    Plotly.newPlot(\n",
       "                        '4a886c22-8491-4a92-9399-dcc50aa6b72c',\n",
       "                        [{\"colorscale\": [[0.0, \"#fde725\"], [0.1111111111111111, \"#b5de2b\"], [0.2222222222222222, \"#6ece58\"], [0.3333333333333333, \"#35b779\"], [0.4444444444444444, \"#1f9e89\"], [0.5555555555555556, \"#26828e\"], [0.6666666666666666, \"#31688e\"], [0.7777777777777778, \"#3e4989\"], [0.8888888888888888, \"#482878\"], [1.0, \"#440154\"]], \"hoverongaps\": false, \"type\": \"heatmap\", \"x\": [40, 41, 42, 43, 44, 45, 46, 47, 48, 49, 50, 51, 52, 53, 54, 55], \"y\": [60.5, 61.5, 62.5, 63.5, 64.5, 65.5, 66.5, 67.5, 68.5, 69.5, 70.5, 71.5, 72.5, 73.5, 74.5, 75.5, 76.5, 77.5, 78.5, 79.5, 80.5], \"z\": [[6.855, null, null, 6.846, 6.834, 6.831, 6.825, 6.827999999999999, null, 6.822, 6.825, 6.819, 6.819, 6.827999999999999, 6.816, 6.816], [null, 6.858, 6.849, 6.834, 6.834, 6.827999999999999, 6.825, 6.827999999999999, 6.827999999999999, 6.822, 6.827999999999999, 6.822, 6.819, 6.825, 6.825, 6.819], [6.858, 6.849, 6.843, 6.846, 6.834, 6.834, 6.825, 6.834, 6.825, 6.822, 6.831, 6.825, 6.822, 6.825, 6.825, 6.819], [null, null, 6.849, 6.843, 6.831, null, 6.825, 6.827999999999999, 6.827999999999999, 6.827999999999999, 6.831, 6.822, 6.825, 6.822, 6.827999999999999, 6.822], [null, 6.861000000000001, null, 6.846, 6.837000000000001, 6.834, 6.827999999999999, 6.84, 6.831, 6.827999999999999, 6.827999999999999, 6.822, 6.825, 6.825, 6.827999999999999, 6.827999999999999], [null, 6.858, 6.852, 6.849, 6.84, 6.834, 6.831, 6.843, 6.837000000000001, null, 6.831, 6.825, 6.825, 6.825, 6.825, 6.827999999999999], [6.867000000000001, 6.864, null, null, 6.84, 6.834, 6.827999999999999, null, null, null, 6.834, 6.827999999999999, 6.827999999999999, 6.825, 6.834, 6.837000000000001], [null, 6.87, 6.858, 6.843, null, 6.837000000000001, 6.834, 6.846, 6.849, 6.831, 6.834, 6.827999999999999, 6.827999999999999, 6.827999999999999, 6.834, 6.827999999999999], [null, 6.855, null, 6.846, 6.846, 6.84, 6.84, 6.849, 6.849, 6.834, 6.84, 6.834, 6.827999999999999, 6.831, 6.831, 6.834], [6.867000000000001, 6.861000000000001, 6.864, 6.849, 6.849, 6.843, 6.843, 6.855, 6.846, 6.837000000000001, 6.843, 6.837000000000001, 6.834, 6.834, 6.831, 6.834], [null, 6.864, 6.867000000000001, 6.849, 6.849, 6.84, 6.852, 6.858, null, 6.846, 6.843, 6.837000000000001, 6.831, 6.837000000000001, 6.831, 6.837000000000001], [null, 6.872999999999999, 6.867000000000001, 6.849, null, 6.843, 6.849, 6.855, null, 6.843, 6.84, 6.846, 6.834, 6.834, 6.831, 6.837000000000001], [null, 6.872999999999999, 6.867000000000001, 6.855, null, 6.846, 6.846, 6.858, 6.852, 6.846, 6.843, 6.846, 6.837000000000001, 6.831, 6.834, 6.834], [null, null, 6.872999999999999, 6.858, 6.855, 6.849, 6.852, 6.864, 6.855, 6.846, 6.846, 6.843, 6.84, 6.834, 6.837000000000001, 6.84], [6.882000000000001, 6.87, null, 6.864, 6.852, 6.855, 6.858, null, 6.852, 6.846, 6.846, 6.846, 6.843, 6.834, 6.84, 6.846], [null, null, null, 6.861000000000001, null, 6.855, 6.858, null, 6.855, 6.852, 6.846, 6.846, 6.846, 6.843, 6.84, 6.852], [null, null, 6.872999999999999, 6.879, 6.855, 6.864, 6.861000000000001, null, null, null, 6.846, 6.852, 6.843, 6.843, 6.843, 6.852], [null, 6.872999999999999, null, 6.872999999999999, 6.858, 6.867000000000001, 6.867000000000001, 6.861000000000001, null, 6.852, 6.849, 6.846, 6.843, 6.843, 6.843, 6.852], [null, null, null, 6.872999999999999, null, null, 6.864, 6.861000000000001, 6.864, 6.858, 6.852, 6.849, 6.846, 6.849, 6.846, 6.852], [6.882000000000001, 6.876, null, null, 6.867000000000001, null, 6.864, 6.861000000000001, null, 6.861000000000001, 6.852, 6.849, 6.846, 6.849, 6.849, 6.858], [null, null, 6.879, 6.87, 6.864, null, 6.867000000000001, 6.867000000000001, null, 6.861000000000001, 6.858, 6.852, 6.849, 6.852, 6.855, 6.861000000000001]]}],\n",
       "                        {\"template\": {\"data\": {\"bar\": [{\"error_x\": {\"color\": \"#2a3f5f\"}, \"error_y\": {\"color\": \"#2a3f5f\"}, \"marker\": {\"line\": {\"color\": \"#E5ECF6\", \"width\": 0.5}}, \"type\": \"bar\"}], \"barpolar\": [{\"marker\": {\"line\": {\"color\": \"#E5ECF6\", \"width\": 0.5}}, \"type\": \"barpolar\"}], \"carpet\": [{\"aaxis\": {\"endlinecolor\": \"#2a3f5f\", \"gridcolor\": \"white\", \"linecolor\": \"white\", \"minorgridcolor\": \"white\", \"startlinecolor\": \"#2a3f5f\"}, \"baxis\": {\"endlinecolor\": \"#2a3f5f\", \"gridcolor\": \"white\", \"linecolor\": \"white\", \"minorgridcolor\": \"white\", \"startlinecolor\": \"#2a3f5f\"}, \"type\": \"carpet\"}], \"choropleth\": [{\"colorbar\": {\"outlinewidth\": 0, \"ticks\": \"\"}, \"type\": \"choropleth\"}], \"contour\": [{\"colorbar\": {\"outlinewidth\": 0, \"ticks\": \"\"}, \"colorscale\": [[0.0, \"#0d0887\"], [0.1111111111111111, \"#46039f\"], [0.2222222222222222, \"#7201a8\"], [0.3333333333333333, \"#9c179e\"], [0.4444444444444444, \"#bd3786\"], [0.5555555555555556, \"#d8576b\"], [0.6666666666666666, \"#ed7953\"], [0.7777777777777778, \"#fb9f3a\"], [0.8888888888888888, \"#fdca26\"], [1.0, \"#f0f921\"]], \"type\": \"contour\"}], \"contourcarpet\": [{\"colorbar\": {\"outlinewidth\": 0, \"ticks\": \"\"}, \"type\": \"contourcarpet\"}], \"heatmap\": [{\"colorbar\": {\"outlinewidth\": 0, \"ticks\": \"\"}, \"colorscale\": [[0.0, \"#0d0887\"], [0.1111111111111111, \"#46039f\"], [0.2222222222222222, \"#7201a8\"], [0.3333333333333333, \"#9c179e\"], [0.4444444444444444, \"#bd3786\"], [0.5555555555555556, \"#d8576b\"], [0.6666666666666666, \"#ed7953\"], [0.7777777777777778, \"#fb9f3a\"], [0.8888888888888888, \"#fdca26\"], [1.0, \"#f0f921\"]], \"type\": \"heatmap\"}], \"heatmapgl\": [{\"colorbar\": {\"outlinewidth\": 0, \"ticks\": \"\"}, \"colorscale\": [[0.0, \"#0d0887\"], [0.1111111111111111, \"#46039f\"], [0.2222222222222222, \"#7201a8\"], [0.3333333333333333, \"#9c179e\"], [0.4444444444444444, \"#bd3786\"], [0.5555555555555556, \"#d8576b\"], [0.6666666666666666, \"#ed7953\"], [0.7777777777777778, \"#fb9f3a\"], [0.8888888888888888, \"#fdca26\"], [1.0, \"#f0f921\"]], \"type\": \"heatmapgl\"}], \"histogram\": [{\"marker\": {\"colorbar\": {\"outlinewidth\": 0, \"ticks\": \"\"}}, \"type\": \"histogram\"}], \"histogram2d\": [{\"colorbar\": {\"outlinewidth\": 0, \"ticks\": \"\"}, \"colorscale\": [[0.0, \"#0d0887\"], [0.1111111111111111, \"#46039f\"], [0.2222222222222222, \"#7201a8\"], [0.3333333333333333, \"#9c179e\"], [0.4444444444444444, \"#bd3786\"], [0.5555555555555556, \"#d8576b\"], [0.6666666666666666, \"#ed7953\"], [0.7777777777777778, \"#fb9f3a\"], [0.8888888888888888, \"#fdca26\"], [1.0, \"#f0f921\"]], \"type\": \"histogram2d\"}], \"histogram2dcontour\": [{\"colorbar\": {\"outlinewidth\": 0, \"ticks\": \"\"}, \"colorscale\": [[0.0, \"#0d0887\"], [0.1111111111111111, \"#46039f\"], [0.2222222222222222, \"#7201a8\"], [0.3333333333333333, \"#9c179e\"], [0.4444444444444444, \"#bd3786\"], [0.5555555555555556, \"#d8576b\"], [0.6666666666666666, \"#ed7953\"], [0.7777777777777778, \"#fb9f3a\"], [0.8888888888888888, \"#fdca26\"], [1.0, \"#f0f921\"]], \"type\": \"histogram2dcontour\"}], \"mesh3d\": [{\"colorbar\": {\"outlinewidth\": 0, \"ticks\": \"\"}, \"type\": \"mesh3d\"}], \"parcoords\": [{\"line\": {\"colorbar\": {\"outlinewidth\": 0, \"ticks\": \"\"}}, \"type\": \"parcoords\"}], \"pie\": [{\"automargin\": true, \"type\": \"pie\"}], \"scatter\": [{\"marker\": {\"colorbar\": {\"outlinewidth\": 0, \"ticks\": \"\"}}, \"type\": \"scatter\"}], \"scatter3d\": [{\"line\": {\"colorbar\": {\"outlinewidth\": 0, \"ticks\": \"\"}}, \"marker\": {\"colorbar\": {\"outlinewidth\": 0, \"ticks\": \"\"}}, \"type\": \"scatter3d\"}], \"scattercarpet\": [{\"marker\": {\"colorbar\": {\"outlinewidth\": 0, \"ticks\": \"\"}}, \"type\": \"scattercarpet\"}], \"scattergeo\": [{\"marker\": {\"colorbar\": {\"outlinewidth\": 0, \"ticks\": \"\"}}, \"type\": \"scattergeo\"}], \"scattergl\": [{\"marker\": {\"colorbar\": {\"outlinewidth\": 0, \"ticks\": \"\"}}, \"type\": \"scattergl\"}], \"scattermapbox\": [{\"marker\": {\"colorbar\": {\"outlinewidth\": 0, \"ticks\": \"\"}}, \"type\": \"scattermapbox\"}], \"scatterpolar\": [{\"marker\": {\"colorbar\": {\"outlinewidth\": 0, \"ticks\": \"\"}}, \"type\": \"scatterpolar\"}], \"scatterpolargl\": [{\"marker\": {\"colorbar\": {\"outlinewidth\": 0, \"ticks\": \"\"}}, \"type\": \"scatterpolargl\"}], \"scatterternary\": [{\"marker\": {\"colorbar\": {\"outlinewidth\": 0, \"ticks\": \"\"}}, \"type\": \"scatterternary\"}], \"surface\": [{\"colorbar\": {\"outlinewidth\": 0, \"ticks\": \"\"}, \"colorscale\": [[0.0, \"#0d0887\"], [0.1111111111111111, \"#46039f\"], [0.2222222222222222, \"#7201a8\"], [0.3333333333333333, \"#9c179e\"], [0.4444444444444444, \"#bd3786\"], [0.5555555555555556, \"#d8576b\"], [0.6666666666666666, \"#ed7953\"], [0.7777777777777778, \"#fb9f3a\"], [0.8888888888888888, \"#fdca26\"], [1.0, \"#f0f921\"]], \"type\": \"surface\"}], \"table\": [{\"cells\": {\"fill\": {\"color\": \"#EBF0F8\"}, \"line\": {\"color\": \"white\"}}, \"header\": {\"fill\": {\"color\": \"#C8D4E3\"}, \"line\": {\"color\": \"white\"}}, \"type\": \"table\"}]}, \"layout\": {\"annotationdefaults\": {\"arrowcolor\": \"#2a3f5f\", \"arrowhead\": 0, \"arrowwidth\": 1}, \"coloraxis\": {\"colorbar\": {\"outlinewidth\": 0, \"ticks\": \"\"}}, \"colorscale\": {\"diverging\": [[0, \"#8e0152\"], [0.1, \"#c51b7d\"], [0.2, \"#de77ae\"], [0.3, \"#f1b6da\"], [0.4, \"#fde0ef\"], [0.5, \"#f7f7f7\"], [0.6, \"#e6f5d0\"], [0.7, \"#b8e186\"], [0.8, \"#7fbc41\"], [0.9, \"#4d9221\"], [1, \"#276419\"]], \"sequential\": [[0.0, \"#0d0887\"], [0.1111111111111111, \"#46039f\"], [0.2222222222222222, \"#7201a8\"], [0.3333333333333333, \"#9c179e\"], [0.4444444444444444, \"#bd3786\"], [0.5555555555555556, \"#d8576b\"], [0.6666666666666666, \"#ed7953\"], [0.7777777777777778, \"#fb9f3a\"], [0.8888888888888888, \"#fdca26\"], [1.0, \"#f0f921\"]], \"sequentialminus\": [[0.0, \"#0d0887\"], [0.1111111111111111, \"#46039f\"], [0.2222222222222222, \"#7201a8\"], [0.3333333333333333, \"#9c179e\"], [0.4444444444444444, \"#bd3786\"], [0.5555555555555556, \"#d8576b\"], [0.6666666666666666, \"#ed7953\"], [0.7777777777777778, \"#fb9f3a\"], [0.8888888888888888, \"#fdca26\"], [1.0, \"#f0f921\"]]}, \"colorway\": [\"#636efa\", \"#EF553B\", \"#00cc96\", \"#ab63fa\", \"#FFA15A\", \"#19d3f3\", \"#FF6692\", \"#B6E880\", \"#FF97FF\", \"#FECB52\"], \"font\": {\"color\": \"#2a3f5f\"}, \"geo\": {\"bgcolor\": \"white\", \"lakecolor\": \"white\", \"landcolor\": \"#E5ECF6\", \"showlakes\": true, \"showland\": true, \"subunitcolor\": \"white\"}, \"hoverlabel\": {\"align\": \"left\"}, \"hovermode\": \"closest\", \"mapbox\": {\"style\": \"light\"}, \"paper_bgcolor\": \"white\", \"plot_bgcolor\": \"#E5ECF6\", \"polar\": {\"angularaxis\": {\"gridcolor\": \"white\", \"linecolor\": \"white\", \"ticks\": \"\"}, \"bgcolor\": \"#E5ECF6\", \"radialaxis\": {\"gridcolor\": \"white\", \"linecolor\": \"white\", \"ticks\": \"\"}}, \"scene\": {\"xaxis\": {\"backgroundcolor\": \"#E5ECF6\", \"gridcolor\": \"white\", \"gridwidth\": 2, \"linecolor\": \"white\", \"showbackground\": true, \"ticks\": \"\", \"zerolinecolor\": \"white\"}, \"yaxis\": {\"backgroundcolor\": \"#E5ECF6\", \"gridcolor\": \"white\", \"gridwidth\": 2, \"linecolor\": \"white\", \"showbackground\": true, \"ticks\": \"\", \"zerolinecolor\": \"white\"}, \"zaxis\": {\"backgroundcolor\": \"#E5ECF6\", \"gridcolor\": \"white\", \"gridwidth\": 2, \"linecolor\": \"white\", \"showbackground\": true, \"ticks\": \"\", \"zerolinecolor\": \"white\"}}, \"shapedefaults\": {\"line\": {\"color\": \"#2a3f5f\"}}, \"ternary\": {\"aaxis\": {\"gridcolor\": \"white\", \"linecolor\": \"white\", \"ticks\": \"\"}, \"baxis\": {\"gridcolor\": \"white\", \"linecolor\": \"white\", \"ticks\": \"\"}, \"bgcolor\": \"#E5ECF6\", \"caxis\": {\"gridcolor\": \"white\", \"linecolor\": \"white\", \"ticks\": \"\"}}, \"title\": {\"x\": 0.05}, \"xaxis\": {\"automargin\": true, \"gridcolor\": \"white\", \"linecolor\": \"white\", \"ticks\": \"\", \"title\": {\"standoff\": 15}, \"zerolinecolor\": \"white\", \"zerolinewidth\": 2}, \"yaxis\": {\"automargin\": true, \"gridcolor\": \"white\", \"linecolor\": \"white\", \"ticks\": \"\", \"title\": {\"standoff\": 15}, \"zerolinecolor\": \"white\", \"zerolinewidth\": 2}}}, \"title\": {\"text\": \"Wheelbase vs. Track Width vs. Laptime \\u2014 Slaloms_25ft_Spacing (w.d. = 50%F)\"}, \"xaxis\": {\"title\": {\"text\": \"Track Width [in]\"}}, \"yaxis\": {\"title\": {\"text\": \"Wheelbase [in]\"}}},\n",
       "                        {\"responsive\": true}\n",
       "                    ).then(function(){\n",
       "                            \n",
       "var gd = document.getElementById('4a886c22-8491-4a92-9399-dcc50aa6b72c');\n",
       "var x = new MutationObserver(function (mutations, observer) {{\n",
       "        var display = window.getComputedStyle(gd).display;\n",
       "        if (!display || display === 'none') {{\n",
       "            console.log([gd, 'removed!']);\n",
       "            Plotly.purge(gd);\n",
       "            observer.disconnect();\n",
       "        }}\n",
       "}});\n",
       "\n",
       "// Listen for the removal of the full notebook cells\n",
       "var notebookContainer = gd.closest('#notebook-container');\n",
       "if (notebookContainer) {{\n",
       "    x.observe(notebookContainer, {childList: true});\n",
       "}}\n",
       "\n",
       "// Listen for the clearing of the current output cell\n",
       "var outputEl = gd.closest('.output');\n",
       "if (outputEl) {{\n",
       "    x.observe(outputEl, {childList: true});\n",
       "}}\n",
       "\n",
       "                        })\n",
       "                };\n",
       "                });\n",
       "            </script>\n",
       "        </div>"
      ]
     },
     "metadata": {},
     "output_type": "display_data"
    }
   ],
   "source": [
    "name = \"Slaloms_25ft_Spacing\"\n",
    "fig = show_laptimes(4, name)\n",
    "fig.write_image(\"{}.png\".format(name), width=1000, height=500)\n",
    "fig.show()"
   ]
  },
  {
   "cell_type": "code",
   "execution_count": 240,
   "metadata": {},
   "outputs": [
    {
     "data": {
      "application/vnd.plotly.v1+json": {
       "config": {
        "plotlyServerURL": "https://plot.ly"
       },
       "data": [
        {
         "colorscale": [
          [
           0,
           "#fde725"
          ],
          [
           0.1111111111111111,
           "#b5de2b"
          ],
          [
           0.2222222222222222,
           "#6ece58"
          ],
          [
           0.3333333333333333,
           "#35b779"
          ],
          [
           0.4444444444444444,
           "#1f9e89"
          ],
          [
           0.5555555555555556,
           "#26828e"
          ],
          [
           0.6666666666666666,
           "#31688e"
          ],
          [
           0.7777777777777778,
           "#3e4989"
          ],
          [
           0.8888888888888888,
           "#482878"
          ],
          [
           1,
           "#440154"
          ]
         ],
         "hoverongaps": false,
         "type": "heatmap",
         "x": [
          40,
          41,
          42,
          43,
          44,
          45,
          46,
          47,
          48,
          49,
          50,
          51,
          52,
          53,
          54,
          55
         ],
         "y": [
          60.5,
          61.5,
          62.5,
          63.5,
          64.5,
          65.5,
          66.5,
          67.5,
          68.5,
          69.5,
          70.5,
          71.5,
          72.5,
          73.5,
          74.5,
          75.5,
          76.5,
          77.5,
          78.5,
          79.5,
          80.5
         ],
         "z": [
          [
           null,
           6.822,
           null,
           null,
           null,
           6.642,
           null,
           6.522,
           6.495,
           6.534,
           null,
           6.542999999999999,
           6.555,
           6.579,
           6.609,
           6.579
          ],
          [
           null,
           6.822,
           6.777,
           null,
           null,
           null,
           null,
           6.525,
           6.495,
           6.516,
           6.516,
           6.54,
           6.555,
           6.579,
           6.593999999999999,
           6.621
          ],
          [
           null,
           null,
           null,
           null,
           null,
           null,
           null,
           6.525,
           6.495,
           6.519,
           null,
           6.528,
           6.5489999999999995,
           6.5760000000000005,
           6.593999999999999,
           6.627000000000001
          ],
          [
           6.864,
           null,
           null,
           null,
           null,
           null,
           6.5729999999999995,
           null,
           6.492000000000001,
           6.531000000000001,
           6.51,
           6.531000000000001,
           6.542999999999999,
           6.57,
           6.6,
           6.621
          ],
          [
           6.864,
           null,
           null,
           null,
           null,
           null,
           null,
           6.542999999999999,
           6.486000000000001,
           6.531000000000001,
           null,
           6.542999999999999,
           6.5489999999999995,
           6.567,
           6.587999999999999,
           6.624
          ],
          [
           null,
           6.816,
           6.774,
           null,
           null,
           null,
           null,
           6.54,
           6.483,
           6.534,
           null,
           6.522,
           6.54,
           6.567,
           6.585,
           6.621
          ],
          [
           6.864,
           null,
           null,
           null,
           null,
           null,
           6.57,
           6.54,
           6.486000000000001,
           6.528,
           null,
           6.5520000000000005,
           6.537000000000001,
           6.561,
           6.585,
           6.609
          ],
          [
           null,
           null,
           6.774,
           6.729,
           6.669,
           null,
           6.57,
           6.54,
           6.516,
           6.534,
           null,
           6.528,
           6.534,
           6.555,
           6.5729999999999995,
           6.615
          ],
          [
           null,
           null,
           null,
           null,
           null,
           null,
           null,
           null,
           6.51,
           6.528,
           null,
           6.531000000000001,
           6.534,
           6.555,
           6.5729999999999995,
           6.606
          ],
          [
           null,
           null,
           null,
           null,
           null,
           null,
           null,
           null,
           6.513,
           6.528,
           null,
           6.528,
           6.5520000000000005,
           6.5520000000000005,
           6.5729999999999995,
           6.597
          ],
          [
           null,
           6.819,
           null,
           6.7379999999999995,
           null,
           null,
           6.5760000000000005,
           6.54,
           6.519,
           null,
           6.501,
           6.525,
           6.561,
           6.5489999999999995,
           6.57,
           6.597
          ],
          [
           6.867000000000001,
           6.822,
           null,
           null,
           null,
           null,
           null,
           null,
           6.516,
           6.534,
           6.497999999999999,
           6.542999999999999,
           6.5489999999999995,
           6.546,
           6.564,
           6.591
          ],
          [
           null,
           null,
           null,
           null,
           null,
           null,
           null,
           null,
           6.522,
           null,
           null,
           6.555,
           6.585,
           6.546,
           6.564,
           6.597
          ],
          [
           6.867000000000001,
           6.819,
           null,
           6.735,
           null,
           null,
           null,
           null,
           6.519,
           6.522,
           null,
           6.522,
           6.593999999999999,
           6.542999999999999,
           6.564,
           6.587999999999999
          ],
          [
           6.867000000000001,
           6.819,
           null,
           null,
           null,
           null,
           null,
           null,
           6.516,
           6.516,
           null,
           6.5520000000000005,
           6.593999999999999,
           6.5489999999999995,
           6.564,
           6.585
          ],
          [
           null,
           null,
           null,
           null,
           null,
           null,
           null,
           6.542999999999999,
           6.516,
           6.513,
           6.51,
           6.519,
           6.57,
           6.5489999999999995,
           6.561,
           6.5760000000000005
          ],
          [
           null,
           6.822,
           null,
           null,
           null,
           null,
           null,
           6.54,
           6.5489999999999995,
           6.534,
           6.501,
           6.537000000000001,
           6.579,
           6.546,
           6.585,
           6.5729999999999995
          ],
          [
           null,
           null,
           null,
           null,
           6.666,
           null,
           null,
           null,
           6.5489999999999995,
           6.525,
           null,
           6.531000000000001,
           6.531000000000001,
           6.534,
           6.558,
           6.57
          ],
          [
           6.864,
           null,
           6.774,
           null,
           null,
           null,
           null,
           null,
           6.5729999999999995,
           6.504,
           6.504,
           6.513,
           6.567,
           6.542999999999999,
           6.5520000000000005,
           6.5729999999999995
          ],
          [
           null,
           null,
           null,
           null,
           null,
           6.632999999999999,
           null,
           null,
           6.603,
           6.504,
           6.513,
           6.516,
           6.564,
           6.5520000000000005,
           6.5520000000000005,
           6.579
          ],
          [
           6.864,
           null,
           null,
           null,
           null,
           null,
           null,
           null,
           6.615,
           6.504,
           null,
           6.51,
           6.57,
           6.534,
           6.5489999999999995,
           6.561
          ]
         ]
        }
       ],
       "layout": {
        "template": {
         "data": {
          "bar": [
           {
            "error_x": {
             "color": "#2a3f5f"
            },
            "error_y": {
             "color": "#2a3f5f"
            },
            "marker": {
             "line": {
              "color": "#E5ECF6",
              "width": 0.5
             }
            },
            "type": "bar"
           }
          ],
          "barpolar": [
           {
            "marker": {
             "line": {
              "color": "#E5ECF6",
              "width": 0.5
             }
            },
            "type": "barpolar"
           }
          ],
          "carpet": [
           {
            "aaxis": {
             "endlinecolor": "#2a3f5f",
             "gridcolor": "white",
             "linecolor": "white",
             "minorgridcolor": "white",
             "startlinecolor": "#2a3f5f"
            },
            "baxis": {
             "endlinecolor": "#2a3f5f",
             "gridcolor": "white",
             "linecolor": "white",
             "minorgridcolor": "white",
             "startlinecolor": "#2a3f5f"
            },
            "type": "carpet"
           }
          ],
          "choropleth": [
           {
            "colorbar": {
             "outlinewidth": 0,
             "ticks": ""
            },
            "type": "choropleth"
           }
          ],
          "contour": [
           {
            "colorbar": {
             "outlinewidth": 0,
             "ticks": ""
            },
            "colorscale": [
             [
              0,
              "#0d0887"
             ],
             [
              0.1111111111111111,
              "#46039f"
             ],
             [
              0.2222222222222222,
              "#7201a8"
             ],
             [
              0.3333333333333333,
              "#9c179e"
             ],
             [
              0.4444444444444444,
              "#bd3786"
             ],
             [
              0.5555555555555556,
              "#d8576b"
             ],
             [
              0.6666666666666666,
              "#ed7953"
             ],
             [
              0.7777777777777778,
              "#fb9f3a"
             ],
             [
              0.8888888888888888,
              "#fdca26"
             ],
             [
              1,
              "#f0f921"
             ]
            ],
            "type": "contour"
           }
          ],
          "contourcarpet": [
           {
            "colorbar": {
             "outlinewidth": 0,
             "ticks": ""
            },
            "type": "contourcarpet"
           }
          ],
          "heatmap": [
           {
            "colorbar": {
             "outlinewidth": 0,
             "ticks": ""
            },
            "colorscale": [
             [
              0,
              "#0d0887"
             ],
             [
              0.1111111111111111,
              "#46039f"
             ],
             [
              0.2222222222222222,
              "#7201a8"
             ],
             [
              0.3333333333333333,
              "#9c179e"
             ],
             [
              0.4444444444444444,
              "#bd3786"
             ],
             [
              0.5555555555555556,
              "#d8576b"
             ],
             [
              0.6666666666666666,
              "#ed7953"
             ],
             [
              0.7777777777777778,
              "#fb9f3a"
             ],
             [
              0.8888888888888888,
              "#fdca26"
             ],
             [
              1,
              "#f0f921"
             ]
            ],
            "type": "heatmap"
           }
          ],
          "heatmapgl": [
           {
            "colorbar": {
             "outlinewidth": 0,
             "ticks": ""
            },
            "colorscale": [
             [
              0,
              "#0d0887"
             ],
             [
              0.1111111111111111,
              "#46039f"
             ],
             [
              0.2222222222222222,
              "#7201a8"
             ],
             [
              0.3333333333333333,
              "#9c179e"
             ],
             [
              0.4444444444444444,
              "#bd3786"
             ],
             [
              0.5555555555555556,
              "#d8576b"
             ],
             [
              0.6666666666666666,
              "#ed7953"
             ],
             [
              0.7777777777777778,
              "#fb9f3a"
             ],
             [
              0.8888888888888888,
              "#fdca26"
             ],
             [
              1,
              "#f0f921"
             ]
            ],
            "type": "heatmapgl"
           }
          ],
          "histogram": [
           {
            "marker": {
             "colorbar": {
              "outlinewidth": 0,
              "ticks": ""
             }
            },
            "type": "histogram"
           }
          ],
          "histogram2d": [
           {
            "colorbar": {
             "outlinewidth": 0,
             "ticks": ""
            },
            "colorscale": [
             [
              0,
              "#0d0887"
             ],
             [
              0.1111111111111111,
              "#46039f"
             ],
             [
              0.2222222222222222,
              "#7201a8"
             ],
             [
              0.3333333333333333,
              "#9c179e"
             ],
             [
              0.4444444444444444,
              "#bd3786"
             ],
             [
              0.5555555555555556,
              "#d8576b"
             ],
             [
              0.6666666666666666,
              "#ed7953"
             ],
             [
              0.7777777777777778,
              "#fb9f3a"
             ],
             [
              0.8888888888888888,
              "#fdca26"
             ],
             [
              1,
              "#f0f921"
             ]
            ],
            "type": "histogram2d"
           }
          ],
          "histogram2dcontour": [
           {
            "colorbar": {
             "outlinewidth": 0,
             "ticks": ""
            },
            "colorscale": [
             [
              0,
              "#0d0887"
             ],
             [
              0.1111111111111111,
              "#46039f"
             ],
             [
              0.2222222222222222,
              "#7201a8"
             ],
             [
              0.3333333333333333,
              "#9c179e"
             ],
             [
              0.4444444444444444,
              "#bd3786"
             ],
             [
              0.5555555555555556,
              "#d8576b"
             ],
             [
              0.6666666666666666,
              "#ed7953"
             ],
             [
              0.7777777777777778,
              "#fb9f3a"
             ],
             [
              0.8888888888888888,
              "#fdca26"
             ],
             [
              1,
              "#f0f921"
             ]
            ],
            "type": "histogram2dcontour"
           }
          ],
          "mesh3d": [
           {
            "colorbar": {
             "outlinewidth": 0,
             "ticks": ""
            },
            "type": "mesh3d"
           }
          ],
          "parcoords": [
           {
            "line": {
             "colorbar": {
              "outlinewidth": 0,
              "ticks": ""
             }
            },
            "type": "parcoords"
           }
          ],
          "pie": [
           {
            "automargin": true,
            "type": "pie"
           }
          ],
          "scatter": [
           {
            "marker": {
             "colorbar": {
              "outlinewidth": 0,
              "ticks": ""
             }
            },
            "type": "scatter"
           }
          ],
          "scatter3d": [
           {
            "line": {
             "colorbar": {
              "outlinewidth": 0,
              "ticks": ""
             }
            },
            "marker": {
             "colorbar": {
              "outlinewidth": 0,
              "ticks": ""
             }
            },
            "type": "scatter3d"
           }
          ],
          "scattercarpet": [
           {
            "marker": {
             "colorbar": {
              "outlinewidth": 0,
              "ticks": ""
             }
            },
            "type": "scattercarpet"
           }
          ],
          "scattergeo": [
           {
            "marker": {
             "colorbar": {
              "outlinewidth": 0,
              "ticks": ""
             }
            },
            "type": "scattergeo"
           }
          ],
          "scattergl": [
           {
            "marker": {
             "colorbar": {
              "outlinewidth": 0,
              "ticks": ""
             }
            },
            "type": "scattergl"
           }
          ],
          "scattermapbox": [
           {
            "marker": {
             "colorbar": {
              "outlinewidth": 0,
              "ticks": ""
             }
            },
            "type": "scattermapbox"
           }
          ],
          "scatterpolar": [
           {
            "marker": {
             "colorbar": {
              "outlinewidth": 0,
              "ticks": ""
             }
            },
            "type": "scatterpolar"
           }
          ],
          "scatterpolargl": [
           {
            "marker": {
             "colorbar": {
              "outlinewidth": 0,
              "ticks": ""
             }
            },
            "type": "scatterpolargl"
           }
          ],
          "scatterternary": [
           {
            "marker": {
             "colorbar": {
              "outlinewidth": 0,
              "ticks": ""
             }
            },
            "type": "scatterternary"
           }
          ],
          "surface": [
           {
            "colorbar": {
             "outlinewidth": 0,
             "ticks": ""
            },
            "colorscale": [
             [
              0,
              "#0d0887"
             ],
             [
              0.1111111111111111,
              "#46039f"
             ],
             [
              0.2222222222222222,
              "#7201a8"
             ],
             [
              0.3333333333333333,
              "#9c179e"
             ],
             [
              0.4444444444444444,
              "#bd3786"
             ],
             [
              0.5555555555555556,
              "#d8576b"
             ],
             [
              0.6666666666666666,
              "#ed7953"
             ],
             [
              0.7777777777777778,
              "#fb9f3a"
             ],
             [
              0.8888888888888888,
              "#fdca26"
             ],
             [
              1,
              "#f0f921"
             ]
            ],
            "type": "surface"
           }
          ],
          "table": [
           {
            "cells": {
             "fill": {
              "color": "#EBF0F8"
             },
             "line": {
              "color": "white"
             }
            },
            "header": {
             "fill": {
              "color": "#C8D4E3"
             },
             "line": {
              "color": "white"
             }
            },
            "type": "table"
           }
          ]
         },
         "layout": {
          "annotationdefaults": {
           "arrowcolor": "#2a3f5f",
           "arrowhead": 0,
           "arrowwidth": 1
          },
          "coloraxis": {
           "colorbar": {
            "outlinewidth": 0,
            "ticks": ""
           }
          },
          "colorscale": {
           "diverging": [
            [
             0,
             "#8e0152"
            ],
            [
             0.1,
             "#c51b7d"
            ],
            [
             0.2,
             "#de77ae"
            ],
            [
             0.3,
             "#f1b6da"
            ],
            [
             0.4,
             "#fde0ef"
            ],
            [
             0.5,
             "#f7f7f7"
            ],
            [
             0.6,
             "#e6f5d0"
            ],
            [
             0.7,
             "#b8e186"
            ],
            [
             0.8,
             "#7fbc41"
            ],
            [
             0.9,
             "#4d9221"
            ],
            [
             1,
             "#276419"
            ]
           ],
           "sequential": [
            [
             0,
             "#0d0887"
            ],
            [
             0.1111111111111111,
             "#46039f"
            ],
            [
             0.2222222222222222,
             "#7201a8"
            ],
            [
             0.3333333333333333,
             "#9c179e"
            ],
            [
             0.4444444444444444,
             "#bd3786"
            ],
            [
             0.5555555555555556,
             "#d8576b"
            ],
            [
             0.6666666666666666,
             "#ed7953"
            ],
            [
             0.7777777777777778,
             "#fb9f3a"
            ],
            [
             0.8888888888888888,
             "#fdca26"
            ],
            [
             1,
             "#f0f921"
            ]
           ],
           "sequentialminus": [
            [
             0,
             "#0d0887"
            ],
            [
             0.1111111111111111,
             "#46039f"
            ],
            [
             0.2222222222222222,
             "#7201a8"
            ],
            [
             0.3333333333333333,
             "#9c179e"
            ],
            [
             0.4444444444444444,
             "#bd3786"
            ],
            [
             0.5555555555555556,
             "#d8576b"
            ],
            [
             0.6666666666666666,
             "#ed7953"
            ],
            [
             0.7777777777777778,
             "#fb9f3a"
            ],
            [
             0.8888888888888888,
             "#fdca26"
            ],
            [
             1,
             "#f0f921"
            ]
           ]
          },
          "colorway": [
           "#636efa",
           "#EF553B",
           "#00cc96",
           "#ab63fa",
           "#FFA15A",
           "#19d3f3",
           "#FF6692",
           "#B6E880",
           "#FF97FF",
           "#FECB52"
          ],
          "font": {
           "color": "#2a3f5f"
          },
          "geo": {
           "bgcolor": "white",
           "lakecolor": "white",
           "landcolor": "#E5ECF6",
           "showlakes": true,
           "showland": true,
           "subunitcolor": "white"
          },
          "hoverlabel": {
           "align": "left"
          },
          "hovermode": "closest",
          "mapbox": {
           "style": "light"
          },
          "paper_bgcolor": "white",
          "plot_bgcolor": "#E5ECF6",
          "polar": {
           "angularaxis": {
            "gridcolor": "white",
            "linecolor": "white",
            "ticks": ""
           },
           "bgcolor": "#E5ECF6",
           "radialaxis": {
            "gridcolor": "white",
            "linecolor": "white",
            "ticks": ""
           }
          },
          "scene": {
           "xaxis": {
            "backgroundcolor": "#E5ECF6",
            "gridcolor": "white",
            "gridwidth": 2,
            "linecolor": "white",
            "showbackground": true,
            "ticks": "",
            "zerolinecolor": "white"
           },
           "yaxis": {
            "backgroundcolor": "#E5ECF6",
            "gridcolor": "white",
            "gridwidth": 2,
            "linecolor": "white",
            "showbackground": true,
            "ticks": "",
            "zerolinecolor": "white"
           },
           "zaxis": {
            "backgroundcolor": "#E5ECF6",
            "gridcolor": "white",
            "gridwidth": 2,
            "linecolor": "white",
            "showbackground": true,
            "ticks": "",
            "zerolinecolor": "white"
           }
          },
          "shapedefaults": {
           "line": {
            "color": "#2a3f5f"
           }
          },
          "ternary": {
           "aaxis": {
            "gridcolor": "white",
            "linecolor": "white",
            "ticks": ""
           },
           "baxis": {
            "gridcolor": "white",
            "linecolor": "white",
            "ticks": ""
           },
           "bgcolor": "#E5ECF6",
           "caxis": {
            "gridcolor": "white",
            "linecolor": "white",
            "ticks": ""
           }
          },
          "title": {
           "x": 0.05
          },
          "xaxis": {
           "automargin": true,
           "gridcolor": "white",
           "linecolor": "white",
           "ticks": "",
           "title": {
            "standoff": 15
           },
           "zerolinecolor": "white",
           "zerolinewidth": 2
          },
          "yaxis": {
           "automargin": true,
           "gridcolor": "white",
           "linecolor": "white",
           "ticks": "",
           "title": {
            "standoff": 15
           },
           "zerolinecolor": "white",
           "zerolinewidth": 2
          }
         }
        },
        "title": {
         "text": "Wheelbase vs. Track Width vs. Laptime — Slaloms_37ft_Spacing (w.d. = 50%F)"
        },
        "xaxis": {
         "title": {
          "text": "Track Width [in]"
         }
        },
        "yaxis": {
         "title": {
          "text": "Wheelbase [in]"
         }
        }
       }
      },
      "text/html": [
       "<div>\n",
       "        \n",
       "        \n",
       "            <div id=\"456330cd-f589-44a9-978e-4717e54c16ed\" class=\"plotly-graph-div\" style=\"height:525px; width:100%;\"></div>\n",
       "            <script type=\"text/javascript\">\n",
       "                require([\"plotly\"], function(Plotly) {\n",
       "                    window.PLOTLYENV=window.PLOTLYENV || {};\n",
       "                    \n",
       "                if (document.getElementById(\"456330cd-f589-44a9-978e-4717e54c16ed\")) {\n",
       "                    Plotly.newPlot(\n",
       "                        '456330cd-f589-44a9-978e-4717e54c16ed',\n",
       "                        [{\"colorscale\": [[0.0, \"#fde725\"], [0.1111111111111111, \"#b5de2b\"], [0.2222222222222222, \"#6ece58\"], [0.3333333333333333, \"#35b779\"], [0.4444444444444444, \"#1f9e89\"], [0.5555555555555556, \"#26828e\"], [0.6666666666666666, \"#31688e\"], [0.7777777777777778, \"#3e4989\"], [0.8888888888888888, \"#482878\"], [1.0, \"#440154\"]], \"hoverongaps\": false, \"type\": \"heatmap\", \"x\": [40, 41, 42, 43, 44, 45, 46, 47, 48, 49, 50, 51, 52, 53, 54, 55], \"y\": [60.5, 61.5, 62.5, 63.5, 64.5, 65.5, 66.5, 67.5, 68.5, 69.5, 70.5, 71.5, 72.5, 73.5, 74.5, 75.5, 76.5, 77.5, 78.5, 79.5, 80.5], \"z\": [[null, 6.822, null, null, null, 6.642, null, 6.522, 6.495, 6.534, null, 6.542999999999999, 6.555, 6.579, 6.609, 6.579], [null, 6.822, 6.777, null, null, null, null, 6.525, 6.495, 6.516, 6.516, 6.54, 6.555, 6.579, 6.593999999999999, 6.621], [null, null, null, null, null, null, null, 6.525, 6.495, 6.519, null, 6.528, 6.5489999999999995, 6.5760000000000005, 6.593999999999999, 6.627000000000001], [6.864, null, null, null, null, null, 6.5729999999999995, null, 6.492000000000001, 6.531000000000001, 6.51, 6.531000000000001, 6.542999999999999, 6.57, 6.6, 6.621], [6.864, null, null, null, null, null, null, 6.542999999999999, 6.486000000000001, 6.531000000000001, null, 6.542999999999999, 6.5489999999999995, 6.567, 6.587999999999999, 6.624], [null, 6.816, 6.774, null, null, null, null, 6.54, 6.483, 6.534, null, 6.522, 6.54, 6.567, 6.585, 6.621], [6.864, null, null, null, null, null, 6.57, 6.54, 6.486000000000001, 6.528, null, 6.5520000000000005, 6.537000000000001, 6.561, 6.585, 6.609], [null, null, 6.774, 6.729, 6.669, null, 6.57, 6.54, 6.516, 6.534, null, 6.528, 6.534, 6.555, 6.5729999999999995, 6.615], [null, null, null, null, null, null, null, null, 6.51, 6.528, null, 6.531000000000001, 6.534, 6.555, 6.5729999999999995, 6.606], [null, null, null, null, null, null, null, null, 6.513, 6.528, null, 6.528, 6.5520000000000005, 6.5520000000000005, 6.5729999999999995, 6.597], [null, 6.819, null, 6.7379999999999995, null, null, 6.5760000000000005, 6.54, 6.519, null, 6.501, 6.525, 6.561, 6.5489999999999995, 6.57, 6.597], [6.867000000000001, 6.822, null, null, null, null, null, null, 6.516, 6.534, 6.497999999999999, 6.542999999999999, 6.5489999999999995, 6.546, 6.564, 6.591], [null, null, null, null, null, null, null, null, 6.522, null, null, 6.555, 6.585, 6.546, 6.564, 6.597], [6.867000000000001, 6.819, null, 6.735, null, null, null, null, 6.519, 6.522, null, 6.522, 6.593999999999999, 6.542999999999999, 6.564, 6.587999999999999], [6.867000000000001, 6.819, null, null, null, null, null, null, 6.516, 6.516, null, 6.5520000000000005, 6.593999999999999, 6.5489999999999995, 6.564, 6.585], [null, null, null, null, null, null, null, 6.542999999999999, 6.516, 6.513, 6.51, 6.519, 6.57, 6.5489999999999995, 6.561, 6.5760000000000005], [null, 6.822, null, null, null, null, null, 6.54, 6.5489999999999995, 6.534, 6.501, 6.537000000000001, 6.579, 6.546, 6.585, 6.5729999999999995], [null, null, null, null, 6.666, null, null, null, 6.5489999999999995, 6.525, null, 6.531000000000001, 6.531000000000001, 6.534, 6.558, 6.57], [6.864, null, 6.774, null, null, null, null, null, 6.5729999999999995, 6.504, 6.504, 6.513, 6.567, 6.542999999999999, 6.5520000000000005, 6.5729999999999995], [null, null, null, null, null, 6.632999999999999, null, null, 6.603, 6.504, 6.513, 6.516, 6.564, 6.5520000000000005, 6.5520000000000005, 6.579], [6.864, null, null, null, null, null, null, null, 6.615, 6.504, null, 6.51, 6.57, 6.534, 6.5489999999999995, 6.561]]}],\n",
       "                        {\"template\": {\"data\": {\"bar\": [{\"error_x\": {\"color\": \"#2a3f5f\"}, \"error_y\": {\"color\": \"#2a3f5f\"}, \"marker\": {\"line\": {\"color\": \"#E5ECF6\", \"width\": 0.5}}, \"type\": \"bar\"}], \"barpolar\": [{\"marker\": {\"line\": {\"color\": \"#E5ECF6\", \"width\": 0.5}}, \"type\": \"barpolar\"}], \"carpet\": [{\"aaxis\": {\"endlinecolor\": \"#2a3f5f\", \"gridcolor\": \"white\", \"linecolor\": \"white\", \"minorgridcolor\": \"white\", \"startlinecolor\": \"#2a3f5f\"}, \"baxis\": {\"endlinecolor\": \"#2a3f5f\", \"gridcolor\": \"white\", \"linecolor\": \"white\", \"minorgridcolor\": \"white\", \"startlinecolor\": \"#2a3f5f\"}, \"type\": \"carpet\"}], \"choropleth\": [{\"colorbar\": {\"outlinewidth\": 0, \"ticks\": \"\"}, \"type\": \"choropleth\"}], \"contour\": [{\"colorbar\": {\"outlinewidth\": 0, \"ticks\": \"\"}, \"colorscale\": [[0.0, \"#0d0887\"], [0.1111111111111111, \"#46039f\"], [0.2222222222222222, \"#7201a8\"], [0.3333333333333333, \"#9c179e\"], [0.4444444444444444, \"#bd3786\"], [0.5555555555555556, \"#d8576b\"], [0.6666666666666666, \"#ed7953\"], [0.7777777777777778, \"#fb9f3a\"], [0.8888888888888888, \"#fdca26\"], [1.0, \"#f0f921\"]], \"type\": \"contour\"}], \"contourcarpet\": [{\"colorbar\": {\"outlinewidth\": 0, \"ticks\": \"\"}, \"type\": \"contourcarpet\"}], \"heatmap\": [{\"colorbar\": {\"outlinewidth\": 0, \"ticks\": \"\"}, \"colorscale\": [[0.0, \"#0d0887\"], [0.1111111111111111, \"#46039f\"], [0.2222222222222222, \"#7201a8\"], [0.3333333333333333, \"#9c179e\"], [0.4444444444444444, \"#bd3786\"], [0.5555555555555556, \"#d8576b\"], [0.6666666666666666, \"#ed7953\"], [0.7777777777777778, \"#fb9f3a\"], [0.8888888888888888, \"#fdca26\"], [1.0, \"#f0f921\"]], \"type\": \"heatmap\"}], \"heatmapgl\": [{\"colorbar\": {\"outlinewidth\": 0, \"ticks\": \"\"}, \"colorscale\": [[0.0, \"#0d0887\"], [0.1111111111111111, \"#46039f\"], [0.2222222222222222, \"#7201a8\"], [0.3333333333333333, \"#9c179e\"], [0.4444444444444444, \"#bd3786\"], [0.5555555555555556, \"#d8576b\"], [0.6666666666666666, \"#ed7953\"], [0.7777777777777778, \"#fb9f3a\"], [0.8888888888888888, \"#fdca26\"], [1.0, \"#f0f921\"]], \"type\": \"heatmapgl\"}], \"histogram\": [{\"marker\": {\"colorbar\": {\"outlinewidth\": 0, \"ticks\": \"\"}}, \"type\": \"histogram\"}], \"histogram2d\": [{\"colorbar\": {\"outlinewidth\": 0, \"ticks\": \"\"}, \"colorscale\": [[0.0, \"#0d0887\"], [0.1111111111111111, \"#46039f\"], [0.2222222222222222, \"#7201a8\"], [0.3333333333333333, \"#9c179e\"], [0.4444444444444444, \"#bd3786\"], [0.5555555555555556, \"#d8576b\"], [0.6666666666666666, \"#ed7953\"], [0.7777777777777778, \"#fb9f3a\"], [0.8888888888888888, \"#fdca26\"], [1.0, \"#f0f921\"]], \"type\": \"histogram2d\"}], \"histogram2dcontour\": [{\"colorbar\": {\"outlinewidth\": 0, \"ticks\": \"\"}, \"colorscale\": [[0.0, \"#0d0887\"], [0.1111111111111111, \"#46039f\"], [0.2222222222222222, \"#7201a8\"], [0.3333333333333333, \"#9c179e\"], [0.4444444444444444, \"#bd3786\"], [0.5555555555555556, \"#d8576b\"], [0.6666666666666666, \"#ed7953\"], [0.7777777777777778, \"#fb9f3a\"], [0.8888888888888888, \"#fdca26\"], [1.0, \"#f0f921\"]], \"type\": \"histogram2dcontour\"}], \"mesh3d\": [{\"colorbar\": {\"outlinewidth\": 0, \"ticks\": \"\"}, \"type\": \"mesh3d\"}], \"parcoords\": [{\"line\": {\"colorbar\": {\"outlinewidth\": 0, \"ticks\": \"\"}}, \"type\": \"parcoords\"}], \"pie\": [{\"automargin\": true, \"type\": \"pie\"}], \"scatter\": [{\"marker\": {\"colorbar\": {\"outlinewidth\": 0, \"ticks\": \"\"}}, \"type\": \"scatter\"}], \"scatter3d\": [{\"line\": {\"colorbar\": {\"outlinewidth\": 0, \"ticks\": \"\"}}, \"marker\": {\"colorbar\": {\"outlinewidth\": 0, \"ticks\": \"\"}}, \"type\": \"scatter3d\"}], \"scattercarpet\": [{\"marker\": {\"colorbar\": {\"outlinewidth\": 0, \"ticks\": \"\"}}, \"type\": \"scattercarpet\"}], \"scattergeo\": [{\"marker\": {\"colorbar\": {\"outlinewidth\": 0, \"ticks\": \"\"}}, \"type\": \"scattergeo\"}], \"scattergl\": [{\"marker\": {\"colorbar\": {\"outlinewidth\": 0, \"ticks\": \"\"}}, \"type\": \"scattergl\"}], \"scattermapbox\": [{\"marker\": {\"colorbar\": {\"outlinewidth\": 0, \"ticks\": \"\"}}, \"type\": \"scattermapbox\"}], \"scatterpolar\": [{\"marker\": {\"colorbar\": {\"outlinewidth\": 0, \"ticks\": \"\"}}, \"type\": \"scatterpolar\"}], \"scatterpolargl\": [{\"marker\": {\"colorbar\": {\"outlinewidth\": 0, \"ticks\": \"\"}}, \"type\": \"scatterpolargl\"}], \"scatterternary\": [{\"marker\": {\"colorbar\": {\"outlinewidth\": 0, \"ticks\": \"\"}}, \"type\": \"scatterternary\"}], \"surface\": [{\"colorbar\": {\"outlinewidth\": 0, \"ticks\": \"\"}, \"colorscale\": [[0.0, \"#0d0887\"], [0.1111111111111111, \"#46039f\"], [0.2222222222222222, \"#7201a8\"], [0.3333333333333333, \"#9c179e\"], [0.4444444444444444, \"#bd3786\"], [0.5555555555555556, \"#d8576b\"], [0.6666666666666666, \"#ed7953\"], [0.7777777777777778, \"#fb9f3a\"], [0.8888888888888888, \"#fdca26\"], [1.0, \"#f0f921\"]], \"type\": \"surface\"}], \"table\": [{\"cells\": {\"fill\": {\"color\": \"#EBF0F8\"}, \"line\": {\"color\": \"white\"}}, \"header\": {\"fill\": {\"color\": \"#C8D4E3\"}, \"line\": {\"color\": \"white\"}}, \"type\": \"table\"}]}, \"layout\": {\"annotationdefaults\": {\"arrowcolor\": \"#2a3f5f\", \"arrowhead\": 0, \"arrowwidth\": 1}, \"coloraxis\": {\"colorbar\": {\"outlinewidth\": 0, \"ticks\": \"\"}}, \"colorscale\": {\"diverging\": [[0, \"#8e0152\"], [0.1, \"#c51b7d\"], [0.2, \"#de77ae\"], [0.3, \"#f1b6da\"], [0.4, \"#fde0ef\"], [0.5, \"#f7f7f7\"], [0.6, \"#e6f5d0\"], [0.7, \"#b8e186\"], [0.8, \"#7fbc41\"], [0.9, \"#4d9221\"], [1, \"#276419\"]], \"sequential\": [[0.0, \"#0d0887\"], [0.1111111111111111, \"#46039f\"], [0.2222222222222222, \"#7201a8\"], [0.3333333333333333, \"#9c179e\"], [0.4444444444444444, \"#bd3786\"], [0.5555555555555556, \"#d8576b\"], [0.6666666666666666, \"#ed7953\"], [0.7777777777777778, \"#fb9f3a\"], [0.8888888888888888, \"#fdca26\"], [1.0, \"#f0f921\"]], \"sequentialminus\": [[0.0, \"#0d0887\"], [0.1111111111111111, \"#46039f\"], [0.2222222222222222, \"#7201a8\"], [0.3333333333333333, \"#9c179e\"], [0.4444444444444444, \"#bd3786\"], [0.5555555555555556, \"#d8576b\"], [0.6666666666666666, \"#ed7953\"], [0.7777777777777778, \"#fb9f3a\"], [0.8888888888888888, \"#fdca26\"], [1.0, \"#f0f921\"]]}, \"colorway\": [\"#636efa\", \"#EF553B\", \"#00cc96\", \"#ab63fa\", \"#FFA15A\", \"#19d3f3\", \"#FF6692\", \"#B6E880\", \"#FF97FF\", \"#FECB52\"], \"font\": {\"color\": \"#2a3f5f\"}, \"geo\": {\"bgcolor\": \"white\", \"lakecolor\": \"white\", \"landcolor\": \"#E5ECF6\", \"showlakes\": true, \"showland\": true, \"subunitcolor\": \"white\"}, \"hoverlabel\": {\"align\": \"left\"}, \"hovermode\": \"closest\", \"mapbox\": {\"style\": \"light\"}, \"paper_bgcolor\": \"white\", \"plot_bgcolor\": \"#E5ECF6\", \"polar\": {\"angularaxis\": {\"gridcolor\": \"white\", \"linecolor\": \"white\", \"ticks\": \"\"}, \"bgcolor\": \"#E5ECF6\", \"radialaxis\": {\"gridcolor\": \"white\", \"linecolor\": \"white\", \"ticks\": \"\"}}, \"scene\": {\"xaxis\": {\"backgroundcolor\": \"#E5ECF6\", \"gridcolor\": \"white\", \"gridwidth\": 2, \"linecolor\": \"white\", \"showbackground\": true, \"ticks\": \"\", \"zerolinecolor\": \"white\"}, \"yaxis\": {\"backgroundcolor\": \"#E5ECF6\", \"gridcolor\": \"white\", \"gridwidth\": 2, \"linecolor\": \"white\", \"showbackground\": true, \"ticks\": \"\", \"zerolinecolor\": \"white\"}, \"zaxis\": {\"backgroundcolor\": \"#E5ECF6\", \"gridcolor\": \"white\", \"gridwidth\": 2, \"linecolor\": \"white\", \"showbackground\": true, \"ticks\": \"\", \"zerolinecolor\": \"white\"}}, \"shapedefaults\": {\"line\": {\"color\": \"#2a3f5f\"}}, \"ternary\": {\"aaxis\": {\"gridcolor\": \"white\", \"linecolor\": \"white\", \"ticks\": \"\"}, \"baxis\": {\"gridcolor\": \"white\", \"linecolor\": \"white\", \"ticks\": \"\"}, \"bgcolor\": \"#E5ECF6\", \"caxis\": {\"gridcolor\": \"white\", \"linecolor\": \"white\", \"ticks\": \"\"}}, \"title\": {\"x\": 0.05}, \"xaxis\": {\"automargin\": true, \"gridcolor\": \"white\", \"linecolor\": \"white\", \"ticks\": \"\", \"title\": {\"standoff\": 15}, \"zerolinecolor\": \"white\", \"zerolinewidth\": 2}, \"yaxis\": {\"automargin\": true, \"gridcolor\": \"white\", \"linecolor\": \"white\", \"ticks\": \"\", \"title\": {\"standoff\": 15}, \"zerolinecolor\": \"white\", \"zerolinewidth\": 2}}}, \"title\": {\"text\": \"Wheelbase vs. Track Width vs. Laptime \\u2014 Slaloms_37ft_Spacing (w.d. = 50%F)\"}, \"xaxis\": {\"title\": {\"text\": \"Track Width [in]\"}}, \"yaxis\": {\"title\": {\"text\": \"Wheelbase [in]\"}}},\n",
       "                        {\"responsive\": true}\n",
       "                    ).then(function(){\n",
       "                            \n",
       "var gd = document.getElementById('456330cd-f589-44a9-978e-4717e54c16ed');\n",
       "var x = new MutationObserver(function (mutations, observer) {{\n",
       "        var display = window.getComputedStyle(gd).display;\n",
       "        if (!display || display === 'none') {{\n",
       "            console.log([gd, 'removed!']);\n",
       "            Plotly.purge(gd);\n",
       "            observer.disconnect();\n",
       "        }}\n",
       "}});\n",
       "\n",
       "// Listen for the removal of the full notebook cells\n",
       "var notebookContainer = gd.closest('#notebook-container');\n",
       "if (notebookContainer) {{\n",
       "    x.observe(notebookContainer, {childList: true});\n",
       "}}\n",
       "\n",
       "// Listen for the clearing of the current output cell\n",
       "var outputEl = gd.closest('.output');\n",
       "if (outputEl) {{\n",
       "    x.observe(outputEl, {childList: true});\n",
       "}}\n",
       "\n",
       "                        })\n",
       "                };\n",
       "                });\n",
       "            </script>\n",
       "        </div>"
      ]
     },
     "metadata": {},
     "output_type": "display_data"
    }
   ],
   "source": [
    "name = \"Slaloms_37ft_Spacing\"\n",
    "fig = show_laptimes(5, name)\n",
    "fig.write_image(\"{}.png\".format(name), width=1000, height=500)\n",
    "fig.show()"
   ]
  },
  {
   "cell_type": "code",
   "execution_count": 241,
   "metadata": {},
   "outputs": [
    {
     "data": {
      "application/vnd.plotly.v1+json": {
       "config": {
        "plotlyServerURL": "https://plot.ly"
       },
       "data": [
        {
         "colorscale": [
          [
           0,
           "#fde725"
          ],
          [
           0.1111111111111111,
           "#b5de2b"
          ],
          [
           0.2222222222222222,
           "#6ece58"
          ],
          [
           0.3333333333333333,
           "#35b779"
          ],
          [
           0.4444444444444444,
           "#1f9e89"
          ],
          [
           0.5555555555555556,
           "#26828e"
          ],
          [
           0.6666666666666666,
           "#31688e"
          ],
          [
           0.7777777777777778,
           "#3e4989"
          ],
          [
           0.8888888888888888,
           "#482878"
          ],
          [
           1,
           "#440154"
          ]
         ],
         "hoverongaps": false,
         "type": "heatmap",
         "x": [
          40,
          41,
          42,
          43,
          44,
          45,
          46,
          47,
          48,
          49,
          50,
          51,
          52,
          53,
          54,
          55
         ],
         "y": [
          60.5,
          61.5,
          62.5,
          63.5,
          64.5,
          65.5,
          66.5,
          67.5,
          68.5,
          69.5,
          70.5,
          71.5,
          72.5,
          73.5,
          74.5,
          75.5,
          76.5,
          77.5,
          78.5,
          79.5,
          80.5
         ],
         "z": [
          [
           null,
           null,
           null,
           6.96,
           6.966,
           6.96,
           6.966,
           6.966,
           6.975,
           6.9270000000000005,
           6.933,
           6.992999999999999,
           7.02,
           7.05,
           7.065,
           7.082999999999999
          ],
          [
           null,
           null,
           null,
           6.942,
           6.9510000000000005,
           6.968999999999999,
           6.978,
           6.975,
           6.978,
           6.972,
           6.936,
           6.992999999999999,
           7.02,
           7.044,
           7.065,
           7.08
          ],
          [
           null,
           null,
           null,
           6.939,
           6.9479999999999995,
           6.9479999999999995,
           6.9510000000000005,
           6.962999999999999,
           null,
           null,
           6.9510000000000005,
           7.011,
           6.975,
           7.047000000000001,
           7.059,
           7.0920000000000005
          ],
          [
           null,
           null,
           null,
           6.942,
           6.9510000000000005,
           6.9510000000000005,
           6.962999999999999,
           6.962999999999999,
           6.972,
           null,
           6.933,
           6.996,
           7.005,
           7.044,
           7.041,
           7.0920000000000005
          ],
          [
           null,
           null,
           null,
           6.942,
           6.939,
           6.939,
           6.966,
           null,
           6.975,
           6.9270000000000005,
           6.99,
           7.002000000000001,
           7.023,
           7.047000000000001,
           7.068,
           7.0889999999999995
          ],
          [
           null,
           null,
           null,
           6.9510000000000005,
           6.936,
           6.945,
           6.96,
           null,
           null,
           null,
           6.99,
           7.005,
           6.996,
           7.047000000000001,
           7.068,
           7.0920000000000005
          ],
          [
           null,
           null,
           null,
           6.936,
           6.936,
           6.9479999999999995,
           6.962999999999999,
           6.96,
           null,
           null,
           6.992999999999999,
           7.017,
           7.032,
           7.041,
           7.065,
           7.08
          ],
          [
           null,
           null,
           null,
           6.939,
           6.936,
           6.962999999999999,
           null,
           6.96,
           null,
           null,
           6.984,
           6.968999999999999,
           6.996,
           7.044,
           7.068,
           7.0920000000000005
          ],
          [
           null,
           null,
           null,
           6.936,
           6.936,
           6.957000000000001,
           null,
           6.96,
           6.968999999999999,
           6.975,
           6.981,
           6.972,
           7.029,
           7.056,
           7.068,
           7.0920000000000005
          ],
          [
           null,
           null,
           null,
           6.936,
           6.933,
           6.945,
           6.954,
           6.96,
           null,
           6.933,
           6.978,
           7.005,
           7.029,
           7.053,
           7.065,
           7.101
          ],
          [
           null,
           null,
           null,
           6.936,
           6.936,
           6.945,
           null,
           7.02,
           null,
           6.968999999999999,
           6.978,
           6.957000000000001,
           7.029,
           7.041,
           7.065,
           7.0920000000000005
          ],
          [
           null,
           null,
           null,
           6.9510000000000005,
           6.933,
           6.945,
           6.9510000000000005,
           null,
           6.962999999999999,
           6.966,
           6.978,
           7.002000000000001,
           7.017,
           7.05,
           7.065,
           7.0920000000000005
          ],
          [
           null,
           null,
           null,
           6.933,
           6.9479999999999995,
           6.978,
           6.9510000000000005,
           null,
           null,
           null,
           6.972,
           7.007999999999999,
           7.02,
           7.056,
           7.065,
           7.08
          ],
          [
           null,
           null,
           null,
           6.936,
           6.936,
           6.942,
           null,
           6.966,
           6.96,
           null,
           6.975,
           6.954,
           7.017,
           7.037999999999999,
           7.041,
           7.095
          ],
          [
           null,
           null,
           null,
           6.942,
           6.933,
           6.945,
           null,
           null,
           6.96,
           6.972,
           6.972,
           6.996,
           7.013999999999999,
           7.037999999999999,
           7.037999999999999,
           7.086
          ],
          [
           null,
           null,
           null,
           6.942,
           6.942,
           6.9510000000000005,
           null,
           null,
           6.968999999999999,
           6.962999999999999,
           6.984,
           6.996,
           7.017,
           7.037999999999999,
           7.037999999999999,
           7.082999999999999
          ],
          [
           null,
           null,
           null,
           6.945,
           6.942,
           6.954,
           null,
           6.96,
           null,
           6.968999999999999,
           6.968999999999999,
           7.002000000000001,
           7.017,
           7.032,
           7.065,
           7.086
          ],
          [
           null,
           null,
           null,
           6.945,
           6.942,
           6.9479999999999995,
           null,
           6.96,
           6.96,
           6.968999999999999,
           null,
           6.957000000000001,
           null,
           7.029,
           7.068,
           7.086
          ],
          [
           null,
           null,
           null,
           6.945,
           6.942,
           6.966,
           6.957000000000001,
           null,
           6.962999999999999,
           null,
           6.978,
           6.975,
           7.017,
           7.029,
           7.044,
           7.086
          ],
          [
           null,
           null,
           null,
           6.933,
           6.942,
           6.945,
           null,
           6.966,
           6.962999999999999,
           6.966,
           6.978,
           6.972,
           7.013999999999999,
           7.029,
           7.071000000000001,
           7.082999999999999
          ],
          [
           null,
           null,
           null,
           6.933,
           6.933,
           6.954,
           6.954,
           6.957000000000001,
           6.968999999999999,
           6.968999999999999,
           6.978,
           6.996,
           7.013999999999999,
           7.037999999999999,
           7.071000000000001,
           7.082999999999999
          ]
         ]
        }
       ],
       "layout": {
        "template": {
         "data": {
          "bar": [
           {
            "error_x": {
             "color": "#2a3f5f"
            },
            "error_y": {
             "color": "#2a3f5f"
            },
            "marker": {
             "line": {
              "color": "#E5ECF6",
              "width": 0.5
             }
            },
            "type": "bar"
           }
          ],
          "barpolar": [
           {
            "marker": {
             "line": {
              "color": "#E5ECF6",
              "width": 0.5
             }
            },
            "type": "barpolar"
           }
          ],
          "carpet": [
           {
            "aaxis": {
             "endlinecolor": "#2a3f5f",
             "gridcolor": "white",
             "linecolor": "white",
             "minorgridcolor": "white",
             "startlinecolor": "#2a3f5f"
            },
            "baxis": {
             "endlinecolor": "#2a3f5f",
             "gridcolor": "white",
             "linecolor": "white",
             "minorgridcolor": "white",
             "startlinecolor": "#2a3f5f"
            },
            "type": "carpet"
           }
          ],
          "choropleth": [
           {
            "colorbar": {
             "outlinewidth": 0,
             "ticks": ""
            },
            "type": "choropleth"
           }
          ],
          "contour": [
           {
            "colorbar": {
             "outlinewidth": 0,
             "ticks": ""
            },
            "colorscale": [
             [
              0,
              "#0d0887"
             ],
             [
              0.1111111111111111,
              "#46039f"
             ],
             [
              0.2222222222222222,
              "#7201a8"
             ],
             [
              0.3333333333333333,
              "#9c179e"
             ],
             [
              0.4444444444444444,
              "#bd3786"
             ],
             [
              0.5555555555555556,
              "#d8576b"
             ],
             [
              0.6666666666666666,
              "#ed7953"
             ],
             [
              0.7777777777777778,
              "#fb9f3a"
             ],
             [
              0.8888888888888888,
              "#fdca26"
             ],
             [
              1,
              "#f0f921"
             ]
            ],
            "type": "contour"
           }
          ],
          "contourcarpet": [
           {
            "colorbar": {
             "outlinewidth": 0,
             "ticks": ""
            },
            "type": "contourcarpet"
           }
          ],
          "heatmap": [
           {
            "colorbar": {
             "outlinewidth": 0,
             "ticks": ""
            },
            "colorscale": [
             [
              0,
              "#0d0887"
             ],
             [
              0.1111111111111111,
              "#46039f"
             ],
             [
              0.2222222222222222,
              "#7201a8"
             ],
             [
              0.3333333333333333,
              "#9c179e"
             ],
             [
              0.4444444444444444,
              "#bd3786"
             ],
             [
              0.5555555555555556,
              "#d8576b"
             ],
             [
              0.6666666666666666,
              "#ed7953"
             ],
             [
              0.7777777777777778,
              "#fb9f3a"
             ],
             [
              0.8888888888888888,
              "#fdca26"
             ],
             [
              1,
              "#f0f921"
             ]
            ],
            "type": "heatmap"
           }
          ],
          "heatmapgl": [
           {
            "colorbar": {
             "outlinewidth": 0,
             "ticks": ""
            },
            "colorscale": [
             [
              0,
              "#0d0887"
             ],
             [
              0.1111111111111111,
              "#46039f"
             ],
             [
              0.2222222222222222,
              "#7201a8"
             ],
             [
              0.3333333333333333,
              "#9c179e"
             ],
             [
              0.4444444444444444,
              "#bd3786"
             ],
             [
              0.5555555555555556,
              "#d8576b"
             ],
             [
              0.6666666666666666,
              "#ed7953"
             ],
             [
              0.7777777777777778,
              "#fb9f3a"
             ],
             [
              0.8888888888888888,
              "#fdca26"
             ],
             [
              1,
              "#f0f921"
             ]
            ],
            "type": "heatmapgl"
           }
          ],
          "histogram": [
           {
            "marker": {
             "colorbar": {
              "outlinewidth": 0,
              "ticks": ""
             }
            },
            "type": "histogram"
           }
          ],
          "histogram2d": [
           {
            "colorbar": {
             "outlinewidth": 0,
             "ticks": ""
            },
            "colorscale": [
             [
              0,
              "#0d0887"
             ],
             [
              0.1111111111111111,
              "#46039f"
             ],
             [
              0.2222222222222222,
              "#7201a8"
             ],
             [
              0.3333333333333333,
              "#9c179e"
             ],
             [
              0.4444444444444444,
              "#bd3786"
             ],
             [
              0.5555555555555556,
              "#d8576b"
             ],
             [
              0.6666666666666666,
              "#ed7953"
             ],
             [
              0.7777777777777778,
              "#fb9f3a"
             ],
             [
              0.8888888888888888,
              "#fdca26"
             ],
             [
              1,
              "#f0f921"
             ]
            ],
            "type": "histogram2d"
           }
          ],
          "histogram2dcontour": [
           {
            "colorbar": {
             "outlinewidth": 0,
             "ticks": ""
            },
            "colorscale": [
             [
              0,
              "#0d0887"
             ],
             [
              0.1111111111111111,
              "#46039f"
             ],
             [
              0.2222222222222222,
              "#7201a8"
             ],
             [
              0.3333333333333333,
              "#9c179e"
             ],
             [
              0.4444444444444444,
              "#bd3786"
             ],
             [
              0.5555555555555556,
              "#d8576b"
             ],
             [
              0.6666666666666666,
              "#ed7953"
             ],
             [
              0.7777777777777778,
              "#fb9f3a"
             ],
             [
              0.8888888888888888,
              "#fdca26"
             ],
             [
              1,
              "#f0f921"
             ]
            ],
            "type": "histogram2dcontour"
           }
          ],
          "mesh3d": [
           {
            "colorbar": {
             "outlinewidth": 0,
             "ticks": ""
            },
            "type": "mesh3d"
           }
          ],
          "parcoords": [
           {
            "line": {
             "colorbar": {
              "outlinewidth": 0,
              "ticks": ""
             }
            },
            "type": "parcoords"
           }
          ],
          "pie": [
           {
            "automargin": true,
            "type": "pie"
           }
          ],
          "scatter": [
           {
            "marker": {
             "colorbar": {
              "outlinewidth": 0,
              "ticks": ""
             }
            },
            "type": "scatter"
           }
          ],
          "scatter3d": [
           {
            "line": {
             "colorbar": {
              "outlinewidth": 0,
              "ticks": ""
             }
            },
            "marker": {
             "colorbar": {
              "outlinewidth": 0,
              "ticks": ""
             }
            },
            "type": "scatter3d"
           }
          ],
          "scattercarpet": [
           {
            "marker": {
             "colorbar": {
              "outlinewidth": 0,
              "ticks": ""
             }
            },
            "type": "scattercarpet"
           }
          ],
          "scattergeo": [
           {
            "marker": {
             "colorbar": {
              "outlinewidth": 0,
              "ticks": ""
             }
            },
            "type": "scattergeo"
           }
          ],
          "scattergl": [
           {
            "marker": {
             "colorbar": {
              "outlinewidth": 0,
              "ticks": ""
             }
            },
            "type": "scattergl"
           }
          ],
          "scattermapbox": [
           {
            "marker": {
             "colorbar": {
              "outlinewidth": 0,
              "ticks": ""
             }
            },
            "type": "scattermapbox"
           }
          ],
          "scatterpolar": [
           {
            "marker": {
             "colorbar": {
              "outlinewidth": 0,
              "ticks": ""
             }
            },
            "type": "scatterpolar"
           }
          ],
          "scatterpolargl": [
           {
            "marker": {
             "colorbar": {
              "outlinewidth": 0,
              "ticks": ""
             }
            },
            "type": "scatterpolargl"
           }
          ],
          "scatterternary": [
           {
            "marker": {
             "colorbar": {
              "outlinewidth": 0,
              "ticks": ""
             }
            },
            "type": "scatterternary"
           }
          ],
          "surface": [
           {
            "colorbar": {
             "outlinewidth": 0,
             "ticks": ""
            },
            "colorscale": [
             [
              0,
              "#0d0887"
             ],
             [
              0.1111111111111111,
              "#46039f"
             ],
             [
              0.2222222222222222,
              "#7201a8"
             ],
             [
              0.3333333333333333,
              "#9c179e"
             ],
             [
              0.4444444444444444,
              "#bd3786"
             ],
             [
              0.5555555555555556,
              "#d8576b"
             ],
             [
              0.6666666666666666,
              "#ed7953"
             ],
             [
              0.7777777777777778,
              "#fb9f3a"
             ],
             [
              0.8888888888888888,
              "#fdca26"
             ],
             [
              1,
              "#f0f921"
             ]
            ],
            "type": "surface"
           }
          ],
          "table": [
           {
            "cells": {
             "fill": {
              "color": "#EBF0F8"
             },
             "line": {
              "color": "white"
             }
            },
            "header": {
             "fill": {
              "color": "#C8D4E3"
             },
             "line": {
              "color": "white"
             }
            },
            "type": "table"
           }
          ]
         },
         "layout": {
          "annotationdefaults": {
           "arrowcolor": "#2a3f5f",
           "arrowhead": 0,
           "arrowwidth": 1
          },
          "coloraxis": {
           "colorbar": {
            "outlinewidth": 0,
            "ticks": ""
           }
          },
          "colorscale": {
           "diverging": [
            [
             0,
             "#8e0152"
            ],
            [
             0.1,
             "#c51b7d"
            ],
            [
             0.2,
             "#de77ae"
            ],
            [
             0.3,
             "#f1b6da"
            ],
            [
             0.4,
             "#fde0ef"
            ],
            [
             0.5,
             "#f7f7f7"
            ],
            [
             0.6,
             "#e6f5d0"
            ],
            [
             0.7,
             "#b8e186"
            ],
            [
             0.8,
             "#7fbc41"
            ],
            [
             0.9,
             "#4d9221"
            ],
            [
             1,
             "#276419"
            ]
           ],
           "sequential": [
            [
             0,
             "#0d0887"
            ],
            [
             0.1111111111111111,
             "#46039f"
            ],
            [
             0.2222222222222222,
             "#7201a8"
            ],
            [
             0.3333333333333333,
             "#9c179e"
            ],
            [
             0.4444444444444444,
             "#bd3786"
            ],
            [
             0.5555555555555556,
             "#d8576b"
            ],
            [
             0.6666666666666666,
             "#ed7953"
            ],
            [
             0.7777777777777778,
             "#fb9f3a"
            ],
            [
             0.8888888888888888,
             "#fdca26"
            ],
            [
             1,
             "#f0f921"
            ]
           ],
           "sequentialminus": [
            [
             0,
             "#0d0887"
            ],
            [
             0.1111111111111111,
             "#46039f"
            ],
            [
             0.2222222222222222,
             "#7201a8"
            ],
            [
             0.3333333333333333,
             "#9c179e"
            ],
            [
             0.4444444444444444,
             "#bd3786"
            ],
            [
             0.5555555555555556,
             "#d8576b"
            ],
            [
             0.6666666666666666,
             "#ed7953"
            ],
            [
             0.7777777777777778,
             "#fb9f3a"
            ],
            [
             0.8888888888888888,
             "#fdca26"
            ],
            [
             1,
             "#f0f921"
            ]
           ]
          },
          "colorway": [
           "#636efa",
           "#EF553B",
           "#00cc96",
           "#ab63fa",
           "#FFA15A",
           "#19d3f3",
           "#FF6692",
           "#B6E880",
           "#FF97FF",
           "#FECB52"
          ],
          "font": {
           "color": "#2a3f5f"
          },
          "geo": {
           "bgcolor": "white",
           "lakecolor": "white",
           "landcolor": "#E5ECF6",
           "showlakes": true,
           "showland": true,
           "subunitcolor": "white"
          },
          "hoverlabel": {
           "align": "left"
          },
          "hovermode": "closest",
          "mapbox": {
           "style": "light"
          },
          "paper_bgcolor": "white",
          "plot_bgcolor": "#E5ECF6",
          "polar": {
           "angularaxis": {
            "gridcolor": "white",
            "linecolor": "white",
            "ticks": ""
           },
           "bgcolor": "#E5ECF6",
           "radialaxis": {
            "gridcolor": "white",
            "linecolor": "white",
            "ticks": ""
           }
          },
          "scene": {
           "xaxis": {
            "backgroundcolor": "#E5ECF6",
            "gridcolor": "white",
            "gridwidth": 2,
            "linecolor": "white",
            "showbackground": true,
            "ticks": "",
            "zerolinecolor": "white"
           },
           "yaxis": {
            "backgroundcolor": "#E5ECF6",
            "gridcolor": "white",
            "gridwidth": 2,
            "linecolor": "white",
            "showbackground": true,
            "ticks": "",
            "zerolinecolor": "white"
           },
           "zaxis": {
            "backgroundcolor": "#E5ECF6",
            "gridcolor": "white",
            "gridwidth": 2,
            "linecolor": "white",
            "showbackground": true,
            "ticks": "",
            "zerolinecolor": "white"
           }
          },
          "shapedefaults": {
           "line": {
            "color": "#2a3f5f"
           }
          },
          "ternary": {
           "aaxis": {
            "gridcolor": "white",
            "linecolor": "white",
            "ticks": ""
           },
           "baxis": {
            "gridcolor": "white",
            "linecolor": "white",
            "ticks": ""
           },
           "bgcolor": "#E5ECF6",
           "caxis": {
            "gridcolor": "white",
            "linecolor": "white",
            "ticks": ""
           }
          },
          "title": {
           "x": 0.05
          },
          "xaxis": {
           "automargin": true,
           "gridcolor": "white",
           "linecolor": "white",
           "ticks": "",
           "title": {
            "standoff": 15
           },
           "zerolinecolor": "white",
           "zerolinewidth": 2
          },
          "yaxis": {
           "automargin": true,
           "gridcolor": "white",
           "linecolor": "white",
           "ticks": "",
           "title": {
            "standoff": 15
           },
           "zerolinecolor": "white",
           "zerolinewidth": 2
          }
         }
        },
        "title": {
         "text": "Wheelbase vs. Track Width vs. Laptime — Slaloms_49ft_Spacing (w.d. = 50%F)"
        },
        "xaxis": {
         "title": {
          "text": "Track Width [in]"
         }
        },
        "yaxis": {
         "title": {
          "text": "Wheelbase [in]"
         }
        }
       }
      },
      "text/html": [
       "<div>\n",
       "        \n",
       "        \n",
       "            <div id=\"6db9b084-4a3e-4749-b3d3-69d6d3ecbdb8\" class=\"plotly-graph-div\" style=\"height:525px; width:100%;\"></div>\n",
       "            <script type=\"text/javascript\">\n",
       "                require([\"plotly\"], function(Plotly) {\n",
       "                    window.PLOTLYENV=window.PLOTLYENV || {};\n",
       "                    \n",
       "                if (document.getElementById(\"6db9b084-4a3e-4749-b3d3-69d6d3ecbdb8\")) {\n",
       "                    Plotly.newPlot(\n",
       "                        '6db9b084-4a3e-4749-b3d3-69d6d3ecbdb8',\n",
       "                        [{\"colorscale\": [[0.0, \"#fde725\"], [0.1111111111111111, \"#b5de2b\"], [0.2222222222222222, \"#6ece58\"], [0.3333333333333333, \"#35b779\"], [0.4444444444444444, \"#1f9e89\"], [0.5555555555555556, \"#26828e\"], [0.6666666666666666, \"#31688e\"], [0.7777777777777778, \"#3e4989\"], [0.8888888888888888, \"#482878\"], [1.0, \"#440154\"]], \"hoverongaps\": false, \"type\": \"heatmap\", \"x\": [40, 41, 42, 43, 44, 45, 46, 47, 48, 49, 50, 51, 52, 53, 54, 55], \"y\": [60.5, 61.5, 62.5, 63.5, 64.5, 65.5, 66.5, 67.5, 68.5, 69.5, 70.5, 71.5, 72.5, 73.5, 74.5, 75.5, 76.5, 77.5, 78.5, 79.5, 80.5], \"z\": [[null, null, null, 6.96, 6.966, 6.96, 6.966, 6.966, 6.975, 6.9270000000000005, 6.933, 6.992999999999999, 7.02, 7.05, 7.065, 7.082999999999999], [null, null, null, 6.942, 6.9510000000000005, 6.968999999999999, 6.978, 6.975, 6.978, 6.972, 6.936, 6.992999999999999, 7.02, 7.044, 7.065, 7.08], [null, null, null, 6.939, 6.9479999999999995, 6.9479999999999995, 6.9510000000000005, 6.962999999999999, null, null, 6.9510000000000005, 7.011, 6.975, 7.047000000000001, 7.059, 7.0920000000000005], [null, null, null, 6.942, 6.9510000000000005, 6.9510000000000005, 6.962999999999999, 6.962999999999999, 6.972, null, 6.933, 6.996, 7.005, 7.044, 7.041, 7.0920000000000005], [null, null, null, 6.942, 6.939, 6.939, 6.966, null, 6.975, 6.9270000000000005, 6.99, 7.002000000000001, 7.023, 7.047000000000001, 7.068, 7.0889999999999995], [null, null, null, 6.9510000000000005, 6.936, 6.945, 6.96, null, null, null, 6.99, 7.005, 6.996, 7.047000000000001, 7.068, 7.0920000000000005], [null, null, null, 6.936, 6.936, 6.9479999999999995, 6.962999999999999, 6.96, null, null, 6.992999999999999, 7.017, 7.032, 7.041, 7.065, 7.08], [null, null, null, 6.939, 6.936, 6.962999999999999, null, 6.96, null, null, 6.984, 6.968999999999999, 6.996, 7.044, 7.068, 7.0920000000000005], [null, null, null, 6.936, 6.936, 6.957000000000001, null, 6.96, 6.968999999999999, 6.975, 6.981, 6.972, 7.029, 7.056, 7.068, 7.0920000000000005], [null, null, null, 6.936, 6.933, 6.945, 6.954, 6.96, null, 6.933, 6.978, 7.005, 7.029, 7.053, 7.065, 7.101], [null, null, null, 6.936, 6.936, 6.945, null, 7.02, null, 6.968999999999999, 6.978, 6.957000000000001, 7.029, 7.041, 7.065, 7.0920000000000005], [null, null, null, 6.9510000000000005, 6.933, 6.945, 6.9510000000000005, null, 6.962999999999999, 6.966, 6.978, 7.002000000000001, 7.017, 7.05, 7.065, 7.0920000000000005], [null, null, null, 6.933, 6.9479999999999995, 6.978, 6.9510000000000005, null, null, null, 6.972, 7.007999999999999, 7.02, 7.056, 7.065, 7.08], [null, null, null, 6.936, 6.936, 6.942, null, 6.966, 6.96, null, 6.975, 6.954, 7.017, 7.037999999999999, 7.041, 7.095], [null, null, null, 6.942, 6.933, 6.945, null, null, 6.96, 6.972, 6.972, 6.996, 7.013999999999999, 7.037999999999999, 7.037999999999999, 7.086], [null, null, null, 6.942, 6.942, 6.9510000000000005, null, null, 6.968999999999999, 6.962999999999999, 6.984, 6.996, 7.017, 7.037999999999999, 7.037999999999999, 7.082999999999999], [null, null, null, 6.945, 6.942, 6.954, null, 6.96, null, 6.968999999999999, 6.968999999999999, 7.002000000000001, 7.017, 7.032, 7.065, 7.086], [null, null, null, 6.945, 6.942, 6.9479999999999995, null, 6.96, 6.96, 6.968999999999999, null, 6.957000000000001, null, 7.029, 7.068, 7.086], [null, null, null, 6.945, 6.942, 6.966, 6.957000000000001, null, 6.962999999999999, null, 6.978, 6.975, 7.017, 7.029, 7.044, 7.086], [null, null, null, 6.933, 6.942, 6.945, null, 6.966, 6.962999999999999, 6.966, 6.978, 6.972, 7.013999999999999, 7.029, 7.071000000000001, 7.082999999999999], [null, null, null, 6.933, 6.933, 6.954, 6.954, 6.957000000000001, 6.968999999999999, 6.968999999999999, 6.978, 6.996, 7.013999999999999, 7.037999999999999, 7.071000000000001, 7.082999999999999]]}],\n",
       "                        {\"template\": {\"data\": {\"bar\": [{\"error_x\": {\"color\": \"#2a3f5f\"}, \"error_y\": {\"color\": \"#2a3f5f\"}, \"marker\": {\"line\": {\"color\": \"#E5ECF6\", \"width\": 0.5}}, \"type\": \"bar\"}], \"barpolar\": [{\"marker\": {\"line\": {\"color\": \"#E5ECF6\", \"width\": 0.5}}, \"type\": \"barpolar\"}], \"carpet\": [{\"aaxis\": {\"endlinecolor\": \"#2a3f5f\", \"gridcolor\": \"white\", \"linecolor\": \"white\", \"minorgridcolor\": \"white\", \"startlinecolor\": \"#2a3f5f\"}, \"baxis\": {\"endlinecolor\": \"#2a3f5f\", \"gridcolor\": \"white\", \"linecolor\": \"white\", \"minorgridcolor\": \"white\", \"startlinecolor\": \"#2a3f5f\"}, \"type\": \"carpet\"}], \"choropleth\": [{\"colorbar\": {\"outlinewidth\": 0, \"ticks\": \"\"}, \"type\": \"choropleth\"}], \"contour\": [{\"colorbar\": {\"outlinewidth\": 0, \"ticks\": \"\"}, \"colorscale\": [[0.0, \"#0d0887\"], [0.1111111111111111, \"#46039f\"], [0.2222222222222222, \"#7201a8\"], [0.3333333333333333, \"#9c179e\"], [0.4444444444444444, \"#bd3786\"], [0.5555555555555556, \"#d8576b\"], [0.6666666666666666, \"#ed7953\"], [0.7777777777777778, \"#fb9f3a\"], [0.8888888888888888, \"#fdca26\"], [1.0, \"#f0f921\"]], \"type\": \"contour\"}], \"contourcarpet\": [{\"colorbar\": {\"outlinewidth\": 0, \"ticks\": \"\"}, \"type\": \"contourcarpet\"}], \"heatmap\": [{\"colorbar\": {\"outlinewidth\": 0, \"ticks\": \"\"}, \"colorscale\": [[0.0, \"#0d0887\"], [0.1111111111111111, \"#46039f\"], [0.2222222222222222, \"#7201a8\"], [0.3333333333333333, \"#9c179e\"], [0.4444444444444444, \"#bd3786\"], [0.5555555555555556, \"#d8576b\"], [0.6666666666666666, \"#ed7953\"], [0.7777777777777778, \"#fb9f3a\"], [0.8888888888888888, \"#fdca26\"], [1.0, \"#f0f921\"]], \"type\": \"heatmap\"}], \"heatmapgl\": [{\"colorbar\": {\"outlinewidth\": 0, \"ticks\": \"\"}, \"colorscale\": [[0.0, \"#0d0887\"], [0.1111111111111111, \"#46039f\"], [0.2222222222222222, \"#7201a8\"], [0.3333333333333333, \"#9c179e\"], [0.4444444444444444, \"#bd3786\"], [0.5555555555555556, \"#d8576b\"], [0.6666666666666666, \"#ed7953\"], [0.7777777777777778, \"#fb9f3a\"], [0.8888888888888888, \"#fdca26\"], [1.0, \"#f0f921\"]], \"type\": \"heatmapgl\"}], \"histogram\": [{\"marker\": {\"colorbar\": {\"outlinewidth\": 0, \"ticks\": \"\"}}, \"type\": \"histogram\"}], \"histogram2d\": [{\"colorbar\": {\"outlinewidth\": 0, \"ticks\": \"\"}, \"colorscale\": [[0.0, \"#0d0887\"], [0.1111111111111111, \"#46039f\"], [0.2222222222222222, \"#7201a8\"], [0.3333333333333333, \"#9c179e\"], [0.4444444444444444, \"#bd3786\"], [0.5555555555555556, \"#d8576b\"], [0.6666666666666666, \"#ed7953\"], [0.7777777777777778, \"#fb9f3a\"], [0.8888888888888888, \"#fdca26\"], [1.0, \"#f0f921\"]], \"type\": \"histogram2d\"}], \"histogram2dcontour\": [{\"colorbar\": {\"outlinewidth\": 0, \"ticks\": \"\"}, \"colorscale\": [[0.0, \"#0d0887\"], [0.1111111111111111, \"#46039f\"], [0.2222222222222222, \"#7201a8\"], [0.3333333333333333, \"#9c179e\"], [0.4444444444444444, \"#bd3786\"], [0.5555555555555556, \"#d8576b\"], [0.6666666666666666, \"#ed7953\"], [0.7777777777777778, \"#fb9f3a\"], [0.8888888888888888, \"#fdca26\"], [1.0, \"#f0f921\"]], \"type\": \"histogram2dcontour\"}], \"mesh3d\": [{\"colorbar\": {\"outlinewidth\": 0, \"ticks\": \"\"}, \"type\": \"mesh3d\"}], \"parcoords\": [{\"line\": {\"colorbar\": {\"outlinewidth\": 0, \"ticks\": \"\"}}, \"type\": \"parcoords\"}], \"pie\": [{\"automargin\": true, \"type\": \"pie\"}], \"scatter\": [{\"marker\": {\"colorbar\": {\"outlinewidth\": 0, \"ticks\": \"\"}}, \"type\": \"scatter\"}], \"scatter3d\": [{\"line\": {\"colorbar\": {\"outlinewidth\": 0, \"ticks\": \"\"}}, \"marker\": {\"colorbar\": {\"outlinewidth\": 0, \"ticks\": \"\"}}, \"type\": \"scatter3d\"}], \"scattercarpet\": [{\"marker\": {\"colorbar\": {\"outlinewidth\": 0, \"ticks\": \"\"}}, \"type\": \"scattercarpet\"}], \"scattergeo\": [{\"marker\": {\"colorbar\": {\"outlinewidth\": 0, \"ticks\": \"\"}}, \"type\": \"scattergeo\"}], \"scattergl\": [{\"marker\": {\"colorbar\": {\"outlinewidth\": 0, \"ticks\": \"\"}}, \"type\": \"scattergl\"}], \"scattermapbox\": [{\"marker\": {\"colorbar\": {\"outlinewidth\": 0, \"ticks\": \"\"}}, \"type\": \"scattermapbox\"}], \"scatterpolar\": [{\"marker\": {\"colorbar\": {\"outlinewidth\": 0, \"ticks\": \"\"}}, \"type\": \"scatterpolar\"}], \"scatterpolargl\": [{\"marker\": {\"colorbar\": {\"outlinewidth\": 0, \"ticks\": \"\"}}, \"type\": \"scatterpolargl\"}], \"scatterternary\": [{\"marker\": {\"colorbar\": {\"outlinewidth\": 0, \"ticks\": \"\"}}, \"type\": \"scatterternary\"}], \"surface\": [{\"colorbar\": {\"outlinewidth\": 0, \"ticks\": \"\"}, \"colorscale\": [[0.0, \"#0d0887\"], [0.1111111111111111, \"#46039f\"], [0.2222222222222222, \"#7201a8\"], [0.3333333333333333, \"#9c179e\"], [0.4444444444444444, \"#bd3786\"], [0.5555555555555556, \"#d8576b\"], [0.6666666666666666, \"#ed7953\"], [0.7777777777777778, \"#fb9f3a\"], [0.8888888888888888, \"#fdca26\"], [1.0, \"#f0f921\"]], \"type\": \"surface\"}], \"table\": [{\"cells\": {\"fill\": {\"color\": \"#EBF0F8\"}, \"line\": {\"color\": \"white\"}}, \"header\": {\"fill\": {\"color\": \"#C8D4E3\"}, \"line\": {\"color\": \"white\"}}, \"type\": \"table\"}]}, \"layout\": {\"annotationdefaults\": {\"arrowcolor\": \"#2a3f5f\", \"arrowhead\": 0, \"arrowwidth\": 1}, \"coloraxis\": {\"colorbar\": {\"outlinewidth\": 0, \"ticks\": \"\"}}, \"colorscale\": {\"diverging\": [[0, \"#8e0152\"], [0.1, \"#c51b7d\"], [0.2, \"#de77ae\"], [0.3, \"#f1b6da\"], [0.4, \"#fde0ef\"], [0.5, \"#f7f7f7\"], [0.6, \"#e6f5d0\"], [0.7, \"#b8e186\"], [0.8, \"#7fbc41\"], [0.9, \"#4d9221\"], [1, \"#276419\"]], \"sequential\": [[0.0, \"#0d0887\"], [0.1111111111111111, \"#46039f\"], [0.2222222222222222, \"#7201a8\"], [0.3333333333333333, \"#9c179e\"], [0.4444444444444444, \"#bd3786\"], [0.5555555555555556, \"#d8576b\"], [0.6666666666666666, \"#ed7953\"], [0.7777777777777778, \"#fb9f3a\"], [0.8888888888888888, \"#fdca26\"], [1.0, \"#f0f921\"]], \"sequentialminus\": [[0.0, \"#0d0887\"], [0.1111111111111111, \"#46039f\"], [0.2222222222222222, \"#7201a8\"], [0.3333333333333333, \"#9c179e\"], [0.4444444444444444, \"#bd3786\"], [0.5555555555555556, \"#d8576b\"], [0.6666666666666666, \"#ed7953\"], [0.7777777777777778, \"#fb9f3a\"], [0.8888888888888888, \"#fdca26\"], [1.0, \"#f0f921\"]]}, \"colorway\": [\"#636efa\", \"#EF553B\", \"#00cc96\", \"#ab63fa\", \"#FFA15A\", \"#19d3f3\", \"#FF6692\", \"#B6E880\", \"#FF97FF\", \"#FECB52\"], \"font\": {\"color\": \"#2a3f5f\"}, \"geo\": {\"bgcolor\": \"white\", \"lakecolor\": \"white\", \"landcolor\": \"#E5ECF6\", \"showlakes\": true, \"showland\": true, \"subunitcolor\": \"white\"}, \"hoverlabel\": {\"align\": \"left\"}, \"hovermode\": \"closest\", \"mapbox\": {\"style\": \"light\"}, \"paper_bgcolor\": \"white\", \"plot_bgcolor\": \"#E5ECF6\", \"polar\": {\"angularaxis\": {\"gridcolor\": \"white\", \"linecolor\": \"white\", \"ticks\": \"\"}, \"bgcolor\": \"#E5ECF6\", \"radialaxis\": {\"gridcolor\": \"white\", \"linecolor\": \"white\", \"ticks\": \"\"}}, \"scene\": {\"xaxis\": {\"backgroundcolor\": \"#E5ECF6\", \"gridcolor\": \"white\", \"gridwidth\": 2, \"linecolor\": \"white\", \"showbackground\": true, \"ticks\": \"\", \"zerolinecolor\": \"white\"}, \"yaxis\": {\"backgroundcolor\": \"#E5ECF6\", \"gridcolor\": \"white\", \"gridwidth\": 2, \"linecolor\": \"white\", \"showbackground\": true, \"ticks\": \"\", \"zerolinecolor\": \"white\"}, \"zaxis\": {\"backgroundcolor\": \"#E5ECF6\", \"gridcolor\": \"white\", \"gridwidth\": 2, \"linecolor\": \"white\", \"showbackground\": true, \"ticks\": \"\", \"zerolinecolor\": \"white\"}}, \"shapedefaults\": {\"line\": {\"color\": \"#2a3f5f\"}}, \"ternary\": {\"aaxis\": {\"gridcolor\": \"white\", \"linecolor\": \"white\", \"ticks\": \"\"}, \"baxis\": {\"gridcolor\": \"white\", \"linecolor\": \"white\", \"ticks\": \"\"}, \"bgcolor\": \"#E5ECF6\", \"caxis\": {\"gridcolor\": \"white\", \"linecolor\": \"white\", \"ticks\": \"\"}}, \"title\": {\"x\": 0.05}, \"xaxis\": {\"automargin\": true, \"gridcolor\": \"white\", \"linecolor\": \"white\", \"ticks\": \"\", \"title\": {\"standoff\": 15}, \"zerolinecolor\": \"white\", \"zerolinewidth\": 2}, \"yaxis\": {\"automargin\": true, \"gridcolor\": \"white\", \"linecolor\": \"white\", \"ticks\": \"\", \"title\": {\"standoff\": 15}, \"zerolinecolor\": \"white\", \"zerolinewidth\": 2}}}, \"title\": {\"text\": \"Wheelbase vs. Track Width vs. Laptime \\u2014 Slaloms_49ft_Spacing (w.d. = 50%F)\"}, \"xaxis\": {\"title\": {\"text\": \"Track Width [in]\"}}, \"yaxis\": {\"title\": {\"text\": \"Wheelbase [in]\"}}},\n",
       "                        {\"responsive\": true}\n",
       "                    ).then(function(){\n",
       "                            \n",
       "var gd = document.getElementById('6db9b084-4a3e-4749-b3d3-69d6d3ecbdb8');\n",
       "var x = new MutationObserver(function (mutations, observer) {{\n",
       "        var display = window.getComputedStyle(gd).display;\n",
       "        if (!display || display === 'none') {{\n",
       "            console.log([gd, 'removed!']);\n",
       "            Plotly.purge(gd);\n",
       "            observer.disconnect();\n",
       "        }}\n",
       "}});\n",
       "\n",
       "// Listen for the removal of the full notebook cells\n",
       "var notebookContainer = gd.closest('#notebook-container');\n",
       "if (notebookContainer) {{\n",
       "    x.observe(notebookContainer, {childList: true});\n",
       "}}\n",
       "\n",
       "// Listen for the clearing of the current output cell\n",
       "var outputEl = gd.closest('.output');\n",
       "if (outputEl) {{\n",
       "    x.observe(outputEl, {childList: true});\n",
       "}}\n",
       "\n",
       "                        })\n",
       "                };\n",
       "                });\n",
       "            </script>\n",
       "        </div>"
      ]
     },
     "metadata": {},
     "output_type": "display_data"
    }
   ],
   "source": [
    "name = \"Slaloms_49ft_Spacing\"\n",
    "fig = show_laptimes(6, name)\n",
    "fig.write_image(\"{}.png\".format(name), width=1000, height=500)\n",
    "fig.show()"
   ]
  },
  {
   "cell_type": "markdown",
   "metadata": {},
   "source": [
    "# All-in-One"
   ]
  },
  {
   "cell_type": "code",
   "execution_count": 242,
   "metadata": {},
   "outputs": [
    {
     "data": {
      "application/vnd.plotly.v1+json": {
       "config": {
        "plotlyServerURL": "https://plot.ly"
       },
       "data": [
        {
         "colorscale": [
          [
           0,
           "#fde725"
          ],
          [
           0.1111111111111111,
           "#b5de2b"
          ],
          [
           0.2222222222222222,
           "#6ece58"
          ],
          [
           0.3333333333333333,
           "#35b779"
          ],
          [
           0.4444444444444444,
           "#1f9e89"
          ],
          [
           0.5555555555555556,
           "#26828e"
          ],
          [
           0.6666666666666666,
           "#31688e"
          ],
          [
           0.7777777777777778,
           "#3e4989"
          ],
          [
           0.8888888888888888,
           "#482878"
          ],
          [
           1,
           "#440154"
          ]
         ],
         "hoverongaps": false,
         "type": "heatmap",
         "x": [
          40,
          41,
          42,
          43,
          44,
          45,
          46,
          47,
          48,
          49,
          50,
          51,
          52,
          53,
          54,
          55
         ],
         "y": [
          60.5,
          61.5,
          62.5,
          63.5,
          64.5,
          65.5,
          66.5,
          67.5,
          68.5,
          69.5,
          70.5,
          71.5,
          72.5,
          73.5,
          74.5,
          75.5,
          76.5,
          77.5,
          78.5,
          79.5,
          80.5
         ],
         "z": [
          [
           14.76,
           14.547,
           14.357999999999999,
           14.210999999999999,
           14.145,
           14.052,
           13.956,
           13.809000000000001,
           13.755,
           13.731,
           13.698,
           13.695,
           13.704,
           13.698,
           13.707,
           13.692
          ],
          [
           14.763,
           14.568,
           14.357999999999999,
           14.214,
           14.139000000000001,
           14.088,
           13.95,
           13.833,
           13.773,
           13.731,
           13.707,
           13.692,
           13.689,
           13.683,
           13.71,
           13.668
          ],
          [
           14.754000000000001,
           14.547,
           14.357999999999999,
           14.208,
           14.1,
           14.046,
           13.947000000000001,
           13.833,
           13.745999999999999,
           13.716,
           13.689,
           13.671,
           13.683,
           13.677,
           13.686,
           13.626
          ],
          [
           14.751,
           14.585999999999999,
           14.355,
           14.199000000000002,
           14.1,
           14.034,
           13.940999999999999,
           13.797,
           13.764000000000001,
           13.707,
           13.686,
           13.683,
           13.671,
           13.674000000000001,
           13.700999999999999,
           13.659
          ],
          [
           14.751,
           14.552999999999999,
           14.360999999999999,
           14.208,
           14.094000000000001,
           13.998,
           13.940999999999999,
           13.821,
           13.758,
           13.734000000000002,
           13.695,
           13.665,
           13.659,
           13.665,
           13.689,
           13.607999999999999
          ],
          [
           14.751,
           14.585999999999999,
           14.357999999999999,
           14.208,
           14.091,
           14.025,
           13.935,
           13.818,
           13.755,
           13.707,
           13.692,
           13.668,
           13.665,
           13.655999999999999,
           13.655999999999999,
           13.595999999999998
          ],
          [
           14.754000000000001,
           14.577,
           14.360999999999999,
           14.205,
           14.097000000000001,
           14.022,
           13.905,
           13.815,
           13.749,
           13.734000000000002,
           13.686,
           13.668,
           13.652999999999999,
           13.647,
           13.610999999999999,
           13.595999999999998
          ],
          [
           14.757,
           14.55,
           14.357999999999999,
           14.205,
           14.082,
           13.989,
           13.929,
           13.812000000000001,
           13.745999999999999,
           13.71,
           13.677,
           13.662,
           13.640999999999998,
           13.638,
           13.65,
           13.587
          ],
          [
           14.76,
           14.58,
           14.364,
           14.202,
           14.088,
           14.015999999999998,
           13.923,
           13.806,
           13.743,
           13.704,
           13.668,
           13.65,
           13.632,
           13.647,
           13.644,
           13.581
          ],
          [
           14.757,
           14.55,
           14.360999999999999,
           14.199000000000002,
           14.082,
           14.022,
           13.923,
           13.806,
           13.74,
           13.692,
           13.662,
           13.635,
           13.629000000000001,
           13.623,
           13.575,
           13.575
          ],
          [
           14.757,
           14.577,
           14.360999999999999,
           14.199000000000002,
           14.075999999999999,
           14.015999999999998,
           13.923,
           13.806,
           13.737,
           13.671,
           13.659,
           13.629000000000001,
           13.614,
           13.626,
           13.584000000000001,
           13.569
          ],
          [
           14.754000000000001,
           14.574000000000002,
           14.360999999999999,
           14.199000000000002,
           14.073,
           14.015999999999998,
           13.887,
           13.802999999999999,
           13.734000000000002,
           13.671,
           13.659,
           13.640999999999998,
           13.610999999999999,
           13.629000000000001,
           13.617,
           13.569
          ],
          [
           14.76,
           14.565,
           14.360999999999999,
           14.199000000000002,
           14.07,
           14.013,
           13.880999999999998,
           13.767000000000001,
           13.731,
           13.683,
           13.662,
           13.626,
           13.617,
           13.607999999999999,
           13.572000000000001,
           13.557
          ],
          [
           14.76,
           14.556,
           14.367,
           14.193,
           14.073,
           13.977,
           13.914000000000001,
           13.788,
           13.731,
           13.689,
           13.635,
           13.632,
           13.617,
           13.607999999999999,
           13.575,
           13.557
          ],
          [
           14.757,
           14.613,
           14.37,
           14.19,
           14.07,
           13.970999999999998,
           13.878,
           13.797,
           13.725,
           13.659,
           13.652999999999999,
           13.62,
           13.617,
           13.602,
           13.562999999999999,
           13.554
          ],
          [
           14.754000000000001,
           14.592,
           14.360999999999999,
           14.19,
           14.067,
           14.007,
           13.911,
           13.818,
           13.728,
           13.674000000000001,
           13.65,
           13.629000000000001,
           13.614,
           13.602,
           13.562999999999999,
           13.550999999999998
          ],
          [
           14.757,
           14.583,
           14.373,
           14.19,
           14.067,
           13.965,
           13.911,
           13.790999999999999,
           13.725,
           13.674000000000001,
           13.626,
           13.626,
           13.607999999999999,
           13.610999999999999,
           13.550999999999998,
           13.550999999999998
          ],
          [
           14.763,
           14.585999999999999,
           14.367,
           14.19,
           14.061,
           13.968,
           13.908,
           13.788,
           13.722000000000001,
           13.700999999999999,
           13.659,
           13.629000000000001,
           13.610999999999999,
           13.569,
           13.557,
           13.550999999999998
          ],
          [
           14.76,
           14.589,
           14.37,
           14.19,
           14.061,
           13.968,
           13.872,
           13.788,
           13.722000000000001,
           13.700999999999999,
           13.640999999999998,
           13.607999999999999,
           13.593,
           null,
           13.550999999999998,
           13.550999999999998
          ],
          [
           14.772,
           14.600999999999999,
           14.37,
           14.193,
           14.067,
           13.962,
           13.869000000000002,
           13.785,
           13.719000000000001,
           13.700999999999999,
           13.640999999999998,
           13.623,
           13.593,
           13.593,
           13.554,
           13.542
          ],
          [
           14.765999999999998,
           14.595,
           14.373,
           14.193,
           14.061,
           13.965,
           13.902000000000001,
           13.788,
           13.719000000000001,
           13.704,
           13.655999999999999,
           13.607999999999999,
           13.599,
           13.593,
           13.542,
           13.542
          ]
         ]
        }
       ],
       "layout": {
        "template": {
         "data": {
          "bar": [
           {
            "error_x": {
             "color": "#2a3f5f"
            },
            "error_y": {
             "color": "#2a3f5f"
            },
            "marker": {
             "line": {
              "color": "#E5ECF6",
              "width": 0.5
             }
            },
            "type": "bar"
           }
          ],
          "barpolar": [
           {
            "marker": {
             "line": {
              "color": "#E5ECF6",
              "width": 0.5
             }
            },
            "type": "barpolar"
           }
          ],
          "carpet": [
           {
            "aaxis": {
             "endlinecolor": "#2a3f5f",
             "gridcolor": "white",
             "linecolor": "white",
             "minorgridcolor": "white",
             "startlinecolor": "#2a3f5f"
            },
            "baxis": {
             "endlinecolor": "#2a3f5f",
             "gridcolor": "white",
             "linecolor": "white",
             "minorgridcolor": "white",
             "startlinecolor": "#2a3f5f"
            },
            "type": "carpet"
           }
          ],
          "choropleth": [
           {
            "colorbar": {
             "outlinewidth": 0,
             "ticks": ""
            },
            "type": "choropleth"
           }
          ],
          "contour": [
           {
            "colorbar": {
             "outlinewidth": 0,
             "ticks": ""
            },
            "colorscale": [
             [
              0,
              "#0d0887"
             ],
             [
              0.1111111111111111,
              "#46039f"
             ],
             [
              0.2222222222222222,
              "#7201a8"
             ],
             [
              0.3333333333333333,
              "#9c179e"
             ],
             [
              0.4444444444444444,
              "#bd3786"
             ],
             [
              0.5555555555555556,
              "#d8576b"
             ],
             [
              0.6666666666666666,
              "#ed7953"
             ],
             [
              0.7777777777777778,
              "#fb9f3a"
             ],
             [
              0.8888888888888888,
              "#fdca26"
             ],
             [
              1,
              "#f0f921"
             ]
            ],
            "type": "contour"
           }
          ],
          "contourcarpet": [
           {
            "colorbar": {
             "outlinewidth": 0,
             "ticks": ""
            },
            "type": "contourcarpet"
           }
          ],
          "heatmap": [
           {
            "colorbar": {
             "outlinewidth": 0,
             "ticks": ""
            },
            "colorscale": [
             [
              0,
              "#0d0887"
             ],
             [
              0.1111111111111111,
              "#46039f"
             ],
             [
              0.2222222222222222,
              "#7201a8"
             ],
             [
              0.3333333333333333,
              "#9c179e"
             ],
             [
              0.4444444444444444,
              "#bd3786"
             ],
             [
              0.5555555555555556,
              "#d8576b"
             ],
             [
              0.6666666666666666,
              "#ed7953"
             ],
             [
              0.7777777777777778,
              "#fb9f3a"
             ],
             [
              0.8888888888888888,
              "#fdca26"
             ],
             [
              1,
              "#f0f921"
             ]
            ],
            "type": "heatmap"
           }
          ],
          "heatmapgl": [
           {
            "colorbar": {
             "outlinewidth": 0,
             "ticks": ""
            },
            "colorscale": [
             [
              0,
              "#0d0887"
             ],
             [
              0.1111111111111111,
              "#46039f"
             ],
             [
              0.2222222222222222,
              "#7201a8"
             ],
             [
              0.3333333333333333,
              "#9c179e"
             ],
             [
              0.4444444444444444,
              "#bd3786"
             ],
             [
              0.5555555555555556,
              "#d8576b"
             ],
             [
              0.6666666666666666,
              "#ed7953"
             ],
             [
              0.7777777777777778,
              "#fb9f3a"
             ],
             [
              0.8888888888888888,
              "#fdca26"
             ],
             [
              1,
              "#f0f921"
             ]
            ],
            "type": "heatmapgl"
           }
          ],
          "histogram": [
           {
            "marker": {
             "colorbar": {
              "outlinewidth": 0,
              "ticks": ""
             }
            },
            "type": "histogram"
           }
          ],
          "histogram2d": [
           {
            "colorbar": {
             "outlinewidth": 0,
             "ticks": ""
            },
            "colorscale": [
             [
              0,
              "#0d0887"
             ],
             [
              0.1111111111111111,
              "#46039f"
             ],
             [
              0.2222222222222222,
              "#7201a8"
             ],
             [
              0.3333333333333333,
              "#9c179e"
             ],
             [
              0.4444444444444444,
              "#bd3786"
             ],
             [
              0.5555555555555556,
              "#d8576b"
             ],
             [
              0.6666666666666666,
              "#ed7953"
             ],
             [
              0.7777777777777778,
              "#fb9f3a"
             ],
             [
              0.8888888888888888,
              "#fdca26"
             ],
             [
              1,
              "#f0f921"
             ]
            ],
            "type": "histogram2d"
           }
          ],
          "histogram2dcontour": [
           {
            "colorbar": {
             "outlinewidth": 0,
             "ticks": ""
            },
            "colorscale": [
             [
              0,
              "#0d0887"
             ],
             [
              0.1111111111111111,
              "#46039f"
             ],
             [
              0.2222222222222222,
              "#7201a8"
             ],
             [
              0.3333333333333333,
              "#9c179e"
             ],
             [
              0.4444444444444444,
              "#bd3786"
             ],
             [
              0.5555555555555556,
              "#d8576b"
             ],
             [
              0.6666666666666666,
              "#ed7953"
             ],
             [
              0.7777777777777778,
              "#fb9f3a"
             ],
             [
              0.8888888888888888,
              "#fdca26"
             ],
             [
              1,
              "#f0f921"
             ]
            ],
            "type": "histogram2dcontour"
           }
          ],
          "mesh3d": [
           {
            "colorbar": {
             "outlinewidth": 0,
             "ticks": ""
            },
            "type": "mesh3d"
           }
          ],
          "parcoords": [
           {
            "line": {
             "colorbar": {
              "outlinewidth": 0,
              "ticks": ""
             }
            },
            "type": "parcoords"
           }
          ],
          "pie": [
           {
            "automargin": true,
            "type": "pie"
           }
          ],
          "scatter": [
           {
            "marker": {
             "colorbar": {
              "outlinewidth": 0,
              "ticks": ""
             }
            },
            "type": "scatter"
           }
          ],
          "scatter3d": [
           {
            "line": {
             "colorbar": {
              "outlinewidth": 0,
              "ticks": ""
             }
            },
            "marker": {
             "colorbar": {
              "outlinewidth": 0,
              "ticks": ""
             }
            },
            "type": "scatter3d"
           }
          ],
          "scattercarpet": [
           {
            "marker": {
             "colorbar": {
              "outlinewidth": 0,
              "ticks": ""
             }
            },
            "type": "scattercarpet"
           }
          ],
          "scattergeo": [
           {
            "marker": {
             "colorbar": {
              "outlinewidth": 0,
              "ticks": ""
             }
            },
            "type": "scattergeo"
           }
          ],
          "scattergl": [
           {
            "marker": {
             "colorbar": {
              "outlinewidth": 0,
              "ticks": ""
             }
            },
            "type": "scattergl"
           }
          ],
          "scattermapbox": [
           {
            "marker": {
             "colorbar": {
              "outlinewidth": 0,
              "ticks": ""
             }
            },
            "type": "scattermapbox"
           }
          ],
          "scatterpolar": [
           {
            "marker": {
             "colorbar": {
              "outlinewidth": 0,
              "ticks": ""
             }
            },
            "type": "scatterpolar"
           }
          ],
          "scatterpolargl": [
           {
            "marker": {
             "colorbar": {
              "outlinewidth": 0,
              "ticks": ""
             }
            },
            "type": "scatterpolargl"
           }
          ],
          "scatterternary": [
           {
            "marker": {
             "colorbar": {
              "outlinewidth": 0,
              "ticks": ""
             }
            },
            "type": "scatterternary"
           }
          ],
          "surface": [
           {
            "colorbar": {
             "outlinewidth": 0,
             "ticks": ""
            },
            "colorscale": [
             [
              0,
              "#0d0887"
             ],
             [
              0.1111111111111111,
              "#46039f"
             ],
             [
              0.2222222222222222,
              "#7201a8"
             ],
             [
              0.3333333333333333,
              "#9c179e"
             ],
             [
              0.4444444444444444,
              "#bd3786"
             ],
             [
              0.5555555555555556,
              "#d8576b"
             ],
             [
              0.6666666666666666,
              "#ed7953"
             ],
             [
              0.7777777777777778,
              "#fb9f3a"
             ],
             [
              0.8888888888888888,
              "#fdca26"
             ],
             [
              1,
              "#f0f921"
             ]
            ],
            "type": "surface"
           }
          ],
          "table": [
           {
            "cells": {
             "fill": {
              "color": "#EBF0F8"
             },
             "line": {
              "color": "white"
             }
            },
            "header": {
             "fill": {
              "color": "#C8D4E3"
             },
             "line": {
              "color": "white"
             }
            },
            "type": "table"
           }
          ]
         },
         "layout": {
          "annotationdefaults": {
           "arrowcolor": "#2a3f5f",
           "arrowhead": 0,
           "arrowwidth": 1
          },
          "coloraxis": {
           "colorbar": {
            "outlinewidth": 0,
            "ticks": ""
           }
          },
          "colorscale": {
           "diverging": [
            [
             0,
             "#8e0152"
            ],
            [
             0.1,
             "#c51b7d"
            ],
            [
             0.2,
             "#de77ae"
            ],
            [
             0.3,
             "#f1b6da"
            ],
            [
             0.4,
             "#fde0ef"
            ],
            [
             0.5,
             "#f7f7f7"
            ],
            [
             0.6,
             "#e6f5d0"
            ],
            [
             0.7,
             "#b8e186"
            ],
            [
             0.8,
             "#7fbc41"
            ],
            [
             0.9,
             "#4d9221"
            ],
            [
             1,
             "#276419"
            ]
           ],
           "sequential": [
            [
             0,
             "#0d0887"
            ],
            [
             0.1111111111111111,
             "#46039f"
            ],
            [
             0.2222222222222222,
             "#7201a8"
            ],
            [
             0.3333333333333333,
             "#9c179e"
            ],
            [
             0.4444444444444444,
             "#bd3786"
            ],
            [
             0.5555555555555556,
             "#d8576b"
            ],
            [
             0.6666666666666666,
             "#ed7953"
            ],
            [
             0.7777777777777778,
             "#fb9f3a"
            ],
            [
             0.8888888888888888,
             "#fdca26"
            ],
            [
             1,
             "#f0f921"
            ]
           ],
           "sequentialminus": [
            [
             0,
             "#0d0887"
            ],
            [
             0.1111111111111111,
             "#46039f"
            ],
            [
             0.2222222222222222,
             "#7201a8"
            ],
            [
             0.3333333333333333,
             "#9c179e"
            ],
            [
             0.4444444444444444,
             "#bd3786"
            ],
            [
             0.5555555555555556,
             "#d8576b"
            ],
            [
             0.6666666666666666,
             "#ed7953"
            ],
            [
             0.7777777777777778,
             "#fb9f3a"
            ],
            [
             0.8888888888888888,
             "#fdca26"
            ],
            [
             1,
             "#f0f921"
            ]
           ]
          },
          "colorway": [
           "#636efa",
           "#EF553B",
           "#00cc96",
           "#ab63fa",
           "#FFA15A",
           "#19d3f3",
           "#FF6692",
           "#B6E880",
           "#FF97FF",
           "#FECB52"
          ],
          "font": {
           "color": "#2a3f5f"
          },
          "geo": {
           "bgcolor": "white",
           "lakecolor": "white",
           "landcolor": "#E5ECF6",
           "showlakes": true,
           "showland": true,
           "subunitcolor": "white"
          },
          "hoverlabel": {
           "align": "left"
          },
          "hovermode": "closest",
          "mapbox": {
           "style": "light"
          },
          "paper_bgcolor": "white",
          "plot_bgcolor": "#E5ECF6",
          "polar": {
           "angularaxis": {
            "gridcolor": "white",
            "linecolor": "white",
            "ticks": ""
           },
           "bgcolor": "#E5ECF6",
           "radialaxis": {
            "gridcolor": "white",
            "linecolor": "white",
            "ticks": ""
           }
          },
          "scene": {
           "xaxis": {
            "backgroundcolor": "#E5ECF6",
            "gridcolor": "white",
            "gridwidth": 2,
            "linecolor": "white",
            "showbackground": true,
            "ticks": "",
            "zerolinecolor": "white"
           },
           "yaxis": {
            "backgroundcolor": "#E5ECF6",
            "gridcolor": "white",
            "gridwidth": 2,
            "linecolor": "white",
            "showbackground": true,
            "ticks": "",
            "zerolinecolor": "white"
           },
           "zaxis": {
            "backgroundcolor": "#E5ECF6",
            "gridcolor": "white",
            "gridwidth": 2,
            "linecolor": "white",
            "showbackground": true,
            "ticks": "",
            "zerolinecolor": "white"
           }
          },
          "shapedefaults": {
           "line": {
            "color": "#2a3f5f"
           }
          },
          "ternary": {
           "aaxis": {
            "gridcolor": "white",
            "linecolor": "white",
            "ticks": ""
           },
           "baxis": {
            "gridcolor": "white",
            "linecolor": "white",
            "ticks": ""
           },
           "bgcolor": "#E5ECF6",
           "caxis": {
            "gridcolor": "white",
            "linecolor": "white",
            "ticks": ""
           }
          },
          "title": {
           "x": 0.05
          },
          "xaxis": {
           "automargin": true,
           "gridcolor": "white",
           "linecolor": "white",
           "ticks": "",
           "title": {
            "standoff": 15
           },
           "zerolinecolor": "white",
           "zerolinewidth": 2
          },
          "yaxis": {
           "automargin": true,
           "gridcolor": "white",
           "linecolor": "white",
           "ticks": "",
           "title": {
            "standoff": 15
           },
           "zerolinecolor": "white",
           "zerolinewidth": 2
          }
         }
        },
        "title": {
         "text": "Wheelbase vs. Track Width vs. Laptime — All-in-One (w.d. = 50%F)"
        },
        "xaxis": {
         "title": {
          "text": "Track Width [in]"
         }
        },
        "yaxis": {
         "title": {
          "text": "Wheelbase [in]"
         }
        }
       }
      },
      "text/html": [
       "<div>\n",
       "        \n",
       "        \n",
       "            <div id=\"43cdf0e6-8516-443b-92b9-3c3dd905d42b\" class=\"plotly-graph-div\" style=\"height:525px; width:100%;\"></div>\n",
       "            <script type=\"text/javascript\">\n",
       "                require([\"plotly\"], function(Plotly) {\n",
       "                    window.PLOTLYENV=window.PLOTLYENV || {};\n",
       "                    \n",
       "                if (document.getElementById(\"43cdf0e6-8516-443b-92b9-3c3dd905d42b\")) {\n",
       "                    Plotly.newPlot(\n",
       "                        '43cdf0e6-8516-443b-92b9-3c3dd905d42b',\n",
       "                        [{\"colorscale\": [[0.0, \"#fde725\"], [0.1111111111111111, \"#b5de2b\"], [0.2222222222222222, \"#6ece58\"], [0.3333333333333333, \"#35b779\"], [0.4444444444444444, \"#1f9e89\"], [0.5555555555555556, \"#26828e\"], [0.6666666666666666, \"#31688e\"], [0.7777777777777778, \"#3e4989\"], [0.8888888888888888, \"#482878\"], [1.0, \"#440154\"]], \"hoverongaps\": false, \"type\": \"heatmap\", \"x\": [40, 41, 42, 43, 44, 45, 46, 47, 48, 49, 50, 51, 52, 53, 54, 55], \"y\": [60.5, 61.5, 62.5, 63.5, 64.5, 65.5, 66.5, 67.5, 68.5, 69.5, 70.5, 71.5, 72.5, 73.5, 74.5, 75.5, 76.5, 77.5, 78.5, 79.5, 80.5], \"z\": [[14.76, 14.547, 14.357999999999999, 14.210999999999999, 14.145, 14.052, 13.956, 13.809000000000001, 13.755, 13.731, 13.698, 13.695, 13.704, 13.698, 13.707, 13.692], [14.763, 14.568, 14.357999999999999, 14.214, 14.139000000000001, 14.088, 13.95, 13.833, 13.773, 13.731, 13.707, 13.692, 13.689, 13.683, 13.71, 13.668], [14.754000000000001, 14.547, 14.357999999999999, 14.208, 14.1, 14.046, 13.947000000000001, 13.833, 13.745999999999999, 13.716, 13.689, 13.671, 13.683, 13.677, 13.686, 13.626], [14.751, 14.585999999999999, 14.355, 14.199000000000002, 14.1, 14.034, 13.940999999999999, 13.797, 13.764000000000001, 13.707, 13.686, 13.683, 13.671, 13.674000000000001, 13.700999999999999, 13.659], [14.751, 14.552999999999999, 14.360999999999999, 14.208, 14.094000000000001, 13.998, 13.940999999999999, 13.821, 13.758, 13.734000000000002, 13.695, 13.665, 13.659, 13.665, 13.689, 13.607999999999999], [14.751, 14.585999999999999, 14.357999999999999, 14.208, 14.091, 14.025, 13.935, 13.818, 13.755, 13.707, 13.692, 13.668, 13.665, 13.655999999999999, 13.655999999999999, 13.595999999999998], [14.754000000000001, 14.577, 14.360999999999999, 14.205, 14.097000000000001, 14.022, 13.905, 13.815, 13.749, 13.734000000000002, 13.686, 13.668, 13.652999999999999, 13.647, 13.610999999999999, 13.595999999999998], [14.757, 14.55, 14.357999999999999, 14.205, 14.082, 13.989, 13.929, 13.812000000000001, 13.745999999999999, 13.71, 13.677, 13.662, 13.640999999999998, 13.638, 13.65, 13.587], [14.76, 14.58, 14.364, 14.202, 14.088, 14.015999999999998, 13.923, 13.806, 13.743, 13.704, 13.668, 13.65, 13.632, 13.647, 13.644, 13.581], [14.757, 14.55, 14.360999999999999, 14.199000000000002, 14.082, 14.022, 13.923, 13.806, 13.74, 13.692, 13.662, 13.635, 13.629000000000001, 13.623, 13.575, 13.575], [14.757, 14.577, 14.360999999999999, 14.199000000000002, 14.075999999999999, 14.015999999999998, 13.923, 13.806, 13.737, 13.671, 13.659, 13.629000000000001, 13.614, 13.626, 13.584000000000001, 13.569], [14.754000000000001, 14.574000000000002, 14.360999999999999, 14.199000000000002, 14.073, 14.015999999999998, 13.887, 13.802999999999999, 13.734000000000002, 13.671, 13.659, 13.640999999999998, 13.610999999999999, 13.629000000000001, 13.617, 13.569], [14.76, 14.565, 14.360999999999999, 14.199000000000002, 14.07, 14.013, 13.880999999999998, 13.767000000000001, 13.731, 13.683, 13.662, 13.626, 13.617, 13.607999999999999, 13.572000000000001, 13.557], [14.76, 14.556, 14.367, 14.193, 14.073, 13.977, 13.914000000000001, 13.788, 13.731, 13.689, 13.635, 13.632, 13.617, 13.607999999999999, 13.575, 13.557], [14.757, 14.613, 14.37, 14.19, 14.07, 13.970999999999998, 13.878, 13.797, 13.725, 13.659, 13.652999999999999, 13.62, 13.617, 13.602, 13.562999999999999, 13.554], [14.754000000000001, 14.592, 14.360999999999999, 14.19, 14.067, 14.007, 13.911, 13.818, 13.728, 13.674000000000001, 13.65, 13.629000000000001, 13.614, 13.602, 13.562999999999999, 13.550999999999998], [14.757, 14.583, 14.373, 14.19, 14.067, 13.965, 13.911, 13.790999999999999, 13.725, 13.674000000000001, 13.626, 13.626, 13.607999999999999, 13.610999999999999, 13.550999999999998, 13.550999999999998], [14.763, 14.585999999999999, 14.367, 14.19, 14.061, 13.968, 13.908, 13.788, 13.722000000000001, 13.700999999999999, 13.659, 13.629000000000001, 13.610999999999999, 13.569, 13.557, 13.550999999999998], [14.76, 14.589, 14.37, 14.19, 14.061, 13.968, 13.872, 13.788, 13.722000000000001, 13.700999999999999, 13.640999999999998, 13.607999999999999, 13.593, null, 13.550999999999998, 13.550999999999998], [14.772, 14.600999999999999, 14.37, 14.193, 14.067, 13.962, 13.869000000000002, 13.785, 13.719000000000001, 13.700999999999999, 13.640999999999998, 13.623, 13.593, 13.593, 13.554, 13.542], [14.765999999999998, 14.595, 14.373, 14.193, 14.061, 13.965, 13.902000000000001, 13.788, 13.719000000000001, 13.704, 13.655999999999999, 13.607999999999999, 13.599, 13.593, 13.542, 13.542]]}],\n",
       "                        {\"template\": {\"data\": {\"bar\": [{\"error_x\": {\"color\": \"#2a3f5f\"}, \"error_y\": {\"color\": \"#2a3f5f\"}, \"marker\": {\"line\": {\"color\": \"#E5ECF6\", \"width\": 0.5}}, \"type\": \"bar\"}], \"barpolar\": [{\"marker\": {\"line\": {\"color\": \"#E5ECF6\", \"width\": 0.5}}, \"type\": \"barpolar\"}], \"carpet\": [{\"aaxis\": {\"endlinecolor\": \"#2a3f5f\", \"gridcolor\": \"white\", \"linecolor\": \"white\", \"minorgridcolor\": \"white\", \"startlinecolor\": \"#2a3f5f\"}, \"baxis\": {\"endlinecolor\": \"#2a3f5f\", \"gridcolor\": \"white\", \"linecolor\": \"white\", \"minorgridcolor\": \"white\", \"startlinecolor\": \"#2a3f5f\"}, \"type\": \"carpet\"}], \"choropleth\": [{\"colorbar\": {\"outlinewidth\": 0, \"ticks\": \"\"}, \"type\": \"choropleth\"}], \"contour\": [{\"colorbar\": {\"outlinewidth\": 0, \"ticks\": \"\"}, \"colorscale\": [[0.0, \"#0d0887\"], [0.1111111111111111, \"#46039f\"], [0.2222222222222222, \"#7201a8\"], [0.3333333333333333, \"#9c179e\"], [0.4444444444444444, \"#bd3786\"], [0.5555555555555556, \"#d8576b\"], [0.6666666666666666, \"#ed7953\"], [0.7777777777777778, \"#fb9f3a\"], [0.8888888888888888, \"#fdca26\"], [1.0, \"#f0f921\"]], \"type\": \"contour\"}], \"contourcarpet\": [{\"colorbar\": {\"outlinewidth\": 0, \"ticks\": \"\"}, \"type\": \"contourcarpet\"}], \"heatmap\": [{\"colorbar\": {\"outlinewidth\": 0, \"ticks\": \"\"}, \"colorscale\": [[0.0, \"#0d0887\"], [0.1111111111111111, \"#46039f\"], [0.2222222222222222, \"#7201a8\"], [0.3333333333333333, \"#9c179e\"], [0.4444444444444444, \"#bd3786\"], [0.5555555555555556, \"#d8576b\"], [0.6666666666666666, \"#ed7953\"], [0.7777777777777778, \"#fb9f3a\"], [0.8888888888888888, \"#fdca26\"], [1.0, \"#f0f921\"]], \"type\": \"heatmap\"}], \"heatmapgl\": [{\"colorbar\": {\"outlinewidth\": 0, \"ticks\": \"\"}, \"colorscale\": [[0.0, \"#0d0887\"], [0.1111111111111111, \"#46039f\"], [0.2222222222222222, \"#7201a8\"], [0.3333333333333333, \"#9c179e\"], [0.4444444444444444, \"#bd3786\"], [0.5555555555555556, \"#d8576b\"], [0.6666666666666666, \"#ed7953\"], [0.7777777777777778, \"#fb9f3a\"], [0.8888888888888888, \"#fdca26\"], [1.0, \"#f0f921\"]], \"type\": \"heatmapgl\"}], \"histogram\": [{\"marker\": {\"colorbar\": {\"outlinewidth\": 0, \"ticks\": \"\"}}, \"type\": \"histogram\"}], \"histogram2d\": [{\"colorbar\": {\"outlinewidth\": 0, \"ticks\": \"\"}, \"colorscale\": [[0.0, \"#0d0887\"], [0.1111111111111111, \"#46039f\"], [0.2222222222222222, \"#7201a8\"], [0.3333333333333333, \"#9c179e\"], [0.4444444444444444, \"#bd3786\"], [0.5555555555555556, \"#d8576b\"], [0.6666666666666666, \"#ed7953\"], [0.7777777777777778, \"#fb9f3a\"], [0.8888888888888888, \"#fdca26\"], [1.0, \"#f0f921\"]], \"type\": \"histogram2d\"}], \"histogram2dcontour\": [{\"colorbar\": {\"outlinewidth\": 0, \"ticks\": \"\"}, \"colorscale\": [[0.0, \"#0d0887\"], [0.1111111111111111, \"#46039f\"], [0.2222222222222222, \"#7201a8\"], [0.3333333333333333, \"#9c179e\"], [0.4444444444444444, \"#bd3786\"], [0.5555555555555556, \"#d8576b\"], [0.6666666666666666, \"#ed7953\"], [0.7777777777777778, \"#fb9f3a\"], [0.8888888888888888, \"#fdca26\"], [1.0, \"#f0f921\"]], \"type\": \"histogram2dcontour\"}], \"mesh3d\": [{\"colorbar\": {\"outlinewidth\": 0, \"ticks\": \"\"}, \"type\": \"mesh3d\"}], \"parcoords\": [{\"line\": {\"colorbar\": {\"outlinewidth\": 0, \"ticks\": \"\"}}, \"type\": \"parcoords\"}], \"pie\": [{\"automargin\": true, \"type\": \"pie\"}], \"scatter\": [{\"marker\": {\"colorbar\": {\"outlinewidth\": 0, \"ticks\": \"\"}}, \"type\": \"scatter\"}], \"scatter3d\": [{\"line\": {\"colorbar\": {\"outlinewidth\": 0, \"ticks\": \"\"}}, \"marker\": {\"colorbar\": {\"outlinewidth\": 0, \"ticks\": \"\"}}, \"type\": \"scatter3d\"}], \"scattercarpet\": [{\"marker\": {\"colorbar\": {\"outlinewidth\": 0, \"ticks\": \"\"}}, \"type\": \"scattercarpet\"}], \"scattergeo\": [{\"marker\": {\"colorbar\": {\"outlinewidth\": 0, \"ticks\": \"\"}}, \"type\": \"scattergeo\"}], \"scattergl\": [{\"marker\": {\"colorbar\": {\"outlinewidth\": 0, \"ticks\": \"\"}}, \"type\": \"scattergl\"}], \"scattermapbox\": [{\"marker\": {\"colorbar\": {\"outlinewidth\": 0, \"ticks\": \"\"}}, \"type\": \"scattermapbox\"}], \"scatterpolar\": [{\"marker\": {\"colorbar\": {\"outlinewidth\": 0, \"ticks\": \"\"}}, \"type\": \"scatterpolar\"}], \"scatterpolargl\": [{\"marker\": {\"colorbar\": {\"outlinewidth\": 0, \"ticks\": \"\"}}, \"type\": \"scatterpolargl\"}], \"scatterternary\": [{\"marker\": {\"colorbar\": {\"outlinewidth\": 0, \"ticks\": \"\"}}, \"type\": \"scatterternary\"}], \"surface\": [{\"colorbar\": {\"outlinewidth\": 0, \"ticks\": \"\"}, \"colorscale\": [[0.0, \"#0d0887\"], [0.1111111111111111, \"#46039f\"], [0.2222222222222222, \"#7201a8\"], [0.3333333333333333, \"#9c179e\"], [0.4444444444444444, \"#bd3786\"], [0.5555555555555556, \"#d8576b\"], [0.6666666666666666, \"#ed7953\"], [0.7777777777777778, \"#fb9f3a\"], [0.8888888888888888, \"#fdca26\"], [1.0, \"#f0f921\"]], \"type\": \"surface\"}], \"table\": [{\"cells\": {\"fill\": {\"color\": \"#EBF0F8\"}, \"line\": {\"color\": \"white\"}}, \"header\": {\"fill\": {\"color\": \"#C8D4E3\"}, \"line\": {\"color\": \"white\"}}, \"type\": \"table\"}]}, \"layout\": {\"annotationdefaults\": {\"arrowcolor\": \"#2a3f5f\", \"arrowhead\": 0, \"arrowwidth\": 1}, \"coloraxis\": {\"colorbar\": {\"outlinewidth\": 0, \"ticks\": \"\"}}, \"colorscale\": {\"diverging\": [[0, \"#8e0152\"], [0.1, \"#c51b7d\"], [0.2, \"#de77ae\"], [0.3, \"#f1b6da\"], [0.4, \"#fde0ef\"], [0.5, \"#f7f7f7\"], [0.6, \"#e6f5d0\"], [0.7, \"#b8e186\"], [0.8, \"#7fbc41\"], [0.9, \"#4d9221\"], [1, \"#276419\"]], \"sequential\": [[0.0, \"#0d0887\"], [0.1111111111111111, \"#46039f\"], [0.2222222222222222, \"#7201a8\"], [0.3333333333333333, \"#9c179e\"], [0.4444444444444444, \"#bd3786\"], [0.5555555555555556, \"#d8576b\"], [0.6666666666666666, \"#ed7953\"], [0.7777777777777778, \"#fb9f3a\"], [0.8888888888888888, \"#fdca26\"], [1.0, \"#f0f921\"]], \"sequentialminus\": [[0.0, \"#0d0887\"], [0.1111111111111111, \"#46039f\"], [0.2222222222222222, \"#7201a8\"], [0.3333333333333333, \"#9c179e\"], [0.4444444444444444, \"#bd3786\"], [0.5555555555555556, \"#d8576b\"], [0.6666666666666666, \"#ed7953\"], [0.7777777777777778, \"#fb9f3a\"], [0.8888888888888888, \"#fdca26\"], [1.0, \"#f0f921\"]]}, \"colorway\": [\"#636efa\", \"#EF553B\", \"#00cc96\", \"#ab63fa\", \"#FFA15A\", \"#19d3f3\", \"#FF6692\", \"#B6E880\", \"#FF97FF\", \"#FECB52\"], \"font\": {\"color\": \"#2a3f5f\"}, \"geo\": {\"bgcolor\": \"white\", \"lakecolor\": \"white\", \"landcolor\": \"#E5ECF6\", \"showlakes\": true, \"showland\": true, \"subunitcolor\": \"white\"}, \"hoverlabel\": {\"align\": \"left\"}, \"hovermode\": \"closest\", \"mapbox\": {\"style\": \"light\"}, \"paper_bgcolor\": \"white\", \"plot_bgcolor\": \"#E5ECF6\", \"polar\": {\"angularaxis\": {\"gridcolor\": \"white\", \"linecolor\": \"white\", \"ticks\": \"\"}, \"bgcolor\": \"#E5ECF6\", \"radialaxis\": {\"gridcolor\": \"white\", \"linecolor\": \"white\", \"ticks\": \"\"}}, \"scene\": {\"xaxis\": {\"backgroundcolor\": \"#E5ECF6\", \"gridcolor\": \"white\", \"gridwidth\": 2, \"linecolor\": \"white\", \"showbackground\": true, \"ticks\": \"\", \"zerolinecolor\": \"white\"}, \"yaxis\": {\"backgroundcolor\": \"#E5ECF6\", \"gridcolor\": \"white\", \"gridwidth\": 2, \"linecolor\": \"white\", \"showbackground\": true, \"ticks\": \"\", \"zerolinecolor\": \"white\"}, \"zaxis\": {\"backgroundcolor\": \"#E5ECF6\", \"gridcolor\": \"white\", \"gridwidth\": 2, \"linecolor\": \"white\", \"showbackground\": true, \"ticks\": \"\", \"zerolinecolor\": \"white\"}}, \"shapedefaults\": {\"line\": {\"color\": \"#2a3f5f\"}}, \"ternary\": {\"aaxis\": {\"gridcolor\": \"white\", \"linecolor\": \"white\", \"ticks\": \"\"}, \"baxis\": {\"gridcolor\": \"white\", \"linecolor\": \"white\", \"ticks\": \"\"}, \"bgcolor\": \"#E5ECF6\", \"caxis\": {\"gridcolor\": \"white\", \"linecolor\": \"white\", \"ticks\": \"\"}}, \"title\": {\"x\": 0.05}, \"xaxis\": {\"automargin\": true, \"gridcolor\": \"white\", \"linecolor\": \"white\", \"ticks\": \"\", \"title\": {\"standoff\": 15}, \"zerolinecolor\": \"white\", \"zerolinewidth\": 2}, \"yaxis\": {\"automargin\": true, \"gridcolor\": \"white\", \"linecolor\": \"white\", \"ticks\": \"\", \"title\": {\"standoff\": 15}, \"zerolinecolor\": \"white\", \"zerolinewidth\": 2}}}, \"title\": {\"text\": \"Wheelbase vs. Track Width vs. Laptime \\u2014 All-in-One (w.d. = 50%F)\"}, \"xaxis\": {\"title\": {\"text\": \"Track Width [in]\"}}, \"yaxis\": {\"title\": {\"text\": \"Wheelbase [in]\"}}},\n",
       "                        {\"responsive\": true}\n",
       "                    ).then(function(){\n",
       "                            \n",
       "var gd = document.getElementById('43cdf0e6-8516-443b-92b9-3c3dd905d42b');\n",
       "var x = new MutationObserver(function (mutations, observer) {{\n",
       "        var display = window.getComputedStyle(gd).display;\n",
       "        if (!display || display === 'none') {{\n",
       "            console.log([gd, 'removed!']);\n",
       "            Plotly.purge(gd);\n",
       "            observer.disconnect();\n",
       "        }}\n",
       "}});\n",
       "\n",
       "// Listen for the removal of the full notebook cells\n",
       "var notebookContainer = gd.closest('#notebook-container');\n",
       "if (notebookContainer) {{\n",
       "    x.observe(notebookContainer, {childList: true});\n",
       "}}\n",
       "\n",
       "// Listen for the clearing of the current output cell\n",
       "var outputEl = gd.closest('.output');\n",
       "if (outputEl) {{\n",
       "    x.observe(outputEl, {childList: true});\n",
       "}}\n",
       "\n",
       "                        })\n",
       "                };\n",
       "                });\n",
       "            </script>\n",
       "        </div>"
      ]
     },
     "metadata": {},
     "output_type": "display_data"
    }
   ],
   "source": [
    "\n",
    "name = \"All-in-One\"\n",
    "fig = show_laptimes(7, name)\n",
    "fig.write_image(\"{}.png\".format(name), width=1000, height=500)\n",
    "fig.show()\n"
   ]
  },
  {
   "cell_type": "code",
   "execution_count": null,
   "metadata": {},
   "outputs": [],
   "source": []
  }
 ],
 "metadata": {
  "kernelspec": {
   "display_name": "Python 3",
   "language": "python",
   "name": "python3"
  },
  "language_info": {
   "codemirror_mode": {
    "name": "ipython",
    "version": 3
   },
   "file_extension": ".py",
   "mimetype": "text/x-python",
   "name": "python",
   "nbconvert_exporter": "python",
   "pygments_lexer": "ipython3",
   "version": "3.7.5"
  }
 },
 "nbformat": 4,
 "nbformat_minor": 2
}
