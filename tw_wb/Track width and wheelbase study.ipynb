{
 "cells": [
  {
   "cell_type": "markdown",
   "metadata": {},
   "source": [
    "# Track width a wheelbase study\n",
    "### Dave Yonkers, June 2020"
   ]
  },
  {
   "cell_type": "markdown",
   "metadata": {},
   "source": [
    "## Aero:"
   ]
  },
  {
   "cell_type": "code",
   "execution_count": 55,
   "metadata": {},
   "outputs": [
    {
     "data": {
      "text/html": [
       "<div>\n",
       "<style scoped>\n",
       "    .dataframe tbody tr th:only-of-type {\n",
       "        vertical-align: middle;\n",
       "    }\n",
       "\n",
       "    .dataframe tbody tr th {\n",
       "        vertical-align: top;\n",
       "    }\n",
       "\n",
       "    .dataframe thead th {\n",
       "        text-align: right;\n",
       "    }\n",
       "</style>\n",
       "<table border=\"1\" class=\"dataframe\">\n",
       "  <thead>\n",
       "    <tr style=\"text-align: right;\">\n",
       "      <th></th>\n",
       "      <th>downforce</th>\n",
       "      <th>drag</th>\n",
       "      <th>fw_downforce</th>\n",
       "      <th>fw_drag</th>\n",
       "      <th>tray_downforce</th>\n",
       "      <th>tray_drag</th>\n",
       "      <th>rw_downforce</th>\n",
       "      <th>rw_drag</th>\n",
       "      <th>abal</th>\n",
       "    </tr>\n",
       "    <tr>\n",
       "      <th>track_width</th>\n",
       "      <th></th>\n",
       "      <th></th>\n",
       "      <th></th>\n",
       "      <th></th>\n",
       "      <th></th>\n",
       "      <th></th>\n",
       "      <th></th>\n",
       "      <th></th>\n",
       "      <th></th>\n",
       "    </tr>\n",
       "  </thead>\n",
       "  <tbody>\n",
       "    <tr>\n",
       "      <th>45</th>\n",
       "      <td>223</td>\n",
       "      <td>90.0</td>\n",
       "      <td>48.0</td>\n",
       "      <td>8.6</td>\n",
       "      <td>78.0</td>\n",
       "      <td>29.5</td>\n",
       "      <td>89.0</td>\n",
       "      <td>35.5</td>\n",
       "      <td>0.33</td>\n",
       "    </tr>\n",
       "    <tr>\n",
       "      <th>46</th>\n",
       "      <td>233</td>\n",
       "      <td>93.6</td>\n",
       "      <td>50.3</td>\n",
       "      <td>9.0</td>\n",
       "      <td>94.4</td>\n",
       "      <td>30.5</td>\n",
       "      <td>96.0</td>\n",
       "      <td>35.0</td>\n",
       "      <td>0.32</td>\n",
       "    </tr>\n",
       "    <tr>\n",
       "      <th>47</th>\n",
       "      <td>229</td>\n",
       "      <td>92.5</td>\n",
       "      <td>49.8</td>\n",
       "      <td>8.8</td>\n",
       "      <td>93.0</td>\n",
       "      <td>28.7</td>\n",
       "      <td>95.5</td>\n",
       "      <td>38.5</td>\n",
       "      <td>0.30</td>\n",
       "    </tr>\n",
       "    <tr>\n",
       "      <th>48</th>\n",
       "      <td>257</td>\n",
       "      <td>95.5</td>\n",
       "      <td>56.8</td>\n",
       "      <td>9.9</td>\n",
       "      <td>108.0</td>\n",
       "      <td>30.0</td>\n",
       "      <td>99.3</td>\n",
       "      <td>40.3</td>\n",
       "      <td>0.36</td>\n",
       "    </tr>\n",
       "    <tr>\n",
       "      <th>49</th>\n",
       "      <td>268</td>\n",
       "      <td>95.8</td>\n",
       "      <td>59.5</td>\n",
       "      <td>10.1</td>\n",
       "      <td>114.0</td>\n",
       "      <td>28.4</td>\n",
       "      <td>102.0</td>\n",
       "      <td>41.0</td>\n",
       "      <td>0.37</td>\n",
       "    </tr>\n",
       "    <tr>\n",
       "      <th>50</th>\n",
       "      <td>285</td>\n",
       "      <td>100.0</td>\n",
       "      <td>65.8</td>\n",
       "      <td>10.9</td>\n",
       "      <td>120.0</td>\n",
       "      <td>30.0</td>\n",
       "      <td>108.5</td>\n",
       "      <td>43.5</td>\n",
       "      <td>0.37</td>\n",
       "    </tr>\n",
       "  </tbody>\n",
       "</table>\n",
       "</div>"
      ],
      "text/plain": [
       "             downforce   drag  fw_downforce  fw_drag  tray_downforce  \\\n",
       "track_width                                                            \n",
       "45                 223   90.0          48.0      8.6            78.0   \n",
       "46                 233   93.6          50.3      9.0            94.4   \n",
       "47                 229   92.5          49.8      8.8            93.0   \n",
       "48                 257   95.5          56.8      9.9           108.0   \n",
       "49                 268   95.8          59.5     10.1           114.0   \n",
       "50                 285  100.0          65.8     10.9           120.0   \n",
       "\n",
       "             tray_drag  rw_downforce  rw_drag  abal  \n",
       "track_width                                          \n",
       "45                29.5          89.0     35.5  0.33  \n",
       "46                30.5          96.0     35.0  0.32  \n",
       "47                28.7          95.5     38.5  0.30  \n",
       "48                30.0          99.3     40.3  0.36  \n",
       "49                28.4         102.0     41.0  0.37  \n",
       "50                30.0         108.5     43.5  0.37  "
      ]
     },
     "execution_count": 55,
     "metadata": {},
     "output_type": "execute_result"
    }
   ],
   "source": [
    "import numpy as np\n",
    "import pandas as pd\n",
    "\n",
    "# data from James' sims\n",
    "data = [[45, 223,   90,   48,  8.6,   78, 29.5,    89, 35.5, 0.33],\n",
    "        [46, 233, 93.6, 50.3,    9, 94.4, 30.5,    96,   35, 0.32],\n",
    "        [47, 229, 92.5, 49.8,  8.8,   93, 28.7,  95.5, 38.5, 0.30],\n",
    "        [48, 257, 95.5, 56.8,  9.9,  108,   30,  99.3, 40.3, 0.36],\n",
    "        [49, 268, 95.8, 59.5, 10.1,  114, 28.4,   102,   41, 0.37],\n",
    "        [50, 285,  100, 65.8, 10.9,  120,   30, 108.5, 43.5, 0.37]]\n",
    "aero_df = pd.DataFrame(data)\n",
    "aero_df.columns = [\"track_width\", \"downforce\", \"drag\", \"fw_downforce\", \"fw_drag\", \"tray_downforce\", \"tray_drag\", \"rw_downforce\", \"rw_drag\", \"abal\"]\n",
    "aero_df.set_index(\"track_width\", inplace=True)\n",
    "\n",
    "# show the dataframe below\n",
    "aero_df"
   ]
  },
  {
   "cell_type": "markdown",
   "metadata": {},
   "source": [
    "### Create a regression\n",
    "only use 45 & 50 inch track widths, since we know it should \"in theory\" scale linearly and those are the most accurate sims."
   ]
  },
  {
   "cell_type": "code",
   "execution_count": 56,
   "metadata": {},
   "outputs": [],
   "source": [
    "# generate a polynomial and a function to predict y-values\n",
    "coefs = np.polyfit([45, 50], [aero_df[\"downforce\"][45], aero_df[\"downforce\"][50]], deg=1)\n",
    "downforce_function = np.poly1d(coefs)\n",
    "\n",
    "# now for drag\n",
    "coefs = np.polyfit([45, 50], [aero_df[\"drag\"][45], aero_df[\"drag\"][50]], deg=1)\n",
    "drag_function = np.poly1d(coefs)\n",
    "\n",
    "aero_df[\"pred_downforce\"] = downforce_function(aero_df.index)\n",
    "aero_df[\"pred_drag\"] = drag_function(aero_df.index)"
   ]
  },
  {
   "cell_type": "code",
   "execution_count": 57,
   "metadata": {},
   "outputs": [
    {
     "data": {
      "application/vnd.plotly.v1+json": {
       "config": {
        "plotlyServerURL": "https://plot.ly"
       },
       "data": [
        {
         "mode": "markers",
         "name": "CFD downforce",
         "type": "scattergl",
         "x": [
          45,
          46,
          47,
          48,
          49,
          50
         ],
         "xaxis": "x",
         "y": [
          223,
          233,
          229,
          257,
          268,
          285
         ],
         "yaxis": "y"
        },
        {
         "mode": "markers",
         "name": "CFD drag",
         "type": "scattergl",
         "x": [
          45,
          46,
          47,
          48,
          49,
          50
         ],
         "xaxis": "x2",
         "y": [
          90,
          93.6,
          92.5,
          95.5,
          95.8,
          100
         ],
         "yaxis": "y2"
        },
        {
         "mode": "lines",
         "name": "downforce regression",
         "type": "scattergl",
         "x": [
          45,
          46,
          47,
          48,
          49,
          50
         ],
         "xaxis": "x",
         "y": [
          222.99999999999994,
          235.39999999999992,
          247.7999999999999,
          260.1999999999999,
          272.59999999999985,
          284.99999999999994
         ],
         "yaxis": "y"
        },
        {
         "mode": "lines",
         "name": "drag regression",
         "type": "scattergl",
         "x": [
          45,
          46,
          47,
          48,
          49,
          50
         ],
         "xaxis": "x2",
         "y": [
          89.99999999999999,
          91.99999999999999,
          93.99999999999999,
          95.99999999999997,
          97.99999999999997,
          99.99999999999997
         ],
         "yaxis": "y2"
        }
       ],
       "layout": {
        "annotations": [
         {
          "font": {
           "size": 16
          },
          "showarrow": false,
          "text": "Downforce vs Track Width",
          "x": 0.225,
          "xanchor": "center",
          "xref": "paper",
          "y": 1,
          "yanchor": "bottom",
          "yref": "paper"
         },
         {
          "font": {
           "size": 16
          },
          "showarrow": false,
          "text": "Drag vs Track Width",
          "x": 0.775,
          "xanchor": "center",
          "xref": "paper",
          "y": 1,
          "yanchor": "bottom",
          "yref": "paper"
         }
        ],
        "template": {
         "data": {
          "bar": [
           {
            "error_x": {
             "color": "#2a3f5f"
            },
            "error_y": {
             "color": "#2a3f5f"
            },
            "marker": {
             "line": {
              "color": "#E5ECF6",
              "width": 0.5
             }
            },
            "type": "bar"
           }
          ],
          "barpolar": [
           {
            "marker": {
             "line": {
              "color": "#E5ECF6",
              "width": 0.5
             }
            },
            "type": "barpolar"
           }
          ],
          "carpet": [
           {
            "aaxis": {
             "endlinecolor": "#2a3f5f",
             "gridcolor": "white",
             "linecolor": "white",
             "minorgridcolor": "white",
             "startlinecolor": "#2a3f5f"
            },
            "baxis": {
             "endlinecolor": "#2a3f5f",
             "gridcolor": "white",
             "linecolor": "white",
             "minorgridcolor": "white",
             "startlinecolor": "#2a3f5f"
            },
            "type": "carpet"
           }
          ],
          "choropleth": [
           {
            "colorbar": {
             "outlinewidth": 0,
             "ticks": ""
            },
            "type": "choropleth"
           }
          ],
          "contour": [
           {
            "colorbar": {
             "outlinewidth": 0,
             "ticks": ""
            },
            "colorscale": [
             [
              0,
              "#0d0887"
             ],
             [
              0.1111111111111111,
              "#46039f"
             ],
             [
              0.2222222222222222,
              "#7201a8"
             ],
             [
              0.3333333333333333,
              "#9c179e"
             ],
             [
              0.4444444444444444,
              "#bd3786"
             ],
             [
              0.5555555555555556,
              "#d8576b"
             ],
             [
              0.6666666666666666,
              "#ed7953"
             ],
             [
              0.7777777777777778,
              "#fb9f3a"
             ],
             [
              0.8888888888888888,
              "#fdca26"
             ],
             [
              1,
              "#f0f921"
             ]
            ],
            "type": "contour"
           }
          ],
          "contourcarpet": [
           {
            "colorbar": {
             "outlinewidth": 0,
             "ticks": ""
            },
            "type": "contourcarpet"
           }
          ],
          "heatmap": [
           {
            "colorbar": {
             "outlinewidth": 0,
             "ticks": ""
            },
            "colorscale": [
             [
              0,
              "#0d0887"
             ],
             [
              0.1111111111111111,
              "#46039f"
             ],
             [
              0.2222222222222222,
              "#7201a8"
             ],
             [
              0.3333333333333333,
              "#9c179e"
             ],
             [
              0.4444444444444444,
              "#bd3786"
             ],
             [
              0.5555555555555556,
              "#d8576b"
             ],
             [
              0.6666666666666666,
              "#ed7953"
             ],
             [
              0.7777777777777778,
              "#fb9f3a"
             ],
             [
              0.8888888888888888,
              "#fdca26"
             ],
             [
              1,
              "#f0f921"
             ]
            ],
            "type": "heatmap"
           }
          ],
          "heatmapgl": [
           {
            "colorbar": {
             "outlinewidth": 0,
             "ticks": ""
            },
            "colorscale": [
             [
              0,
              "#0d0887"
             ],
             [
              0.1111111111111111,
              "#46039f"
             ],
             [
              0.2222222222222222,
              "#7201a8"
             ],
             [
              0.3333333333333333,
              "#9c179e"
             ],
             [
              0.4444444444444444,
              "#bd3786"
             ],
             [
              0.5555555555555556,
              "#d8576b"
             ],
             [
              0.6666666666666666,
              "#ed7953"
             ],
             [
              0.7777777777777778,
              "#fb9f3a"
             ],
             [
              0.8888888888888888,
              "#fdca26"
             ],
             [
              1,
              "#f0f921"
             ]
            ],
            "type": "heatmapgl"
           }
          ],
          "histogram": [
           {
            "marker": {
             "colorbar": {
              "outlinewidth": 0,
              "ticks": ""
             }
            },
            "type": "histogram"
           }
          ],
          "histogram2d": [
           {
            "colorbar": {
             "outlinewidth": 0,
             "ticks": ""
            },
            "colorscale": [
             [
              0,
              "#0d0887"
             ],
             [
              0.1111111111111111,
              "#46039f"
             ],
             [
              0.2222222222222222,
              "#7201a8"
             ],
             [
              0.3333333333333333,
              "#9c179e"
             ],
             [
              0.4444444444444444,
              "#bd3786"
             ],
             [
              0.5555555555555556,
              "#d8576b"
             ],
             [
              0.6666666666666666,
              "#ed7953"
             ],
             [
              0.7777777777777778,
              "#fb9f3a"
             ],
             [
              0.8888888888888888,
              "#fdca26"
             ],
             [
              1,
              "#f0f921"
             ]
            ],
            "type": "histogram2d"
           }
          ],
          "histogram2dcontour": [
           {
            "colorbar": {
             "outlinewidth": 0,
             "ticks": ""
            },
            "colorscale": [
             [
              0,
              "#0d0887"
             ],
             [
              0.1111111111111111,
              "#46039f"
             ],
             [
              0.2222222222222222,
              "#7201a8"
             ],
             [
              0.3333333333333333,
              "#9c179e"
             ],
             [
              0.4444444444444444,
              "#bd3786"
             ],
             [
              0.5555555555555556,
              "#d8576b"
             ],
             [
              0.6666666666666666,
              "#ed7953"
             ],
             [
              0.7777777777777778,
              "#fb9f3a"
             ],
             [
              0.8888888888888888,
              "#fdca26"
             ],
             [
              1,
              "#f0f921"
             ]
            ],
            "type": "histogram2dcontour"
           }
          ],
          "mesh3d": [
           {
            "colorbar": {
             "outlinewidth": 0,
             "ticks": ""
            },
            "type": "mesh3d"
           }
          ],
          "parcoords": [
           {
            "line": {
             "colorbar": {
              "outlinewidth": 0,
              "ticks": ""
             }
            },
            "type": "parcoords"
           }
          ],
          "pie": [
           {
            "automargin": true,
            "type": "pie"
           }
          ],
          "scatter": [
           {
            "marker": {
             "colorbar": {
              "outlinewidth": 0,
              "ticks": ""
             }
            },
            "type": "scatter"
           }
          ],
          "scatter3d": [
           {
            "line": {
             "colorbar": {
              "outlinewidth": 0,
              "ticks": ""
             }
            },
            "marker": {
             "colorbar": {
              "outlinewidth": 0,
              "ticks": ""
             }
            },
            "type": "scatter3d"
           }
          ],
          "scattercarpet": [
           {
            "marker": {
             "colorbar": {
              "outlinewidth": 0,
              "ticks": ""
             }
            },
            "type": "scattercarpet"
           }
          ],
          "scattergeo": [
           {
            "marker": {
             "colorbar": {
              "outlinewidth": 0,
              "ticks": ""
             }
            },
            "type": "scattergeo"
           }
          ],
          "scattergl": [
           {
            "marker": {
             "colorbar": {
              "outlinewidth": 0,
              "ticks": ""
             }
            },
            "type": "scattergl"
           }
          ],
          "scattermapbox": [
           {
            "marker": {
             "colorbar": {
              "outlinewidth": 0,
              "ticks": ""
             }
            },
            "type": "scattermapbox"
           }
          ],
          "scatterpolar": [
           {
            "marker": {
             "colorbar": {
              "outlinewidth": 0,
              "ticks": ""
             }
            },
            "type": "scatterpolar"
           }
          ],
          "scatterpolargl": [
           {
            "marker": {
             "colorbar": {
              "outlinewidth": 0,
              "ticks": ""
             }
            },
            "type": "scatterpolargl"
           }
          ],
          "scatterternary": [
           {
            "marker": {
             "colorbar": {
              "outlinewidth": 0,
              "ticks": ""
             }
            },
            "type": "scatterternary"
           }
          ],
          "surface": [
           {
            "colorbar": {
             "outlinewidth": 0,
             "ticks": ""
            },
            "colorscale": [
             [
              0,
              "#0d0887"
             ],
             [
              0.1111111111111111,
              "#46039f"
             ],
             [
              0.2222222222222222,
              "#7201a8"
             ],
             [
              0.3333333333333333,
              "#9c179e"
             ],
             [
              0.4444444444444444,
              "#bd3786"
             ],
             [
              0.5555555555555556,
              "#d8576b"
             ],
             [
              0.6666666666666666,
              "#ed7953"
             ],
             [
              0.7777777777777778,
              "#fb9f3a"
             ],
             [
              0.8888888888888888,
              "#fdca26"
             ],
             [
              1,
              "#f0f921"
             ]
            ],
            "type": "surface"
           }
          ],
          "table": [
           {
            "cells": {
             "fill": {
              "color": "#EBF0F8"
             },
             "line": {
              "color": "white"
             }
            },
            "header": {
             "fill": {
              "color": "#C8D4E3"
             },
             "line": {
              "color": "white"
             }
            },
            "type": "table"
           }
          ]
         },
         "layout": {
          "annotationdefaults": {
           "arrowcolor": "#2a3f5f",
           "arrowhead": 0,
           "arrowwidth": 1
          },
          "coloraxis": {
           "colorbar": {
            "outlinewidth": 0,
            "ticks": ""
           }
          },
          "colorscale": {
           "diverging": [
            [
             0,
             "#8e0152"
            ],
            [
             0.1,
             "#c51b7d"
            ],
            [
             0.2,
             "#de77ae"
            ],
            [
             0.3,
             "#f1b6da"
            ],
            [
             0.4,
             "#fde0ef"
            ],
            [
             0.5,
             "#f7f7f7"
            ],
            [
             0.6,
             "#e6f5d0"
            ],
            [
             0.7,
             "#b8e186"
            ],
            [
             0.8,
             "#7fbc41"
            ],
            [
             0.9,
             "#4d9221"
            ],
            [
             1,
             "#276419"
            ]
           ],
           "sequential": [
            [
             0,
             "#0d0887"
            ],
            [
             0.1111111111111111,
             "#46039f"
            ],
            [
             0.2222222222222222,
             "#7201a8"
            ],
            [
             0.3333333333333333,
             "#9c179e"
            ],
            [
             0.4444444444444444,
             "#bd3786"
            ],
            [
             0.5555555555555556,
             "#d8576b"
            ],
            [
             0.6666666666666666,
             "#ed7953"
            ],
            [
             0.7777777777777778,
             "#fb9f3a"
            ],
            [
             0.8888888888888888,
             "#fdca26"
            ],
            [
             1,
             "#f0f921"
            ]
           ],
           "sequentialminus": [
            [
             0,
             "#0d0887"
            ],
            [
             0.1111111111111111,
             "#46039f"
            ],
            [
             0.2222222222222222,
             "#7201a8"
            ],
            [
             0.3333333333333333,
             "#9c179e"
            ],
            [
             0.4444444444444444,
             "#bd3786"
            ],
            [
             0.5555555555555556,
             "#d8576b"
            ],
            [
             0.6666666666666666,
             "#ed7953"
            ],
            [
             0.7777777777777778,
             "#fb9f3a"
            ],
            [
             0.8888888888888888,
             "#fdca26"
            ],
            [
             1,
             "#f0f921"
            ]
           ]
          },
          "colorway": [
           "#636efa",
           "#EF553B",
           "#00cc96",
           "#ab63fa",
           "#FFA15A",
           "#19d3f3",
           "#FF6692",
           "#B6E880",
           "#FF97FF",
           "#FECB52"
          ],
          "font": {
           "color": "#2a3f5f"
          },
          "geo": {
           "bgcolor": "white",
           "lakecolor": "white",
           "landcolor": "#E5ECF6",
           "showlakes": true,
           "showland": true,
           "subunitcolor": "white"
          },
          "hoverlabel": {
           "align": "left"
          },
          "hovermode": "closest",
          "mapbox": {
           "style": "light"
          },
          "paper_bgcolor": "white",
          "plot_bgcolor": "#E5ECF6",
          "polar": {
           "angularaxis": {
            "gridcolor": "white",
            "linecolor": "white",
            "ticks": ""
           },
           "bgcolor": "#E5ECF6",
           "radialaxis": {
            "gridcolor": "white",
            "linecolor": "white",
            "ticks": ""
           }
          },
          "scene": {
           "xaxis": {
            "backgroundcolor": "#E5ECF6",
            "gridcolor": "white",
            "gridwidth": 2,
            "linecolor": "white",
            "showbackground": true,
            "ticks": "",
            "zerolinecolor": "white"
           },
           "yaxis": {
            "backgroundcolor": "#E5ECF6",
            "gridcolor": "white",
            "gridwidth": 2,
            "linecolor": "white",
            "showbackground": true,
            "ticks": "",
            "zerolinecolor": "white"
           },
           "zaxis": {
            "backgroundcolor": "#E5ECF6",
            "gridcolor": "white",
            "gridwidth": 2,
            "linecolor": "white",
            "showbackground": true,
            "ticks": "",
            "zerolinecolor": "white"
           }
          },
          "shapedefaults": {
           "line": {
            "color": "#2a3f5f"
           }
          },
          "ternary": {
           "aaxis": {
            "gridcolor": "white",
            "linecolor": "white",
            "ticks": ""
           },
           "baxis": {
            "gridcolor": "white",
            "linecolor": "white",
            "ticks": ""
           },
           "bgcolor": "#E5ECF6",
           "caxis": {
            "gridcolor": "white",
            "linecolor": "white",
            "ticks": ""
           }
          },
          "title": {
           "x": 0.05
          },
          "xaxis": {
           "automargin": true,
           "gridcolor": "white",
           "linecolor": "white",
           "ticks": "",
           "title": {
            "standoff": 15
           },
           "zerolinecolor": "white",
           "zerolinewidth": 2
          },
          "yaxis": {
           "automargin": true,
           "gridcolor": "white",
           "linecolor": "white",
           "ticks": "",
           "title": {
            "standoff": 15
           },
           "zerolinecolor": "white",
           "zerolinewidth": 2
          }
         }
        },
        "xaxis": {
         "anchor": "y",
         "domain": [
          0,
          0.45
         ],
         "title": {
          "text": "Track Width"
         }
        },
        "xaxis2": {
         "anchor": "y2",
         "domain": [
          0.55,
          1
         ],
         "title": {
          "text": "Track Width"
         }
        },
        "yaxis": {
         "anchor": "x",
         "domain": [
          0,
          1
         ],
         "title": {
          "text": "Downforce (lbs)"
         }
        },
        "yaxis2": {
         "anchor": "x2",
         "domain": [
          0,
          1
         ],
         "title": {
          "text": "Drag (lbs)"
         }
        }
       }
      },
      "text/html": [
       "<div>\n",
       "        \n",
       "        \n",
       "            <div id=\"f5e46d9b-b7c3-430f-82a7-9da1ffd1ac3f\" class=\"plotly-graph-div\" style=\"height:525px; width:100%;\"></div>\n",
       "            <script type=\"text/javascript\">\n",
       "                require([\"plotly\"], function(Plotly) {\n",
       "                    window.PLOTLYENV=window.PLOTLYENV || {};\n",
       "                    \n",
       "                if (document.getElementById(\"f5e46d9b-b7c3-430f-82a7-9da1ffd1ac3f\")) {\n",
       "                    Plotly.newPlot(\n",
       "                        'f5e46d9b-b7c3-430f-82a7-9da1ffd1ac3f',\n",
       "                        [{\"mode\": \"markers\", \"name\": \"CFD downforce\", \"type\": \"scattergl\", \"x\": [45, 46, 47, 48, 49, 50], \"xaxis\": \"x\", \"y\": [223, 233, 229, 257, 268, 285], \"yaxis\": \"y\"}, {\"mode\": \"markers\", \"name\": \"CFD drag\", \"type\": \"scattergl\", \"x\": [45, 46, 47, 48, 49, 50], \"xaxis\": \"x2\", \"y\": [90.0, 93.6, 92.5, 95.5, 95.8, 100.0], \"yaxis\": \"y2\"}, {\"mode\": \"lines\", \"name\": \"downforce regression\", \"type\": \"scattergl\", \"x\": [45, 46, 47, 48, 49, 50], \"xaxis\": \"x\", \"y\": [222.99999999999994, 235.39999999999992, 247.7999999999999, 260.1999999999999, 272.59999999999985, 284.99999999999994], \"yaxis\": \"y\"}, {\"mode\": \"lines\", \"name\": \"drag regression\", \"type\": \"scattergl\", \"x\": [45, 46, 47, 48, 49, 50], \"xaxis\": \"x2\", \"y\": [89.99999999999999, 91.99999999999999, 93.99999999999999, 95.99999999999997, 97.99999999999997, 99.99999999999997], \"yaxis\": \"y2\"}],\n",
       "                        {\"annotations\": [{\"font\": {\"size\": 16}, \"showarrow\": false, \"text\": \"Downforce vs Track Width\", \"x\": 0.225, \"xanchor\": \"center\", \"xref\": \"paper\", \"y\": 1.0, \"yanchor\": \"bottom\", \"yref\": \"paper\"}, {\"font\": {\"size\": 16}, \"showarrow\": false, \"text\": \"Drag vs Track Width\", \"x\": 0.775, \"xanchor\": \"center\", \"xref\": \"paper\", \"y\": 1.0, \"yanchor\": \"bottom\", \"yref\": \"paper\"}], \"template\": {\"data\": {\"bar\": [{\"error_x\": {\"color\": \"#2a3f5f\"}, \"error_y\": {\"color\": \"#2a3f5f\"}, \"marker\": {\"line\": {\"color\": \"#E5ECF6\", \"width\": 0.5}}, \"type\": \"bar\"}], \"barpolar\": [{\"marker\": {\"line\": {\"color\": \"#E5ECF6\", \"width\": 0.5}}, \"type\": \"barpolar\"}], \"carpet\": [{\"aaxis\": {\"endlinecolor\": \"#2a3f5f\", \"gridcolor\": \"white\", \"linecolor\": \"white\", \"minorgridcolor\": \"white\", \"startlinecolor\": \"#2a3f5f\"}, \"baxis\": {\"endlinecolor\": \"#2a3f5f\", \"gridcolor\": \"white\", \"linecolor\": \"white\", \"minorgridcolor\": \"white\", \"startlinecolor\": \"#2a3f5f\"}, \"type\": \"carpet\"}], \"choropleth\": [{\"colorbar\": {\"outlinewidth\": 0, \"ticks\": \"\"}, \"type\": \"choropleth\"}], \"contour\": [{\"colorbar\": {\"outlinewidth\": 0, \"ticks\": \"\"}, \"colorscale\": [[0.0, \"#0d0887\"], [0.1111111111111111, \"#46039f\"], [0.2222222222222222, \"#7201a8\"], [0.3333333333333333, \"#9c179e\"], [0.4444444444444444, \"#bd3786\"], [0.5555555555555556, \"#d8576b\"], [0.6666666666666666, \"#ed7953\"], [0.7777777777777778, \"#fb9f3a\"], [0.8888888888888888, \"#fdca26\"], [1.0, \"#f0f921\"]], \"type\": \"contour\"}], \"contourcarpet\": [{\"colorbar\": {\"outlinewidth\": 0, \"ticks\": \"\"}, \"type\": \"contourcarpet\"}], \"heatmap\": [{\"colorbar\": {\"outlinewidth\": 0, \"ticks\": \"\"}, \"colorscale\": [[0.0, \"#0d0887\"], [0.1111111111111111, \"#46039f\"], [0.2222222222222222, \"#7201a8\"], [0.3333333333333333, \"#9c179e\"], [0.4444444444444444, \"#bd3786\"], [0.5555555555555556, \"#d8576b\"], [0.6666666666666666, \"#ed7953\"], [0.7777777777777778, \"#fb9f3a\"], [0.8888888888888888, \"#fdca26\"], [1.0, \"#f0f921\"]], \"type\": \"heatmap\"}], \"heatmapgl\": [{\"colorbar\": {\"outlinewidth\": 0, \"ticks\": \"\"}, \"colorscale\": [[0.0, \"#0d0887\"], [0.1111111111111111, \"#46039f\"], [0.2222222222222222, \"#7201a8\"], [0.3333333333333333, \"#9c179e\"], [0.4444444444444444, \"#bd3786\"], [0.5555555555555556, \"#d8576b\"], [0.6666666666666666, \"#ed7953\"], [0.7777777777777778, \"#fb9f3a\"], [0.8888888888888888, \"#fdca26\"], [1.0, \"#f0f921\"]], \"type\": \"heatmapgl\"}], \"histogram\": [{\"marker\": {\"colorbar\": {\"outlinewidth\": 0, \"ticks\": \"\"}}, \"type\": \"histogram\"}], \"histogram2d\": [{\"colorbar\": {\"outlinewidth\": 0, \"ticks\": \"\"}, \"colorscale\": [[0.0, \"#0d0887\"], [0.1111111111111111, \"#46039f\"], [0.2222222222222222, \"#7201a8\"], [0.3333333333333333, \"#9c179e\"], [0.4444444444444444, \"#bd3786\"], [0.5555555555555556, \"#d8576b\"], [0.6666666666666666, \"#ed7953\"], [0.7777777777777778, \"#fb9f3a\"], [0.8888888888888888, \"#fdca26\"], [1.0, \"#f0f921\"]], \"type\": \"histogram2d\"}], \"histogram2dcontour\": [{\"colorbar\": {\"outlinewidth\": 0, \"ticks\": \"\"}, \"colorscale\": [[0.0, \"#0d0887\"], [0.1111111111111111, \"#46039f\"], [0.2222222222222222, \"#7201a8\"], [0.3333333333333333, \"#9c179e\"], [0.4444444444444444, \"#bd3786\"], [0.5555555555555556, \"#d8576b\"], [0.6666666666666666, \"#ed7953\"], [0.7777777777777778, \"#fb9f3a\"], [0.8888888888888888, \"#fdca26\"], [1.0, \"#f0f921\"]], \"type\": \"histogram2dcontour\"}], \"mesh3d\": [{\"colorbar\": {\"outlinewidth\": 0, \"ticks\": \"\"}, \"type\": \"mesh3d\"}], \"parcoords\": [{\"line\": {\"colorbar\": {\"outlinewidth\": 0, \"ticks\": \"\"}}, \"type\": \"parcoords\"}], \"pie\": [{\"automargin\": true, \"type\": \"pie\"}], \"scatter\": [{\"marker\": {\"colorbar\": {\"outlinewidth\": 0, \"ticks\": \"\"}}, \"type\": \"scatter\"}], \"scatter3d\": [{\"line\": {\"colorbar\": {\"outlinewidth\": 0, \"ticks\": \"\"}}, \"marker\": {\"colorbar\": {\"outlinewidth\": 0, \"ticks\": \"\"}}, \"type\": \"scatter3d\"}], \"scattercarpet\": [{\"marker\": {\"colorbar\": {\"outlinewidth\": 0, \"ticks\": \"\"}}, \"type\": \"scattercarpet\"}], \"scattergeo\": [{\"marker\": {\"colorbar\": {\"outlinewidth\": 0, \"ticks\": \"\"}}, \"type\": \"scattergeo\"}], \"scattergl\": [{\"marker\": {\"colorbar\": {\"outlinewidth\": 0, \"ticks\": \"\"}}, \"type\": \"scattergl\"}], \"scattermapbox\": [{\"marker\": {\"colorbar\": {\"outlinewidth\": 0, \"ticks\": \"\"}}, \"type\": \"scattermapbox\"}], \"scatterpolar\": [{\"marker\": {\"colorbar\": {\"outlinewidth\": 0, \"ticks\": \"\"}}, \"type\": \"scatterpolar\"}], \"scatterpolargl\": [{\"marker\": {\"colorbar\": {\"outlinewidth\": 0, \"ticks\": \"\"}}, \"type\": \"scatterpolargl\"}], \"scatterternary\": [{\"marker\": {\"colorbar\": {\"outlinewidth\": 0, \"ticks\": \"\"}}, \"type\": \"scatterternary\"}], \"surface\": [{\"colorbar\": {\"outlinewidth\": 0, \"ticks\": \"\"}, \"colorscale\": [[0.0, \"#0d0887\"], [0.1111111111111111, \"#46039f\"], [0.2222222222222222, \"#7201a8\"], [0.3333333333333333, \"#9c179e\"], [0.4444444444444444, \"#bd3786\"], [0.5555555555555556, \"#d8576b\"], [0.6666666666666666, \"#ed7953\"], [0.7777777777777778, \"#fb9f3a\"], [0.8888888888888888, \"#fdca26\"], [1.0, \"#f0f921\"]], \"type\": \"surface\"}], \"table\": [{\"cells\": {\"fill\": {\"color\": \"#EBF0F8\"}, \"line\": {\"color\": \"white\"}}, \"header\": {\"fill\": {\"color\": \"#C8D4E3\"}, \"line\": {\"color\": \"white\"}}, \"type\": \"table\"}]}, \"layout\": {\"annotationdefaults\": {\"arrowcolor\": \"#2a3f5f\", \"arrowhead\": 0, \"arrowwidth\": 1}, \"coloraxis\": {\"colorbar\": {\"outlinewidth\": 0, \"ticks\": \"\"}}, \"colorscale\": {\"diverging\": [[0, \"#8e0152\"], [0.1, \"#c51b7d\"], [0.2, \"#de77ae\"], [0.3, \"#f1b6da\"], [0.4, \"#fde0ef\"], [0.5, \"#f7f7f7\"], [0.6, \"#e6f5d0\"], [0.7, \"#b8e186\"], [0.8, \"#7fbc41\"], [0.9, \"#4d9221\"], [1, \"#276419\"]], \"sequential\": [[0.0, \"#0d0887\"], [0.1111111111111111, \"#46039f\"], [0.2222222222222222, \"#7201a8\"], [0.3333333333333333, \"#9c179e\"], [0.4444444444444444, \"#bd3786\"], [0.5555555555555556, \"#d8576b\"], [0.6666666666666666, \"#ed7953\"], [0.7777777777777778, \"#fb9f3a\"], [0.8888888888888888, \"#fdca26\"], [1.0, \"#f0f921\"]], \"sequentialminus\": [[0.0, \"#0d0887\"], [0.1111111111111111, \"#46039f\"], [0.2222222222222222, \"#7201a8\"], [0.3333333333333333, \"#9c179e\"], [0.4444444444444444, \"#bd3786\"], [0.5555555555555556, \"#d8576b\"], [0.6666666666666666, \"#ed7953\"], [0.7777777777777778, \"#fb9f3a\"], [0.8888888888888888, \"#fdca26\"], [1.0, \"#f0f921\"]]}, \"colorway\": [\"#636efa\", \"#EF553B\", \"#00cc96\", \"#ab63fa\", \"#FFA15A\", \"#19d3f3\", \"#FF6692\", \"#B6E880\", \"#FF97FF\", \"#FECB52\"], \"font\": {\"color\": \"#2a3f5f\"}, \"geo\": {\"bgcolor\": \"white\", \"lakecolor\": \"white\", \"landcolor\": \"#E5ECF6\", \"showlakes\": true, \"showland\": true, \"subunitcolor\": \"white\"}, \"hoverlabel\": {\"align\": \"left\"}, \"hovermode\": \"closest\", \"mapbox\": {\"style\": \"light\"}, \"paper_bgcolor\": \"white\", \"plot_bgcolor\": \"#E5ECF6\", \"polar\": {\"angularaxis\": {\"gridcolor\": \"white\", \"linecolor\": \"white\", \"ticks\": \"\"}, \"bgcolor\": \"#E5ECF6\", \"radialaxis\": {\"gridcolor\": \"white\", \"linecolor\": \"white\", \"ticks\": \"\"}}, \"scene\": {\"xaxis\": {\"backgroundcolor\": \"#E5ECF6\", \"gridcolor\": \"white\", \"gridwidth\": 2, \"linecolor\": \"white\", \"showbackground\": true, \"ticks\": \"\", \"zerolinecolor\": \"white\"}, \"yaxis\": {\"backgroundcolor\": \"#E5ECF6\", \"gridcolor\": \"white\", \"gridwidth\": 2, \"linecolor\": \"white\", \"showbackground\": true, \"ticks\": \"\", \"zerolinecolor\": \"white\"}, \"zaxis\": {\"backgroundcolor\": \"#E5ECF6\", \"gridcolor\": \"white\", \"gridwidth\": 2, \"linecolor\": \"white\", \"showbackground\": true, \"ticks\": \"\", \"zerolinecolor\": \"white\"}}, \"shapedefaults\": {\"line\": {\"color\": \"#2a3f5f\"}}, \"ternary\": {\"aaxis\": {\"gridcolor\": \"white\", \"linecolor\": \"white\", \"ticks\": \"\"}, \"baxis\": {\"gridcolor\": \"white\", \"linecolor\": \"white\", \"ticks\": \"\"}, \"bgcolor\": \"#E5ECF6\", \"caxis\": {\"gridcolor\": \"white\", \"linecolor\": \"white\", \"ticks\": \"\"}}, \"title\": {\"x\": 0.05}, \"xaxis\": {\"automargin\": true, \"gridcolor\": \"white\", \"linecolor\": \"white\", \"ticks\": \"\", \"title\": {\"standoff\": 15}, \"zerolinecolor\": \"white\", \"zerolinewidth\": 2}, \"yaxis\": {\"automargin\": true, \"gridcolor\": \"white\", \"linecolor\": \"white\", \"ticks\": \"\", \"title\": {\"standoff\": 15}, \"zerolinecolor\": \"white\", \"zerolinewidth\": 2}}}, \"xaxis\": {\"anchor\": \"y\", \"domain\": [0.0, 0.45], \"title\": {\"text\": \"Track Width\"}}, \"xaxis2\": {\"anchor\": \"y2\", \"domain\": [0.55, 1.0], \"title\": {\"text\": \"Track Width\"}}, \"yaxis\": {\"anchor\": \"x\", \"domain\": [0.0, 1.0], \"title\": {\"text\": \"Downforce (lbs)\"}}, \"yaxis2\": {\"anchor\": \"x2\", \"domain\": [0.0, 1.0], \"title\": {\"text\": \"Drag (lbs)\"}}},\n",
       "                        {\"responsive\": true}\n",
       "                    ).then(function(){\n",
       "                            \n",
       "var gd = document.getElementById('f5e46d9b-b7c3-430f-82a7-9da1ffd1ac3f');\n",
       "var x = new MutationObserver(function (mutations, observer) {{\n",
       "        var display = window.getComputedStyle(gd).display;\n",
       "        if (!display || display === 'none') {{\n",
       "            console.log([gd, 'removed!']);\n",
       "            Plotly.purge(gd);\n",
       "            observer.disconnect();\n",
       "        }}\n",
       "}});\n",
       "\n",
       "// Listen for the removal of the full notebook cells\n",
       "var notebookContainer = gd.closest('#notebook-container');\n",
       "if (notebookContainer) {{\n",
       "    x.observe(notebookContainer, {childList: true});\n",
       "}}\n",
       "\n",
       "// Listen for the clearing of the current output cell\n",
       "var outputEl = gd.closest('.output');\n",
       "if (outputEl) {{\n",
       "    x.observe(outputEl, {childList: true});\n",
       "}}\n",
       "\n",
       "                        })\n",
       "                };\n",
       "                });\n",
       "            </script>\n",
       "        </div>"
      ]
     },
     "metadata": {},
     "output_type": "display_data"
    }
   ],
   "source": [
    "import plotly.graph_objects as go\n",
    "from plotly.subplots import make_subplots\n",
    "\n",
    "# create subplots objects\n",
    "fig = make_subplots(rows=1, cols=2, subplot_titles=(\"Downforce vs Track Width\", \"Drag vs Track Width\"))\n",
    "\n",
    "# create the scatter traces to add\n",
    "downforce_trace = go.Scattergl(x=aero_df.index, y=aero_df[\"downforce\"], mode='markers', name=\"CFD downforce\")\n",
    "drag_trace = go.Scattergl(x=aero_df.index, y=aero_df[\"drag\"], mode='markers', name=\"CFD drag\")\n",
    "\n",
    "# create the line traces to add\n",
    "pred_downforce_trace = go.Scattergl(x=aero_df.index, y=aero_df[\"pred_downforce\"], mode='lines', name=\"downforce regression\")\n",
    "pred_drag_trace = go.Scattergl(x=aero_df.index, y=aero_df[\"pred_drag\"], mode='lines', name=\"drag regression\")\n",
    "\n",
    "# add the traces to the subplots\n",
    "fig.add_trace(downforce_trace, row=1, col=1)\n",
    "fig.add_trace(drag_trace, row=1, col=2)\n",
    "fig.add_trace(pred_downforce_trace, row=1, col=1)\n",
    "fig.add_trace(pred_drag_trace, row=1, col=2)\n",
    "\n",
    "# additional formatting\n",
    "fig.update_xaxes(title_text=\"Track Width\", row=1, col=1)\n",
    "fig.update_xaxes(title_text=\"Track Width\", row=1, col=2)\n",
    "fig.update_yaxes(title_text=\"Downforce (lbs)\", row=1, col=1)\n",
    "fig.update_yaxes(title_text=\"Drag (lbs)\", row=1, col=2)\n",
    "\n",
    "fig.show()"
   ]
  },
  {
   "cell_type": "code",
   "execution_count": 58,
   "metadata": {
    "scrolled": true
   },
   "outputs": [
    {
     "data": {
      "text/html": [
       "<div>\n",
       "<style scoped>\n",
       "    .dataframe tbody tr th:only-of-type {\n",
       "        vertical-align: middle;\n",
       "    }\n",
       "\n",
       "    .dataframe tbody tr th {\n",
       "        vertical-align: top;\n",
       "    }\n",
       "\n",
       "    .dataframe thead th {\n",
       "        text-align: right;\n",
       "    }\n",
       "</style>\n",
       "<table border=\"1\" class=\"dataframe\">\n",
       "  <thead>\n",
       "    <tr style=\"text-align: right;\">\n",
       "      <th></th>\n",
       "      <th>downforce</th>\n",
       "      <th>drag</th>\n",
       "      <th>fw_downforce</th>\n",
       "      <th>fw_drag</th>\n",
       "      <th>tray_downforce</th>\n",
       "      <th>tray_drag</th>\n",
       "      <th>rw_downforce</th>\n",
       "      <th>rw_drag</th>\n",
       "      <th>abal</th>\n",
       "      <th>pred_downforce</th>\n",
       "      <th>pred_drag</th>\n",
       "      <th>downforce_scale</th>\n",
       "      <th>drag_scale</th>\n",
       "    </tr>\n",
       "    <tr>\n",
       "      <th>track_width</th>\n",
       "      <th></th>\n",
       "      <th></th>\n",
       "      <th></th>\n",
       "      <th></th>\n",
       "      <th></th>\n",
       "      <th></th>\n",
       "      <th></th>\n",
       "      <th></th>\n",
       "      <th></th>\n",
       "      <th></th>\n",
       "      <th></th>\n",
       "      <th></th>\n",
       "      <th></th>\n",
       "    </tr>\n",
       "  </thead>\n",
       "  <tbody>\n",
       "    <tr>\n",
       "      <th>45</th>\n",
       "      <td>223</td>\n",
       "      <td>90.0</td>\n",
       "      <td>48.0</td>\n",
       "      <td>8.6</td>\n",
       "      <td>78.0</td>\n",
       "      <td>29.5</td>\n",
       "      <td>89.0</td>\n",
       "      <td>35.5</td>\n",
       "      <td>0.33</td>\n",
       "      <td>223.0</td>\n",
       "      <td>90.0</td>\n",
       "      <td>0.782456</td>\n",
       "      <td>0.900</td>\n",
       "    </tr>\n",
       "    <tr>\n",
       "      <th>46</th>\n",
       "      <td>233</td>\n",
       "      <td>93.6</td>\n",
       "      <td>50.3</td>\n",
       "      <td>9.0</td>\n",
       "      <td>94.4</td>\n",
       "      <td>30.5</td>\n",
       "      <td>96.0</td>\n",
       "      <td>35.0</td>\n",
       "      <td>0.32</td>\n",
       "      <td>235.4</td>\n",
       "      <td>92.0</td>\n",
       "      <td>0.817544</td>\n",
       "      <td>0.936</td>\n",
       "    </tr>\n",
       "    <tr>\n",
       "      <th>47</th>\n",
       "      <td>229</td>\n",
       "      <td>92.5</td>\n",
       "      <td>49.8</td>\n",
       "      <td>8.8</td>\n",
       "      <td>93.0</td>\n",
       "      <td>28.7</td>\n",
       "      <td>95.5</td>\n",
       "      <td>38.5</td>\n",
       "      <td>0.30</td>\n",
       "      <td>247.8</td>\n",
       "      <td>94.0</td>\n",
       "      <td>0.803509</td>\n",
       "      <td>0.925</td>\n",
       "    </tr>\n",
       "    <tr>\n",
       "      <th>48</th>\n",
       "      <td>257</td>\n",
       "      <td>95.5</td>\n",
       "      <td>56.8</td>\n",
       "      <td>9.9</td>\n",
       "      <td>108.0</td>\n",
       "      <td>30.0</td>\n",
       "      <td>99.3</td>\n",
       "      <td>40.3</td>\n",
       "      <td>0.36</td>\n",
       "      <td>260.2</td>\n",
       "      <td>96.0</td>\n",
       "      <td>0.901754</td>\n",
       "      <td>0.955</td>\n",
       "    </tr>\n",
       "    <tr>\n",
       "      <th>49</th>\n",
       "      <td>268</td>\n",
       "      <td>95.8</td>\n",
       "      <td>59.5</td>\n",
       "      <td>10.1</td>\n",
       "      <td>114.0</td>\n",
       "      <td>28.4</td>\n",
       "      <td>102.0</td>\n",
       "      <td>41.0</td>\n",
       "      <td>0.37</td>\n",
       "      <td>272.6</td>\n",
       "      <td>98.0</td>\n",
       "      <td>0.940351</td>\n",
       "      <td>0.958</td>\n",
       "    </tr>\n",
       "    <tr>\n",
       "      <th>50</th>\n",
       "      <td>285</td>\n",
       "      <td>100.0</td>\n",
       "      <td>65.8</td>\n",
       "      <td>10.9</td>\n",
       "      <td>120.0</td>\n",
       "      <td>30.0</td>\n",
       "      <td>108.5</td>\n",
       "      <td>43.5</td>\n",
       "      <td>0.37</td>\n",
       "      <td>285.0</td>\n",
       "      <td>100.0</td>\n",
       "      <td>1.000000</td>\n",
       "      <td>1.000</td>\n",
       "    </tr>\n",
       "  </tbody>\n",
       "</table>\n",
       "</div>"
      ],
      "text/plain": [
       "             downforce   drag  fw_downforce  fw_drag  tray_downforce  \\\n",
       "track_width                                                            \n",
       "45                 223   90.0          48.0      8.6            78.0   \n",
       "46                 233   93.6          50.3      9.0            94.4   \n",
       "47                 229   92.5          49.8      8.8            93.0   \n",
       "48                 257   95.5          56.8      9.9           108.0   \n",
       "49                 268   95.8          59.5     10.1           114.0   \n",
       "50                 285  100.0          65.8     10.9           120.0   \n",
       "\n",
       "             tray_drag  rw_downforce  rw_drag  abal  pred_downforce  \\\n",
       "track_width                                                           \n",
       "45                29.5          89.0     35.5  0.33           223.0   \n",
       "46                30.5          96.0     35.0  0.32           235.4   \n",
       "47                28.7          95.5     38.5  0.30           247.8   \n",
       "48                30.0          99.3     40.3  0.36           260.2   \n",
       "49                28.4         102.0     41.0  0.37           272.6   \n",
       "50                30.0         108.5     43.5  0.37           285.0   \n",
       "\n",
       "             pred_drag  downforce_scale  drag_scale  \n",
       "track_width                                          \n",
       "45                90.0         0.782456       0.900  \n",
       "46                92.0         0.817544       0.936  \n",
       "47                94.0         0.803509       0.925  \n",
       "48                96.0         0.901754       0.955  \n",
       "49                98.0         0.940351       0.958  \n",
       "50               100.0         1.000000       1.000  "
      ]
     },
     "execution_count": 58,
     "metadata": {},
     "output_type": "execute_result"
    }
   ],
   "source": [
    "# create scale factors and a regression to generate them along the lines shown above\n",
    "aero_df[\"downforce_scale\"] = aero_df[\"downforce\"] / aero_df[\"downforce\"][50]\n",
    "aero_df[\"drag_scale\"]      = aero_df[\"drag\"]      / aero_df[\"drag\"][50]\n",
    "\n",
    "# generate regressions for the 49 & 50 inch TWs\n",
    "coefs = np.polyfit([45, 50], [aero_df[\"downforce_scale\"][45], aero_df[\"downforce_scale\"][50]], deg=1)\n",
    "downforce_scale_factor = np.poly1d(coefs)\n",
    "\n",
    "# now for drag\n",
    "coefs = np.polyfit([45, 50], [aero_df[\"drag_scale\"][45], aero_df[\"drag_scale\"][50]], deg=1)\n",
    "drag_scale_factor = np.poly1d(coefs)\n",
    "\n",
    "aero_df"
   ]
  },
  {
   "cell_type": "markdown",
   "metadata": {},
   "source": [
    "## Aero weight"
   ]
  },
  {
   "cell_type": "code",
   "execution_count": 59,
   "metadata": {},
   "outputs": [],
   "source": [
    "# stuff that miko calculated for track width\n",
    "tw = [50, 49, 48, 47, 46, 45]\n",
    "weight = [39.087, 38.721, 38, 37.423, 36.985, 36.551]\n",
    "\n",
    "# calculate a linear regression and take the rate of change\n",
    "coefs = np.polyfit(tw, weight, deg=1)\n",
    "tw_aero_lbs_per_inch = coefs[0]"
   ]
  },
  {
   "cell_type": "markdown",
   "metadata": {},
   "source": [
    "## Suspension weight\n",
    "\n",
    "This number is the weight/lateral-inch of the suspension a-arms and tie-rods. If the track width increases/decreases, this is where the bulk of the extra weight will be in terms of suspension components"
   ]
  },
  {
   "cell_type": "code",
   "execution_count": 60,
   "metadata": {},
   "outputs": [],
   "source": [
    "tw_sus_lbs_per_inch = 2 * .08 + 2 * 0.076  # 2*front + 2*rear"
   ]
  },
  {
   "cell_type": "markdown",
   "metadata": {},
   "source": [
    "## Chassis weight\n",
    "The increased weight from wheelbase will come primarily from an increase of chassis length"
   ]
  },
  {
   "cell_type": "code",
   "execution_count": 61,
   "metadata": {},
   "outputs": [],
   "source": [
    "wb_chassis_lbs_per_inch = 45 / 80  # 45lbs straight out of the autoclave / 80in "
   ]
  },
  {
   "cell_type": "markdown",
   "metadata": {},
   "source": [
    "## Creating the runs array"
   ]
  },
  {
   "cell_type": "code",
   "execution_count": 62,
   "metadata": {},
   "outputs": [
    {
     "data": {
      "text/html": [
       "<div>\n",
       "<style scoped>\n",
       "    .dataframe tbody tr th:only-of-type {\n",
       "        vertical-align: middle;\n",
       "    }\n",
       "\n",
       "    .dataframe tbody tr th {\n",
       "        vertical-align: top;\n",
       "    }\n",
       "\n",
       "    .dataframe thead th {\n",
       "        text-align: right;\n",
       "    }\n",
       "</style>\n",
       "<table border=\"1\" class=\"dataframe\">\n",
       "  <thead>\n",
       "    <tr style=\"text-align: right;\">\n",
       "      <th></th>\n",
       "      <th>track_num</th>\n",
       "      <th>tw</th>\n",
       "      <th>wb</th>\n",
       "      <th>df_scale</th>\n",
       "      <th>drag_scale</th>\n",
       "      <th>fr_weight</th>\n",
       "      <th>fl_weight</th>\n",
       "      <th>rr_weight</th>\n",
       "      <th>rl_weight</th>\n",
       "    </tr>\n",
       "  </thead>\n",
       "  <tbody>\n",
       "    <tr>\n",
       "      <th>0</th>\n",
       "      <td>1</td>\n",
       "      <td>40</td>\n",
       "      <td>60.5</td>\n",
       "      <td>0.564912</td>\n",
       "      <td>0.8</td>\n",
       "      <td>88.590643</td>\n",
       "      <td>88.590643</td>\n",
       "      <td>206.711500</td>\n",
       "      <td>206.711500</td>\n",
       "    </tr>\n",
       "    <tr>\n",
       "      <th>1</th>\n",
       "      <td>1</td>\n",
       "      <td>40</td>\n",
       "      <td>60.5</td>\n",
       "      <td>0.564912</td>\n",
       "      <td>0.8</td>\n",
       "      <td>103.355750</td>\n",
       "      <td>103.355750</td>\n",
       "      <td>191.946393</td>\n",
       "      <td>191.946393</td>\n",
       "    </tr>\n",
       "    <tr>\n",
       "      <th>2</th>\n",
       "      <td>1</td>\n",
       "      <td>40</td>\n",
       "      <td>60.5</td>\n",
       "      <td>0.564912</td>\n",
       "      <td>0.8</td>\n",
       "      <td>118.120857</td>\n",
       "      <td>118.120857</td>\n",
       "      <td>177.181286</td>\n",
       "      <td>177.181286</td>\n",
       "    </tr>\n",
       "    <tr>\n",
       "      <th>3</th>\n",
       "      <td>1</td>\n",
       "      <td>40</td>\n",
       "      <td>60.5</td>\n",
       "      <td>0.564912</td>\n",
       "      <td>0.8</td>\n",
       "      <td>132.885964</td>\n",
       "      <td>132.885964</td>\n",
       "      <td>162.416179</td>\n",
       "      <td>162.416179</td>\n",
       "    </tr>\n",
       "    <tr>\n",
       "      <th>4</th>\n",
       "      <td>1</td>\n",
       "      <td>40</td>\n",
       "      <td>60.5</td>\n",
       "      <td>0.564912</td>\n",
       "      <td>0.8</td>\n",
       "      <td>147.651071</td>\n",
       "      <td>147.651071</td>\n",
       "      <td>147.651071</td>\n",
       "      <td>147.651071</td>\n",
       "    </tr>\n",
       "    <tr>\n",
       "      <th>...</th>\n",
       "      <td>...</td>\n",
       "      <td>...</td>\n",
       "      <td>...</td>\n",
       "      <td>...</td>\n",
       "      <td>...</td>\n",
       "      <td>...</td>\n",
       "      <td>...</td>\n",
       "      <td>...</td>\n",
       "      <td>...</td>\n",
       "    </tr>\n",
       "    <tr>\n",
       "      <th>21163</th>\n",
       "      <td>7</td>\n",
       "      <td>55</td>\n",
       "      <td>80.5</td>\n",
       "      <td>1.217544</td>\n",
       "      <td>1.1</td>\n",
       "      <td>153.611964</td>\n",
       "      <td>153.611964</td>\n",
       "      <td>153.611964</td>\n",
       "      <td>153.611964</td>\n",
       "    </tr>\n",
       "    <tr>\n",
       "      <th>21164</th>\n",
       "      <td>7</td>\n",
       "      <td>55</td>\n",
       "      <td>80.5</td>\n",
       "      <td>1.217544</td>\n",
       "      <td>1.1</td>\n",
       "      <td>168.973161</td>\n",
       "      <td>168.973161</td>\n",
       "      <td>138.250768</td>\n",
       "      <td>138.250768</td>\n",
       "    </tr>\n",
       "    <tr>\n",
       "      <th>21165</th>\n",
       "      <td>7</td>\n",
       "      <td>55</td>\n",
       "      <td>80.5</td>\n",
       "      <td>1.217544</td>\n",
       "      <td>1.1</td>\n",
       "      <td>184.334357</td>\n",
       "      <td>184.334357</td>\n",
       "      <td>122.889571</td>\n",
       "      <td>122.889571</td>\n",
       "    </tr>\n",
       "    <tr>\n",
       "      <th>21166</th>\n",
       "      <td>7</td>\n",
       "      <td>55</td>\n",
       "      <td>80.5</td>\n",
       "      <td>1.217544</td>\n",
       "      <td>1.1</td>\n",
       "      <td>199.695554</td>\n",
       "      <td>199.695554</td>\n",
       "      <td>107.528375</td>\n",
       "      <td>107.528375</td>\n",
       "    </tr>\n",
       "    <tr>\n",
       "      <th>21167</th>\n",
       "      <td>7</td>\n",
       "      <td>55</td>\n",
       "      <td>80.5</td>\n",
       "      <td>1.217544</td>\n",
       "      <td>1.1</td>\n",
       "      <td>215.056750</td>\n",
       "      <td>215.056750</td>\n",
       "      <td>92.167179</td>\n",
       "      <td>92.167179</td>\n",
       "    </tr>\n",
       "  </tbody>\n",
       "</table>\n",
       "<p>21168 rows × 9 columns</p>\n",
       "</div>"
      ],
      "text/plain": [
       "       track_num  tw    wb  df_scale  drag_scale   fr_weight   fl_weight  \\\n",
       "0              1  40  60.5  0.564912         0.8   88.590643   88.590643   \n",
       "1              1  40  60.5  0.564912         0.8  103.355750  103.355750   \n",
       "2              1  40  60.5  0.564912         0.8  118.120857  118.120857   \n",
       "3              1  40  60.5  0.564912         0.8  132.885964  132.885964   \n",
       "4              1  40  60.5  0.564912         0.8  147.651071  147.651071   \n",
       "...          ...  ..   ...       ...         ...         ...         ...   \n",
       "21163          7  55  80.5  1.217544         1.1  153.611964  153.611964   \n",
       "21164          7  55  80.5  1.217544         1.1  168.973161  168.973161   \n",
       "21165          7  55  80.5  1.217544         1.1  184.334357  184.334357   \n",
       "21166          7  55  80.5  1.217544         1.1  199.695554  199.695554   \n",
       "21167          7  55  80.5  1.217544         1.1  215.056750  215.056750   \n",
       "\n",
       "        rr_weight   rl_weight  \n",
       "0      206.711500  206.711500  \n",
       "1      191.946393  191.946393  \n",
       "2      177.181286  177.181286  \n",
       "3      162.416179  162.416179  \n",
       "4      147.651071  147.651071  \n",
       "...           ...         ...  \n",
       "21163  153.611964  153.611964  \n",
       "21164  138.250768  138.250768  \n",
       "21165  122.889571  122.889571  \n",
       "21166  107.528375  107.528375  \n",
       "21167   92.167179   92.167179  \n",
       "\n",
       "[21168 rows x 9 columns]"
      ]
     },
     "execution_count": 62,
     "metadata": {},
     "output_type": "execute_result"
    }
   ],
   "source": [
    "min_tw = 40\n",
    "max_tw = 55\n",
    "step_tw = 1\n",
    "tws = np.arange(min_tw, max_tw + step_tw, step_tw)\n",
    "\n",
    "min_wb = 60.5\n",
    "max_wb = 80.5\n",
    "step_wb = 1\n",
    "wbs = np.arange(min_wb, max_wb + step_wb, step_wb)\n",
    "\n",
    "num_tracks = 7  # indexed 1-7 b/c matlab...\n",
    "# 1 = accel\n",
    "# 2 = skidpad\n",
    "# 3 = autocross\n",
    "# 4 = slalom_min\n",
    "# 5 = slalom_med\n",
    "# 6 = slalom_max\n",
    "# 7 = all-in-one\n",
    "# 8 = endurance - not running at the moment\n",
    "\n",
    "baseline_vehicle_weight = 599  # lbs\n",
    "baseline_vehicle_tw = 50\n",
    "baseline_vehicle_wb = 60.5\n",
    "\n",
    "# weight distobution % front\n",
    "weight_dists = [0.30, 0.35, 0.40, 0.45, 0.5, 0.55, 0.60, 0.65, 0.70]\n",
    "\n",
    "# empty runs array\n",
    "runs = []\n",
    "\n",
    "for track in range(1, num_tracks + 1):\n",
    "    for tw in tws:\n",
    "        for wb in wbs:\n",
    "            for wd in weight_dists:\n",
    "            \n",
    "                # calculate the aero scale factors\n",
    "                downforce_scaler = downforce_scale_factor(tw)\n",
    "                drag_scaler = drag_scale_factor(tw)\n",
    "\n",
    "\n",
    "                # calcuate weight differences\n",
    "                tw_diff = tw - baseline_vehicle_tw\n",
    "                wb_diff = wb - baseline_vehicle_wb\n",
    "\n",
    "                weight_diff = 0\n",
    "                weight_diff += tw_diff * tw_sus_lbs_per_inch\n",
    "                weight_diff += tw_diff * tw_aero_lbs_per_inch\n",
    "                weight_diff += wb_diff * wb_chassis_lbs_per_inch\n",
    "                vehicle_weight = baseline_vehicle_weight + weight_diff\n",
    "                \n",
    "                # weight distrobution stuff\n",
    "                front_back_weight_split = vehicle_weight / 2\n",
    "                fr_weight = front_back_weight_split * wd\n",
    "                fl_weight = front_back_weight_split * wd\n",
    "                rr_weight = front_back_weight_split * (1.0 - wd)\n",
    "                rl_weight = front_back_weight_split * (1.0 - wd)\n",
    "\n",
    "                # create the run array\n",
    "                run_array = (track, tw, wb, downforce_scaler, drag_scaler, fr_weight, fl_weight, rr_weight, rl_weight)\n",
    "                runs.append(run_array)\n",
    "\n",
    "# turn the runs list into a dataframe\n",
    "runs_df = pd.DataFrame(runs)\n",
    "runs_df.columns = (\"track_num\", \"tw\", \"wb\", \"df_scale\", \"drag_scale\", \"fr_weight\", \"fl_weight\", \"rr_weight\", \"rl_weight\")\n",
    "runs_df"
   ]
  },
  {
   "cell_type": "code",
   "execution_count": 63,
   "metadata": {},
   "outputs": [],
   "source": [
    "# save the runs array as a csv!\n",
    "runs_df.to_csv(\"runs_insight.csv\")"
   ]
  },
  {
   "cell_type": "markdown",
   "metadata": {},
   "source": [
    "# Simulation Analysis"
   ]
  },
  {
   "cell_type": "code",
   "execution_count": 110,
   "metadata": {},
   "outputs": [
    {
     "data": {
      "text/html": [
       "<div>\n",
       "<style scoped>\n",
       "    .dataframe tbody tr th:only-of-type {\n",
       "        vertical-align: middle;\n",
       "    }\n",
       "\n",
       "    .dataframe tbody tr th {\n",
       "        vertical-align: top;\n",
       "    }\n",
       "\n",
       "    .dataframe thead th {\n",
       "        text-align: right;\n",
       "    }\n",
       "</style>\n",
       "<table border=\"1\" class=\"dataframe\">\n",
       "  <thead>\n",
       "    <tr style=\"text-align: right;\">\n",
       "      <th></th>\n",
       "      <th>track_num</th>\n",
       "      <th>tw</th>\n",
       "      <th>wb</th>\n",
       "      <th>df_scale</th>\n",
       "      <th>drag_scale</th>\n",
       "      <th>fr_weight</th>\n",
       "      <th>fl_weight</th>\n",
       "      <th>rr_weight</th>\n",
       "      <th>rl_weight</th>\n",
       "      <th>!laptime</th>\n",
       "      <th>...</th>\n",
       "      <th>slipaFR</th>\n",
       "      <th>slipaRL</th>\n",
       "      <th>slipaRR</th>\n",
       "      <th>sliprFL</th>\n",
       "      <th>sliprFR</th>\n",
       "      <th>sliprRL</th>\n",
       "      <th>sliprRR</th>\n",
       "      <th>speed</th>\n",
       "      <th>yawa</th>\n",
       "      <th>yawv</th>\n",
       "    </tr>\n",
       "  </thead>\n",
       "  <tbody>\n",
       "    <tr>\n",
       "      <th>0</th>\n",
       "      <td>1</td>\n",
       "      <td>40</td>\n",
       "      <td>60.5</td>\n",
       "      <td>0.564912</td>\n",
       "      <td>0.8</td>\n",
       "      <td>88.590643</td>\n",
       "      <td>88.590643</td>\n",
       "      <td>206.711500</td>\n",
       "      <td>206.711500</td>\n",
       "      <td>4.086</td>\n",
       "      <td>...</td>\n",
       "      <td>0.12721</td>\n",
       "      <td>0.13786</td>\n",
       "      <td>-0.009197</td>\n",
       "      <td>0.014902</td>\n",
       "      <td>0.014922</td>\n",
       "      <td>0.050309</td>\n",
       "      <td>0.050421</td>\n",
       "      <td>63.142</td>\n",
       "      <td>2.4664</td>\n",
       "      <td>0.000087</td>\n",
       "    </tr>\n",
       "    <tr>\n",
       "      <th>1</th>\n",
       "      <td>1</td>\n",
       "      <td>40</td>\n",
       "      <td>60.5</td>\n",
       "      <td>0.564912</td>\n",
       "      <td>0.8</td>\n",
       "      <td>103.355750</td>\n",
       "      <td>103.355750</td>\n",
       "      <td>191.946393</td>\n",
       "      <td>191.946393</td>\n",
       "      <td>4.086</td>\n",
       "      <td>...</td>\n",
       "      <td>0.12721</td>\n",
       "      <td>0.13786</td>\n",
       "      <td>-0.009197</td>\n",
       "      <td>0.014902</td>\n",
       "      <td>0.014922</td>\n",
       "      <td>0.050309</td>\n",
       "      <td>0.050421</td>\n",
       "      <td>63.142</td>\n",
       "      <td>2.4664</td>\n",
       "      <td>0.000087</td>\n",
       "    </tr>\n",
       "    <tr>\n",
       "      <th>2</th>\n",
       "      <td>1</td>\n",
       "      <td>40</td>\n",
       "      <td>60.5</td>\n",
       "      <td>0.564912</td>\n",
       "      <td>0.8</td>\n",
       "      <td>118.120857</td>\n",
       "      <td>118.120857</td>\n",
       "      <td>177.181286</td>\n",
       "      <td>177.181286</td>\n",
       "      <td>4.086</td>\n",
       "      <td>...</td>\n",
       "      <td>0.12721</td>\n",
       "      <td>0.13786</td>\n",
       "      <td>-0.009197</td>\n",
       "      <td>0.014902</td>\n",
       "      <td>0.014922</td>\n",
       "      <td>0.050309</td>\n",
       "      <td>0.050421</td>\n",
       "      <td>63.142</td>\n",
       "      <td>2.4664</td>\n",
       "      <td>0.000087</td>\n",
       "    </tr>\n",
       "    <tr>\n",
       "      <th>3</th>\n",
       "      <td>1</td>\n",
       "      <td>40</td>\n",
       "      <td>60.5</td>\n",
       "      <td>0.564912</td>\n",
       "      <td>0.8</td>\n",
       "      <td>132.885964</td>\n",
       "      <td>132.885964</td>\n",
       "      <td>162.416179</td>\n",
       "      <td>162.416179</td>\n",
       "      <td>4.086</td>\n",
       "      <td>...</td>\n",
       "      <td>0.12721</td>\n",
       "      <td>0.13786</td>\n",
       "      <td>-0.009197</td>\n",
       "      <td>0.014902</td>\n",
       "      <td>0.014922</td>\n",
       "      <td>0.050309</td>\n",
       "      <td>0.050421</td>\n",
       "      <td>63.142</td>\n",
       "      <td>2.4664</td>\n",
       "      <td>0.000087</td>\n",
       "    </tr>\n",
       "    <tr>\n",
       "      <th>4</th>\n",
       "      <td>1</td>\n",
       "      <td>40</td>\n",
       "      <td>60.5</td>\n",
       "      <td>0.564912</td>\n",
       "      <td>0.8</td>\n",
       "      <td>147.651071</td>\n",
       "      <td>147.651071</td>\n",
       "      <td>147.651071</td>\n",
       "      <td>147.651071</td>\n",
       "      <td>4.086</td>\n",
       "      <td>...</td>\n",
       "      <td>0.12721</td>\n",
       "      <td>0.13786</td>\n",
       "      <td>-0.009197</td>\n",
       "      <td>0.014902</td>\n",
       "      <td>0.014922</td>\n",
       "      <td>0.050309</td>\n",
       "      <td>0.050421</td>\n",
       "      <td>63.142</td>\n",
       "      <td>2.4664</td>\n",
       "      <td>0.000087</td>\n",
       "    </tr>\n",
       "  </tbody>\n",
       "</table>\n",
       "<p>5 rows × 39 columns</p>\n",
       "</div>"
      ],
      "text/plain": [
       "   track_num  tw    wb  df_scale  drag_scale   fr_weight   fl_weight  \\\n",
       "0          1  40  60.5  0.564912         0.8   88.590643   88.590643   \n",
       "1          1  40  60.5  0.564912         0.8  103.355750  103.355750   \n",
       "2          1  40  60.5  0.564912         0.8  118.120857  118.120857   \n",
       "3          1  40  60.5  0.564912         0.8  132.885964  132.885964   \n",
       "4          1  40  60.5  0.564912         0.8  147.651071  147.651071   \n",
       "\n",
       "    rr_weight   rl_weight  !laptime  ...  slipaFR  slipaRL   slipaRR  \\\n",
       "0  206.711500  206.711500     4.086  ...  0.12721  0.13786 -0.009197   \n",
       "1  191.946393  191.946393     4.086  ...  0.12721  0.13786 -0.009197   \n",
       "2  177.181286  177.181286     4.086  ...  0.12721  0.13786 -0.009197   \n",
       "3  162.416179  162.416179     4.086  ...  0.12721  0.13786 -0.009197   \n",
       "4  147.651071  147.651071     4.086  ...  0.12721  0.13786 -0.009197   \n",
       "\n",
       "    sliprFL   sliprFR   sliprRL   sliprRR   speed    yawa      yawv  \n",
       "0  0.014902  0.014922  0.050309  0.050421  63.142  2.4664  0.000087  \n",
       "1  0.014902  0.014922  0.050309  0.050421  63.142  2.4664  0.000087  \n",
       "2  0.014902  0.014922  0.050309  0.050421  63.142  2.4664  0.000087  \n",
       "3  0.014902  0.014922  0.050309  0.050421  63.142  2.4664  0.000087  \n",
       "4  0.014902  0.014922  0.050309  0.050421  63.142  2.4664  0.000087  \n",
       "\n",
       "[5 rows x 39 columns]"
      ]
     },
     "execution_count": 110,
     "metadata": {},
     "output_type": "execute_result"
    }
   ],
   "source": [
    "# the file path to the results csv file (may be different on your system)\n",
    "results_file_path = \"/Users/daveyonkers/Michigan State University/RSO-MSU Formula Racing Team - General/SR22 - Car XX/Systems/Simulation/working_dir/DOE/track_width_wheel_base/tw_wb_RESULTS.csv\"\n",
    "\n",
    "# load the results into a dataframe\n",
    "results_df= pd.read_csv(results_file_path)\n",
    "\n",
    "results_df.head()"
   ]
  },
  {
   "cell_type": "code",
   "execution_count": 111,
   "metadata": {},
   "outputs": [],
   "source": [
    "# Back-calculate the weight distrobution (%F)\n",
    "weight_dists = results_df_no_wd[\"fr_weight\"] / (results_df_no_wd[\"fr_weight\"] + results_df_no_wd[\"rr_weight\"])\n",
    "# add as a column to the results df\n",
    "results_df.insert(5, \"weight_dst\", weight_dists, True)"
   ]
  },
  {
   "cell_type": "markdown",
   "metadata": {},
   "source": [
    "### How many simulations did not solve properly?"
   ]
  },
  {
   "cell_type": "code",
   "execution_count": 112,
   "metadata": {
    "scrolled": true
   },
   "outputs": [
    {
     "data": {
      "text/html": [
       "<div>\n",
       "<style scoped>\n",
       "    .dataframe tbody tr th:only-of-type {\n",
       "        vertical-align: middle;\n",
       "    }\n",
       "\n",
       "    .dataframe tbody tr th {\n",
       "        vertical-align: top;\n",
       "    }\n",
       "\n",
       "    .dataframe thead th {\n",
       "        text-align: right;\n",
       "    }\n",
       "</style>\n",
       "<table border=\"1\" class=\"dataframe\">\n",
       "  <thead>\n",
       "    <tr style=\"text-align: right;\">\n",
       "      <th></th>\n",
       "      <th>track_num</th>\n",
       "      <th>tw</th>\n",
       "      <th>wb</th>\n",
       "      <th>df_scale</th>\n",
       "      <th>drag_scale</th>\n",
       "      <th>weight_dst</th>\n",
       "      <th>fr_weight</th>\n",
       "      <th>fl_weight</th>\n",
       "      <th>rr_weight</th>\n",
       "      <th>rl_weight</th>\n",
       "      <th>...</th>\n",
       "      <th>slipaFR</th>\n",
       "      <th>slipaRL</th>\n",
       "      <th>slipaRR</th>\n",
       "      <th>sliprFL</th>\n",
       "      <th>sliprFR</th>\n",
       "      <th>sliprRL</th>\n",
       "      <th>sliprRR</th>\n",
       "      <th>speed</th>\n",
       "      <th>yawa</th>\n",
       "      <th>yawv</th>\n",
       "    </tr>\n",
       "  </thead>\n",
       "  <tbody>\n",
       "    <tr>\n",
       "      <th>6048</th>\n",
       "      <td>3</td>\n",
       "      <td>40</td>\n",
       "      <td>60.5</td>\n",
       "      <td>0.564912</td>\n",
       "      <td>0.80</td>\n",
       "      <td>0.30</td>\n",
       "      <td>88.590643</td>\n",
       "      <td>88.590643</td>\n",
       "      <td>206.711500</td>\n",
       "      <td>206.711500</td>\n",
       "      <td>...</td>\n",
       "      <td>-999.9</td>\n",
       "      <td>-999.9</td>\n",
       "      <td>-999.9</td>\n",
       "      <td>-999.9</td>\n",
       "      <td>-999.9</td>\n",
       "      <td>-999.9</td>\n",
       "      <td>-999.9</td>\n",
       "      <td>-999.9</td>\n",
       "      <td>-999.9</td>\n",
       "      <td>-999.9</td>\n",
       "    </tr>\n",
       "    <tr>\n",
       "      <th>6049</th>\n",
       "      <td>3</td>\n",
       "      <td>40</td>\n",
       "      <td>60.5</td>\n",
       "      <td>0.564912</td>\n",
       "      <td>0.80</td>\n",
       "      <td>0.35</td>\n",
       "      <td>103.355750</td>\n",
       "      <td>103.355750</td>\n",
       "      <td>191.946393</td>\n",
       "      <td>191.946393</td>\n",
       "      <td>...</td>\n",
       "      <td>-999.9</td>\n",
       "      <td>-999.9</td>\n",
       "      <td>-999.9</td>\n",
       "      <td>-999.9</td>\n",
       "      <td>-999.9</td>\n",
       "      <td>-999.9</td>\n",
       "      <td>-999.9</td>\n",
       "      <td>-999.9</td>\n",
       "      <td>-999.9</td>\n",
       "      <td>-999.9</td>\n",
       "    </tr>\n",
       "    <tr>\n",
       "      <th>6050</th>\n",
       "      <td>3</td>\n",
       "      <td>40</td>\n",
       "      <td>60.5</td>\n",
       "      <td>0.564912</td>\n",
       "      <td>0.80</td>\n",
       "      <td>0.40</td>\n",
       "      <td>118.120857</td>\n",
       "      <td>118.120857</td>\n",
       "      <td>177.181286</td>\n",
       "      <td>177.181286</td>\n",
       "      <td>...</td>\n",
       "      <td>-999.9</td>\n",
       "      <td>-999.9</td>\n",
       "      <td>-999.9</td>\n",
       "      <td>-999.9</td>\n",
       "      <td>-999.9</td>\n",
       "      <td>-999.9</td>\n",
       "      <td>-999.9</td>\n",
       "      <td>-999.9</td>\n",
       "      <td>-999.9</td>\n",
       "      <td>-999.9</td>\n",
       "    </tr>\n",
       "    <tr>\n",
       "      <th>6051</th>\n",
       "      <td>3</td>\n",
       "      <td>40</td>\n",
       "      <td>60.5</td>\n",
       "      <td>0.564912</td>\n",
       "      <td>0.80</td>\n",
       "      <td>0.45</td>\n",
       "      <td>132.885964</td>\n",
       "      <td>132.885964</td>\n",
       "      <td>162.416179</td>\n",
       "      <td>162.416179</td>\n",
       "      <td>...</td>\n",
       "      <td>-999.9</td>\n",
       "      <td>-999.9</td>\n",
       "      <td>-999.9</td>\n",
       "      <td>-999.9</td>\n",
       "      <td>-999.9</td>\n",
       "      <td>-999.9</td>\n",
       "      <td>-999.9</td>\n",
       "      <td>-999.9</td>\n",
       "      <td>-999.9</td>\n",
       "      <td>-999.9</td>\n",
       "    </tr>\n",
       "    <tr>\n",
       "      <th>6052</th>\n",
       "      <td>3</td>\n",
       "      <td>40</td>\n",
       "      <td>60.5</td>\n",
       "      <td>0.564912</td>\n",
       "      <td>0.80</td>\n",
       "      <td>0.50</td>\n",
       "      <td>147.651071</td>\n",
       "      <td>147.651071</td>\n",
       "      <td>147.651071</td>\n",
       "      <td>147.651071</td>\n",
       "      <td>...</td>\n",
       "      <td>-999.9</td>\n",
       "      <td>-999.9</td>\n",
       "      <td>-999.9</td>\n",
       "      <td>-999.9</td>\n",
       "      <td>-999.9</td>\n",
       "      <td>-999.9</td>\n",
       "      <td>-999.9</td>\n",
       "      <td>-999.9</td>\n",
       "      <td>-999.9</td>\n",
       "      <td>-999.9</td>\n",
       "    </tr>\n",
       "    <tr>\n",
       "      <th>...</th>\n",
       "      <td>...</td>\n",
       "      <td>...</td>\n",
       "      <td>...</td>\n",
       "      <td>...</td>\n",
       "      <td>...</td>\n",
       "      <td>...</td>\n",
       "      <td>...</td>\n",
       "      <td>...</td>\n",
       "      <td>...</td>\n",
       "      <td>...</td>\n",
       "      <td>...</td>\n",
       "      <td>...</td>\n",
       "      <td>...</td>\n",
       "      <td>...</td>\n",
       "      <td>...</td>\n",
       "      <td>...</td>\n",
       "      <td>...</td>\n",
       "      <td>...</td>\n",
       "      <td>...</td>\n",
       "      <td>...</td>\n",
       "      <td>...</td>\n",
       "    </tr>\n",
       "    <tr>\n",
       "      <th>20767</th>\n",
       "      <td>7</td>\n",
       "      <td>53</td>\n",
       "      <td>78.5</td>\n",
       "      <td>1.130526</td>\n",
       "      <td>1.06</td>\n",
       "      <td>0.50</td>\n",
       "      <td>152.910929</td>\n",
       "      <td>152.910929</td>\n",
       "      <td>152.910929</td>\n",
       "      <td>152.910929</td>\n",
       "      <td>...</td>\n",
       "      <td>-999.9</td>\n",
       "      <td>-999.9</td>\n",
       "      <td>-999.9</td>\n",
       "      <td>-999.9</td>\n",
       "      <td>-999.9</td>\n",
       "      <td>-999.9</td>\n",
       "      <td>-999.9</td>\n",
       "      <td>-999.9</td>\n",
       "      <td>-999.9</td>\n",
       "      <td>-999.9</td>\n",
       "    </tr>\n",
       "    <tr>\n",
       "      <th>20768</th>\n",
       "      <td>7</td>\n",
       "      <td>53</td>\n",
       "      <td>78.5</td>\n",
       "      <td>1.130526</td>\n",
       "      <td>1.06</td>\n",
       "      <td>0.55</td>\n",
       "      <td>168.202021</td>\n",
       "      <td>168.202021</td>\n",
       "      <td>137.619836</td>\n",
       "      <td>137.619836</td>\n",
       "      <td>...</td>\n",
       "      <td>-999.9</td>\n",
       "      <td>-999.9</td>\n",
       "      <td>-999.9</td>\n",
       "      <td>-999.9</td>\n",
       "      <td>-999.9</td>\n",
       "      <td>-999.9</td>\n",
       "      <td>-999.9</td>\n",
       "      <td>-999.9</td>\n",
       "      <td>-999.9</td>\n",
       "      <td>-999.9</td>\n",
       "    </tr>\n",
       "    <tr>\n",
       "      <th>20769</th>\n",
       "      <td>7</td>\n",
       "      <td>53</td>\n",
       "      <td>78.5</td>\n",
       "      <td>1.130526</td>\n",
       "      <td>1.06</td>\n",
       "      <td>0.60</td>\n",
       "      <td>183.493114</td>\n",
       "      <td>183.493114</td>\n",
       "      <td>122.328743</td>\n",
       "      <td>122.328743</td>\n",
       "      <td>...</td>\n",
       "      <td>-999.9</td>\n",
       "      <td>-999.9</td>\n",
       "      <td>-999.9</td>\n",
       "      <td>-999.9</td>\n",
       "      <td>-999.9</td>\n",
       "      <td>-999.9</td>\n",
       "      <td>-999.9</td>\n",
       "      <td>-999.9</td>\n",
       "      <td>-999.9</td>\n",
       "      <td>-999.9</td>\n",
       "    </tr>\n",
       "    <tr>\n",
       "      <th>20770</th>\n",
       "      <td>7</td>\n",
       "      <td>53</td>\n",
       "      <td>78.5</td>\n",
       "      <td>1.130526</td>\n",
       "      <td>1.06</td>\n",
       "      <td>0.65</td>\n",
       "      <td>198.784207</td>\n",
       "      <td>198.784207</td>\n",
       "      <td>107.037650</td>\n",
       "      <td>107.037650</td>\n",
       "      <td>...</td>\n",
       "      <td>-999.9</td>\n",
       "      <td>-999.9</td>\n",
       "      <td>-999.9</td>\n",
       "      <td>-999.9</td>\n",
       "      <td>-999.9</td>\n",
       "      <td>-999.9</td>\n",
       "      <td>-999.9</td>\n",
       "      <td>-999.9</td>\n",
       "      <td>-999.9</td>\n",
       "      <td>-999.9</td>\n",
       "    </tr>\n",
       "    <tr>\n",
       "      <th>20771</th>\n",
       "      <td>7</td>\n",
       "      <td>53</td>\n",
       "      <td>78.5</td>\n",
       "      <td>1.130526</td>\n",
       "      <td>1.06</td>\n",
       "      <td>0.70</td>\n",
       "      <td>214.075300</td>\n",
       "      <td>214.075300</td>\n",
       "      <td>91.746557</td>\n",
       "      <td>91.746557</td>\n",
       "      <td>...</td>\n",
       "      <td>-999.9</td>\n",
       "      <td>-999.9</td>\n",
       "      <td>-999.9</td>\n",
       "      <td>-999.9</td>\n",
       "      <td>-999.9</td>\n",
       "      <td>-999.9</td>\n",
       "      <td>-999.9</td>\n",
       "      <td>-999.9</td>\n",
       "      <td>-999.9</td>\n",
       "      <td>-999.9</td>\n",
       "    </tr>\n",
       "  </tbody>\n",
       "</table>\n",
       "<p>2835 rows × 40 columns</p>\n",
       "</div>"
      ],
      "text/plain": [
       "       track_num  tw    wb  df_scale  drag_scale  weight_dst   fr_weight  \\\n",
       "6048           3  40  60.5  0.564912        0.80        0.30   88.590643   \n",
       "6049           3  40  60.5  0.564912        0.80        0.35  103.355750   \n",
       "6050           3  40  60.5  0.564912        0.80        0.40  118.120857   \n",
       "6051           3  40  60.5  0.564912        0.80        0.45  132.885964   \n",
       "6052           3  40  60.5  0.564912        0.80        0.50  147.651071   \n",
       "...          ...  ..   ...       ...         ...         ...         ...   \n",
       "20767          7  53  78.5  1.130526        1.06        0.50  152.910929   \n",
       "20768          7  53  78.5  1.130526        1.06        0.55  168.202021   \n",
       "20769          7  53  78.5  1.130526        1.06        0.60  183.493114   \n",
       "20770          7  53  78.5  1.130526        1.06        0.65  198.784207   \n",
       "20771          7  53  78.5  1.130526        1.06        0.70  214.075300   \n",
       "\n",
       "        fl_weight   rr_weight   rl_weight  ...  slipaFR  slipaRL  slipaRR  \\\n",
       "6048    88.590643  206.711500  206.711500  ...   -999.9   -999.9   -999.9   \n",
       "6049   103.355750  191.946393  191.946393  ...   -999.9   -999.9   -999.9   \n",
       "6050   118.120857  177.181286  177.181286  ...   -999.9   -999.9   -999.9   \n",
       "6051   132.885964  162.416179  162.416179  ...   -999.9   -999.9   -999.9   \n",
       "6052   147.651071  147.651071  147.651071  ...   -999.9   -999.9   -999.9   \n",
       "...           ...         ...         ...  ...      ...      ...      ...   \n",
       "20767  152.910929  152.910929  152.910929  ...   -999.9   -999.9   -999.9   \n",
       "20768  168.202021  137.619836  137.619836  ...   -999.9   -999.9   -999.9   \n",
       "20769  183.493114  122.328743  122.328743  ...   -999.9   -999.9   -999.9   \n",
       "20770  198.784207  107.037650  107.037650  ...   -999.9   -999.9   -999.9   \n",
       "20771  214.075300   91.746557   91.746557  ...   -999.9   -999.9   -999.9   \n",
       "\n",
       "       sliprFL  sliprFR  sliprRL  sliprRR  speed   yawa   yawv  \n",
       "6048    -999.9   -999.9   -999.9   -999.9 -999.9 -999.9 -999.9  \n",
       "6049    -999.9   -999.9   -999.9   -999.9 -999.9 -999.9 -999.9  \n",
       "6050    -999.9   -999.9   -999.9   -999.9 -999.9 -999.9 -999.9  \n",
       "6051    -999.9   -999.9   -999.9   -999.9 -999.9 -999.9 -999.9  \n",
       "6052    -999.9   -999.9   -999.9   -999.9 -999.9 -999.9 -999.9  \n",
       "...        ...      ...      ...      ...    ...    ...    ...  \n",
       "20767   -999.9   -999.9   -999.9   -999.9 -999.9 -999.9 -999.9  \n",
       "20768   -999.9   -999.9   -999.9   -999.9 -999.9 -999.9 -999.9  \n",
       "20769   -999.9   -999.9   -999.9   -999.9 -999.9 -999.9 -999.9  \n",
       "20770   -999.9   -999.9   -999.9   -999.9 -999.9 -999.9 -999.9  \n",
       "20771   -999.9   -999.9   -999.9   -999.9 -999.9 -999.9 -999.9  \n",
       "\n",
       "[2835 rows x 40 columns]"
      ]
     },
     "execution_count": 112,
     "metadata": {},
     "output_type": "execute_result"
    }
   ],
   "source": [
    "# the sim reports results of -999 for simulation errors\n",
    "results_df[results_df[\"!laptime\"] < 0]"
   ]
  },
  {
   "cell_type": "markdown",
   "metadata": {},
   "source": [
    "### Replace the simulations that did not solve properly with np.nan"
   ]
  },
  {
   "cell_type": "code",
   "execution_count": 113,
   "metadata": {},
   "outputs": [
    {
     "data": {
      "text/html": [
       "<div>\n",
       "<style scoped>\n",
       "    .dataframe tbody tr th:only-of-type {\n",
       "        vertical-align: middle;\n",
       "    }\n",
       "\n",
       "    .dataframe tbody tr th {\n",
       "        vertical-align: top;\n",
       "    }\n",
       "\n",
       "    .dataframe thead th {\n",
       "        text-align: right;\n",
       "    }\n",
       "</style>\n",
       "<table border=\"1\" class=\"dataframe\">\n",
       "  <thead>\n",
       "    <tr style=\"text-align: right;\">\n",
       "      <th></th>\n",
       "      <th>track_num</th>\n",
       "      <th>tw</th>\n",
       "      <th>wb</th>\n",
       "      <th>df_scale</th>\n",
       "      <th>drag_scale</th>\n",
       "      <th>weight_dst</th>\n",
       "      <th>fr_weight</th>\n",
       "      <th>fl_weight</th>\n",
       "      <th>rr_weight</th>\n",
       "      <th>rl_weight</th>\n",
       "      <th>...</th>\n",
       "      <th>slipaFR</th>\n",
       "      <th>slipaRL</th>\n",
       "      <th>slipaRR</th>\n",
       "      <th>sliprFL</th>\n",
       "      <th>sliprFR</th>\n",
       "      <th>sliprRL</th>\n",
       "      <th>sliprRR</th>\n",
       "      <th>speed</th>\n",
       "      <th>yawa</th>\n",
       "      <th>yawv</th>\n",
       "    </tr>\n",
       "  </thead>\n",
       "  <tbody>\n",
       "    <tr>\n",
       "      <th>0</th>\n",
       "      <td>1</td>\n",
       "      <td>40</td>\n",
       "      <td>60.5</td>\n",
       "      <td>0.564912</td>\n",
       "      <td>0.8</td>\n",
       "      <td>0.30</td>\n",
       "      <td>88.590643</td>\n",
       "      <td>88.590643</td>\n",
       "      <td>206.711500</td>\n",
       "      <td>206.711500</td>\n",
       "      <td>...</td>\n",
       "      <td>0.12721</td>\n",
       "      <td>0.13786</td>\n",
       "      <td>-0.009197</td>\n",
       "      <td>0.014902</td>\n",
       "      <td>0.014922</td>\n",
       "      <td>0.050309</td>\n",
       "      <td>0.050421</td>\n",
       "      <td>63.142</td>\n",
       "      <td>2.4664</td>\n",
       "      <td>0.000087</td>\n",
       "    </tr>\n",
       "    <tr>\n",
       "      <th>1</th>\n",
       "      <td>1</td>\n",
       "      <td>40</td>\n",
       "      <td>60.5</td>\n",
       "      <td>0.564912</td>\n",
       "      <td>0.8</td>\n",
       "      <td>0.35</td>\n",
       "      <td>103.355750</td>\n",
       "      <td>103.355750</td>\n",
       "      <td>191.946393</td>\n",
       "      <td>191.946393</td>\n",
       "      <td>...</td>\n",
       "      <td>0.12721</td>\n",
       "      <td>0.13786</td>\n",
       "      <td>-0.009197</td>\n",
       "      <td>0.014902</td>\n",
       "      <td>0.014922</td>\n",
       "      <td>0.050309</td>\n",
       "      <td>0.050421</td>\n",
       "      <td>63.142</td>\n",
       "      <td>2.4664</td>\n",
       "      <td>0.000087</td>\n",
       "    </tr>\n",
       "    <tr>\n",
       "      <th>2</th>\n",
       "      <td>1</td>\n",
       "      <td>40</td>\n",
       "      <td>60.5</td>\n",
       "      <td>0.564912</td>\n",
       "      <td>0.8</td>\n",
       "      <td>0.40</td>\n",
       "      <td>118.120857</td>\n",
       "      <td>118.120857</td>\n",
       "      <td>177.181286</td>\n",
       "      <td>177.181286</td>\n",
       "      <td>...</td>\n",
       "      <td>0.12721</td>\n",
       "      <td>0.13786</td>\n",
       "      <td>-0.009197</td>\n",
       "      <td>0.014902</td>\n",
       "      <td>0.014922</td>\n",
       "      <td>0.050309</td>\n",
       "      <td>0.050421</td>\n",
       "      <td>63.142</td>\n",
       "      <td>2.4664</td>\n",
       "      <td>0.000087</td>\n",
       "    </tr>\n",
       "    <tr>\n",
       "      <th>3</th>\n",
       "      <td>1</td>\n",
       "      <td>40</td>\n",
       "      <td>60.5</td>\n",
       "      <td>0.564912</td>\n",
       "      <td>0.8</td>\n",
       "      <td>0.45</td>\n",
       "      <td>132.885964</td>\n",
       "      <td>132.885964</td>\n",
       "      <td>162.416179</td>\n",
       "      <td>162.416179</td>\n",
       "      <td>...</td>\n",
       "      <td>0.12721</td>\n",
       "      <td>0.13786</td>\n",
       "      <td>-0.009197</td>\n",
       "      <td>0.014902</td>\n",
       "      <td>0.014922</td>\n",
       "      <td>0.050309</td>\n",
       "      <td>0.050421</td>\n",
       "      <td>63.142</td>\n",
       "      <td>2.4664</td>\n",
       "      <td>0.000087</td>\n",
       "    </tr>\n",
       "    <tr>\n",
       "      <th>4</th>\n",
       "      <td>1</td>\n",
       "      <td>40</td>\n",
       "      <td>60.5</td>\n",
       "      <td>0.564912</td>\n",
       "      <td>0.8</td>\n",
       "      <td>0.50</td>\n",
       "      <td>147.651071</td>\n",
       "      <td>147.651071</td>\n",
       "      <td>147.651071</td>\n",
       "      <td>147.651071</td>\n",
       "      <td>...</td>\n",
       "      <td>0.12721</td>\n",
       "      <td>0.13786</td>\n",
       "      <td>-0.009197</td>\n",
       "      <td>0.014902</td>\n",
       "      <td>0.014922</td>\n",
       "      <td>0.050309</td>\n",
       "      <td>0.050421</td>\n",
       "      <td>63.142</td>\n",
       "      <td>2.4664</td>\n",
       "      <td>0.000087</td>\n",
       "    </tr>\n",
       "    <tr>\n",
       "      <th>...</th>\n",
       "      <td>...</td>\n",
       "      <td>...</td>\n",
       "      <td>...</td>\n",
       "      <td>...</td>\n",
       "      <td>...</td>\n",
       "      <td>...</td>\n",
       "      <td>...</td>\n",
       "      <td>...</td>\n",
       "      <td>...</td>\n",
       "      <td>...</td>\n",
       "      <td>...</td>\n",
       "      <td>...</td>\n",
       "      <td>...</td>\n",
       "      <td>...</td>\n",
       "      <td>...</td>\n",
       "      <td>...</td>\n",
       "      <td>...</td>\n",
       "      <td>...</td>\n",
       "      <td>...</td>\n",
       "      <td>...</td>\n",
       "      <td>...</td>\n",
       "    </tr>\n",
       "    <tr>\n",
       "      <th>21163</th>\n",
       "      <td>7</td>\n",
       "      <td>55</td>\n",
       "      <td>80.5</td>\n",
       "      <td>1.217544</td>\n",
       "      <td>1.1</td>\n",
       "      <td>0.50</td>\n",
       "      <td>153.611964</td>\n",
       "      <td>153.611964</td>\n",
       "      <td>153.611964</td>\n",
       "      <td>153.611964</td>\n",
       "      <td>...</td>\n",
       "      <td>6.59930</td>\n",
       "      <td>3.65360</td>\n",
       "      <td>2.994700</td>\n",
       "      <td>0.021668</td>\n",
       "      <td>0.025350</td>\n",
       "      <td>0.064476</td>\n",
       "      <td>0.096046</td>\n",
       "      <td>72.734</td>\n",
       "      <td>363.3500</td>\n",
       "      <td>73.357000</td>\n",
       "    </tr>\n",
       "    <tr>\n",
       "      <th>21164</th>\n",
       "      <td>7</td>\n",
       "      <td>55</td>\n",
       "      <td>80.5</td>\n",
       "      <td>1.217544</td>\n",
       "      <td>1.1</td>\n",
       "      <td>0.55</td>\n",
       "      <td>168.973161</td>\n",
       "      <td>168.973161</td>\n",
       "      <td>138.250768</td>\n",
       "      <td>138.250768</td>\n",
       "      <td>...</td>\n",
       "      <td>6.59930</td>\n",
       "      <td>3.65360</td>\n",
       "      <td>2.994700</td>\n",
       "      <td>0.021668</td>\n",
       "      <td>0.025350</td>\n",
       "      <td>0.064476</td>\n",
       "      <td>0.096046</td>\n",
       "      <td>72.734</td>\n",
       "      <td>363.3500</td>\n",
       "      <td>73.357000</td>\n",
       "    </tr>\n",
       "    <tr>\n",
       "      <th>21165</th>\n",
       "      <td>7</td>\n",
       "      <td>55</td>\n",
       "      <td>80.5</td>\n",
       "      <td>1.217544</td>\n",
       "      <td>1.1</td>\n",
       "      <td>0.60</td>\n",
       "      <td>184.334357</td>\n",
       "      <td>184.334357</td>\n",
       "      <td>122.889571</td>\n",
       "      <td>122.889571</td>\n",
       "      <td>...</td>\n",
       "      <td>6.59930</td>\n",
       "      <td>3.65360</td>\n",
       "      <td>2.994700</td>\n",
       "      <td>0.021668</td>\n",
       "      <td>0.025350</td>\n",
       "      <td>0.064476</td>\n",
       "      <td>0.096046</td>\n",
       "      <td>72.734</td>\n",
       "      <td>363.3500</td>\n",
       "      <td>73.357000</td>\n",
       "    </tr>\n",
       "    <tr>\n",
       "      <th>21166</th>\n",
       "      <td>7</td>\n",
       "      <td>55</td>\n",
       "      <td>80.5</td>\n",
       "      <td>1.217544</td>\n",
       "      <td>1.1</td>\n",
       "      <td>0.65</td>\n",
       "      <td>199.695554</td>\n",
       "      <td>199.695554</td>\n",
       "      <td>107.528375</td>\n",
       "      <td>107.528375</td>\n",
       "      <td>...</td>\n",
       "      <td>6.59930</td>\n",
       "      <td>3.65360</td>\n",
       "      <td>2.994700</td>\n",
       "      <td>0.021668</td>\n",
       "      <td>0.025350</td>\n",
       "      <td>0.064476</td>\n",
       "      <td>0.096046</td>\n",
       "      <td>72.734</td>\n",
       "      <td>363.3500</td>\n",
       "      <td>73.357000</td>\n",
       "    </tr>\n",
       "    <tr>\n",
       "      <th>21167</th>\n",
       "      <td>7</td>\n",
       "      <td>55</td>\n",
       "      <td>80.5</td>\n",
       "      <td>1.217544</td>\n",
       "      <td>1.1</td>\n",
       "      <td>0.70</td>\n",
       "      <td>215.056750</td>\n",
       "      <td>215.056750</td>\n",
       "      <td>92.167179</td>\n",
       "      <td>92.167179</td>\n",
       "      <td>...</td>\n",
       "      <td>6.59930</td>\n",
       "      <td>3.65360</td>\n",
       "      <td>2.994700</td>\n",
       "      <td>0.021668</td>\n",
       "      <td>0.025350</td>\n",
       "      <td>0.064476</td>\n",
       "      <td>0.096046</td>\n",
       "      <td>72.734</td>\n",
       "      <td>363.3500</td>\n",
       "      <td>73.357000</td>\n",
       "    </tr>\n",
       "  </tbody>\n",
       "</table>\n",
       "<p>21168 rows × 40 columns</p>\n",
       "</div>"
      ],
      "text/plain": [
       "       track_num  tw    wb  df_scale  drag_scale  weight_dst   fr_weight  \\\n",
       "0              1  40  60.5  0.564912         0.8        0.30   88.590643   \n",
       "1              1  40  60.5  0.564912         0.8        0.35  103.355750   \n",
       "2              1  40  60.5  0.564912         0.8        0.40  118.120857   \n",
       "3              1  40  60.5  0.564912         0.8        0.45  132.885964   \n",
       "4              1  40  60.5  0.564912         0.8        0.50  147.651071   \n",
       "...          ...  ..   ...       ...         ...         ...         ...   \n",
       "21163          7  55  80.5  1.217544         1.1        0.50  153.611964   \n",
       "21164          7  55  80.5  1.217544         1.1        0.55  168.973161   \n",
       "21165          7  55  80.5  1.217544         1.1        0.60  184.334357   \n",
       "21166          7  55  80.5  1.217544         1.1        0.65  199.695554   \n",
       "21167          7  55  80.5  1.217544         1.1        0.70  215.056750   \n",
       "\n",
       "        fl_weight   rr_weight   rl_weight  ...  slipaFR  slipaRL   slipaRR  \\\n",
       "0       88.590643  206.711500  206.711500  ...  0.12721  0.13786 -0.009197   \n",
       "1      103.355750  191.946393  191.946393  ...  0.12721  0.13786 -0.009197   \n",
       "2      118.120857  177.181286  177.181286  ...  0.12721  0.13786 -0.009197   \n",
       "3      132.885964  162.416179  162.416179  ...  0.12721  0.13786 -0.009197   \n",
       "4      147.651071  147.651071  147.651071  ...  0.12721  0.13786 -0.009197   \n",
       "...           ...         ...         ...  ...      ...      ...       ...   \n",
       "21163  153.611964  153.611964  153.611964  ...  6.59930  3.65360  2.994700   \n",
       "21164  168.973161  138.250768  138.250768  ...  6.59930  3.65360  2.994700   \n",
       "21165  184.334357  122.889571  122.889571  ...  6.59930  3.65360  2.994700   \n",
       "21166  199.695554  107.528375  107.528375  ...  6.59930  3.65360  2.994700   \n",
       "21167  215.056750   92.167179   92.167179  ...  6.59930  3.65360  2.994700   \n",
       "\n",
       "        sliprFL   sliprFR   sliprRL   sliprRR   speed      yawa       yawv  \n",
       "0      0.014902  0.014922  0.050309  0.050421  63.142    2.4664   0.000087  \n",
       "1      0.014902  0.014922  0.050309  0.050421  63.142    2.4664   0.000087  \n",
       "2      0.014902  0.014922  0.050309  0.050421  63.142    2.4664   0.000087  \n",
       "3      0.014902  0.014922  0.050309  0.050421  63.142    2.4664   0.000087  \n",
       "4      0.014902  0.014922  0.050309  0.050421  63.142    2.4664   0.000087  \n",
       "...         ...       ...       ...       ...     ...       ...        ...  \n",
       "21163  0.021668  0.025350  0.064476  0.096046  72.734  363.3500  73.357000  \n",
       "21164  0.021668  0.025350  0.064476  0.096046  72.734  363.3500  73.357000  \n",
       "21165  0.021668  0.025350  0.064476  0.096046  72.734  363.3500  73.357000  \n",
       "21166  0.021668  0.025350  0.064476  0.096046  72.734  363.3500  73.357000  \n",
       "21167  0.021668  0.025350  0.064476  0.096046  72.734  363.3500  73.357000  \n",
       "\n",
       "[21168 rows x 40 columns]"
      ]
     },
     "execution_count": 113,
     "metadata": {},
     "output_type": "execute_result"
    }
   ],
   "source": [
    "for index in results_df.index:\n",
    "    for column in results_df.columns:\n",
    "        # if the value at the current location is < -995, then there was almost certainly an error\n",
    "        if results_df.at[index, column] <= -995:\n",
    "            results_df.at[index, column] = np.nan\n",
    "            \n",
    "results_df"
   ]
  },
  {
   "cell_type": "markdown",
   "metadata": {},
   "source": [
    "### Create a utility function that will allow us to easily extract TW vs WB results into 3-dimensions"
   ]
  },
  {
   "cell_type": "code",
   "execution_count": 114,
   "metadata": {},
   "outputs": [],
   "source": [
    "# beware, this function uses globals! Specifically speaking, min_tw, tws, step_tw... etc. as well as the DF!\n",
    "def create_tw_wb_results_grid(track_num, weight_dist_flt, results_col_str):\n",
    "    \"\"\"\n",
    "    pulls out data into a TWxWB grid so that heatmaps may be plotted. Essentially, this pulls out whatever\n",
    "    results data you input in results_col_str and turns it into \"z\" data with x and y being tw and wb\n",
    "    :param track_num: int - track number\n",
    "    :param weight_dist_flt: float - the weight distribution\n",
    "    :param results_col_str: string - the title of the specific column to pul data from\n",
    "    :returns: the \"z\" data 2d array\n",
    "    \"\"\"\n",
    "\n",
    "    # create a mesh grid to place results\n",
    "    tw_wb_ary = np.zeros(shape=(len(wbs), len(tws)))\n",
    "\n",
    "    for tw in tws:\n",
    "        for wb in wbs:\n",
    "\n",
    "            # create track width and wheelbase masks that we can combine to \"index\" the data we want\n",
    "            tw_msk = results_df[\"tw\"] == tw\n",
    "            wb_msk = results_df[\"wb\"] == wb\n",
    "            track_msk = results_df[\"track_num\"] == track_num\n",
    "            wd_msk = results_df[\"weight_dst\"] == weight_dist_flt\n",
    "            \n",
    "            # generate the tw index and wb index to place in the mesh grid\n",
    "            tw_i = int((tw - min_tw) / step_tw)\n",
    "            wb_i = int((wb - min_wb) / step_wb)\n",
    "            \n",
    "            # combine all of the masks and pull out the desired result\n",
    "            tw_wb_ary[wb_i][tw_i] = results_df[tw_msk & wb_msk & track_msk & wd_msk][results_col_str]\n",
    "            \n",
    "    return tw_wb_ary"
   ]
  },
  {
   "cell_type": "markdown",
   "metadata": {},
   "source": [
    "# Acceleration"
   ]
  },
  {
   "cell_type": "code",
   "execution_count": 119,
   "metadata": {
    "scrolled": true
   },
   "outputs": [
    {
     "data": {
      "application/vnd.plotly.v1+json": {
       "config": {
        "plotlyServerURL": "https://plot.ly"
       },
       "data": [
        {
         "colorscale": [
          [
           0,
           "#fde725"
          ],
          [
           0.1111111111111111,
           "#b5de2b"
          ],
          [
           0.2222222222222222,
           "#6ece58"
          ],
          [
           0.3333333333333333,
           "#35b779"
          ],
          [
           0.4444444444444444,
           "#1f9e89"
          ],
          [
           0.5555555555555556,
           "#26828e"
          ],
          [
           0.6666666666666666,
           "#31688e"
          ],
          [
           0.7777777777777778,
           "#3e4989"
          ],
          [
           0.8888888888888888,
           "#482878"
          ],
          [
           1,
           "#440154"
          ]
         ],
         "hoverongaps": false,
         "type": "heatmap",
         "x": [
          40,
          41,
          42,
          43,
          44,
          45,
          46,
          47,
          48,
          49,
          50,
          51,
          52,
          53,
          54,
          55
         ],
         "y": [
          60.5,
          61.5,
          62.5,
          63.5,
          64.5,
          65.5,
          66.5,
          67.5,
          68.5,
          69.5,
          70.5,
          71.5,
          72.5,
          73.5,
          74.5,
          75.5,
          76.5,
          77.5,
          78.5,
          79.5,
          80.5
         ],
         "z": [
          [
           14.76,
           14.547,
           14.357999999999999,
           14.210999999999999,
           14.145,
           14.052,
           13.956,
           13.809000000000001,
           13.755,
           13.731,
           13.698,
           13.695,
           13.704,
           13.698,
           13.707,
           13.692
          ],
          [
           14.763,
           14.568,
           14.357999999999999,
           14.214,
           14.139000000000001,
           14.088,
           13.95,
           13.833,
           13.773,
           13.731,
           13.707,
           13.692,
           13.689,
           13.683,
           13.71,
           13.668
          ],
          [
           14.754000000000001,
           14.547,
           14.357999999999999,
           14.208,
           14.1,
           14.046,
           13.947000000000001,
           13.833,
           13.745999999999999,
           13.716,
           13.689,
           13.671,
           13.683,
           13.677,
           13.686,
           13.626
          ],
          [
           14.751,
           14.585999999999999,
           14.355,
           14.199000000000002,
           14.1,
           14.034,
           13.940999999999999,
           13.797,
           13.764000000000001,
           13.707,
           13.686,
           13.683,
           13.671,
           13.674000000000001,
           13.700999999999999,
           13.659
          ],
          [
           14.751,
           14.552999999999999,
           14.360999999999999,
           14.208,
           14.094000000000001,
           13.998,
           13.940999999999999,
           13.821,
           13.758,
           13.734000000000002,
           13.695,
           13.665,
           13.659,
           13.665,
           13.689,
           13.607999999999999
          ],
          [
           14.751,
           14.585999999999999,
           14.357999999999999,
           14.208,
           14.091,
           14.025,
           13.935,
           13.818,
           13.755,
           13.707,
           13.692,
           13.668,
           13.665,
           13.655999999999999,
           13.655999999999999,
           13.595999999999998
          ],
          [
           14.754000000000001,
           14.577,
           14.360999999999999,
           14.205,
           14.097000000000001,
           14.022,
           13.905,
           13.815,
           13.749,
           13.734000000000002,
           13.686,
           13.668,
           13.652999999999999,
           13.647,
           13.610999999999999,
           13.595999999999998
          ],
          [
           14.757,
           14.55,
           14.357999999999999,
           14.205,
           14.082,
           13.989,
           13.929,
           13.812000000000001,
           13.745999999999999,
           13.71,
           13.677,
           13.662,
           13.640999999999998,
           13.638,
           13.65,
           13.587
          ],
          [
           14.76,
           14.58,
           14.364,
           14.202,
           14.088,
           14.015999999999998,
           13.923,
           13.806,
           13.743,
           13.704,
           13.668,
           13.65,
           13.632,
           13.647,
           13.644,
           13.581
          ],
          [
           14.757,
           14.55,
           14.360999999999999,
           14.199000000000002,
           14.082,
           14.022,
           13.923,
           13.806,
           13.74,
           13.692,
           13.662,
           13.635,
           13.629000000000001,
           13.623,
           13.575,
           13.575
          ],
          [
           14.757,
           14.577,
           14.360999999999999,
           14.199000000000002,
           14.075999999999999,
           14.015999999999998,
           13.923,
           13.806,
           13.737,
           13.671,
           13.659,
           13.629000000000001,
           13.614,
           13.626,
           13.584000000000001,
           13.569
          ],
          [
           14.754000000000001,
           14.574000000000002,
           14.360999999999999,
           14.199000000000002,
           14.073,
           14.015999999999998,
           13.887,
           13.802999999999999,
           13.734000000000002,
           13.671,
           13.659,
           13.640999999999998,
           13.610999999999999,
           13.629000000000001,
           13.617,
           13.569
          ],
          [
           14.76,
           14.565,
           14.360999999999999,
           14.199000000000002,
           14.07,
           14.013,
           13.880999999999998,
           13.767000000000001,
           13.731,
           13.683,
           13.662,
           13.626,
           13.617,
           13.607999999999999,
           13.572000000000001,
           13.557
          ],
          [
           14.76,
           14.556,
           14.367,
           14.193,
           14.073,
           13.977,
           13.914000000000001,
           13.788,
           13.731,
           13.689,
           13.635,
           13.632,
           13.617,
           13.607999999999999,
           13.575,
           13.557
          ],
          [
           14.757,
           14.613,
           14.37,
           14.19,
           14.07,
           13.970999999999998,
           13.878,
           13.797,
           13.725,
           13.659,
           13.652999999999999,
           13.62,
           13.617,
           13.602,
           13.562999999999999,
           13.554
          ],
          [
           14.754000000000001,
           14.592,
           14.360999999999999,
           14.19,
           14.067,
           14.007,
           13.911,
           13.818,
           13.728,
           13.674000000000001,
           13.65,
           13.629000000000001,
           13.614,
           13.602,
           13.562999999999999,
           13.550999999999998
          ],
          [
           14.757,
           14.583,
           14.373,
           14.19,
           14.067,
           13.965,
           13.911,
           13.790999999999999,
           13.725,
           13.674000000000001,
           13.626,
           13.626,
           13.607999999999999,
           13.610999999999999,
           13.550999999999998,
           13.550999999999998
          ],
          [
           14.763,
           14.585999999999999,
           14.367,
           14.19,
           14.061,
           13.968,
           13.908,
           13.788,
           13.722000000000001,
           13.700999999999999,
           13.659,
           13.629000000000001,
           13.610999999999999,
           13.569,
           13.557,
           13.550999999999998
          ],
          [
           14.76,
           14.589,
           14.37,
           14.19,
           14.061,
           13.968,
           13.872,
           13.788,
           13.722000000000001,
           13.700999999999999,
           13.640999999999998,
           13.607999999999999,
           13.593,
           null,
           13.550999999999998,
           13.550999999999998
          ],
          [
           14.772,
           14.600999999999999,
           14.37,
           14.193,
           14.067,
           13.962,
           13.869000000000002,
           13.785,
           13.719000000000001,
           13.700999999999999,
           13.640999999999998,
           13.623,
           13.593,
           13.593,
           13.554,
           13.542
          ],
          [
           14.765999999999998,
           14.595,
           14.373,
           14.193,
           14.061,
           13.965,
           13.902000000000001,
           13.788,
           13.719000000000001,
           13.704,
           13.655999999999999,
           13.607999999999999,
           13.599,
           13.593,
           13.542,
           13.542
          ]
         ]
        }
       ],
       "layout": {
        "template": {
         "data": {
          "bar": [
           {
            "error_x": {
             "color": "#2a3f5f"
            },
            "error_y": {
             "color": "#2a3f5f"
            },
            "marker": {
             "line": {
              "color": "#E5ECF6",
              "width": 0.5
             }
            },
            "type": "bar"
           }
          ],
          "barpolar": [
           {
            "marker": {
             "line": {
              "color": "#E5ECF6",
              "width": 0.5
             }
            },
            "type": "barpolar"
           }
          ],
          "carpet": [
           {
            "aaxis": {
             "endlinecolor": "#2a3f5f",
             "gridcolor": "white",
             "linecolor": "white",
             "minorgridcolor": "white",
             "startlinecolor": "#2a3f5f"
            },
            "baxis": {
             "endlinecolor": "#2a3f5f",
             "gridcolor": "white",
             "linecolor": "white",
             "minorgridcolor": "white",
             "startlinecolor": "#2a3f5f"
            },
            "type": "carpet"
           }
          ],
          "choropleth": [
           {
            "colorbar": {
             "outlinewidth": 0,
             "ticks": ""
            },
            "type": "choropleth"
           }
          ],
          "contour": [
           {
            "colorbar": {
             "outlinewidth": 0,
             "ticks": ""
            },
            "colorscale": [
             [
              0,
              "#0d0887"
             ],
             [
              0.1111111111111111,
              "#46039f"
             ],
             [
              0.2222222222222222,
              "#7201a8"
             ],
             [
              0.3333333333333333,
              "#9c179e"
             ],
             [
              0.4444444444444444,
              "#bd3786"
             ],
             [
              0.5555555555555556,
              "#d8576b"
             ],
             [
              0.6666666666666666,
              "#ed7953"
             ],
             [
              0.7777777777777778,
              "#fb9f3a"
             ],
             [
              0.8888888888888888,
              "#fdca26"
             ],
             [
              1,
              "#f0f921"
             ]
            ],
            "type": "contour"
           }
          ],
          "contourcarpet": [
           {
            "colorbar": {
             "outlinewidth": 0,
             "ticks": ""
            },
            "type": "contourcarpet"
           }
          ],
          "heatmap": [
           {
            "colorbar": {
             "outlinewidth": 0,
             "ticks": ""
            },
            "colorscale": [
             [
              0,
              "#0d0887"
             ],
             [
              0.1111111111111111,
              "#46039f"
             ],
             [
              0.2222222222222222,
              "#7201a8"
             ],
             [
              0.3333333333333333,
              "#9c179e"
             ],
             [
              0.4444444444444444,
              "#bd3786"
             ],
             [
              0.5555555555555556,
              "#d8576b"
             ],
             [
              0.6666666666666666,
              "#ed7953"
             ],
             [
              0.7777777777777778,
              "#fb9f3a"
             ],
             [
              0.8888888888888888,
              "#fdca26"
             ],
             [
              1,
              "#f0f921"
             ]
            ],
            "type": "heatmap"
           }
          ],
          "heatmapgl": [
           {
            "colorbar": {
             "outlinewidth": 0,
             "ticks": ""
            },
            "colorscale": [
             [
              0,
              "#0d0887"
             ],
             [
              0.1111111111111111,
              "#46039f"
             ],
             [
              0.2222222222222222,
              "#7201a8"
             ],
             [
              0.3333333333333333,
              "#9c179e"
             ],
             [
              0.4444444444444444,
              "#bd3786"
             ],
             [
              0.5555555555555556,
              "#d8576b"
             ],
             [
              0.6666666666666666,
              "#ed7953"
             ],
             [
              0.7777777777777778,
              "#fb9f3a"
             ],
             [
              0.8888888888888888,
              "#fdca26"
             ],
             [
              1,
              "#f0f921"
             ]
            ],
            "type": "heatmapgl"
           }
          ],
          "histogram": [
           {
            "marker": {
             "colorbar": {
              "outlinewidth": 0,
              "ticks": ""
             }
            },
            "type": "histogram"
           }
          ],
          "histogram2d": [
           {
            "colorbar": {
             "outlinewidth": 0,
             "ticks": ""
            },
            "colorscale": [
             [
              0,
              "#0d0887"
             ],
             [
              0.1111111111111111,
              "#46039f"
             ],
             [
              0.2222222222222222,
              "#7201a8"
             ],
             [
              0.3333333333333333,
              "#9c179e"
             ],
             [
              0.4444444444444444,
              "#bd3786"
             ],
             [
              0.5555555555555556,
              "#d8576b"
             ],
             [
              0.6666666666666666,
              "#ed7953"
             ],
             [
              0.7777777777777778,
              "#fb9f3a"
             ],
             [
              0.8888888888888888,
              "#fdca26"
             ],
             [
              1,
              "#f0f921"
             ]
            ],
            "type": "histogram2d"
           }
          ],
          "histogram2dcontour": [
           {
            "colorbar": {
             "outlinewidth": 0,
             "ticks": ""
            },
            "colorscale": [
             [
              0,
              "#0d0887"
             ],
             [
              0.1111111111111111,
              "#46039f"
             ],
             [
              0.2222222222222222,
              "#7201a8"
             ],
             [
              0.3333333333333333,
              "#9c179e"
             ],
             [
              0.4444444444444444,
              "#bd3786"
             ],
             [
              0.5555555555555556,
              "#d8576b"
             ],
             [
              0.6666666666666666,
              "#ed7953"
             ],
             [
              0.7777777777777778,
              "#fb9f3a"
             ],
             [
              0.8888888888888888,
              "#fdca26"
             ],
             [
              1,
              "#f0f921"
             ]
            ],
            "type": "histogram2dcontour"
           }
          ],
          "mesh3d": [
           {
            "colorbar": {
             "outlinewidth": 0,
             "ticks": ""
            },
            "type": "mesh3d"
           }
          ],
          "parcoords": [
           {
            "line": {
             "colorbar": {
              "outlinewidth": 0,
              "ticks": ""
             }
            },
            "type": "parcoords"
           }
          ],
          "pie": [
           {
            "automargin": true,
            "type": "pie"
           }
          ],
          "scatter": [
           {
            "marker": {
             "colorbar": {
              "outlinewidth": 0,
              "ticks": ""
             }
            },
            "type": "scatter"
           }
          ],
          "scatter3d": [
           {
            "line": {
             "colorbar": {
              "outlinewidth": 0,
              "ticks": ""
             }
            },
            "marker": {
             "colorbar": {
              "outlinewidth": 0,
              "ticks": ""
             }
            },
            "type": "scatter3d"
           }
          ],
          "scattercarpet": [
           {
            "marker": {
             "colorbar": {
              "outlinewidth": 0,
              "ticks": ""
             }
            },
            "type": "scattercarpet"
           }
          ],
          "scattergeo": [
           {
            "marker": {
             "colorbar": {
              "outlinewidth": 0,
              "ticks": ""
             }
            },
            "type": "scattergeo"
           }
          ],
          "scattergl": [
           {
            "marker": {
             "colorbar": {
              "outlinewidth": 0,
              "ticks": ""
             }
            },
            "type": "scattergl"
           }
          ],
          "scattermapbox": [
           {
            "marker": {
             "colorbar": {
              "outlinewidth": 0,
              "ticks": ""
             }
            },
            "type": "scattermapbox"
           }
          ],
          "scatterpolar": [
           {
            "marker": {
             "colorbar": {
              "outlinewidth": 0,
              "ticks": ""
             }
            },
            "type": "scatterpolar"
           }
          ],
          "scatterpolargl": [
           {
            "marker": {
             "colorbar": {
              "outlinewidth": 0,
              "ticks": ""
             }
            },
            "type": "scatterpolargl"
           }
          ],
          "scatterternary": [
           {
            "marker": {
             "colorbar": {
              "outlinewidth": 0,
              "ticks": ""
             }
            },
            "type": "scatterternary"
           }
          ],
          "surface": [
           {
            "colorbar": {
             "outlinewidth": 0,
             "ticks": ""
            },
            "colorscale": [
             [
              0,
              "#0d0887"
             ],
             [
              0.1111111111111111,
              "#46039f"
             ],
             [
              0.2222222222222222,
              "#7201a8"
             ],
             [
              0.3333333333333333,
              "#9c179e"
             ],
             [
              0.4444444444444444,
              "#bd3786"
             ],
             [
              0.5555555555555556,
              "#d8576b"
             ],
             [
              0.6666666666666666,
              "#ed7953"
             ],
             [
              0.7777777777777778,
              "#fb9f3a"
             ],
             [
              0.8888888888888888,
              "#fdca26"
             ],
             [
              1,
              "#f0f921"
             ]
            ],
            "type": "surface"
           }
          ],
          "table": [
           {
            "cells": {
             "fill": {
              "color": "#EBF0F8"
             },
             "line": {
              "color": "white"
             }
            },
            "header": {
             "fill": {
              "color": "#C8D4E3"
             },
             "line": {
              "color": "white"
             }
            },
            "type": "table"
           }
          ]
         },
         "layout": {
          "annotationdefaults": {
           "arrowcolor": "#2a3f5f",
           "arrowhead": 0,
           "arrowwidth": 1
          },
          "coloraxis": {
           "colorbar": {
            "outlinewidth": 0,
            "ticks": ""
           }
          },
          "colorscale": {
           "diverging": [
            [
             0,
             "#8e0152"
            ],
            [
             0.1,
             "#c51b7d"
            ],
            [
             0.2,
             "#de77ae"
            ],
            [
             0.3,
             "#f1b6da"
            ],
            [
             0.4,
             "#fde0ef"
            ],
            [
             0.5,
             "#f7f7f7"
            ],
            [
             0.6,
             "#e6f5d0"
            ],
            [
             0.7,
             "#b8e186"
            ],
            [
             0.8,
             "#7fbc41"
            ],
            [
             0.9,
             "#4d9221"
            ],
            [
             1,
             "#276419"
            ]
           ],
           "sequential": [
            [
             0,
             "#0d0887"
            ],
            [
             0.1111111111111111,
             "#46039f"
            ],
            [
             0.2222222222222222,
             "#7201a8"
            ],
            [
             0.3333333333333333,
             "#9c179e"
            ],
            [
             0.4444444444444444,
             "#bd3786"
            ],
            [
             0.5555555555555556,
             "#d8576b"
            ],
            [
             0.6666666666666666,
             "#ed7953"
            ],
            [
             0.7777777777777778,
             "#fb9f3a"
            ],
            [
             0.8888888888888888,
             "#fdca26"
            ],
            [
             1,
             "#f0f921"
            ]
           ],
           "sequentialminus": [
            [
             0,
             "#0d0887"
            ],
            [
             0.1111111111111111,
             "#46039f"
            ],
            [
             0.2222222222222222,
             "#7201a8"
            ],
            [
             0.3333333333333333,
             "#9c179e"
            ],
            [
             0.4444444444444444,
             "#bd3786"
            ],
            [
             0.5555555555555556,
             "#d8576b"
            ],
            [
             0.6666666666666666,
             "#ed7953"
            ],
            [
             0.7777777777777778,
             "#fb9f3a"
            ],
            [
             0.8888888888888888,
             "#fdca26"
            ],
            [
             1,
             "#f0f921"
            ]
           ]
          },
          "colorway": [
           "#636efa",
           "#EF553B",
           "#00cc96",
           "#ab63fa",
           "#FFA15A",
           "#19d3f3",
           "#FF6692",
           "#B6E880",
           "#FF97FF",
           "#FECB52"
          ],
          "font": {
           "color": "#2a3f5f"
          },
          "geo": {
           "bgcolor": "white",
           "lakecolor": "white",
           "landcolor": "#E5ECF6",
           "showlakes": true,
           "showland": true,
           "subunitcolor": "white"
          },
          "hoverlabel": {
           "align": "left"
          },
          "hovermode": "closest",
          "mapbox": {
           "style": "light"
          },
          "paper_bgcolor": "white",
          "plot_bgcolor": "#E5ECF6",
          "polar": {
           "angularaxis": {
            "gridcolor": "white",
            "linecolor": "white",
            "ticks": ""
           },
           "bgcolor": "#E5ECF6",
           "radialaxis": {
            "gridcolor": "white",
            "linecolor": "white",
            "ticks": ""
           }
          },
          "scene": {
           "xaxis": {
            "backgroundcolor": "#E5ECF6",
            "gridcolor": "white",
            "gridwidth": 2,
            "linecolor": "white",
            "showbackground": true,
            "ticks": "",
            "zerolinecolor": "white"
           },
           "yaxis": {
            "backgroundcolor": "#E5ECF6",
            "gridcolor": "white",
            "gridwidth": 2,
            "linecolor": "white",
            "showbackground": true,
            "ticks": "",
            "zerolinecolor": "white"
           },
           "zaxis": {
            "backgroundcolor": "#E5ECF6",
            "gridcolor": "white",
            "gridwidth": 2,
            "linecolor": "white",
            "showbackground": true,
            "ticks": "",
            "zerolinecolor": "white"
           }
          },
          "shapedefaults": {
           "line": {
            "color": "#2a3f5f"
           }
          },
          "ternary": {
           "aaxis": {
            "gridcolor": "white",
            "linecolor": "white",
            "ticks": ""
           },
           "baxis": {
            "gridcolor": "white",
            "linecolor": "white",
            "ticks": ""
           },
           "bgcolor": "#E5ECF6",
           "caxis": {
            "gridcolor": "white",
            "linecolor": "white",
            "ticks": ""
           }
          },
          "title": {
           "x": 0.05
          },
          "xaxis": {
           "automargin": true,
           "gridcolor": "white",
           "linecolor": "white",
           "ticks": "",
           "title": {
            "standoff": 15
           },
           "zerolinecolor": "white",
           "zerolinewidth": 2
          },
          "yaxis": {
           "automargin": true,
           "gridcolor": "white",
           "linecolor": "white",
           "ticks": "",
           "title": {
            "standoff": 15
           },
           "zerolinecolor": "white",
           "zerolinewidth": 2
          }
         }
        },
        "title": {
         "text": "Wheelbase vs. Track Width vs. Laptime — Acceleration (w.d. = 50%F)"
        },
        "xaxis": {
         "title": {
          "text": "Track Width"
         }
        },
        "yaxis": {
         "title": {
          "text": "Wheelbase"
         }
        }
       }
      },
      "text/html": [
       "<div>\n",
       "        \n",
       "        \n",
       "            <div id=\"59e1d2fd-6ab1-4f6d-acdf-987e315735a0\" class=\"plotly-graph-div\" style=\"height:525px; width:100%;\"></div>\n",
       "            <script type=\"text/javascript\">\n",
       "                require([\"plotly\"], function(Plotly) {\n",
       "                    window.PLOTLYENV=window.PLOTLYENV || {};\n",
       "                    \n",
       "                if (document.getElementById(\"59e1d2fd-6ab1-4f6d-acdf-987e315735a0\")) {\n",
       "                    Plotly.newPlot(\n",
       "                        '59e1d2fd-6ab1-4f6d-acdf-987e315735a0',\n",
       "                        [{\"colorscale\": [[0.0, \"#fde725\"], [0.1111111111111111, \"#b5de2b\"], [0.2222222222222222, \"#6ece58\"], [0.3333333333333333, \"#35b779\"], [0.4444444444444444, \"#1f9e89\"], [0.5555555555555556, \"#26828e\"], [0.6666666666666666, \"#31688e\"], [0.7777777777777778, \"#3e4989\"], [0.8888888888888888, \"#482878\"], [1.0, \"#440154\"]], \"hoverongaps\": false, \"type\": \"heatmap\", \"x\": [40, 41, 42, 43, 44, 45, 46, 47, 48, 49, 50, 51, 52, 53, 54, 55], \"y\": [60.5, 61.5, 62.5, 63.5, 64.5, 65.5, 66.5, 67.5, 68.5, 69.5, 70.5, 71.5, 72.5, 73.5, 74.5, 75.5, 76.5, 77.5, 78.5, 79.5, 80.5], \"z\": [[14.76, 14.547, 14.357999999999999, 14.210999999999999, 14.145, 14.052, 13.956, 13.809000000000001, 13.755, 13.731, 13.698, 13.695, 13.704, 13.698, 13.707, 13.692], [14.763, 14.568, 14.357999999999999, 14.214, 14.139000000000001, 14.088, 13.95, 13.833, 13.773, 13.731, 13.707, 13.692, 13.689, 13.683, 13.71, 13.668], [14.754000000000001, 14.547, 14.357999999999999, 14.208, 14.1, 14.046, 13.947000000000001, 13.833, 13.745999999999999, 13.716, 13.689, 13.671, 13.683, 13.677, 13.686, 13.626], [14.751, 14.585999999999999, 14.355, 14.199000000000002, 14.1, 14.034, 13.940999999999999, 13.797, 13.764000000000001, 13.707, 13.686, 13.683, 13.671, 13.674000000000001, 13.700999999999999, 13.659], [14.751, 14.552999999999999, 14.360999999999999, 14.208, 14.094000000000001, 13.998, 13.940999999999999, 13.821, 13.758, 13.734000000000002, 13.695, 13.665, 13.659, 13.665, 13.689, 13.607999999999999], [14.751, 14.585999999999999, 14.357999999999999, 14.208, 14.091, 14.025, 13.935, 13.818, 13.755, 13.707, 13.692, 13.668, 13.665, 13.655999999999999, 13.655999999999999, 13.595999999999998], [14.754000000000001, 14.577, 14.360999999999999, 14.205, 14.097000000000001, 14.022, 13.905, 13.815, 13.749, 13.734000000000002, 13.686, 13.668, 13.652999999999999, 13.647, 13.610999999999999, 13.595999999999998], [14.757, 14.55, 14.357999999999999, 14.205, 14.082, 13.989, 13.929, 13.812000000000001, 13.745999999999999, 13.71, 13.677, 13.662, 13.640999999999998, 13.638, 13.65, 13.587], [14.76, 14.58, 14.364, 14.202, 14.088, 14.015999999999998, 13.923, 13.806, 13.743, 13.704, 13.668, 13.65, 13.632, 13.647, 13.644, 13.581], [14.757, 14.55, 14.360999999999999, 14.199000000000002, 14.082, 14.022, 13.923, 13.806, 13.74, 13.692, 13.662, 13.635, 13.629000000000001, 13.623, 13.575, 13.575], [14.757, 14.577, 14.360999999999999, 14.199000000000002, 14.075999999999999, 14.015999999999998, 13.923, 13.806, 13.737, 13.671, 13.659, 13.629000000000001, 13.614, 13.626, 13.584000000000001, 13.569], [14.754000000000001, 14.574000000000002, 14.360999999999999, 14.199000000000002, 14.073, 14.015999999999998, 13.887, 13.802999999999999, 13.734000000000002, 13.671, 13.659, 13.640999999999998, 13.610999999999999, 13.629000000000001, 13.617, 13.569], [14.76, 14.565, 14.360999999999999, 14.199000000000002, 14.07, 14.013, 13.880999999999998, 13.767000000000001, 13.731, 13.683, 13.662, 13.626, 13.617, 13.607999999999999, 13.572000000000001, 13.557], [14.76, 14.556, 14.367, 14.193, 14.073, 13.977, 13.914000000000001, 13.788, 13.731, 13.689, 13.635, 13.632, 13.617, 13.607999999999999, 13.575, 13.557], [14.757, 14.613, 14.37, 14.19, 14.07, 13.970999999999998, 13.878, 13.797, 13.725, 13.659, 13.652999999999999, 13.62, 13.617, 13.602, 13.562999999999999, 13.554], [14.754000000000001, 14.592, 14.360999999999999, 14.19, 14.067, 14.007, 13.911, 13.818, 13.728, 13.674000000000001, 13.65, 13.629000000000001, 13.614, 13.602, 13.562999999999999, 13.550999999999998], [14.757, 14.583, 14.373, 14.19, 14.067, 13.965, 13.911, 13.790999999999999, 13.725, 13.674000000000001, 13.626, 13.626, 13.607999999999999, 13.610999999999999, 13.550999999999998, 13.550999999999998], [14.763, 14.585999999999999, 14.367, 14.19, 14.061, 13.968, 13.908, 13.788, 13.722000000000001, 13.700999999999999, 13.659, 13.629000000000001, 13.610999999999999, 13.569, 13.557, 13.550999999999998], [14.76, 14.589, 14.37, 14.19, 14.061, 13.968, 13.872, 13.788, 13.722000000000001, 13.700999999999999, 13.640999999999998, 13.607999999999999, 13.593, null, 13.550999999999998, 13.550999999999998], [14.772, 14.600999999999999, 14.37, 14.193, 14.067, 13.962, 13.869000000000002, 13.785, 13.719000000000001, 13.700999999999999, 13.640999999999998, 13.623, 13.593, 13.593, 13.554, 13.542], [14.765999999999998, 14.595, 14.373, 14.193, 14.061, 13.965, 13.902000000000001, 13.788, 13.719000000000001, 13.704, 13.655999999999999, 13.607999999999999, 13.599, 13.593, 13.542, 13.542]]}],\n",
       "                        {\"template\": {\"data\": {\"bar\": [{\"error_x\": {\"color\": \"#2a3f5f\"}, \"error_y\": {\"color\": \"#2a3f5f\"}, \"marker\": {\"line\": {\"color\": \"#E5ECF6\", \"width\": 0.5}}, \"type\": \"bar\"}], \"barpolar\": [{\"marker\": {\"line\": {\"color\": \"#E5ECF6\", \"width\": 0.5}}, \"type\": \"barpolar\"}], \"carpet\": [{\"aaxis\": {\"endlinecolor\": \"#2a3f5f\", \"gridcolor\": \"white\", \"linecolor\": \"white\", \"minorgridcolor\": \"white\", \"startlinecolor\": \"#2a3f5f\"}, \"baxis\": {\"endlinecolor\": \"#2a3f5f\", \"gridcolor\": \"white\", \"linecolor\": \"white\", \"minorgridcolor\": \"white\", \"startlinecolor\": \"#2a3f5f\"}, \"type\": \"carpet\"}], \"choropleth\": [{\"colorbar\": {\"outlinewidth\": 0, \"ticks\": \"\"}, \"type\": \"choropleth\"}], \"contour\": [{\"colorbar\": {\"outlinewidth\": 0, \"ticks\": \"\"}, \"colorscale\": [[0.0, \"#0d0887\"], [0.1111111111111111, \"#46039f\"], [0.2222222222222222, \"#7201a8\"], [0.3333333333333333, \"#9c179e\"], [0.4444444444444444, \"#bd3786\"], [0.5555555555555556, \"#d8576b\"], [0.6666666666666666, \"#ed7953\"], [0.7777777777777778, \"#fb9f3a\"], [0.8888888888888888, \"#fdca26\"], [1.0, \"#f0f921\"]], \"type\": \"contour\"}], \"contourcarpet\": [{\"colorbar\": {\"outlinewidth\": 0, \"ticks\": \"\"}, \"type\": \"contourcarpet\"}], \"heatmap\": [{\"colorbar\": {\"outlinewidth\": 0, \"ticks\": \"\"}, \"colorscale\": [[0.0, \"#0d0887\"], [0.1111111111111111, \"#46039f\"], [0.2222222222222222, \"#7201a8\"], [0.3333333333333333, \"#9c179e\"], [0.4444444444444444, \"#bd3786\"], [0.5555555555555556, \"#d8576b\"], [0.6666666666666666, \"#ed7953\"], [0.7777777777777778, \"#fb9f3a\"], [0.8888888888888888, \"#fdca26\"], [1.0, \"#f0f921\"]], \"type\": \"heatmap\"}], \"heatmapgl\": [{\"colorbar\": {\"outlinewidth\": 0, \"ticks\": \"\"}, \"colorscale\": [[0.0, \"#0d0887\"], [0.1111111111111111, \"#46039f\"], [0.2222222222222222, \"#7201a8\"], [0.3333333333333333, \"#9c179e\"], [0.4444444444444444, \"#bd3786\"], [0.5555555555555556, \"#d8576b\"], [0.6666666666666666, \"#ed7953\"], [0.7777777777777778, \"#fb9f3a\"], [0.8888888888888888, \"#fdca26\"], [1.0, \"#f0f921\"]], \"type\": \"heatmapgl\"}], \"histogram\": [{\"marker\": {\"colorbar\": {\"outlinewidth\": 0, \"ticks\": \"\"}}, \"type\": \"histogram\"}], \"histogram2d\": [{\"colorbar\": {\"outlinewidth\": 0, \"ticks\": \"\"}, \"colorscale\": [[0.0, \"#0d0887\"], [0.1111111111111111, \"#46039f\"], [0.2222222222222222, \"#7201a8\"], [0.3333333333333333, \"#9c179e\"], [0.4444444444444444, \"#bd3786\"], [0.5555555555555556, \"#d8576b\"], [0.6666666666666666, \"#ed7953\"], [0.7777777777777778, \"#fb9f3a\"], [0.8888888888888888, \"#fdca26\"], [1.0, \"#f0f921\"]], \"type\": \"histogram2d\"}], \"histogram2dcontour\": [{\"colorbar\": {\"outlinewidth\": 0, \"ticks\": \"\"}, \"colorscale\": [[0.0, \"#0d0887\"], [0.1111111111111111, \"#46039f\"], [0.2222222222222222, \"#7201a8\"], [0.3333333333333333, \"#9c179e\"], [0.4444444444444444, \"#bd3786\"], [0.5555555555555556, \"#d8576b\"], [0.6666666666666666, \"#ed7953\"], [0.7777777777777778, \"#fb9f3a\"], [0.8888888888888888, \"#fdca26\"], [1.0, \"#f0f921\"]], \"type\": \"histogram2dcontour\"}], \"mesh3d\": [{\"colorbar\": {\"outlinewidth\": 0, \"ticks\": \"\"}, \"type\": \"mesh3d\"}], \"parcoords\": [{\"line\": {\"colorbar\": {\"outlinewidth\": 0, \"ticks\": \"\"}}, \"type\": \"parcoords\"}], \"pie\": [{\"automargin\": true, \"type\": \"pie\"}], \"scatter\": [{\"marker\": {\"colorbar\": {\"outlinewidth\": 0, \"ticks\": \"\"}}, \"type\": \"scatter\"}], \"scatter3d\": [{\"line\": {\"colorbar\": {\"outlinewidth\": 0, \"ticks\": \"\"}}, \"marker\": {\"colorbar\": {\"outlinewidth\": 0, \"ticks\": \"\"}}, \"type\": \"scatter3d\"}], \"scattercarpet\": [{\"marker\": {\"colorbar\": {\"outlinewidth\": 0, \"ticks\": \"\"}}, \"type\": \"scattercarpet\"}], \"scattergeo\": [{\"marker\": {\"colorbar\": {\"outlinewidth\": 0, \"ticks\": \"\"}}, \"type\": \"scattergeo\"}], \"scattergl\": [{\"marker\": {\"colorbar\": {\"outlinewidth\": 0, \"ticks\": \"\"}}, \"type\": \"scattergl\"}], \"scattermapbox\": [{\"marker\": {\"colorbar\": {\"outlinewidth\": 0, \"ticks\": \"\"}}, \"type\": \"scattermapbox\"}], \"scatterpolar\": [{\"marker\": {\"colorbar\": {\"outlinewidth\": 0, \"ticks\": \"\"}}, \"type\": \"scatterpolar\"}], \"scatterpolargl\": [{\"marker\": {\"colorbar\": {\"outlinewidth\": 0, \"ticks\": \"\"}}, \"type\": \"scatterpolargl\"}], \"scatterternary\": [{\"marker\": {\"colorbar\": {\"outlinewidth\": 0, \"ticks\": \"\"}}, \"type\": \"scatterternary\"}], \"surface\": [{\"colorbar\": {\"outlinewidth\": 0, \"ticks\": \"\"}, \"colorscale\": [[0.0, \"#0d0887\"], [0.1111111111111111, \"#46039f\"], [0.2222222222222222, \"#7201a8\"], [0.3333333333333333, \"#9c179e\"], [0.4444444444444444, \"#bd3786\"], [0.5555555555555556, \"#d8576b\"], [0.6666666666666666, \"#ed7953\"], [0.7777777777777778, \"#fb9f3a\"], [0.8888888888888888, \"#fdca26\"], [1.0, \"#f0f921\"]], \"type\": \"surface\"}], \"table\": [{\"cells\": {\"fill\": {\"color\": \"#EBF0F8\"}, \"line\": {\"color\": \"white\"}}, \"header\": {\"fill\": {\"color\": \"#C8D4E3\"}, \"line\": {\"color\": \"white\"}}, \"type\": \"table\"}]}, \"layout\": {\"annotationdefaults\": {\"arrowcolor\": \"#2a3f5f\", \"arrowhead\": 0, \"arrowwidth\": 1}, \"coloraxis\": {\"colorbar\": {\"outlinewidth\": 0, \"ticks\": \"\"}}, \"colorscale\": {\"diverging\": [[0, \"#8e0152\"], [0.1, \"#c51b7d\"], [0.2, \"#de77ae\"], [0.3, \"#f1b6da\"], [0.4, \"#fde0ef\"], [0.5, \"#f7f7f7\"], [0.6, \"#e6f5d0\"], [0.7, \"#b8e186\"], [0.8, \"#7fbc41\"], [0.9, \"#4d9221\"], [1, \"#276419\"]], \"sequential\": [[0.0, \"#0d0887\"], [0.1111111111111111, \"#46039f\"], [0.2222222222222222, \"#7201a8\"], [0.3333333333333333, \"#9c179e\"], [0.4444444444444444, \"#bd3786\"], [0.5555555555555556, \"#d8576b\"], [0.6666666666666666, \"#ed7953\"], [0.7777777777777778, \"#fb9f3a\"], [0.8888888888888888, \"#fdca26\"], [1.0, \"#f0f921\"]], \"sequentialminus\": [[0.0, \"#0d0887\"], [0.1111111111111111, \"#46039f\"], [0.2222222222222222, \"#7201a8\"], [0.3333333333333333, \"#9c179e\"], [0.4444444444444444, \"#bd3786\"], [0.5555555555555556, \"#d8576b\"], [0.6666666666666666, \"#ed7953\"], [0.7777777777777778, \"#fb9f3a\"], [0.8888888888888888, \"#fdca26\"], [1.0, \"#f0f921\"]]}, \"colorway\": [\"#636efa\", \"#EF553B\", \"#00cc96\", \"#ab63fa\", \"#FFA15A\", \"#19d3f3\", \"#FF6692\", \"#B6E880\", \"#FF97FF\", \"#FECB52\"], \"font\": {\"color\": \"#2a3f5f\"}, \"geo\": {\"bgcolor\": \"white\", \"lakecolor\": \"white\", \"landcolor\": \"#E5ECF6\", \"showlakes\": true, \"showland\": true, \"subunitcolor\": \"white\"}, \"hoverlabel\": {\"align\": \"left\"}, \"hovermode\": \"closest\", \"mapbox\": {\"style\": \"light\"}, \"paper_bgcolor\": \"white\", \"plot_bgcolor\": \"#E5ECF6\", \"polar\": {\"angularaxis\": {\"gridcolor\": \"white\", \"linecolor\": \"white\", \"ticks\": \"\"}, \"bgcolor\": \"#E5ECF6\", \"radialaxis\": {\"gridcolor\": \"white\", \"linecolor\": \"white\", \"ticks\": \"\"}}, \"scene\": {\"xaxis\": {\"backgroundcolor\": \"#E5ECF6\", \"gridcolor\": \"white\", \"gridwidth\": 2, \"linecolor\": \"white\", \"showbackground\": true, \"ticks\": \"\", \"zerolinecolor\": \"white\"}, \"yaxis\": {\"backgroundcolor\": \"#E5ECF6\", \"gridcolor\": \"white\", \"gridwidth\": 2, \"linecolor\": \"white\", \"showbackground\": true, \"ticks\": \"\", \"zerolinecolor\": \"white\"}, \"zaxis\": {\"backgroundcolor\": \"#E5ECF6\", \"gridcolor\": \"white\", \"gridwidth\": 2, \"linecolor\": \"white\", \"showbackground\": true, \"ticks\": \"\", \"zerolinecolor\": \"white\"}}, \"shapedefaults\": {\"line\": {\"color\": \"#2a3f5f\"}}, \"ternary\": {\"aaxis\": {\"gridcolor\": \"white\", \"linecolor\": \"white\", \"ticks\": \"\"}, \"baxis\": {\"gridcolor\": \"white\", \"linecolor\": \"white\", \"ticks\": \"\"}, \"bgcolor\": \"#E5ECF6\", \"caxis\": {\"gridcolor\": \"white\", \"linecolor\": \"white\", \"ticks\": \"\"}}, \"title\": {\"x\": 0.05}, \"xaxis\": {\"automargin\": true, \"gridcolor\": \"white\", \"linecolor\": \"white\", \"ticks\": \"\", \"title\": {\"standoff\": 15}, \"zerolinecolor\": \"white\", \"zerolinewidth\": 2}, \"yaxis\": {\"automargin\": true, \"gridcolor\": \"white\", \"linecolor\": \"white\", \"ticks\": \"\", \"title\": {\"standoff\": 15}, \"zerolinecolor\": \"white\", \"zerolinewidth\": 2}}}, \"title\": {\"text\": \"Wheelbase vs. Track Width vs. Laptime \\u2014 Acceleration (w.d. = 50%F)\"}, \"xaxis\": {\"title\": {\"text\": \"Track Width\"}}, \"yaxis\": {\"title\": {\"text\": \"Wheelbase\"}}},\n",
       "                        {\"responsive\": true}\n",
       "                    ).then(function(){\n",
       "                            \n",
       "var gd = document.getElementById('59e1d2fd-6ab1-4f6d-acdf-987e315735a0');\n",
       "var x = new MutationObserver(function (mutations, observer) {{\n",
       "        var display = window.getComputedStyle(gd).display;\n",
       "        if (!display || display === 'none') {{\n",
       "            console.log([gd, 'removed!']);\n",
       "            Plotly.purge(gd);\n",
       "            observer.disconnect();\n",
       "        }}\n",
       "}});\n",
       "\n",
       "// Listen for the removal of the full notebook cells\n",
       "var notebookContainer = gd.closest('#notebook-container');\n",
       "if (notebookContainer) {{\n",
       "    x.observe(notebookContainer, {childList: true});\n",
       "}}\n",
       "\n",
       "// Listen for the clearing of the current output cell\n",
       "var outputEl = gd.closest('.output');\n",
       "if (outputEl) {{\n",
       "    x.observe(outputEl, {childList: true});\n",
       "}}\n",
       "\n",
       "                        })\n",
       "                };\n",
       "                });\n",
       "            </script>\n",
       "        </div>"
      ]
     },
     "metadata": {},
     "output_type": "display_data"
    }
   ],
   "source": [
    "# create subplots objects\n",
    "\n",
    "laptimes = create_tw_wb_results_grid(7, 0.50, \"!laptime\")\n",
    "        \n",
    "fig = go.Figure(data=go.Heatmap(\n",
    "                   z=laptimes,\n",
    "                   x=tws,\n",
    "                   y=wbs,\n",
    "                   hoverongaps = False,\n",
    "                   colorscale = 'Viridis_r'))\n",
    "\n",
    "fig.update_layout(\n",
    "    title=\"Wheelbase vs. Track Width vs. Laptime — Acceleration (w.d. = 50%F)\",\n",
    "    xaxis_title=\"Track Width\",\n",
    "    yaxis_title=\"Wheelbase\",\n",
    ")\n",
    "fig.show()"
   ]
  },
  {
   "cell_type": "code",
   "execution_count": null,
   "metadata": {},
   "outputs": [],
   "source": []
  }
 ],
 "metadata": {
  "kernelspec": {
   "display_name": "Python 3",
   "language": "python",
   "name": "python3"
  },
  "language_info": {
   "codemirror_mode": {
    "name": "ipython",
    "version": 3
   },
   "file_extension": ".py",
   "mimetype": "text/x-python",
   "name": "python",
   "nbconvert_exporter": "python",
   "pygments_lexer": "ipython3",
   "version": "3.7.5"
  }
 },
 "nbformat": 4,
 "nbformat_minor": 2
}
